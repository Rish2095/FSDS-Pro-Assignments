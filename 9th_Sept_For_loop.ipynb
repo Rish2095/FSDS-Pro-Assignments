{
 "cells": [
  {
   "cell_type": "markdown",
   "id": "6d61a7a7-1da6-4325-b05a-accebb22601f",
   "metadata": {},
   "source": [
    "Basic Level:"
   ]
  },
  {
   "cell_type": "markdown",
   "id": "af7d58ac-5951-4b77-a3d1-296c954ebde5",
   "metadata": {},
   "source": [
    "1. Write a Python program to print the numbers from 1 to 10 using a `for` loop."
   ]
  },
  {
   "cell_type": "code",
   "execution_count": 1,
   "id": "bfb1f616-d6d0-4c75-be67-acb37bbf3cfc",
   "metadata": {},
   "outputs": [
    {
     "name": "stdout",
     "output_type": "stream",
     "text": [
      "1\n",
      "2\n",
      "3\n",
      "4\n",
      "5\n",
      "6\n",
      "7\n",
      "8\n",
      "9\n",
      "10\n"
     ]
    }
   ],
   "source": [
    "for i in range(1,11):\n",
    "    print(i)"
   ]
  },
  {
   "cell_type": "markdown",
   "id": "74d54a6e-1770-4fe7-a695-ceba51b54139",
   "metadata": {},
   "source": [
    "2. Create a program that calculates the sum of all numbers in a list using a `for` loop."
   ]
  },
  {
   "cell_type": "code",
   "execution_count": 2,
   "id": "17032f8c-d784-4977-a7d4-4b648ce6e058",
   "metadata": {},
   "outputs": [
    {
     "name": "stdout",
     "output_type": "stream",
     "text": [
      "21\n"
     ]
    }
   ],
   "source": [
    "l = [1,2,3,4,5,6]\n",
    "sum = 0\n",
    "for i in l:\n",
    "    sum = sum + i\n",
    "print(sum)"
   ]
  },
  {
   "cell_type": "markdown",
   "id": "cf8e1d4c-b8e9-4994-bf56-45564433c698",
   "metadata": {},
   "source": [
    "3. Write a program to print the characters of a string in reverse order using a `for` loop."
   ]
  },
  {
   "cell_type": "code",
   "execution_count": 5,
   "id": "a0a4827b-ad93-476f-af1d-c41f41fdec06",
   "metadata": {},
   "outputs": [
    {
     "name": "stdout",
     "output_type": "stream",
     "text": [
      "e\n",
      "c\n",
      "n\n",
      "e\n",
      "i\n",
      "c\n",
      "S\n",
      " \n",
      "a\n",
      "t\n",
      "a\n",
      "D\n"
     ]
    }
   ],
   "source": [
    "s = \"Data Science\"\n",
    "for i in s[::-1]:\n",
    "    print(i)"
   ]
  },
  {
   "cell_type": "markdown",
   "id": "034425e4-7a08-438c-93fb-1c4e16569325",
   "metadata": {},
   "source": [
    "4. Develop a program that finds the factorial of a given number using a `for` loop."
   ]
  },
  {
   "cell_type": "code",
   "execution_count": 15,
   "id": "ba5fb996-cdd0-4eed-9a82-aba652963579",
   "metadata": {},
   "outputs": [
    {
     "name": "stdin",
     "output_type": "stream",
     "text": [
      "Enter the number:  5\n"
     ]
    },
    {
     "name": "stdout",
     "output_type": "stream",
     "text": [
      "120\n"
     ]
    }
   ],
   "source": [
    "n = int(input(\"Enter the number: \"))\n",
    "fac = 1\n",
    "for i in range(1,n+1):\n",
    "    fac = fac*(i)\n",
    "print(fac)"
   ]
  },
  {
   "cell_type": "markdown",
   "id": "6eac4ddf-d1ca-452e-944d-7f9923eda266",
   "metadata": {},
   "source": [
    "5. Create a program to print the multiplication table of a given number using a `for` loop."
   ]
  },
  {
   "cell_type": "code",
   "execution_count": 21,
   "id": "67fb109f-cc8f-4ab2-8403-24b0d668d9ea",
   "metadata": {},
   "outputs": [
    {
     "name": "stdin",
     "output_type": "stream",
     "text": [
      "Enter the number:  19\n"
     ]
    },
    {
     "name": "stdout",
     "output_type": "stream",
     "text": [
      "19 * 1  is equal to  19\n",
      "19 * 2  is equal to  38\n",
      "19 * 3  is equal to  57\n",
      "19 * 4  is equal to  76\n",
      "19 * 5  is equal to  95\n",
      "19 * 6  is equal to  114\n",
      "19 * 7  is equal to  133\n",
      "19 * 8  is equal to  152\n",
      "19 * 9  is equal to  171\n",
      "19 * 10  is equal to  190\n"
     ]
    }
   ],
   "source": [
    "n = int(input(\"Enter the number: \"))\n",
    "mul = 1\n",
    "for i in range(1,11):\n",
    "    mul = n * i\n",
    "    print(n,\"*\",i,\" is equal to \",mul)"
   ]
  },
  {
   "cell_type": "markdown",
   "id": "d2fcb8c6-32a0-42ca-9539-4696a3d26db3",
   "metadata": {},
   "source": [
    "6. Write a program that counts the number of even and odd numbers in a list using a `for` loop."
   ]
  },
  {
   "cell_type": "code",
   "execution_count": 23,
   "id": "6caddc15-c0da-4bd0-99c3-10f084c543b6",
   "metadata": {},
   "outputs": [
    {
     "name": "stdout",
     "output_type": "stream",
     "text": [
      "Count of even numbers in the given list  [1, 2, 3, 4, 5, 47, 6, 5, 4] is:  4\n",
      "Count of odd numbers in the given list  [1, 2, 3, 4, 5, 47, 6, 5, 4] is:  5\n"
     ]
    }
   ],
   "source": [
    "l = [1,2,3,4,5,47,6,5,4]\n",
    "count_even = 0\n",
    "count_odd = 0\n",
    "for i in l:\n",
    "    if i%2 == 0:\n",
    "        count_even = count_even + 1\n",
    "    else:\n",
    "        count_odd = count_odd + 1\n",
    "print(\"Count of even numbers in the given list \", l,\"is: \", count_even)\n",
    "print(\"Count of odd numbers in the given list \", l,\"is: \", count_odd)"
   ]
  },
  {
   "cell_type": "markdown",
   "id": "b6393f66-3b06-4cd2-97ad-10c1ec75ba21",
   "metadata": {},
   "source": [
    "7. Develop a program that prints the squares of numbers from 1 to 5 using a `for` loop."
   ]
  },
  {
   "cell_type": "code",
   "execution_count": 24,
   "id": "c3dc6dee-eb1a-4c02-a95d-4bf583f04594",
   "metadata": {},
   "outputs": [
    {
     "name": "stdout",
     "output_type": "stream",
     "text": [
      "1\n",
      "4\n",
      "9\n",
      "16\n",
      "25\n"
     ]
    }
   ],
   "source": [
    "for i in range(1,6):\n",
    "    print(i**2)"
   ]
  },
  {
   "cell_type": "markdown",
   "id": "234c228b-a2e8-42dd-a6ca-98f344a8537b",
   "metadata": {},
   "source": [
    "8. Create a program to find the length of a string without using the `len()` function."
   ]
  },
  {
   "cell_type": "code",
   "execution_count": 27,
   "id": "1be94622-c69d-4352-b1a5-8b47f00c5fce",
   "metadata": {},
   "outputs": [
    {
     "name": "stdout",
     "output_type": "stream",
     "text": [
      "The length of the given string  Full Stack Data Science Pro is:  27\n"
     ]
    }
   ],
   "source": [
    "s = \"Full Stack Data Science Pro\"\n",
    "count = 0\n",
    "for i in s:\n",
    "    count = count + 1\n",
    "print(\"The length of the given string \",s, \"is: \",count)"
   ]
  },
  {
   "cell_type": "markdown",
   "id": "632fb314-c014-47c2-9eb8-8ddf5a5e6bc3",
   "metadata": {},
   "source": [
    "9. Write a program that calculates the average of a list of numbers using a `for` loop."
   ]
  },
  {
   "cell_type": "code",
   "execution_count": 29,
   "id": "08314d94-94f7-4168-80fb-c497b0154115",
   "metadata": {},
   "outputs": [
    {
     "name": "stdout",
     "output_type": "stream",
     "text": [
      "The average of the given list  [1, 2, 3, 4, 5, 6] is: 3.5\n"
     ]
    }
   ],
   "source": [
    "l = [1,2,3,4,5,6]\n",
    "sum = 0\n",
    "count = 0\n",
    "for i in l:\n",
    "    sum = sum + i\n",
    "    count = count + 1\n",
    "avg = sum/count\n",
    "print(\"The average of the given list \", l, \"is:\", avg)"
   ]
  },
  {
   "cell_type": "markdown",
   "id": "fc06fdc5-a5b8-4061-8632-773ef2254bda",
   "metadata": {},
   "source": [
    "10. Develop a program that prints the first `n` Fibonacci numbers using a `for` loop."
   ]
  },
  {
   "cell_type": "code",
   "execution_count": 39,
   "id": "33ff6314-654c-4f9c-991c-ec33f9d2cd32",
   "metadata": {},
   "outputs": [
    {
     "name": "stdin",
     "output_type": "stream",
     "text": [
      "Enter the range: 11\n"
     ]
    },
    {
     "name": "stdout",
     "output_type": "stream",
     "text": [
      "0\n",
      "1\n",
      "1\n",
      "2\n",
      "3\n",
      "5\n",
      "8\n",
      "13\n",
      "21\n",
      "34\n",
      "55\n",
      "89\n",
      "144\n"
     ]
    }
   ],
   "source": [
    "n = n = int(input(\"Enter the range:\"))\n",
    "a = 0\n",
    "b = 1\n",
    "print(a)\n",
    "print(b)\n",
    "for i in range(1,n+1):\n",
    "    c = a + b\n",
    "    print(c)\n",
    "    a = b\n",
    "    b = c"
   ]
  },
  {
   "cell_type": "markdown",
   "id": "9aa96385-dce6-4716-9105-a6a94010ec21",
   "metadata": {},
   "source": [
    "Intermediate Level:"
   ]
  },
  {
   "cell_type": "markdown",
   "id": "d9a30b1d-521d-4b28-a471-e39e78bd3a27",
   "metadata": {},
   "source": [
    "11. Write a program to check if a given list contains any duplicates using a `for` loop."
   ]
  },
  {
   "cell_type": "code",
   "execution_count": 27,
   "id": "aa9b7bd3-b702-41c5-b752-46c7c5b0f3c0",
   "metadata": {},
   "outputs": [
    {
     "name": "stdin",
     "output_type": "stream",
     "text": [
      "Enter the number upto which you want to print all the prime number: : 78\n"
     ]
    },
    {
     "name": "stdout",
     "output_type": "stream",
     "text": [
      "1 2 3 5 7 11 13 17 19 23 29 31 37 41 43 47 53 59 61 67 71 73 "
     ]
    }
   ],
   "source": [
    "n = int(input(\"Enter the number upto which you want to print all the prime number: :\"))\n",
    "for i in range(1,n+1):\n",
    "    flag = 0\n",
    "    for j in range(2,i):\n",
    "        if i%j == 0:\n",
    "            flag = 1\n",
    "    if flag == 0:\n",
    "        print(i, end = \" \")"
   ]
  },
  {
   "cell_type": "markdown",
   "id": "c265634d-1f1b-4c32-951d-9041b4a55b8a",
   "metadata": {},
   "source": [
    "13. Develop a program that counts the number of vowels in a string using a `for` loop."
   ]
  },
  {
   "cell_type": "code",
   "execution_count": 28,
   "id": "12c8ce19-b125-4244-961a-4fceaab540e9",
   "metadata": {},
   "outputs": [
    {
     "name": "stdout",
     "output_type": "stream",
     "text": [
      "Number of vowels in given string  Full Stack Data Science Pro is:  8\n"
     ]
    }
   ],
   "source": [
    "s = \"Full Stack Data Science Pro\"\n",
    "count = 0\n",
    "x = [\"a\",\"e\",\"i\",\"o\",\"u\"]\n",
    "for i in s:\n",
    "    if i in x:\n",
    "        count = count + 1\n",
    "print(\"Number of vowels in given string \", s, \"is: \", count)"
   ]
  },
  {
   "cell_type": "markdown",
   "id": "67550fd1-35e3-4b07-b136-af78bc09809a",
   "metadata": {},
   "source": [
    "14. Write a program to find the maximum element in a 2D list using a nested `for` loop."
   ]
  },
  {
   "cell_type": "code",
   "execution_count": 31,
   "id": "0c1ebead-201b-4040-80ef-8df8f07c5dcc",
   "metadata": {},
   "outputs": [
    {
     "data": {
      "text/plain": [
       "784"
      ]
     },
     "execution_count": 31,
     "metadata": {},
     "output_type": "execute_result"
    }
   ],
   "source": [
    "l = [1,2,3,[7,6,56,43,89,784,32],90,87,65,435]\n",
    "l1 = []\n",
    "for i in l:\n",
    "    if type(i) == list:\n",
    "        for j in i:\n",
    "            l1.append(j)\n",
    "    else:\n",
    "        l1.append(i)\n",
    "max(l1)"
   ]
  },
  {
   "cell_type": "markdown",
   "id": "96a3f148-4813-485e-8865-7cdfad39bc38",
   "metadata": {},
   "source": [
    "15. Create a program that removes all occurrences of a specific element from a list using a `for` loop."
   ]
  },
  {
   "cell_type": "code",
   "execution_count": 33,
   "id": "4b40c53a-73bc-4965-97d8-e8bd5bfadcf9",
   "metadata": {},
   "outputs": [
    {
     "name": "stdout",
     "output_type": "stream",
     "text": [
      "[1, 2, 3, 5, 6, 8, 9, 9, 6, 5, 3, 2, 1, 3, 5, 7, 3, 2]\n"
     ]
    }
   ],
   "source": [
    "l = [4,1,2,3,5,4,6,8,9,4,9,6,5,4,3,2,1,4,3,5,7,4,3,2,4]\n",
    "for i in l:\n",
    "    if i == 4:\n",
    "        l.remove(i)\n",
    "print(l)"
   ]
  },
  {
   "cell_type": "markdown",
   "id": "018a25c1-7bc9-45ed-bc93-75df25e7c6a2",
   "metadata": {},
   "source": [
    "16. Develop a program that generates a multiplication table for numbers from 1 to 5 using a nested `for` loop."
   ]
  },
  {
   "cell_type": "code",
   "execution_count": 37,
   "id": "fe1b45c8-931e-43b8-b9dc-16e9b078538c",
   "metadata": {},
   "outputs": [
    {
     "name": "stdout",
     "output_type": "stream",
     "text": [
      "1 * 1  is equal to  1\n",
      "1 * 2  is equal to  2\n",
      "1 * 3  is equal to  3\n",
      "1 * 4  is equal to  4\n",
      "1 * 5  is equal to  5\n",
      "1 * 6  is equal to  6\n",
      "1 * 7  is equal to  7\n",
      "1 * 8  is equal to  8\n",
      "1 * 9  is equal to  9\n",
      "1 * 10  is equal to  10\n",
      "2 * 1  is equal to  2\n",
      "2 * 2  is equal to  4\n",
      "2 * 3  is equal to  6\n",
      "2 * 4  is equal to  8\n",
      "2 * 5  is equal to  10\n",
      "2 * 6  is equal to  12\n",
      "2 * 7  is equal to  14\n",
      "2 * 8  is equal to  16\n",
      "2 * 9  is equal to  18\n",
      "2 * 10  is equal to  20\n",
      "3 * 1  is equal to  3\n",
      "3 * 2  is equal to  6\n",
      "3 * 3  is equal to  9\n",
      "3 * 4  is equal to  12\n",
      "3 * 5  is equal to  15\n",
      "3 * 6  is equal to  18\n",
      "3 * 7  is equal to  21\n",
      "3 * 8  is equal to  24\n",
      "3 * 9  is equal to  27\n",
      "3 * 10  is equal to  30\n",
      "4 * 1  is equal to  4\n",
      "4 * 2  is equal to  8\n",
      "4 * 3  is equal to  12\n",
      "4 * 4  is equal to  16\n",
      "4 * 5  is equal to  20\n",
      "4 * 6  is equal to  24\n",
      "4 * 7  is equal to  28\n",
      "4 * 8  is equal to  32\n",
      "4 * 9  is equal to  36\n",
      "4 * 10  is equal to  40\n",
      "5 * 1  is equal to  5\n",
      "5 * 2  is equal to  10\n",
      "5 * 3  is equal to  15\n",
      "5 * 4  is equal to  20\n",
      "5 * 5  is equal to  25\n",
      "5 * 6  is equal to  30\n",
      "5 * 7  is equal to  35\n",
      "5 * 8  is equal to  40\n",
      "5 * 9  is equal to  45\n",
      "5 * 10  is equal to  50\n"
     ]
    }
   ],
   "source": [
    "for i in range(1,6):\n",
    "    for j in range(1,11):\n",
    "        print(i,\"*\",j,\" is equal to \",j*i)"
   ]
  },
  {
   "cell_type": "markdown",
   "id": "332c9a24-294b-4063-bfd1-6104bf9831eb",
   "metadata": {},
   "source": [
    "17. Write a program that converts a list of Fahrenheit temperatures to Celsius using a `for` loop."
   ]
  },
  {
   "cell_type": "code",
   "execution_count": 38,
   "id": "9577acbf-662f-4bca-a546-16657a1dcb28",
   "metadata": {},
   "outputs": [
    {
     "name": "stdin",
     "output_type": "stream",
     "text": [
      "Enter the temperature in Celcius:  24\n"
     ]
    },
    {
     "name": "stdout",
     "output_type": "stream",
     "text": [
      "The temerature in Fahrenheit will be:  75.2\n"
     ]
    }
   ],
   "source": [
    "c = int(input(\"Enter the temperature in Celcius: \"))\n",
    "f = (c * (9/5)) + 32\n",
    "print(\"The temerature in Fahrenheit will be: \", f)"
   ]
  },
  {
   "cell_type": "markdown",
   "id": "f9e7b524-eedc-44ec-822a-6b42ca041ca0",
   "metadata": {},
   "source": [
    "18. Create a program to print the common elements from two lists using a `for` loop."
   ]
  },
  {
   "cell_type": "code",
   "execution_count": 42,
   "id": "ab53b416-258d-4816-b13d-e516e30ddc7e",
   "metadata": {},
   "outputs": [
    {
     "name": "stdout",
     "output_type": "stream",
     "text": [
      "The common elements between two lists are:  [4, 5, 6]\n"
     ]
    }
   ],
   "source": [
    "l1 = [1,2,3,4,5,6]\n",
    "l2 = [4,5,6,7,8,9]\n",
    "l = []\n",
    "for i in l1:\n",
    "    if i in l2:\n",
    "        l.append(i)\n",
    "print(\"The common elements between two lists are: \", l)"
   ]
  },
  {
   "cell_type": "markdown",
   "id": "16bd3cd7-819c-42d6-b572-0d6bd3c8b2b6",
   "metadata": {},
   "source": [
    "19. Develop a program that prints the pattern of right-angled triangles using a `for` loop. Use ‘*’ to draw the\n",
    "pattern"
   ]
  },
  {
   "cell_type": "code",
   "execution_count": 69,
   "id": "938d6bb3-b461-43a9-a7df-89e5daa08f8e",
   "metadata": {},
   "outputs": [
    {
     "name": "stdout",
     "output_type": "stream",
     "text": [
      "* \n",
      "* * \n",
      "* * * \n",
      "* * * * \n",
      "* * * * * \n"
     ]
    }
   ],
   "source": [
    "for i in range(1, 6):\n",
    "    for j in range(i):\n",
    "        print(\"*\", end = \" \")\n",
    "    print()"
   ]
  },
  {
   "cell_type": "markdown",
   "id": "8ac4a759-7cf1-4b19-84ca-0f545a2d82b8",
   "metadata": {},
   "source": [
    "20. Write a program to find the greatest common divisor (GCD) of two numbers using a `for` loop."
   ]
  },
  {
   "cell_type": "code",
   "execution_count": null,
   "id": "e0449b9f-ee58-4ea7-8ac5-aa3426b493e2",
   "metadata": {},
   "outputs": [],
   "source": []
  }
 ],
 "metadata": {
  "kernelspec": {
   "display_name": "Python 3 (ipykernel)",
   "language": "python",
   "name": "python3"
  },
  "language_info": {
   "codemirror_mode": {
    "name": "ipython",
    "version": 3
   },
   "file_extension": ".py",
   "mimetype": "text/x-python",
   "name": "python",
   "nbconvert_exporter": "python",
   "pygments_lexer": "ipython3",
   "version": "3.10.8"
  }
 },
 "nbformat": 4,
 "nbformat_minor": 5
}
