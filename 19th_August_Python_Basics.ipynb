{
 "cells": [
  {
   "cell_type": "markdown",
   "id": "8cd2b2b3-2fc5-4bf7-bbee-e00230afa0f9",
   "metadata": {},
   "source": [
    "TOPIC: Python Basics Variable"
   ]
  },
  {
   "cell_type": "markdown",
   "id": "190a4c3d-57f0-4e8c-8cd3-c68b52c7d4b5",
   "metadata": {},
   "source": [
    "1. Declare two variables, `x` and `y`, and assign them integer values. Swap the\n",
    "values of these variables without using any temporary variable."
   ]
  },
  {
   "cell_type": "code",
   "execution_count": 7,
   "id": "92593a6f-abfc-4a89-9e1d-81d640a39b6a",
   "metadata": {},
   "outputs": [],
   "source": [
    "x = 2\n",
    "y = 5"
   ]
  },
  {
   "cell_type": "code",
   "execution_count": 8,
   "id": "545c0b03-a8c1-4d3f-a610-64f0d8d19ef0",
   "metadata": {},
   "outputs": [],
   "source": [
    "x = x+y"
   ]
  },
  {
   "cell_type": "code",
   "execution_count": 9,
   "id": "61fbdf1c-2270-4f9c-a212-044f30364797",
   "metadata": {},
   "outputs": [
    {
     "data": {
      "text/plain": [
       "7"
      ]
     },
     "execution_count": 9,
     "metadata": {},
     "output_type": "execute_result"
    }
   ],
   "source": [
    "x"
   ]
  },
  {
   "cell_type": "code",
   "execution_count": 10,
   "id": "54d32a75-7088-4c50-b8fb-7cbb9fd95c88",
   "metadata": {},
   "outputs": [],
   "source": [
    "y = x-y"
   ]
  },
  {
   "cell_type": "code",
   "execution_count": 11,
   "id": "4c99bb53-16db-4cec-a381-74f8e68e6285",
   "metadata": {},
   "outputs": [
    {
     "data": {
      "text/plain": [
       "2"
      ]
     },
     "execution_count": 11,
     "metadata": {},
     "output_type": "execute_result"
    }
   ],
   "source": [
    "y"
   ]
  },
  {
   "cell_type": "code",
   "execution_count": 12,
   "id": "555fcc7e-3a39-40ba-8a51-03163f32c2ff",
   "metadata": {},
   "outputs": [],
   "source": [
    "x = x- y"
   ]
  },
  {
   "cell_type": "code",
   "execution_count": 13,
   "id": "1ea7ff0d-3980-40b6-bdad-912f89f8db1d",
   "metadata": {},
   "outputs": [
    {
     "data": {
      "text/plain": [
       "5"
      ]
     },
     "execution_count": 13,
     "metadata": {},
     "output_type": "execute_result"
    }
   ],
   "source": [
    "x"
   ]
  },
  {
   "cell_type": "code",
   "execution_count": 14,
   "id": "2a03062d-e91c-41e2-8817-6ed0acefb6bf",
   "metadata": {},
   "outputs": [
    {
     "data": {
      "text/plain": [
       "(5, 2)"
      ]
     },
     "execution_count": 14,
     "metadata": {},
     "output_type": "execute_result"
    }
   ],
   "source": [
    "x,y"
   ]
  },
  {
   "cell_type": "markdown",
   "id": "10c55f86-7ad7-4d3f-9cbb-a666fae02742",
   "metadata": {},
   "source": [
    "2. Create a program that calculates the area of a rectangle. Take the length and width as inputs from the user and store them in variables. Calculate and display the area."
   ]
  },
  {
   "cell_type": "code",
   "execution_count": 15,
   "id": "14ba21bd-c787-4100-88cd-98abf4a760bd",
   "metadata": {},
   "outputs": [
    {
     "name": "stdin",
     "output_type": "stream",
     "text": [
      "Enter the length of a rectangle: 6\n",
      "Enter the width of a rectangle: 8\n"
     ]
    },
    {
     "name": "stdout",
     "output_type": "stream",
     "text": [
      "Area of rectangle is: 48\n"
     ]
    }
   ],
   "source": [
    "l = int(input(\"Enter the length of a rectangle:\"))\n",
    "w = int(input(\"Enter the width of a rectangle:\"))\n",
    "print(\"Area of rectangle is:\", l*w)"
   ]
  },
  {
   "cell_type": "markdown",
   "id": "2cab730b-a4fa-40e5-bb96-ca1b7b85219c",
   "metadata": {},
   "source": [
    "3. Write a Python program that converts temperatures from Celsius to\n",
    "Fahrenheit. Take the temperature in Celsius as input, store it in a variable,\n",
    "convert it to Fahrenheit, and display the result."
   ]
  },
  {
   "cell_type": "code",
   "execution_count": 16,
   "id": "4c18eec5-93d1-481c-84a5-c880bab53ba0",
   "metadata": {},
   "outputs": [
    {
     "name": "stdin",
     "output_type": "stream",
     "text": [
      "Enter the temperature in Celsius: 45\n"
     ]
    },
    {
     "name": "stdout",
     "output_type": "stream",
     "text": [
      "The temperature in Fahrenheit is: 113.0\n"
     ]
    }
   ],
   "source": [
    "c = int(input(\"Enter the temperature in Celsius:\"))\n",
    "f = (c * (9/5)) + 32\n",
    "print(\"The temperature in Fahrenheit is:\", f)"
   ]
  },
  {
   "cell_type": "code",
   "execution_count": null,
   "id": "4dc07a6a-7210-45a6-818c-393a2590f1ef",
   "metadata": {},
   "outputs": [],
   "source": []
  },
  {
   "cell_type": "markdown",
   "id": "46db3cfe-b852-4e90-9b7f-6c44b886b99e",
   "metadata": {},
   "source": [
    "TOPIC: String Based Questions"
   ]
  },
  {
   "cell_type": "markdown",
   "id": "49955ef0-ab57-4e6f-836c-b462616918e2",
   "metadata": {},
   "source": [
    "1. Write a Python program that takes a string as input and prints the length of\n",
    "the string."
   ]
  },
  {
   "cell_type": "code",
   "execution_count": 18,
   "id": "0436df5f-9bca-4a3d-bd01-c9e0d9e4222d",
   "metadata": {},
   "outputs": [
    {
     "name": "stdin",
     "output_type": "stream",
     "text": [
      "Enter a string to know its length: Data Science\n"
     ]
    },
    {
     "name": "stdout",
     "output_type": "stream",
     "text": [
      "The length of the given string is: 12\n"
     ]
    }
   ],
   "source": [
    "s = input(\"Enter a string to know its length:\")\n",
    "print(\"The length of the given string is:\", len(s))"
   ]
  },
  {
   "cell_type": "markdown",
   "id": "6f0c03ad-fa87-4227-9630-84348326cea4",
   "metadata": {},
   "source": [
    "2. Create a program that takes a sentence from the user and counts the number\n",
    "of vowels (a, e, i, o, u) in the string."
   ]
  },
  {
   "cell_type": "code",
   "execution_count": 22,
   "id": "6fd7558c-3dfa-453c-ad2a-eda0fd1ac348",
   "metadata": {},
   "outputs": [
    {
     "name": "stdin",
     "output_type": "stream",
     "text": [
      "Enter any sentence: Dive deep into data science with our Full Stack Data Science Pro curriculum.\n"
     ]
    },
    {
     "name": "stdout",
     "output_type": "stream",
     "text": [
      "a count: 5 e count: 7 i count: 6 o count: 3 u count: 5\n"
     ]
    }
   ],
   "source": [
    "s = input(\"Enter any sentence:\")\n",
    "print(\"a count:\",s.count(\"a\"),\n",
    "\"e count:\", s.count(\"e\"),\n",
    "\"i count:\", s.count(\"i\"),\n",
    "\"o count:\", s.count(\"o\"),\n",
    "\"u count:\", s.count(\"u\"))"
   ]
  },
  {
   "cell_type": "markdown",
   "id": "4008e938-09f5-49f6-8ab8-3f320bea909f",
   "metadata": {},
   "source": [
    "3. Given a string, reverse the order of characters using string slicing and print\n",
    "the reversed string."
   ]
  },
  {
   "cell_type": "code",
   "execution_count": 23,
   "id": "66bf85c4-b2dd-4c07-b762-ac663539c6d4",
   "metadata": {},
   "outputs": [
    {
     "name": "stdout",
     "output_type": "stream",
     "text": [
      "The reverse of the string is: hgnis hbahsir si eman yM\n"
     ]
    }
   ],
   "source": [
    "s = \"My name is rishabh singh\"\n",
    "r = s[::-1]\n",
    "print(\"The reverse of the string is:\", r)"
   ]
  },
  {
   "cell_type": "markdown",
   "id": "7200c4dc-87cb-4408-b3ae-7dc124019bb8",
   "metadata": {},
   "source": [
    "4. Write a program that takes a string as input and checks if it is a palindrome\n",
    "(reads the same forwards and backwards)."
   ]
  },
  {
   "cell_type": "code",
   "execution_count": 29,
   "id": "c19a5fc5-2a04-40be-8385-9fa8077d3ebd",
   "metadata": {},
   "outputs": [
    {
     "name": "stdin",
     "output_type": "stream",
     "text": [
      "Enter any string: malayalam\n"
     ]
    },
    {
     "name": "stdout",
     "output_type": "stream",
     "text": [
      "Given string is a pallindrome\n"
     ]
    }
   ],
   "source": [
    "x = input(\"Enter any string:\")\n",
    "if x == x[::-1]:\n",
    "    print(\"Given string is a pallindrome\")\n",
    "else:\n",
    "    print(\"Given string is not a palindrome\")"
   ]
  },
  {
   "cell_type": "markdown",
   "id": "d108c83d-dfe9-4b39-be24-d381dbf697e6",
   "metadata": {},
   "source": [
    "5. Create a program that takes a string as input and removes all the spaces from\n",
    "it. Print the modified string without spaces."
   ]
  },
  {
   "cell_type": "code",
   "execution_count": 31,
   "id": "8c92de86-3ffb-49b1-9667-43648f4003c8",
   "metadata": {},
   "outputs": [
    {
     "name": "stdin",
     "output_type": "stream",
     "text": [
      "Enter any string: I am Iron Man\n"
     ]
    },
    {
     "name": "stdout",
     "output_type": "stream",
     "text": [
      "Modified string without any spaces: IamIronMan\n"
     ]
    }
   ],
   "source": [
    "a = input(\"Enter any string:\")\n",
    "b = a.replace(\" \",\"\")\n",
    "print(\"Modified string without any spaces:\", b)"
   ]
  },
  {
   "cell_type": "code",
   "execution_count": null,
   "id": "933ae328-d377-465b-859b-bda7faf278b2",
   "metadata": {},
   "outputs": [],
   "source": []
  }
 ],
 "metadata": {
  "kernelspec": {
   "display_name": "Python 3 (ipykernel)",
   "language": "python",
   "name": "python3"
  },
  "language_info": {
   "codemirror_mode": {
    "name": "ipython",
    "version": 3
   },
   "file_extension": ".py",
   "mimetype": "text/x-python",
   "name": "python",
   "nbconvert_exporter": "python",
   "pygments_lexer": "ipython3",
   "version": "3.10.8"
  }
 },
 "nbformat": 4,
 "nbformat_minor": 5
}
