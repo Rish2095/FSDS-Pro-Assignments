{
 "cells": [
  {
   "cell_type": "markdown",
   "id": "deac54a2-8511-4e6c-8a99-2ae154c9cf97",
   "metadata": {},
   "source": [
    "Basic If-Else Statements:"
   ]
  },
  {
   "cell_type": "markdown",
   "id": "fd84c6d5-b8e4-4c17-aeb5-8c2af1102e73",
   "metadata": {},
   "source": [
    "1. Write a Python program to check if a given number is positive or negative."
   ]
  },
  {
   "cell_type": "code",
   "execution_count": 2,
   "id": "72abe5e6-d885-46f5-bef9-a43ff0bc53b3",
   "metadata": {},
   "outputs": [
    {
     "name": "stdout",
     "output_type": "stream",
     "text": [
      "Given number is positive\n"
     ]
    }
   ],
   "source": [
    "n = 23\n",
    "if n > 0:\n",
    "    print(\"Given number is positive\")\n",
    "else:\n",
    "    print(\"Given number is negative\")"
   ]
  },
  {
   "cell_type": "markdown",
   "id": "6e01e5ce-0245-4a55-81fb-4a0cb51305f2",
   "metadata": {},
   "source": [
    "2. Create a program that determines if a person is eligible to vote based on their age."
   ]
  },
  {
   "cell_type": "code",
   "execution_count": 3,
   "id": "5879a015-9b64-4135-b744-7490539838bd",
   "metadata": {},
   "outputs": [
    {
     "name": "stdout",
     "output_type": "stream",
     "text": [
      "Person is not eligle to vote\n"
     ]
    }
   ],
   "source": [
    "age = 16\n",
    "if age <18:\n",
    "    print(\"Person is not eligle to vote\")\n",
    "else:\n",
    "    print(\"Person is eligle to vote\")"
   ]
  },
  {
   "cell_type": "markdown",
   "id": "51de3989-5584-4b37-90c5-9bb80603605b",
   "metadata": {},
   "source": [
    "3. Develop a program to find the maximum of two numbers using if-else statements."
   ]
  },
  {
   "cell_type": "code",
   "execution_count": 8,
   "id": "05acd82e-60e1-4ff6-984d-332ee1c5091b",
   "metadata": {},
   "outputs": [
    {
     "name": "stdout",
     "output_type": "stream",
     "text": [
      "Maximum between two numbers 24 56 is : 56\n"
     ]
    }
   ],
   "source": [
    "a = 24\n",
    "b = 56\n",
    "if a > b:\n",
    "    print(\"Maximum between two numbers \", a, b, \"is :\" , a)\n",
    "else:\n",
    "    print(\"Maximum between two numbers\", a, b, \"is :\" , b)"
   ]
  },
  {
   "cell_type": "markdown",
   "id": "7b108792-d407-44f3-9d7b-65aff976e380",
   "metadata": {},
   "source": [
    "4. Write a Python script to classify a given year as a leap year or not."
   ]
  },
  {
   "cell_type": "code",
   "execution_count": 53,
   "id": "d82bcd4e-392b-4f69-9b81-4bfe937ed729",
   "metadata": {},
   "outputs": [
    {
     "name": "stdin",
     "output_type": "stream",
     "text": [
      "Enter the year:  2024\n"
     ]
    },
    {
     "name": "stdout",
     "output_type": "stream",
     "text": [
      "Entered year is leap year\n"
     ]
    }
   ],
   "source": [
    "y = int(input(\"Enter the year: \"))\n",
    "if y%400 == 0 or y%100 != 0 and y%4 == 0:\n",
    "    print(\"Entered year is leap year\")\n",
    "else:\n",
    "    print(\"Entered year is not a leap year\")"
   ]
  },
  {
   "cell_type": "markdown",
   "id": "f7b0d4c0-79df-4e96-bf7c-7063ebd7a97c",
   "metadata": {},
   "source": [
    "5. Create a program that checks whether a character is a vowel or a consonant."
   ]
  },
  {
   "cell_type": "code",
   "execution_count": 39,
   "id": "aa803ded-0086-4c7a-b563-8fcc95842e56",
   "metadata": {},
   "outputs": [
    {
     "name": "stdin",
     "output_type": "stream",
     "text": [
      "Enter any chracter:  A\n"
     ]
    },
    {
     "name": "stdout",
     "output_type": "stream",
     "text": [
      "Vowel\n"
     ]
    }
   ],
   "source": [
    "x = input(\"Enter any chracter: \")\n",
    "if x.lower() in [\"a\",\"e\",\"i\",\"o\",\"u\"]:\n",
    "    print(\"Vowel\")\n",
    "else:\n",
    "    print(\"Consonants\")"
   ]
  },
  {
   "cell_type": "markdown",
   "id": "87faae7b-e8d2-4337-a78d-cf6cc1f0841f",
   "metadata": {},
   "source": [
    "6. Implement a program to determine whether a given number is even or odd."
   ]
  },
  {
   "cell_type": "code",
   "execution_count": 42,
   "id": "e1aa0cb0-161d-4bf2-9193-54ced9f92188",
   "metadata": {},
   "outputs": [
    {
     "name": "stdin",
     "output_type": "stream",
     "text": [
      "Enter any number:  0\n"
     ]
    },
    {
     "name": "stdout",
     "output_type": "stream",
     "text": [
      "Even\n"
     ]
    }
   ],
   "source": [
    "n = int(input(\"Enter any number: \"))\n",
    "if n % 2 == 0:\n",
    "    print(\"Even\")\n",
    "else:\n",
    "    print(\"Odd\")"
   ]
  },
  {
   "cell_type": "markdown",
   "id": "c1f54df6-a76f-40f4-acd8-28c40d443805",
   "metadata": {},
   "source": [
    "7. Write a Python function to calculate the absolute value of a number without using the `abs()` function."
   ]
  },
  {
   "cell_type": "code",
   "execution_count": 47,
   "id": "2f4b7573-6ad6-4fed-ab05-fe97d3ee17ae",
   "metadata": {},
   "outputs": [
    {
     "name": "stdin",
     "output_type": "stream",
     "text": [
      "Enter your desired number: -8356485976\n"
     ]
    },
    {
     "name": "stdout",
     "output_type": "stream",
     "text": [
      "8356485976\n"
     ]
    }
   ],
   "source": [
    "n = int(input(\"Enter your desired number:\"))\n",
    "if n >= 0:\n",
    "    print(n)\n",
    "else:\n",
    "    print((-1)*n)"
   ]
  },
  {
   "cell_type": "markdown",
   "id": "4706283d-1b94-4e40-908d-d5cc2b13a4b7",
   "metadata": {},
   "source": [
    "8. Develop a program that determines the largest of three given numbers using if-else statements."
   ]
  },
  {
   "cell_type": "code",
   "execution_count": 63,
   "id": "cfa46c6b-97ab-4d9b-8e6e-4c1617fa52ec",
   "metadata": {},
   "outputs": [
    {
     "name": "stdin",
     "output_type": "stream",
     "text": [
      "Enter 1st number:  56\n",
      "Enter 2nd number:  23\n",
      "Enter 3rd number:  87\n"
     ]
    },
    {
     "name": "stdout",
     "output_type": "stream",
     "text": [
      "Largest number is:  87\n"
     ]
    }
   ],
   "source": [
    "a = int(input(\"Enter 1st number: \"))\n",
    "b = int(input(\"Enter 2nd number: \"))\n",
    "c = int(input(\"Enter 3rd number: \"))\n",
    "if a > b and a > c:\n",
    "    print(\"Largest number is: \", a)\n",
    "if b > a and b > c:\n",
    "    print(\"Largest number is: \", b)\n",
    "if c > a and c > b:\n",
    "    print(\"Largest number is: \", c)\n",
    "else:\n",
    "    pass"
   ]
  },
  {
   "cell_type": "markdown",
   "id": "4d0e14dd-e55e-4611-ae69-bdf58da51dcb",
   "metadata": {},
   "source": [
    "9. Create a program that checks if a given string is a palindrome."
   ]
  },
  {
   "cell_type": "code",
   "execution_count": 66,
   "id": "37d3e9bb-39c5-41e5-ac6f-a9ceba58e76c",
   "metadata": {},
   "outputs": [
    {
     "name": "stdin",
     "output_type": "stream",
     "text": [
      "Enter the your string:  malayalam\n"
     ]
    },
    {
     "name": "stdout",
     "output_type": "stream",
     "text": [
      "Given string is pallindrome\n"
     ]
    }
   ],
   "source": [
    "s = input(\"Enter the your string: \")\n",
    "if s == s[::-1]:\n",
    "    print(\"Given string is pallindrome\")\n",
    "else:\n",
    "    print(\"Given string is not a pallindrome\")"
   ]
  },
  {
   "cell_type": "markdown",
   "id": "cfc83575-88a0-4252-9ec4-6d2af4634f43",
   "metadata": {},
   "source": [
    "10. Write a Python program to calculate the grade based on a student's score."
   ]
  },
  {
   "cell_type": "code",
   "execution_count": 66,
   "id": "87fda973-3243-40a7-8ea7-02266e67896e",
   "metadata": {},
   "outputs": [
    {
     "name": "stdin",
     "output_type": "stream",
     "text": [
      "Enter the student's score:  89\n"
     ]
    },
    {
     "name": "stdout",
     "output_type": "stream",
     "text": [
      "Grade B\n"
     ]
    }
   ],
   "source": [
    "n = int(input(\"Enter the student's score: \"))\n",
    "if n > 90:\n",
    "    print(\"Grade A\")\n",
    "else:\n",
    "    pass\n",
    "if n<=90 and n>75:\n",
    "    print(\"Grade B\")\n",
    "else:\n",
    "    pass\n",
    "if n<=75 and n>50:\n",
    "    print(\"Grade C\")\n",
    "else:\n",
    "    pass\n",
    "if n<=50 and n>=33:\n",
    "    print(\"Grade D\")\n",
    "else:\n",
    "    pass\n",
    "if n<=33:\n",
    "    print(\"Garde E\")\n",
    "else:\n",
    "    pass"
   ]
  },
  {
   "cell_type": "markdown",
   "id": "aa821165-7b46-47b8-9981-ea676ae9fef4",
   "metadata": {},
   "source": [
    "Nested If-Else Statements:"
   ]
  },
  {
   "cell_type": "markdown",
   "id": "d5d4d029-7046-428d-bbcb-2dce0fab86d7",
   "metadata": {},
   "source": [
    "11. Write a program to find the largest among three numbers using nested if-else statements."
   ]
  },
  {
   "cell_type": "code",
   "execution_count": 85,
   "id": "d18764bd-6b6e-4ab4-8bd9-fc897acd8029",
   "metadata": {},
   "outputs": [
    {
     "name": "stdin",
     "output_type": "stream",
     "text": [
      "Enter 1st number:  12\n",
      "Enter 2nd number:  87\n",
      "Enter 3rd number:  54\n"
     ]
    },
    {
     "name": "stdout",
     "output_type": "stream",
     "text": [
      "Largest among given three numbers is:  87\n"
     ]
    }
   ],
   "source": [
    "a = int(input(\"Enter 1st number: \"))\n",
    "b = int(input(\"Enter 2nd number: \"))\n",
    "c = int(input(\"Enter 3rd number: \"))\n",
    "if a > b :\n",
    "    if a > c:\n",
    "        print(\"Largest among given three numbers is: \", a)\n",
    "    else:\n",
    "        print(\"Largest among given three numbers is: \", c)\n",
    "else:\n",
    "    if b > c:\n",
    "        print(\"Largest among given three numbers is: \", b)\n",
    "    else:\n",
    "        print(\"Largest among given three numbers is: \", c)\n",
    "    "
   ]
  },
  {
   "cell_type": "markdown",
   "id": "12a2573e-70a9-4e83-894e-e41f77299d34",
   "metadata": {},
   "source": [
    "12. Implement a program to determine if a triangle is equilateral, isosceles, or scalene."
   ]
  },
  {
   "cell_type": "code",
   "execution_count": 29,
   "id": "cf861253-1fe3-4954-895c-a9d17a303395",
   "metadata": {},
   "outputs": [
    {
     "name": "stdin",
     "output_type": "stream",
     "text": [
      "Enter value of 1st side of triangle:  6\n",
      "Enter value of 2nd side of triangle:  8\n",
      "Enter value of 3rd side of triangle:  6\n"
     ]
    },
    {
     "name": "stdout",
     "output_type": "stream",
     "text": [
      "Triangle is isosceles\n"
     ]
    }
   ],
   "source": [
    "a = int(input(\"Enter value of 1st side of triangle: \"))\n",
    "b = int(input(\"Enter value of 2nd side of triangle: \"))\n",
    "c = int(input(\"Enter value of 3rd side of triangle: \"))\n",
    "if a == b:\n",
    "    if b == c:\n",
    "        print(\"Triangle is equilateral\")\n",
    "    else:\n",
    "        print(\"Triangle is isosceles\")\n",
    "else:\n",
    "    if b == c:\n",
    "        print(\"Triangle is isosceles\")\n",
    "    else:\n",
    "        if a == c:\n",
    "            print(\"Triangle is isosceles\")\n",
    "        else:\n",
    "            print(\"Triangle is scalene\")"
   ]
  },
  {
   "cell_type": "markdown",
   "id": "daf740f1-c61e-41ff-853c-fa49090bd3b2",
   "metadata": {},
   "source": [
    "13. Develop a program that checks if a year is a leap year and also if it is a century year."
   ]
  },
  {
   "cell_type": "code",
   "execution_count": 48,
   "id": "0b507614-15ec-411e-8c82-028c9bb6492c",
   "metadata": {},
   "outputs": [
    {
     "name": "stdin",
     "output_type": "stream",
     "text": [
      "Enter your desired year:  2024\n"
     ]
    },
    {
     "name": "stdout",
     "output_type": "stream",
     "text": [
      "Entered year is a leap year\n",
      "Entered year is not a centuary year\n"
     ]
    }
   ],
   "source": [
    "y = int(input(\"Enter your desired year: \"))\n",
    "if y % 400 == 0 or y % 100 != 0:\n",
    "    if y % 4 == 0:\n",
    "        print(\"Entered year is a leap year\")  \n",
    "    else:\n",
    "        print(\"Entered year is not a leap year\")\n",
    "else:\n",
    "    print(\"Entered year is not a leap year\")\n",
    "if y % 100 == 0:\n",
    "        print(\"Entered year is a centuary year\")\n",
    "else:\n",
    "    print(\"Entered year is not a centuary year\")"
   ]
  },
  {
   "cell_type": "markdown",
   "id": "b3b82e8d-fa0f-4744-8fa3-9c945ad800ad",
   "metadata": {},
   "source": [
    "14. Write a Python script to determine if a number is positive, negative, or zero."
   ]
  },
  {
   "cell_type": "code",
   "execution_count": 16,
   "id": "35d65fcf-b3c8-49ad-8019-26da2e9e7cc9",
   "metadata": {},
   "outputs": [
    {
     "name": "stdin",
     "output_type": "stream",
     "text": [
      "Enter the desired number:  -45\n"
     ]
    },
    {
     "name": "stdout",
     "output_type": "stream",
     "text": [
      "Entered number is negative number\n"
     ]
    }
   ],
   "source": [
    "n = int(input(\"Enter the desired number: \"))\n",
    "if n >= 0:\n",
    "    if n == 0:\n",
    "        print(\"Entered number is 0\")\n",
    "    else:\n",
    "        print(\"Entered number is positive number\")\n",
    "else:\n",
    "    print(\"Entered number is negative number\")"
   ]
  },
  {
   "cell_type": "markdown",
   "id": "667ad1d3-6e2d-4b84-bc69-70aedd319b46",
   "metadata": {},
   "source": [
    "15. Create a program to check if a person is a teenager (between 13 and 19 years old)."
   ]
  },
  {
   "cell_type": "code",
   "execution_count": 22,
   "id": "2b941c08-8564-401f-a028-3b1f79e4d500",
   "metadata": {},
   "outputs": [
    {
     "name": "stdin",
     "output_type": "stream",
     "text": [
      "Enter the person's age: 28\n"
     ]
    },
    {
     "name": "stdout",
     "output_type": "stream",
     "text": [
      "The person is not a teenager\n"
     ]
    }
   ],
   "source": [
    "age = int(input(\"Enter the person's age:\"))\n",
    "if age>=13 and age<=19:\n",
    "    print(\"The person is a teenager\")\n",
    "else:\n",
    "    print(\"The person is not a teenager\")"
   ]
  },
  {
   "cell_type": "markdown",
   "id": "4dd96ca5-5ae3-4412-ae19-cb00d70b33d7",
   "metadata": {},
   "source": [
    "16. Develop a program that determines the type of angle based on its measure (acute, obtuse, or right)."
   ]
  },
  {
   "cell_type": "code",
   "execution_count": 29,
   "id": "2ea340f4-318a-4d1d-bb27-80008c47a46e",
   "metadata": {},
   "outputs": [
    {
     "name": "stdin",
     "output_type": "stream",
     "text": [
      "Enter the value of an angle: 45\n"
     ]
    },
    {
     "name": "stdout",
     "output_type": "stream",
     "text": [
      "Entered angle is an acute angle\n"
     ]
    }
   ],
   "source": [
    "a = int(input(\"Enter the value of an angle:\"))\n",
    "if a>=90:\n",
    "    if a == 90:\n",
    "        print(\"Entered angle is a right angle\")\n",
    "    else:\n",
    "        print(\"Entered angle is an obtuse angle\")\n",
    "else:\n",
    "    print(\"Entered angle is an acute angle\")"
   ]
  },
  {
   "cell_type": "markdown",
   "id": "f2fad7da-5258-452c-bae5-c1bd9dbce12b",
   "metadata": {},
   "source": [
    "18. Implement a program to determine the day of the week based on a user-provided number (1 for Monday, 2\n",
    "for Tuesday, etc.)."
   ]
  },
  {
   "cell_type": "code",
   "execution_count": 57,
   "id": "df2c1126-903f-4239-840f-4e0732ff3b94",
   "metadata": {},
   "outputs": [
    {
     "name": "stdin",
     "output_type": "stream",
     "text": [
      "Enter the number between 1 to 7 to determine the day of the week:  8\n"
     ]
    },
    {
     "name": "stdout",
     "output_type": "stream",
     "text": [
      "Entered number is not between 1 to 7\n"
     ]
    }
   ],
   "source": [
    "n = int(input(\"Enter the number between 1 to 7 to determine the day of the week: \"))\n",
    "if n >= 1 and n<=7:\n",
    "    if n == 1:\n",
    "        print(\"Monday\")\n",
    "    else:\n",
    "        if n == 2:\n",
    "            print(\"Tuesday\")\n",
    "        else:\n",
    "            if n == 3:\n",
    "                print(\"Wednesday\")\n",
    "            else:\n",
    "                if n == 4:\n",
    "                    print(\"Thursday\")\n",
    "                else:\n",
    "                    if n == 5:\n",
    "                        print(\"Friday\")\n",
    "                    else:\n",
    "                        if n == 6:\n",
    "                            print(\"Saturday\")\n",
    "                        else:\n",
    "                            print(\"Sunday\")\n",
    "else:\n",
    "    print(\"Entered number is not between 1 to 7\")"
   ]
  },
  {
   "cell_type": "markdown",
   "id": "3ca5cd72-246f-4949-b843-b803c2508ea0",
   "metadata": {},
   "source": [
    "19. Create a program that determines if a year is a leap year and also if it is evenly divisible by 400."
   ]
  },
  {
   "cell_type": "code",
   "execution_count": 50,
   "id": "fbf394c0-e69e-4fdf-8152-52e06192b6b6",
   "metadata": {},
   "outputs": [
    {
     "name": "stdin",
     "output_type": "stream",
     "text": [
      "Enter your desired year:  1600\n"
     ]
    },
    {
     "name": "stdout",
     "output_type": "stream",
     "text": [
      "Entered year is a leap year\n",
      "Entered year is evenly divisible by 400\n"
     ]
    }
   ],
   "source": [
    "y = int(input(\"Enter your desired year: \"))\n",
    "if y % 400 == 0 or y % 100 != 0:\n",
    "    if y % 4 == 0:\n",
    "        print(\"Entered year is a leap year\")  \n",
    "    else:\n",
    "        print(\"Entered year is not a leap year\")\n",
    "else:\n",
    "    print(\"Entered year is not a leap year\")\n",
    "if y % 400 == 0:\n",
    "        print(\"Entered year is evenly divisible by 400\")\n",
    "else:\n",
    "    print(\"Entered year is not divisible by 400\")"
   ]
  },
  {
   "cell_type": "markdown",
   "id": "e7b1056d-0058-4b5c-b64f-307d056532af",
   "metadata": {},
   "source": [
    "20. Develop a program that checks if a given number is prime or not using nested if-else statements."
   ]
  },
  {
   "cell_type": "code",
   "execution_count": null,
   "id": "f4cd9269-a0b6-4f9b-ad03-399a950cb361",
   "metadata": {},
   "outputs": [],
   "source": []
  },
  {
   "cell_type": "markdown",
   "id": "a9696816-08d5-4096-b767-3a3023591286",
   "metadata": {},
   "source": [
    "Elif Statements:"
   ]
  },
  {
   "cell_type": "markdown",
   "id": "9c70d30f-3b87-4a4f-a1c6-7af2bef02082",
   "metadata": {},
   "source": [
    "21. Write a Python program to assign grades based on different ranges of scores using elif statements."
   ]
  },
  {
   "cell_type": "code",
   "execution_count": 68,
   "id": "247e4868-5ae6-4b13-b51a-c83e6c615bea",
   "metadata": {},
   "outputs": [
    {
     "name": "stdin",
     "output_type": "stream",
     "text": [
      "Enter the student's score:  84\n"
     ]
    },
    {
     "name": "stdout",
     "output_type": "stream",
     "text": [
      "Grade B\n"
     ]
    }
   ],
   "source": [
    "n = int(input(\"Enter the student's score: \"))\n",
    "if n > 90:\n",
    "    print(\"Grade A\")\n",
    "elif n<=90 and n>75:\n",
    "    print(\"Grade B\")\n",
    "elif n<=75 and n>50:\n",
    "    print(\"Grade C\")\n",
    "elif n<=50 and n>=33:\n",
    "    print(\"Grade D\")\n",
    "else:\n",
    "    print(\"Garde E\")"
   ]
  },
  {
   "cell_type": "markdown",
   "id": "f5fe9f15-5c62-4718-b633-2f6615c56349",
   "metadata": {},
   "source": [
    "22. Implement a program to determine the type of a triangle based on its angles."
   ]
  },
  {
   "cell_type": "code",
   "execution_count": 72,
   "id": "fa017f63-43c5-4a46-9756-cc27621287c5",
   "metadata": {},
   "outputs": [
    {
     "name": "stdin",
     "output_type": "stream",
     "text": [
      "Enter the value of an angle: 45\n"
     ]
    },
    {
     "name": "stdout",
     "output_type": "stream",
     "text": [
      "Entered angle is an acute angle\n"
     ]
    }
   ],
   "source": [
    "a = int(input(\"Enter the value of an angle:\"))\n",
    "if a>90:\n",
    "    print(\"Entered angle is an obtuse angle\")\n",
    "elif a == 90:\n",
    "    print(\"Entered angle is a right angle\")\n",
    "else:\n",
    "    print(\"Entered angle is an acute angle\")"
   ]
  },
  {
   "cell_type": "markdown",
   "id": "495f0209-1581-4a9f-92a8-39ed01982f08",
   "metadata": {},
   "source": [
    "23. Develop a program to categorize a given person's BMI into underweight, normal, overweight, or obese using\n",
    "elif statements."
   ]
  },
  {
   "cell_type": "code",
   "execution_count": 79,
   "id": "7e9d7a10-b281-4164-ba8a-56a07c693fb1",
   "metadata": {},
   "outputs": [
    {
     "name": "stdin",
     "output_type": "stream",
     "text": [
      "Enter the weight in kg:  81\n",
      "Enter the height in m:  1.81\n"
     ]
    },
    {
     "name": "stdout",
     "output_type": "stream",
     "text": [
      "Normal weight\n"
     ]
    }
   ],
   "source": [
    "\"\"\"BMI Categories:\n",
    "Underweight = <18.5\n",
    "Normal weight = 18.5–24.9\n",
    "Overweight = 25–29.9\n",
    "Obesity = BMI of 30 or greater\"\"\"\n",
    "\n",
    "w = float(input(\"Enter the weight in kg: \"))\n",
    "h = float(input(\"Enter the height in m: \"))\n",
    "b = w/(h*h)\n",
    "if b < 18.5:\n",
    "    print(\"Underweight\")\n",
    "elif b>=18.5 and b<=24.9:\n",
    "    print(\"Normal weight\")\n",
    "elif b>=25 and b<=29.9:\n",
    "    print(\"Overweight\")\n",
    "elif b>=30:\n",
    "    print(\"Obese\")\n",
    "else:\n",
    "    print(\"Enter correct values\")"
   ]
  },
  {
   "cell_type": "markdown",
   "id": "01e7bb61-b1d9-48b0-9ee7-6c5ba92c9cd6",
   "metadata": {},
   "source": [
    "24. Create a program that determines whether a given number is positive, negative, or zero using elif\n",
    "statements."
   ]
  },
  {
   "cell_type": "code",
   "execution_count": 82,
   "id": "f5082424-ebea-46b1-8f6c-ef6570c6080e",
   "metadata": {},
   "outputs": [
    {
     "name": "stdin",
     "output_type": "stream",
     "text": [
      "Enter the desired number:  -987655\n"
     ]
    },
    {
     "name": "stdout",
     "output_type": "stream",
     "text": [
      "Entered number is negative number\n"
     ]
    }
   ],
   "source": [
    "n = int(input(\"Enter the desired number: \"))\n",
    "if n == 0:\n",
    "    print(\"Entered number is 0\")\n",
    "elif n > 0:\n",
    "    print(\"Entered number is positive number\")\n",
    "else:\n",
    "    print(\"Entered number is negative number\")"
   ]
  },
  {
   "cell_type": "markdown",
   "id": "7f98bbe0-87e3-4212-b8b5-f90ce26c8a0f",
   "metadata": {},
   "source": [
    "25. Write a Python script to determine the type of a character (uppercase, lowercase, or special) using elif\n",
    "statements."
   ]
  },
  {
   "cell_type": "code",
   "execution_count": 97,
   "id": "b471cf90-5a51-4574-ae4d-36dd29d30542",
   "metadata": {},
   "outputs": [
    {
     "name": "stdin",
     "output_type": "stream",
     "text": [
      "Enter the character:  rishabh\n"
     ]
    },
    {
     "name": "stdout",
     "output_type": "stream",
     "text": [
      "Entered the character is in lowercase\n"
     ]
    }
   ],
   "source": [
    "c = input(\"Enter the character: \")\n",
    "s = [\"!\",\"@\",\"#\",\"$\",\"%\",\"^\",\"&\",\"*\",\"(\",\")\",\"-\",\"_\",\"+\",\"=\"]\n",
    "if c in s:\n",
    "    print(\"Entered the character is special case\")\n",
    "elif c == c.lower():\n",
    "    print(\"Entered the character is in lowercase\")\n",
    "elif c == c.upper():\n",
    "    print(\"Entered the character is in uppercase\")\n",
    "else:\n",
    "    pass"
   ]
  },
  {
   "cell_type": "markdown",
   "id": "cf52a2ac-0b92-4dc5-894b-2a8497c1e015",
   "metadata": {},
   "source": [
    "26. Implement a program to calculate the discounted price based on different purchase amounts using elif\n",
    "statements."
   ]
  },
  {
   "cell_type": "code",
   "execution_count": 4,
   "id": "327ad010-3b9b-43e1-b4eb-2c7e7f198f0f",
   "metadata": {},
   "outputs": [
    {
     "name": "stdin",
     "output_type": "stream",
     "text": [
      "Enter the purchase amount:  7500\n"
     ]
    },
    {
     "name": "stdout",
     "output_type": "stream",
     "text": [
      "Discounted price is 10% for this  7500 i.e. 750.0\n"
     ]
    }
   ],
   "source": [
    "p = int(input(\"Enter the purchase amount: \"))\n",
    "if p >= 10000:\n",
    "    print(\"Discounted price is 25% for this \", p, \"i.e.\", p*0.25)\n",
    "elif p>=5000 and p<10000:\n",
    "    print(\"Discounted price is 10% for this \", p, \"i.e.\", p*0.1)\n",
    "elif p>=3000 and p<5000:\n",
    "    print(\"Discounted price is 5% for this \", p, \"i.e.\", p*0.05)\n",
    "else:\n",
    "    print(\"No Discount\")"
   ]
  },
  {
   "cell_type": "markdown",
   "id": "57b8cd10-c21e-49ed-a401-30691d3ffd26",
   "metadata": {},
   "source": [
    "27. Develop a program to calculate the electricity bill based on different consumption slabs using elif\n",
    "statements."
   ]
  },
  {
   "cell_type": "code",
   "execution_count": null,
   "id": "782f2ceb-9792-452f-ade0-c2af5b69e4cf",
   "metadata": {},
   "outputs": [],
   "source": [
    "\"\"\"1 to 100 units – Rs. 10/unit\n",
    "100 to 200 units – Rs. 15/unit\n",
    "200 to 300 units – Rs. 20/unit\n",
    "above 300 units – Rs. 25/unit\"\"\""
   ]
  },
  {
   "cell_type": "code",
   "execution_count": 9,
   "id": "27dba6ca-a758-4a08-a117-2d36060e155e",
   "metadata": {},
   "outputs": [
    {
     "name": "stdin",
     "output_type": "stream",
     "text": [
      "Enter your consumption unit:  25\n"
     ]
    },
    {
     "name": "stdout",
     "output_type": "stream",
     "text": [
      "Electricity bill for 25 is:  250\n"
     ]
    }
   ],
   "source": [
    "consumption_unit = int(input(\"Enter your consumption unit: \"))\n",
    "\n",
    "if consumption_unit >= 300:\n",
    "    print(\"Electricity bill for\", consumption_unit, \"is: \", consumption_unit*25)\n",
    "elif consumption_unit>=200 and consumption_unit<300:\n",
    "     print(\"Electricity bill for\", consumption_unit, \"is: \", consumption_unit*20)\n",
    "elif consumption_unit>=100 and consumption_unit<200:\n",
    "     print(\"Electricity bill for\", consumption_unit, \"is: \", consumption_unit*15)\n",
    "elif consumption_unit>=1 and consumption_unit<100:\n",
    "     print(\"Electricity bill for\", consumption_unit, \"is: \", consumption_unit*10)\n",
    "else:\n",
    "    print(\"Enter the correct unit values\")"
   ]
  },
  {
   "cell_type": "markdown",
   "id": "673fc60d-11b6-46e5-b4d6-5cdd92ee4b54",
   "metadata": {},
   "source": [
    "28. Create a program to determine the type of quadrilateral based on its angles and sides using elif\n",
    "statements."
   ]
  },
  {
   "cell_type": "code",
   "execution_count": null,
   "id": "ad88d35a-ff53-40f8-8386-9828021d78c0",
   "metadata": {},
   "outputs": [],
   "source": [
    "Trapezium        - one pair of parallel side\n",
    "Parallelogram    - parallel sides, opposite angles and opposite sides are equal\n",
    "Rectangle      d  - parallel sides, all four angles are right angle and opposite sides are equal d\n",
    "Rhombus          - parallel sides, opposite angles are equal and all four sides are equal\n",
    "Square        d   - parallel sides, all four angles are right angle and all four sides are equal\n",
    "Kite             - adjacent sides are equal "
   ]
  },
  {
   "cell_type": "code",
   "execution_count": 6,
   "id": "d4c9c647-018e-496c-8c72-27e48f3f6b16",
   "metadata": {},
   "outputs": [
    {
     "name": "stdin",
     "output_type": "stream",
     "text": [
      "Enter Y if sides of the quadrilateral are parallel to each other:  Y\n",
      "Enter the 1st angle of the quadrilateral: 90\n",
      "Enter the 2nd angle of the quadrilateral: 90\n",
      "Enter the 3rd angle of the quadrilateral: 90\n",
      "Enter the 4th angle of the quadrilateral: 90\n",
      "Enter the 1st side of the quadrilateral: 8\n",
      "Enter the 2nd side of the quadrilateral: 6\n",
      "Enter the 3rd side of the quadrilateral: 8\n",
      "Enter the 4th side of the quadrilateral: 6\n"
     ]
    },
    {
     "name": "stdout",
     "output_type": "stream",
     "text": [
      "Your quadrilateral is a Rectangle\n"
     ]
    }
   ],
   "source": [
    "sides = input(\"Enter Y if sides of the quadrilateral are parallel to each other: \")\n",
    "a = int(input(\"Enter the 1st angle of the quadrilateral:\"))\n",
    "b = int(input(\"Enter the 2nd angle of the quadrilateral:\"))\n",
    "c = int(input(\"Enter the 3rd angle of the quadrilateral:\"))\n",
    "d = int(input(\"Enter the 4th angle of the quadrilateral:\"))\n",
    "A = int(input(\"Enter the 1st side of the quadrilateral:\"))\n",
    "B = int(input(\"Enter the 2nd side of the quadrilateral:\"))\n",
    "C = int(input(\"Enter the 3rd side of the quadrilateral:\"))\n",
    "D = int(input(\"Enter the 4th side of the quadrilateral:\"))\n",
    "if sides == \"Y\":\n",
    "    if A == B == C == D and a == c and b == d:\n",
    "        if a == b == c == d == 90:\n",
    "            print(\"Your quadrilateral is a Square\")\n",
    "        else:\n",
    "            print(\"Your quadrilateral is a Rhombus\")\n",
    "    elif A == C and B == D:\n",
    "        if a == b == c == d == 90:\n",
    "            print(\"Your quadrilateral is a Rectangle\")\n",
    "        else:\n",
    "            print(\"Your quadrilateral is a Parallelogram\")\n",
    "    elif A == B and B == D:\n",
    "        print(\"Your quadrilateral is a Kite\")\n",
    "    else:\n",
    "        pass\n",
    "else:\n",
    "    print(\"Your quadrilateral is a Trapezium\")\n"
   ]
  },
  {
   "cell_type": "markdown",
   "id": "003f6596-f41b-4995-a285-d2935c490020",
   "metadata": {},
   "source": [
    "29. Write a Python script to determine the season based on a user-provided month using elif statements."
   ]
  },
  {
   "cell_type": "code",
   "execution_count": 19,
   "id": "d490e558-6939-4adf-a539-7ef859d5ee47",
   "metadata": {},
   "outputs": [
    {
     "name": "stdin",
     "output_type": "stream",
     "text": [
      "Enter the month:  jULY\n"
     ]
    },
    {
     "name": "stdout",
     "output_type": "stream",
     "text": [
      "It will be rainy in this month\n"
     ]
    }
   ],
   "source": [
    "winter = [\"November\", \"December\", \"January\", \"February\"]\n",
    "summer = [\"March\", \"April\", \"May\", \"June\"]\n",
    "rainy = [\"July\", \"August\", \"September\", \"October\"]\n",
    "\n",
    "s = input(\"Enter the month: \")\n",
    "\n",
    "if s.capitalize() in winter:\n",
    "    print(\"It will be winter in this month\")\n",
    "elif s.capitalize() in summer:\n",
    "    print(\"It will be summer in this month\")\n",
    "elif s.capitalize() in rainy:\n",
    "    print(\"It will be rainy in this month\")\n",
    "else:\n",
    "    print(\"Enter the correct value\")"
   ]
  },
  {
   "cell_type": "markdown",
   "id": "857c7bf9-a0ef-4f3c-a572-be6450f33999",
   "metadata": {},
   "source": [
    "30. Implement a program to determine the type of a year (leap or common) and month (30 or 31 days) using\n",
    "elif statements."
   ]
  },
  {
   "cell_type": "code",
   "execution_count": 3,
   "id": "8ac95049-8a30-448a-b62a-8ca1fb5a3bca",
   "metadata": {},
   "outputs": [
    {
     "name": "stdin",
     "output_type": "stream",
     "text": [
      "Enter your desired year:  1600\n"
     ]
    },
    {
     "name": "stdout",
     "output_type": "stream",
     "text": [
      "Entered year is a leap year\n"
     ]
    },
    {
     "name": "stdin",
     "output_type": "stream",
     "text": [
      "Enter the desired month:  february\n"
     ]
    },
    {
     "name": "stdout",
     "output_type": "stream",
     "text": [
      "Entered month is february and it will have 29 days\n"
     ]
    }
   ],
   "source": [
    "month_31days = [\"January\",\"March\", \"May\", \"July\", \"August\", \"October\", \"December\"]\n",
    "month_30days = [\"April\", \"June\", \"September\", \"November\"]\n",
    "month = [\"February\"]\n",
    "y = int(input(\"Enter your desired year: \"))\n",
    "if y % 400 == 0 or y % 100 != 0:\n",
    "    if y % 4 == 0:\n",
    "        y1 = \"leap year\"\n",
    "        print(\"Entered year is a leap year\")  \n",
    "    else:\n",
    "        y1 = \"Not a leap year\"\n",
    "        print(\"Entered year is not a leap year\")\n",
    "else:\n",
    "    y1 = \"Not a leap year\"\n",
    "    print(\"Entered year is not a leap year\")\n",
    "m = input(\"Enter the desired month: \")\n",
    "if m.capitalize() in month_31days:\n",
    "        print(\"Entered month will have 31 days\")\n",
    "elif m.capitalize() in month_30days:\n",
    "        print(\"Entered month will have 30 days\")\n",
    "elif m.capitalize() in month and y1 == 'leap year':\n",
    "    print(\"Entered month is february and it will have 29 days\")\n",
    "elif m.capitalize() in month:\n",
    "    print(\"Entered month is february and it will have 28 days\")\n",
    "else:\n",
    "    print(\"Enter the correct value\")"
   ]
  },
  {
   "cell_type": "code",
   "execution_count": null,
   "id": "216fe652-3adc-4eef-8289-e176ac82140d",
   "metadata": {},
   "outputs": [],
   "source": []
  },
  {
   "cell_type": "markdown",
   "id": "4611e32e-1c8a-46bf-a218-9f2ada739ada",
   "metadata": {},
   "source": [
    "Basic Level:"
   ]
  },
  {
   "cell_type": "markdown",
   "id": "1cb2fd86-2390-4485-b299-9c8ea101f6c7",
   "metadata": {},
   "source": [
    "1. Write a Python program that checks if a given number is positive, negative, or zero."
   ]
  },
  {
   "cell_type": "code",
   "execution_count": 7,
   "id": "19b26dd0-62c0-4c09-afcf-c9d2349f09ea",
   "metadata": {},
   "outputs": [
    {
     "name": "stdin",
     "output_type": "stream",
     "text": [
      "Enter the number:  0\n"
     ]
    },
    {
     "name": "stdout",
     "output_type": "stream",
     "text": [
      "Entered number is zero\n"
     ]
    }
   ],
   "source": [
    "n = int(input(\"Enter the number: \"))\n",
    "if n > 0:\n",
    "    print(\"Entered number is positive\")\n",
    "elif n == 0:\n",
    "    print(\"Entered number is zero\")\n",
    "else:\n",
    "    print(\"Entered number is negative\")"
   ]
  },
  {
   "cell_type": "markdown",
   "id": "f940df33-6e88-4079-b77a-5c93baf422b3",
   "metadata": {},
   "source": [
    "2. Create a program to determine if a person is eligible to vote based on their age."
   ]
  },
  {
   "cell_type": "code",
   "execution_count": 13,
   "id": "5a6b57b9-564f-44ec-ab43-330a65c34d17",
   "metadata": {},
   "outputs": [
    {
     "name": "stdin",
     "output_type": "stream",
     "text": [
      "Enter the age of the person:  28\n"
     ]
    },
    {
     "name": "stdout",
     "output_type": "stream",
     "text": [
      "Person is eligle to vote\n"
     ]
    }
   ],
   "source": [
    "age = int(input(\"Enter the age of the person: \"))\n",
    "if age <18:\n",
    "    print(\"Person is not eligle to vote\")\n",
    "else:\n",
    "    print(\"Person is eligle to vote\")"
   ]
  },
  {
   "cell_type": "markdown",
   "id": "e9367fd9-3f71-45b7-84f4-e90772265807",
   "metadata": {},
   "source": [
    "3. Write a program to find the maximum of two given numbers using conditional statements."
   ]
  },
  {
   "cell_type": "code",
   "execution_count": 17,
   "id": "5cdf94c3-f7f8-4f6b-bb5c-e16b280881a6",
   "metadata": {},
   "outputs": [
    {
     "name": "stdin",
     "output_type": "stream",
     "text": [
      "Enter the 1st number:  89\n",
      "Enter the 2nd number:  425\n"
     ]
    },
    {
     "name": "stdout",
     "output_type": "stream",
     "text": [
      "Maximum between entered two numbers 89 & 425 is : 425\n"
     ]
    }
   ],
   "source": [
    "a = int(input(\"Enter the 1st number: \"))\n",
    "b = int(input(\"Enter the 2nd number: \"))\n",
    "if a > b:\n",
    "    print(\"Maximum between entered two numbers \", a, \"&\", b, \"is :\" , a)\n",
    "else:\n",
    "    print(\"Maximum between entered two numbers\", a, \"&\", b, \"is :\" , b)"
   ]
  },
  {
   "cell_type": "markdown",
   "id": "05965447-3d86-4656-b69b-2f686d7e9b6a",
   "metadata": {},
   "source": [
    "4. Develop a program that calculates the grade of a student based on their exam score."
   ]
  },
  {
   "cell_type": "code",
   "execution_count": 19,
   "id": "ae6e35b6-e9ba-4cab-83c9-21122f8fb6e9",
   "metadata": {},
   "outputs": [
    {
     "name": "stdin",
     "output_type": "stream",
     "text": [
      "Enter the student's score:  67\n"
     ]
    },
    {
     "name": "stdout",
     "output_type": "stream",
     "text": [
      "Grade C\n"
     ]
    }
   ],
   "source": [
    "n = int(input(\"Enter the student's score: \"))\n",
    "if n > 90:\n",
    "    print(\"Grade A\")\n",
    "elif n<=90 and n>75:\n",
    "    print(\"Grade B\")\n",
    "elif n<=75 and n>50:\n",
    "    print(\"Grade C\")\n",
    "elif n<=50 and n>=33:\n",
    "    print(\"Grade D\")\n",
    "else:\n",
    "    print(\"Garde E\")"
   ]
  },
  {
   "cell_type": "markdown",
   "id": "a84b27e3-f7c0-4ef6-9221-c7fd419bed4b",
   "metadata": {},
   "source": [
    "5. Create a program that checks if a year is a leap year or not."
   ]
  },
  {
   "cell_type": "code",
   "execution_count": 20,
   "id": "eb42fc99-11ac-423d-9dd6-ebdd675f6b8c",
   "metadata": {},
   "outputs": [
    {
     "name": "stdin",
     "output_type": "stream",
     "text": [
      "Enter your desired year:  2025\n"
     ]
    },
    {
     "name": "stdout",
     "output_type": "stream",
     "text": [
      "Entered year is not a leap year\n"
     ]
    }
   ],
   "source": [
    "y = int(input(\"Enter your desired year: \"))\n",
    "if y % 400 == 0 or y % 100 != 0:\n",
    "    if y % 4 == 0:\n",
    "        print(\"Entered year is a leap year\")  \n",
    "    else:\n",
    "        print(\"Entered year is not a leap year\")\n",
    "else:\n",
    "    print(\"Entered year is not a leap year\")"
   ]
  },
  {
   "cell_type": "markdown",
   "id": "6ea20da8-c1a3-4758-ab18-401bb6024120",
   "metadata": {},
   "source": [
    "6. Write a program to classify a triangle based on its sides' lengths."
   ]
  },
  {
   "cell_type": "code",
   "execution_count": 30,
   "id": "d1b33b0a-e5d2-4ed1-a577-41c5325cbe88",
   "metadata": {},
   "outputs": [
    {
     "name": "stdin",
     "output_type": "stream",
     "text": [
      "Enter value of 1st side of triangle:  9\n",
      "Enter value of 2nd side of triangle:  8\n",
      "Enter value of 3rd side of triangle:  7\n"
     ]
    },
    {
     "name": "stdout",
     "output_type": "stream",
     "text": [
      "Triangle is scalene\n"
     ]
    }
   ],
   "source": [
    "a = int(input(\"Enter value of 1st side of triangle: \"))\n",
    "b = int(input(\"Enter value of 2nd side of triangle: \"))\n",
    "c = int(input(\"Enter value of 3rd side of triangle: \"))\n",
    "if a == b:\n",
    "    if b == c:\n",
    "        print(\"Triangle is equilateral\")\n",
    "    else:\n",
    "        print(\"Triangle is isosceles\")\n",
    "else:\n",
    "    if b == c:\n",
    "        print(\"Triangle is isosceles\")\n",
    "    else:\n",
    "        if a == c:\n",
    "            print(\"Triangle is isosceles\")\n",
    "        else:\n",
    "            print(\"Triangle is scalene\")"
   ]
  },
  {
   "cell_type": "markdown",
   "id": "ced7a0bd-8fe8-4b83-a182-b1935db2cd02",
   "metadata": {},
   "source": [
    "7. Build a program that determines the largest of three given numbers."
   ]
  },
  {
   "cell_type": "code",
   "execution_count": 33,
   "id": "21b69cb9-7a62-48fd-b243-33d740b743c4",
   "metadata": {},
   "outputs": [
    {
     "name": "stdin",
     "output_type": "stream",
     "text": [
      "Enter 1st number:  23\n",
      "Enter 2nd number:  12\n",
      "Enter 3rd number:  1\n"
     ]
    },
    {
     "name": "stdout",
     "output_type": "stream",
     "text": [
      "Largest number is:  23\n"
     ]
    }
   ],
   "source": [
    "a = int(input(\"Enter 1st number: \"))\n",
    "b = int(input(\"Enter 2nd number: \"))\n",
    "c = int(input(\"Enter 3rd number: \"))\n",
    "if a > b:\n",
    "    if a > c:\n",
    "        print(\"Largest number is: \", a)\n",
    "    else:\n",
    "        print(\"Largest number is: \", c)\n",
    "else:\n",
    "    if b > c:\n",
    "        print(\"Largest number is: \", b)\n",
    "    else:\n",
    "        print(\"Largest number is: \", c)"
   ]
  },
  {
   "cell_type": "markdown",
   "id": "2f2e3055-8e74-4878-bc47-4686a4655967",
   "metadata": {},
   "source": [
    "8. Develop a program that checks whether a character is a vowel or a consonant."
   ]
  },
  {
   "cell_type": "code",
   "execution_count": 42,
   "id": "d68dafa7-6703-4d10-aa4f-b3a29ec4a23a",
   "metadata": {},
   "outputs": [
    {
     "name": "stdin",
     "output_type": "stream",
     "text": [
      "Enter any chracter:  O\n"
     ]
    },
    {
     "name": "stdout",
     "output_type": "stream",
     "text": [
      "Vowel\n"
     ]
    }
   ],
   "source": [
    "x = input(\"Enter any chracter: \")\n",
    "s = [\"a\",\"e\",\"i\",\"o\",\"u\"]\n",
    "if x.lower() in s:\n",
    "    print(\"Vowel\")\n",
    "elif x.lower() not in s:\n",
    "    print(\"Consonants\")\n",
    "else:\n",
    "    print(\"Enter only chracters\")"
   ]
  },
  {
   "cell_type": "markdown",
   "id": "6d011dd3-bc91-4bdf-b214-c272ed4ffac4",
   "metadata": {},
   "source": [
    "9. Create a program to calculate the total cost of a shopping cart based on discounts."
   ]
  },
  {
   "cell_type": "code",
   "execution_count": 43,
   "id": "68673a0e-11fe-4398-965d-ec5405c515b0",
   "metadata": {},
   "outputs": [
    {
     "name": "stdin",
     "output_type": "stream",
     "text": [
      "Enter the purchase amount:  3500\n"
     ]
    },
    {
     "name": "stdout",
     "output_type": "stream",
     "text": [
      "Discounted price is 5% for this  3500 i.e. 175.0\n"
     ]
    }
   ],
   "source": [
    "p = int(input(\"Enter the purchase amount: \"))\n",
    "if p >= 10000:\n",
    "    print(\"Discounted price is 25% for this \", p, \"i.e.\", p*0.25)\n",
    "elif p>=5000 and p<10000:\n",
    "    print(\"Discounted price is 10% for this \", p, \"i.e.\", p*0.1)\n",
    "elif p>=3000 and p<5000:\n",
    "    print(\"Discounted price is 5% for this \", p, \"i.e.\", p*0.05)\n",
    "else:\n",
    "    print(\"No Discount\")"
   ]
  },
  {
   "cell_type": "markdown",
   "id": "14cfcc63-cf5f-42ee-b4a1-34a59ceb1c70",
   "metadata": {},
   "source": [
    "10. Write a program that checks if a given number is even or odd."
   ]
  },
  {
   "cell_type": "code",
   "execution_count": 48,
   "id": "e163f7a9-612b-4605-919a-3e5ae83d81f2",
   "metadata": {},
   "outputs": [
    {
     "name": "stdin",
     "output_type": "stream",
     "text": [
      "Enter any number:  789\n"
     ]
    },
    {
     "name": "stdout",
     "output_type": "stream",
     "text": [
      "Odd\n"
     ]
    }
   ],
   "source": [
    "n = int(input(\"Enter any number: \"))\n",
    "if n % 2 == 0:\n",
    "    print(\"Even\")\n",
    "else:\n",
    "    print(\"Odd\")"
   ]
  },
  {
   "cell_type": "code",
   "execution_count": null,
   "id": "7f5d42ca-acad-4e8f-8bf5-e843be311999",
   "metadata": {},
   "outputs": [],
   "source": []
  },
  {
   "cell_type": "markdown",
   "id": "9523488a-a506-4567-835a-661bc0cca027",
   "metadata": {},
   "source": [
    "Intermediate Level:"
   ]
  },
  {
   "cell_type": "markdown",
   "id": "f1e8e8a8-01ca-43aa-ac7b-4facafc69f4f",
   "metadata": {},
   "source": [
    "12. Create a program that determines the day of the week based on the day number (1-7)."
   ]
  },
  {
   "cell_type": "code",
   "execution_count": 53,
   "id": "a0d2b349-8cb6-45d3-be4a-96f658af8fa5",
   "metadata": {},
   "outputs": [
    {
     "name": "stdin",
     "output_type": "stream",
     "text": [
      "Enter the number between 1 to 7 to determine the day of the week:  4\n"
     ]
    },
    {
     "name": "stdout",
     "output_type": "stream",
     "text": [
      "Thursday\n"
     ]
    }
   ],
   "source": [
    "n = int(input(\"Enter the number between 1 to 7 to determine the day of the week: \"))\n",
    "if n >= 1 and n<=7:\n",
    "    if n == 1:\n",
    "        print(\"Monday\")\n",
    "    else:\n",
    "        if n == 2:\n",
    "            print(\"Tuesday\")\n",
    "        else:\n",
    "            if n == 3:\n",
    "                print(\"Wednesday\")\n",
    "            else:\n",
    "                if n == 4:\n",
    "                    print(\"Thursday\")\n",
    "                else:\n",
    "                    if n == 5:\n",
    "                        print(\"Friday\")\n",
    "                    else:\n",
    "                        if n == 6:\n",
    "                            print(\"Saturday\")\n",
    "                        else:\n",
    "                            print(\"Sunday\")\n",
    "else:\n",
    "    print(\"Entered number is not between 1 to 7\")"
   ]
  },
  {
   "cell_type": "markdown",
   "id": "fdefe075-7270-479f-87e1-50cf32ab7f45",
   "metadata": {},
   "source": [
    "14. Write a program to find the largest among three numbers without using the `max()` function."
   ]
  },
  {
   "cell_type": "code",
   "execution_count": 54,
   "id": "123cb628-0b0e-4249-943c-25fead5335cd",
   "metadata": {},
   "outputs": [
    {
     "name": "stdin",
     "output_type": "stream",
     "text": [
      "Enter 1st number:  89\n",
      "Enter 2nd number:  67\n",
      "Enter 3rd number:  3452\n"
     ]
    },
    {
     "name": "stdout",
     "output_type": "stream",
     "text": [
      "Largest number is:  3452\n"
     ]
    }
   ],
   "source": [
    "a = int(input(\"Enter 1st number: \"))\n",
    "b = int(input(\"Enter 2nd number: \"))\n",
    "c = int(input(\"Enter 3rd number: \"))\n",
    "if a > b:\n",
    "    if a > c:\n",
    "        print(\"Largest number is: \", a)\n",
    "    else:\n",
    "        print(\"Largest number is: \", c)\n",
    "else:\n",
    "    if b > c:\n",
    "        print(\"Largest number is: \", b)\n",
    "    else:\n",
    "        print(\"Largest number is: \", c)"
   ]
  },
  {
   "cell_type": "markdown",
   "id": "2d482f63-f9f2-4264-baed-7f3f0065caf6",
   "metadata": {},
   "source": [
    "15. Create a program that simulates a basic ATM transaction menu."
   ]
  },
  {
   "cell_type": "code",
   "execution_count": 60,
   "id": "f39c7a6b-63ba-4b32-82c8-6be4234a9378",
   "metadata": {},
   "outputs": [
    {
     "name": "stdout",
     "output_type": "stream",
     "text": [
      "Enter your ATM card\n"
     ]
    },
    {
     "name": "stdin",
     "output_type": "stream",
     "text": [
      "Enter your ATM pin:  1234\n",
      "Enter the amount for transaction:  8000\n"
     ]
    },
    {
     "name": "stdout",
     "output_type": "stream",
     "text": [
      "8000 has been debited from your account\n"
     ]
    },
    {
     "name": "stdin",
     "output_type": "stream",
     "text": [
      "Enter 'Y' if you want to know the remaining balance:  y\n"
     ]
    },
    {
     "name": "stdout",
     "output_type": "stream",
     "text": [
      "Remaining balence:  2000\n"
     ]
    }
   ],
   "source": [
    "print(\"Enter your ATM card\")\n",
    "balance = 10000\n",
    "pin = 1234\n",
    "atm_pin = int(input(\"Enter your ATM pin: \"))\n",
    "if atm_pin == pin:\n",
    "    amt = int(input(\"Enter the amount for transaction: \"))\n",
    "    if amt <= balance:\n",
    "        print(amt, \"has been debited from your account\")\n",
    "    else:\n",
    "        print(\"You don't have the desired amount\")\n",
    "    r = input(\"Enter 'Y' if you want to know the remaining balance: \")\n",
    "    if r.capitalize() == 'Y':\n",
    "        print(\"Remaining balence: \", balance - amt)\n",
    "    else:\n",
    "        print(\"Thank You for your time\")\n",
    "else:\n",
    "    print(\"Entered ATM pin is wrong\")"
   ]
  },
  {
   "cell_type": "markdown",
   "id": "c927c867-7a56-441e-8b27-24aa984abbc3",
   "metadata": {},
   "source": [
    "16. Build a program that checks if a given string is a palindrome or not."
   ]
  },
  {
   "cell_type": "code",
   "execution_count": 64,
   "id": "6a54aeec-4cc3-4712-9240-907666e03188",
   "metadata": {},
   "outputs": [
    {
     "name": "stdin",
     "output_type": "stream",
     "text": [
      "Enter the your string:  Tenet\n"
     ]
    },
    {
     "name": "stdout",
     "output_type": "stream",
     "text": [
      "Given string is pallindrome\n"
     ]
    }
   ],
   "source": [
    "s = input(\"Enter the your string: \")\n",
    "if s.lower() == s.lower()[::-1]:\n",
    "    print(\"Given string is pallindrome\")\n",
    "else:\n",
    "    print(\"Given string is not a pallindrome\")"
   ]
  },
  {
   "cell_type": "markdown",
   "id": "5bd08db4-6b7b-4cfd-b4ff-72435bd15e84",
   "metadata": {},
   "source": [
    "17. Write a program that calculates the average of a list of numbers, excluding the smallest and largest values."
   ]
  },
  {
   "cell_type": "code",
   "execution_count": 68,
   "id": "14bce1c5-77bb-4a83-bc41-8c48895d9027",
   "metadata": {},
   "outputs": [
    {
     "name": "stdout",
     "output_type": "stream",
     "text": [
      "the average of  [1, 23, 21, 4, 37, 88, 76, 5, 43] excluding the smallest and largest values is:  23.22222222222222\n"
     ]
    }
   ],
   "source": [
    "l = [1,23,21,4,37,88,76,5,43]\n",
    "min(l)\n",
    "max(l)\n",
    "avg = (sum(l) - max(l) - min(l))/len(l)\n",
    "print(\"the average of \", l , \"excluding the smallest and largest values is: \", avg)"
   ]
  },
  {
   "cell_type": "code",
   "execution_count": null,
   "id": "0d8586fb-3f40-43c3-b021-e2063bfaac47",
   "metadata": {},
   "outputs": [],
   "source": []
  },
  {
   "cell_type": "markdown",
   "id": "eaac898e-f994-48a8-be4f-306b2df6aa30",
   "metadata": {},
   "source": [
    "18. Develop a program that converts a given temperature from Celsius to Fahrenheit."
   ]
  },
  {
   "cell_type": "code",
   "execution_count": 69,
   "id": "dd755b4f-6a3a-42d2-86c5-cfb27b835002",
   "metadata": {},
   "outputs": [
    {
     "name": "stdin",
     "output_type": "stream",
     "text": [
      "Enter the temperature in Celcius:  32\n"
     ]
    },
    {
     "name": "stdout",
     "output_type": "stream",
     "text": [
      "The temerature in Fahrenheit will be:  89.6\n"
     ]
    }
   ],
   "source": [
    "c = int(input(\"Enter the temperature in Celcius: \"))\n",
    "f = (c * (9/5)) + 32\n",
    "print(\"The temerature in Fahrenheit will be: \", f)\n"
   ]
  },
  {
   "cell_type": "markdown",
   "id": "f226cf36-3144-4229-8986-609061532fcb",
   "metadata": {},
   "source": [
    "19. Create a program that simulates a basic calculator for addition, subtraction, multiplication, and division."
   ]
  },
  {
   "cell_type": "code",
   "execution_count": 8,
   "id": "acd2e850-5d98-4b20-87a0-b7e50f620d8b",
   "metadata": {},
   "outputs": [
    {
     "name": "stdin",
     "output_type": "stream",
     "text": [
      "Enter the 1st value:  99\n",
      "Enter the 2nd value:  11\n"
     ]
    },
    {
     "name": "stdout",
     "output_type": "stream",
     "text": [
      "Code for Addition is 1\n",
      "Code for Subtraction is 2\n",
      "Code for Multiplication is 3\n",
      "Code for Diviition is 4\n"
     ]
    },
    {
     "name": "stdin",
     "output_type": "stream",
     "text": [
      "Enter the code for desired operation:  4\n"
     ]
    },
    {
     "name": "stdout",
     "output_type": "stream",
     "text": [
      "Divition for  99  &  11  is:  9.0\n"
     ]
    }
   ],
   "source": [
    "a = int(input(\"Enter the 1st value: \"))\n",
    "b = int(input(\"Enter the 2nd value: \"))\n",
    "print(\"Code for Addition is 1\")\n",
    "print(\"Code for Subtraction is 2\")\n",
    "print(\"Code for Multiplication is 3\")\n",
    "print(\"Code for Diviition is 4\")\n",
    "\n",
    "oper = int(input(\"Enter the code for desired operation: \"))\n",
    "if oper == 1:\n",
    "    print(\"Addition for \", a, \" & \", b, \" is: \", a+b)\n",
    "elif oper == 2:\n",
    "    print(\"Subtraction for \", a, \" & \", b, \" is: \", a-b)\n",
    "elif oper == 3:\n",
    "    print(\"Multiplication for \", a, \" & \", b, \" is: \", a*b)\n",
    "elif oper == 4:\n",
    "    print(\"Divition for \", a, \" & \", b, \" is: \", a/b)\n",
    "else:\n",
    "    print(\"Enter the correct code\")"
   ]
  },
  {
   "cell_type": "markdown",
   "id": "92025a51-c71e-4a8b-ac2d-4cf314950db3",
   "metadata": {},
   "source": [
    "Advanced Level:"
   ]
  },
  {
   "cell_type": "markdown",
   "id": "c2a84c85-2ba5-469f-b39a-9db77ebe9a5e",
   "metadata": {},
   "source": [
    "21. Create a program that calculates the income tax based on the user's income and tax brackets."
   ]
  },
  {
   "cell_type": "code",
   "execution_count": null,
   "id": "4063cb93-73c9-4837-87ed-4dc44ff460e1",
   "metadata": {},
   "outputs": [],
   "source": [
    "\"\"\" \n",
    "Up to Rs.3 lakh - 0% (Nil)\n",
    "Rs 3 lakh to 6 lakh - 5%\n",
    "Rs 6 lakh to 9 lakh - 10%\n",
    "Rs 9 lakh to Rs 12 lakh - 15%\n",
    "Rs 12 lakh to Rs 15 lakh - 20%\n",
    "Above Rs 15 lakh - 30%\n",
    "\"\"\""
   ]
  },
  {
   "cell_type": "code",
   "execution_count": 23,
   "id": "90017e4d-720f-45f0-b01e-7855149b7883",
   "metadata": {},
   "outputs": [
    {
     "name": "stdin",
     "output_type": "stream",
     "text": [
      "Enter your income in lakhs:  20\n"
     ]
    },
    {
     "name": "stdout",
     "output_type": "stream",
     "text": [
      "You come under 30% interest income tax bracket i.e. : 6.0\n"
     ]
    }
   ],
   "source": [
    "income = float(input(\"Enter your income in lakhs: \"))\n",
    "if income <= 15:\n",
    "    if income <= 3:\n",
    "        print(\"You come under no interest income tax bracket\")\n",
    "    elif income <=6:\n",
    "        print(\"You come under 5% interest income tax bracket i.e. :\", income*0.05)\n",
    "    elif income <=9:\n",
    "        print(\"You come under 10% interest income tax bracket i.e. :\", income*0.10)\n",
    "    elif income <=12:\n",
    "        print(\"You come under 15% interest income tax bracket i.e. :\", income*0.15)\n",
    "    else:\n",
    "        print(\"You come under 20% interest income tax bracket i.e. :\", income*0.20)\n",
    "else:\n",
    "    print(\"You come under 30% interest income tax bracket i.e. :\", income*0.30)\n",
    "    "
   ]
  },
  {
   "cell_type": "markdown",
   "id": "e3500b08-20e1-4bc9-88e4-ea53e38fa791",
   "metadata": {},
   "source": [
    "22. Write a program that simulates a rock-paper-scissors game against the computer."
   ]
  },
  {
   "cell_type": "code",
   "execution_count": 31,
   "id": "ce6f9b74-4d69-4a56-abf9-6e68c045465d",
   "metadata": {},
   "outputs": [
    {
     "name": "stdin",
     "output_type": "stream",
     "text": [
      "Choose from Rock, Paper & Scissors:  Rock\n"
     ]
    },
    {
     "name": "stdout",
     "output_type": "stream",
     "text": [
      "You choose  Rock\n",
      "Computer chose  Paper\n",
      "Computer wins\n"
     ]
    }
   ],
   "source": [
    "import random\n",
    "\n",
    "options = [\"Rock\",\"Paper\",\"Scissors\"]\n",
    "user_choice = input(\"Choose from Rock, Paper & Scissors: \")\n",
    "comp_choice = random.choice(options)\n",
    "print(\"You choose \", user_choice)\n",
    "print(\"Computer chose \", comp_choice)\n",
    "if user_choice == comp_choice:\n",
    "    print(\"It's a Tie, Try Again\")\n",
    "elif user_choice == \"Rock\" and comp_choice == \"Scissors\":\n",
    "    print(\"You win\")\n",
    "elif user_choice == \"Paper\" and comp_choice == \"Rock\":\n",
    "    print(\"You win\")\n",
    "elif user_choice == \"Scissors\" and comp_choice == \"Paper\":\n",
    "    print(\"You win\")\n",
    "else:\n",
    "    print(\"Computer wins\")\n"
   ]
  },
  {
   "cell_type": "markdown",
   "id": "767f9c0f-27e2-4989-8c4d-f55cfb40bb43",
   "metadata": {},
   "source": [
    "23. Develop a program that generates a random password based on user preferences (length, complexity)."
   ]
  },
  {
   "cell_type": "code",
   "execution_count": 32,
   "id": "4a2d348d-5178-4f57-bc92-7334e5c827f8",
   "metadata": {},
   "outputs": [
    {
     "name": "stdout",
     "output_type": "stream",
     "text": [
      "Q)her5atMr\n"
     ]
    }
   ],
   "source": [
    "import secrets\n",
    "import string\n",
    "import random\n",
    "\n",
    "letters = string.ascii_letters\n",
    "digits = string.digits\n",
    "special_chars = string.punctuation\n",
    "\n",
    "selection_list = letters + digits + special_chars\n",
    "password_len = 10\n",
    "password = ''\n",
    "for i in range(password_len):\n",
    "    password= password + ''.join(secrets.choice(selection_list))\n",
    "\n",
    "print(password)"
   ]
  },
  {
   "cell_type": "markdown",
   "id": "80001fa5-b0ce-4cbc-bd5a-c1f6a1dd8fe0",
   "metadata": {},
   "source": [
    "28. Create a program that sorts three numbers in ascending order using conditional statements."
   ]
  },
  {
   "cell_type": "code",
   "execution_count": 38,
   "id": "202bb1d2-ff26-46ef-87b7-93ea75b1c5aa",
   "metadata": {},
   "outputs": [
    {
     "name": "stdin",
     "output_type": "stream",
     "text": [
      "Enter 1st number:  123\n",
      "Enter 2nd number:  32\n",
      "Enter 3rd number:  999\n"
     ]
    },
    {
     "name": "stdout",
     "output_type": "stream",
     "text": [
      "Ascending orders of the entered three number is:  999 123 32\n"
     ]
    }
   ],
   "source": [
    "a = int(input(\"Enter 1st number: \"))\n",
    "b = int(input(\"Enter 2nd number: \"))\n",
    "c = int(input(\"Enter 3rd number: \"))\n",
    "if a > b and a > c:\n",
    "    if b > c:\n",
    "        print(\"Ascending orders of the entered three number is: \", a,b,c)\n",
    "    else:\n",
    "        print(\"Ascending orders of the entered three number is: \", a,c,b)\n",
    "elif b > a and b > c:\n",
    "    if a > c:\n",
    "        print(\"Ascending orders of the entered three number is: \", b,a,c)\n",
    "    else:\n",
    "        print(\"Ascending orders of the entered three number is: \", b,c,a)\n",
    "else:\n",
    "    if a > b:\n",
    "        print(\"Ascending orders of the entered three number is: \", c,a,b)\n",
    "    else:\n",
    "        print(\"Ascending orders of the entered three number is: \", c,b,a)"
   ]
  },
  {
   "cell_type": "markdown",
   "id": "644ced49-9e02-4e0f-ade0-991668e39902",
   "metadata": {},
   "source": [
    "30. Write a program that calculates the BMI (Body Mass Index) and provides health recommendations based\n",
    "on the user's input."
   ]
  },
  {
   "cell_type": "code",
   "execution_count": 40,
   "id": "930a2fe9-11d6-490b-8d5e-5eee67b3b615",
   "metadata": {},
   "outputs": [
    {
     "name": "stdin",
     "output_type": "stream",
     "text": [
      "Enter the weight in kg:  102\n",
      "Enter the height in m:  1.81\n"
     ]
    },
    {
     "name": "stdout",
     "output_type": "stream",
     "text": [
      "Obese\n"
     ]
    }
   ],
   "source": [
    "\"\"\"BMI Categories:\n",
    "Underweight = <18.5\n",
    "Normal weight = 18.5–24.9\n",
    "Overweight = 25–29.9\n",
    "Obesity = BMI of 30 or greater\"\"\"\n",
    "\n",
    "w = float(input(\"Enter the weight in kg: \"))\n",
    "h = float(input(\"Enter the height in m: \"))\n",
    "b = w/(h*h)\n",
    "if b < 18.5:\n",
    "    print(\"Underweight\")\n",
    "elif b>=18.5 and b<=24.9:\n",
    "    print(\"Normal weight\")\n",
    "elif b>=25 and b<=29.9:\n",
    "    print(\"Overweight\")\n",
    "elif b>=30:\n",
    "    print(\"Obese\")\n",
    "else:\n",
    "    print(\"Enter correct values\")"
   ]
  },
  {
   "cell_type": "code",
   "execution_count": null,
   "id": "549bdecb-bd0c-47a6-ac99-1aa3a4807643",
   "metadata": {},
   "outputs": [],
   "source": []
  }
 ],
 "metadata": {
  "kernelspec": {
   "display_name": "Python 3 (ipykernel)",
   "language": "python",
   "name": "python3"
  },
  "language_info": {
   "codemirror_mode": {
    "name": "ipython",
    "version": 3
   },
   "file_extension": ".py",
   "mimetype": "text/x-python",
   "name": "python",
   "nbconvert_exporter": "python",
   "pygments_lexer": "ipython3",
   "version": "3.10.8"
  },
  "toc-autonumbering": false,
  "toc-showmarkdowntxt": false
 },
 "nbformat": 4,
 "nbformat_minor": 5
}
