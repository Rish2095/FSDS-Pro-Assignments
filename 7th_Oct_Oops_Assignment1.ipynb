{
 "cells": [
  {
   "cell_type": "markdown",
   "id": "3f769ec6-caeb-4091-98be-7c37c0b2e8c9",
   "metadata": {},
   "source": [
    "Problem 1: Bank Account Create a class representing a bank account with attributes like account number, account holder name, and balance. Implement methods to deposit and withdraw money from the account."
   ]
  },
  {
   "cell_type": "code",
   "execution_count": 12,
   "id": "42efd5c7-0b0c-4306-9c52-cdf97b5b330a",
   "metadata": {},
   "outputs": [],
   "source": [
    "class Bank_Account:\n",
    "    \n",
    "    def deposit(self):\n",
    "        print(\"Deposit in the account\")\n",
    "        \n",
    "    def withdrow_money(self):\n",
    "        print(\"Money withdrawal from the account\")"
   ]
  },
  {
   "cell_type": "code",
   "execution_count": 13,
   "id": "5c84f2a6-7ecb-4cbf-a4d7-b791f53ced78",
   "metadata": {},
   "outputs": [],
   "source": [
    "account_number = Bank_Account()"
   ]
  },
  {
   "cell_type": "code",
   "execution_count": 14,
   "id": "08277a97-d17b-48bd-aa40-ec3d24313e00",
   "metadata": {},
   "outputs": [
    {
     "name": "stdout",
     "output_type": "stream",
     "text": [
      "Deposit in the account\n"
     ]
    }
   ],
   "source": [
    "account_number.deposit()"
   ]
  },
  {
   "cell_type": "code",
   "execution_count": 15,
   "id": "bdc7d592-479f-48c0-b948-c8579154c231",
   "metadata": {},
   "outputs": [
    {
     "name": "stdout",
     "output_type": "stream",
     "text": [
      "Money withdrawal from the account\n"
     ]
    }
   ],
   "source": [
    "account_number.withdrow_money()"
   ]
  },
  {
   "cell_type": "code",
   "execution_count": 16,
   "id": "7e03a031-0e12-47ed-a870-409b05b95780",
   "metadata": {},
   "outputs": [],
   "source": [
    "account_holder_name = Bank_Account()"
   ]
  },
  {
   "cell_type": "code",
   "execution_count": 17,
   "id": "3beb5565-8ecc-4647-85fc-ab9674d9ee81",
   "metadata": {},
   "outputs": [
    {
     "name": "stdout",
     "output_type": "stream",
     "text": [
      "Deposit in the account\n"
     ]
    }
   ],
   "source": [
    "account_holder_name.deposit()"
   ]
  },
  {
   "cell_type": "code",
   "execution_count": 18,
   "id": "01c70b67-ce8a-4e51-81d2-610fb9a1cb63",
   "metadata": {},
   "outputs": [
    {
     "name": "stdout",
     "output_type": "stream",
     "text": [
      "Money withdrawal from the account\n"
     ]
    }
   ],
   "source": [
    "account_holder_name.withdrow_money()"
   ]
  },
  {
   "cell_type": "code",
   "execution_count": 20,
   "id": "437c9a62-385d-4ae5-a74d-91d953dbac1e",
   "metadata": {},
   "outputs": [],
   "source": [
    "balance = Bank_Account()"
   ]
  },
  {
   "cell_type": "code",
   "execution_count": 21,
   "id": "26769a10-70b9-4bfa-a4aa-e81c750f9199",
   "metadata": {},
   "outputs": [
    {
     "name": "stdout",
     "output_type": "stream",
     "text": [
      "Deposit in the account\n"
     ]
    }
   ],
   "source": [
    "balance.deposit()"
   ]
  },
  {
   "cell_type": "code",
   "execution_count": 22,
   "id": "3c77b3a9-79dc-4e7e-bb40-7c8006cf2b07",
   "metadata": {},
   "outputs": [
    {
     "name": "stdout",
     "output_type": "stream",
     "text": [
      "Money withdrawal from the account\n"
     ]
    }
   ],
   "source": [
    "balance.withdrow_money()"
   ]
  },
  {
   "cell_type": "markdown",
   "id": "abdb994c-56cc-411e-bb71-f19bccc8b270",
   "metadata": {},
   "source": [
    "Problem 2: Employee Management Create a class representing an employee with attributes like employee ID, name, and salary. Implement methods to calculate the yearly bonus and display employee details."
   ]
  },
  {
   "cell_type": "code",
   "execution_count": 84,
   "id": "c40d6a42-88e4-4e51-b2b7-fd0b5aec53bd",
   "metadata": {},
   "outputs": [],
   "source": [
    "class employee:\n",
    "    \n",
    "    def __init__(self, employeeID, name, salary):\n",
    "        self.employeeID = employeeID\n",
    "        self.employee_name = name\n",
    "        self.employee_salary = salary\n",
    "        \n",
    "    def yearly_bonus(self):\n",
    "        if self.employee_salary>= 10000:\n",
    "            print(\"20% yearly bonus for you: \", 0.2*self.employee_salary)\n",
    "        \n",
    "        elif self.employee_salary>=5000:\n",
    "            print(\"10% yearly bonus for you: \", 0.1*self.employee_salary)\n",
    "        \n",
    "        else:\n",
    "            print(\"No yearly bonus for you\")\n",
    "            \n",
    "    def employee_details(self):\n",
    "        print(self.employeeID, self.employee_name, self.employee_salary)"
   ]
  },
  {
   "cell_type": "code",
   "execution_count": 85,
   "id": "edf79f42-fb32-422e-a9c1-7db612081ae6",
   "metadata": {},
   "outputs": [],
   "source": [
    "employeeID = employee(\"I5322\" , \"Rishabh Singh\", 7345)"
   ]
  },
  {
   "cell_type": "code",
   "execution_count": 86,
   "id": "c5bf0b11-7c6a-43fd-bc1a-926f2599e9d2",
   "metadata": {},
   "outputs": [
    {
     "name": "stdout",
     "output_type": "stream",
     "text": [
      "10% yearly bonus for you:  734.5\n"
     ]
    }
   ],
   "source": [
    "employeeID.yearly_bonus()"
   ]
  },
  {
   "cell_type": "code",
   "execution_count": 87,
   "id": "cba57dde-de3a-44be-89a6-89c981a46608",
   "metadata": {},
   "outputs": [
    {
     "name": "stdout",
     "output_type": "stream",
     "text": [
      "I5322 Rishabh Singh 7345\n"
     ]
    }
   ],
   "source": [
    "employeeID.employee_details()"
   ]
  },
  {
   "cell_type": "markdown",
   "id": "afdd5996-f18c-4b75-b55a-afe9402be8be",
   "metadata": {},
   "source": [
    "Problem 3: Vehicle Rental Create a class representing a vehicle rental system. Implement methods to rent a vehicle, return a vehicle, and display available vehicles."
   ]
  },
  {
   "cell_type": "code",
   "execution_count": 105,
   "id": "537de883-731f-47d6-9835-a5afc91ea9f9",
   "metadata": {},
   "outputs": [],
   "source": [
    "class car_rental:\n",
    "    \n",
    "    def __init__(self, time):\n",
    "        self.return_vehicle = time\n",
    "    \n",
    "    def renting_charge(self):\n",
    "        print(\"Price for car is: 2000 per day, so for you the charge will be: \", self.return_vehicle * 2000)\n",
    "        \n",
    "    def return_time(self):\n",
    "        print(\"Returning time of the car is:\", self.return_vehicle, \"days\")\n",
    "        \n",
    "    def available_cars(self):\n",
    "        print(\"Following cars are available: Sedan, Hatchback and SUV\")"
   ]
  },
  {
   "cell_type": "code",
   "execution_count": 106,
   "id": "5cda0fee-463c-4e2c-973c-b21a5b1b3c5c",
   "metadata": {},
   "outputs": [],
   "source": [
    "car1 = car_rental(2)"
   ]
  },
  {
   "cell_type": "code",
   "execution_count": 107,
   "id": "fc7dde8e-57e2-4703-8b99-bea730bf30b7",
   "metadata": {},
   "outputs": [
    {
     "name": "stdout",
     "output_type": "stream",
     "text": [
      "Price for car is: 2000 per day, so for you the charge will be:  4000\n"
     ]
    }
   ],
   "source": [
    "car1.renting_charge()"
   ]
  },
  {
   "cell_type": "code",
   "execution_count": 108,
   "id": "bf800c5c-c11e-4b45-884c-edd1eebf98ae",
   "metadata": {},
   "outputs": [
    {
     "name": "stdout",
     "output_type": "stream",
     "text": [
      "Returning time of the car is: 2 days\n"
     ]
    }
   ],
   "source": [
    "car1.return_time()"
   ]
  },
  {
   "cell_type": "code",
   "execution_count": 109,
   "id": "29ea58c6-7333-4446-96f6-7635cbac55ce",
   "metadata": {},
   "outputs": [
    {
     "name": "stdout",
     "output_type": "stream",
     "text": [
      "Following cars are available: Sedan, Hatchback and SUV\n"
     ]
    }
   ],
   "source": [
    "car1.available_cars()"
   ]
  },
  {
   "cell_type": "markdown",
   "id": "53383e9c-a04d-47b4-a70a-b28f2bc97550",
   "metadata": {},
   "source": [
    "Problem 4: Library Catalog Create classes representing a library and a book. Implement methods to add books to the library, borrow books, and display available books."
   ]
  },
  {
   "cell_type": "code",
   "execution_count": 136,
   "id": "cb2c6c24-564c-47c1-9550-a2d4b5b7fa35",
   "metadata": {},
   "outputs": [],
   "source": [
    "class book:\n",
    "    \n",
    "    def __init__(self):\n",
    "        self.l = [\"Macbeth\", \"Hamlet\", \"Dracula\", \"Othello\", \"Rebecca\"]\n",
    "    \n",
    "    def available_books(self):\n",
    "        print(\"Available books are: Macbeth, Hamlet, Dracula, Othello, Rebecca\")"
   ]
  },
  {
   "cell_type": "code",
   "execution_count": 137,
   "id": "56d60641-b229-4419-a282-933f6ff9dda4",
   "metadata": {},
   "outputs": [],
   "source": [
    "class library(book):\n",
    "    \n",
    "    def __init__(self, book1, book2):\n",
    "        self.book1 = book1\n",
    "        self.book2 = book2\n",
    "    \n",
    "    def add_book(self):\n",
    "        print(\"Adding \" + self.book1 + \" to the library\")\n",
    "    \n",
    "    def borrow_book(self):\n",
    "        print(\"Borrowing \" + self.book2 + \" to the library\")\n",
    "        "
   ]
  },
  {
   "cell_type": "code",
   "execution_count": 138,
   "id": "27d8e6e2-0580-4c4b-9449-531b9ba8eb68",
   "metadata": {},
   "outputs": [],
   "source": [
    "rish = library(\"Emma\", \"Dracula\")"
   ]
  },
  {
   "cell_type": "code",
   "execution_count": 139,
   "id": "81ec6ccc-b845-4f9f-9d7f-6cd4e3718c58",
   "metadata": {},
   "outputs": [
    {
     "name": "stdout",
     "output_type": "stream",
     "text": [
      "Adding Emma to the library\n"
     ]
    }
   ],
   "source": [
    "rish.add_book()"
   ]
  },
  {
   "cell_type": "code",
   "execution_count": 140,
   "id": "f13da852-abf7-452e-93f7-06c09aa29687",
   "metadata": {},
   "outputs": [
    {
     "name": "stdout",
     "output_type": "stream",
     "text": [
      "Borrowing Dracula to the library\n"
     ]
    }
   ],
   "source": [
    "rish.borrow_book()"
   ]
  },
  {
   "cell_type": "code",
   "execution_count": 141,
   "id": "b87cf8f5-6cc9-48b0-ab29-6ee9bf66734e",
   "metadata": {},
   "outputs": [
    {
     "name": "stdout",
     "output_type": "stream",
     "text": [
      "Available books are: Macbeth, Hamlet, Dracula, Othello, Rebecca\n"
     ]
    }
   ],
   "source": [
    "rish.available_books()"
   ]
  },
  {
   "cell_type": "markdown",
   "id": "9678dd91-415d-42a6-94b6-33a8a5c80ddb",
   "metadata": {},
   "source": [
    "Problem 5: Product Inventory Create classes representing a product and an inventory system. Implement methods to add products to the inventory, update product quantity, and display available products."
   ]
  },
  {
   "cell_type": "code",
   "execution_count": 19,
   "id": "b15e1650-4946-4fbb-bcea-34522132bb4a",
   "metadata": {},
   "outputs": [],
   "source": [
    "class product:\n",
    "    \n",
    "    def __init__(self, product1, product2):\n",
    "        self.product1 = product1\n",
    "        self.product2 = product2"
   ]
  },
  {
   "cell_type": "code",
   "execution_count": 20,
   "id": "4af7f62b-6d96-4dd2-8dcd-0a7598ef34a1",
   "metadata": {},
   "outputs": [],
   "source": [
    "class inventory(product):\n",
    "    \n",
    "    def add_product(self):\n",
    "        print(\"Adding the products to the inventory\", self.product1)\n",
    "        \n",
    "    def update_product(self):\n",
    "        print(\"Updating products to the inventory\", self.product2)\n",
    "        \n",
    "    def available_product(self):\n",
    "        print(\"Displaying the available products\")"
   ]
  },
  {
   "cell_type": "code",
   "execution_count": 22,
   "id": "f4e01b5b-a4e9-4f02-9dd8-d48aca00b775",
   "metadata": {},
   "outputs": [],
   "source": [
    "dmart = inventory(\"daily needs\", \"stationary\")"
   ]
  },
  {
   "cell_type": "code",
   "execution_count": 23,
   "id": "55c28299-5c8b-4db1-a0bc-4fac920a8864",
   "metadata": {},
   "outputs": [
    {
     "name": "stdout",
     "output_type": "stream",
     "text": [
      "Displaying the available products\n"
     ]
    }
   ],
   "source": [
    "dmart.available_product()"
   ]
  },
  {
   "cell_type": "code",
   "execution_count": 24,
   "id": "1fb6016c-c194-44c5-8c87-c94b3b0ca826",
   "metadata": {},
   "outputs": [
    {
     "name": "stdout",
     "output_type": "stream",
     "text": [
      "Adding the products to the inventory daily needs\n"
     ]
    }
   ],
   "source": [
    "dmart.add_product()"
   ]
  },
  {
   "cell_type": "code",
   "execution_count": 25,
   "id": "65125456-1462-4dc8-b0e5-97d9e2565f07",
   "metadata": {},
   "outputs": [
    {
     "name": "stdout",
     "output_type": "stream",
     "text": [
      "Updating products to the inventory stationary\n"
     ]
    }
   ],
   "source": [
    "dmart.update_product()"
   ]
  },
  {
   "cell_type": "markdown",
   "id": "b175ef57-6b7d-4591-aa99-92658cdf6dae",
   "metadata": {},
   "source": [
    "Problem 6: Shape Calculation Create a class representing a shape with attributes like length, width, and height. Implement methods to calculate the area and perimeter of the shape"
   ]
  },
  {
   "cell_type": "code",
   "execution_count": 152,
   "id": "1b47d707-159b-4d5e-b688-fc82162e831f",
   "metadata": {},
   "outputs": [],
   "source": [
    "class shape_calculation:\n",
    "    \n",
    "    def __init__(self, length, width, height):\n",
    "        self.shape_length = length\n",
    "        self.shape_width = width\n",
    "        self.shape_height = height\n",
    "        \n",
    "    def area(self):\n",
    "        a = 2*(self.shape_length*self.shape_width + self.shape_width*self.shape_height + self.shape_height*self.shape_length)\n",
    "        print(\"The area of the shape is: \", a)\n",
    "        \n",
    "    def perimeter(self):\n",
    "        p = 4*(self.shape_height+self.shape_length+self.shape_width)\n",
    "        print(\"The perimeter of the shape is: \", p)"
   ]
  },
  {
   "cell_type": "code",
   "execution_count": 153,
   "id": "32e6aa16-7a35-435d-b371-1d49edf61e22",
   "metadata": {},
   "outputs": [],
   "source": [
    "shape1 = shape_calculation(5,3,4)"
   ]
  },
  {
   "cell_type": "code",
   "execution_count": 154,
   "id": "de7e2460-2fb9-4954-897d-bc4ae37f09e6",
   "metadata": {},
   "outputs": [
    {
     "name": "stdout",
     "output_type": "stream",
     "text": [
      "The area of the shape is:  94\n"
     ]
    }
   ],
   "source": [
    "shape1.area()"
   ]
  },
  {
   "cell_type": "code",
   "execution_count": 155,
   "id": "2c9d6ef7-b4f4-44ba-a810-ba1bf39c3c07",
   "metadata": {},
   "outputs": [
    {
     "name": "stdout",
     "output_type": "stream",
     "text": [
      "The perimeter of the shape is:  48\n"
     ]
    }
   ],
   "source": [
    "shape1.perimeter()"
   ]
  },
  {
   "cell_type": "markdown",
   "id": "298ac29f-e20c-4b23-b140-218eec8ec37b",
   "metadata": {},
   "source": [
    "Problem 7: Student Management Create a class representing a student with attributes like student ID, name, and grades. Implement methods to calculate the average grade and display student details."
   ]
  },
  {
   "cell_type": "code",
   "execution_count": 159,
   "id": "f43b8a6b-92a4-4528-a293-000af4f19e7b",
   "metadata": {},
   "outputs": [],
   "source": [
    "class student:\n",
    "    \n",
    "    def __init__(self,student_ID, student_name, mathematics_marks, english_marks, social_marks, computer_marks):\n",
    "        self.ID = student_ID\n",
    "        self.name = student_name\n",
    "        self.math = mathematics_marks\n",
    "        self.eng = english_marks\n",
    "        self.sst = social_marks\n",
    "        self.cs = computer_marks\n",
    "        \n",
    "    def average_grade(self):\n",
    "        avg = (self.math + self.eng + self.sst + self.cs)/4\n",
    "        \n",
    "        if avg >= 80:\n",
    "            print(\"Average grade for the student is A\")\n",
    "        elif avg >=60:\n",
    "            print(\"Average grade for the student is B\")\n",
    "        elif avg >= 40:\n",
    "            print(\"Average grade for the student is C\")\n",
    "        else:\n",
    "            print(\"Average grade for the student is D\")\n",
    "        \n",
    "    def student_details(self):\n",
    "        print(self.ID, self.name)"
   ]
  },
  {
   "cell_type": "code",
   "execution_count": 162,
   "id": "9ba7b856-45d9-4117-b610-8eb3f0e010c7",
   "metadata": {},
   "outputs": [],
   "source": [
    "rish = student(653, \"rishabh\" , 60, 78, 54, 75)"
   ]
  },
  {
   "cell_type": "code",
   "execution_count": 163,
   "id": "1e73413d-5720-4112-825b-4e696d8ffffb",
   "metadata": {},
   "outputs": [
    {
     "name": "stdout",
     "output_type": "stream",
     "text": [
      "Average grade for the student is B\n"
     ]
    }
   ],
   "source": [
    "rish.average_grade()"
   ]
  },
  {
   "cell_type": "code",
   "execution_count": 164,
   "id": "d1ca5aa0-545a-479c-a360-aa967fce9b4f",
   "metadata": {},
   "outputs": [
    {
     "name": "stdout",
     "output_type": "stream",
     "text": [
      "653 rishabh\n"
     ]
    }
   ],
   "source": [
    "rish.student_details()"
   ]
  },
  {
   "cell_type": "markdown",
   "id": "9e2b4ff3-d433-43b4-9fa5-ccec2dfc7eaa",
   "metadata": {},
   "source": [
    "Problem 8: Email Management Create a class representing an email with attributes like sender, recipient, and subject. Implement methods to send an email and display email details."
   ]
  },
  {
   "cell_type": "code",
   "execution_count": 5,
   "id": "9dec807b-f1df-41a4-8cea-abdf37abd83f",
   "metadata": {},
   "outputs": [],
   "source": [
    "class email:\n",
    "    \n",
    "    def __init__(self, sender, recipient, subject):\n",
    "        self.sname = sender\n",
    "        self.rname = recipient\n",
    "        self.esubject = subject\n",
    "    \n",
    "    def send_email(self):\n",
    "        print(\"Sending the mail\", self.esubject, \"to\", self.rname)\n",
    "        \n",
    "    def email_details(self):\n",
    "        print(self.sname, self.rname, self.esubject)"
   ]
  },
  {
   "cell_type": "code",
   "execution_count": 6,
   "id": "bdfb8666-2525-4352-abaa-2693b8c1c672",
   "metadata": {},
   "outputs": [],
   "source": [
    "mail1 = email(\"rish@gmail.com\", \"singh@gmail.com\", \"Assignment Completion\")"
   ]
  },
  {
   "cell_type": "code",
   "execution_count": 7,
   "id": "25a3d3e8-4e70-4e46-b420-ee71e1fec4c9",
   "metadata": {},
   "outputs": [
    {
     "name": "stdout",
     "output_type": "stream",
     "text": [
      "Sending the mail Assignment Completion to singh@gmail.com\n"
     ]
    }
   ],
   "source": [
    "mail1.send_email()"
   ]
  },
  {
   "cell_type": "code",
   "execution_count": 8,
   "id": "9860bb11-9428-4fa0-840b-05a4b33c93a0",
   "metadata": {},
   "outputs": [
    {
     "name": "stdout",
     "output_type": "stream",
     "text": [
      "rish@gmail.com singh@gmail.com Assignment Completion\n"
     ]
    }
   ],
   "source": [
    "mail1.email_details()"
   ]
  },
  {
   "cell_type": "markdown",
   "id": "523029db-7479-4805-89cf-b294f10c1987",
   "metadata": {},
   "source": [
    "Problem 9: Social Media Profile Create a class representing a social media profile with attributes like username and posts. Implement methods to add posts, display posts, and search for posts by keyword."
   ]
  },
  {
   "cell_type": "code",
   "execution_count": 9,
   "id": "99a73069-f41d-4521-8abc-a60b108f3aef",
   "metadata": {},
   "outputs": [],
   "source": [
    "class profile:\n",
    "    \n",
    "    def __init__(self, username, posts):\n",
    "        self.uname = username\n",
    "        self.posts = posts\n",
    "        \n",
    "    def add_post(self):\n",
    "        print(\"Adding the posts to the social media profile\")\n",
    "        \n",
    "    def display_post(self):\n",
    "        print(\"Displaying the post of the social media profile\")\n",
    "        \n",
    "    def search_post(self):\n",
    "        print(\"Searching the posts\")"
   ]
  },
  {
   "cell_type": "code",
   "execution_count": 10,
   "id": "60dbe9e1-cb52-4de5-aa46-b5f8b86ead80",
   "metadata": {},
   "outputs": [],
   "source": [
    "rish = profile(\"rish@123\", \"sky.mp4\")"
   ]
  },
  {
   "cell_type": "code",
   "execution_count": 11,
   "id": "0c29c0b5-1c7d-40c5-acc7-c4d9bd245931",
   "metadata": {},
   "outputs": [
    {
     "name": "stdout",
     "output_type": "stream",
     "text": [
      "Adding the posts to the social media profile\n"
     ]
    }
   ],
   "source": [
    "rish.add_post()"
   ]
  },
  {
   "cell_type": "code",
   "execution_count": 12,
   "id": "455015e2-d5d0-47f5-83d5-e206f3f69c20",
   "metadata": {},
   "outputs": [
    {
     "name": "stdout",
     "output_type": "stream",
     "text": [
      "Displaying the post of the social media profile\n"
     ]
    }
   ],
   "source": [
    "rish.display_post()"
   ]
  },
  {
   "cell_type": "code",
   "execution_count": 13,
   "id": "613f1e77-ab7e-4a07-a192-a00b68bb6e55",
   "metadata": {},
   "outputs": [
    {
     "name": "stdout",
     "output_type": "stream",
     "text": [
      "Searching the posts\n"
     ]
    }
   ],
   "source": [
    "rish.search_post()"
   ]
  },
  {
   "cell_type": "markdown",
   "id": "4df89a3e-2752-44ce-ba43-9a91285f42ed",
   "metadata": {},
   "source": [
    "Problem 10: ToDo List Create a class representing a ToDo list with attributes like tasks and due dates. Implement methods to add tasks, mark tasks as completed, and display pending task"
   ]
  },
  {
   "cell_type": "code",
   "execution_count": 14,
   "id": "b7367098-176a-4265-beec-7cb5c65de64f",
   "metadata": {},
   "outputs": [],
   "source": [
    "class ToDo_List:\n",
    "    \n",
    "    def __init__(self, tasks, due_dates):\n",
    "        self.tasks = tasks\n",
    "        self.due_dates = due_dates\n",
    "        \n",
    "    def add_tasks(self):\n",
    "        print(\"Adding the tasks to the ToDo list\")\n",
    "        \n",
    "    def mark_tasks(self):\n",
    "        print(\"Marking the tasks over the ToDo list\")\n",
    "        \n",
    "    def pending_tasks(self):\n",
    "        print(\"Displaying the pending task over the ToDo list\")"
   ]
  },
  {
   "cell_type": "code",
   "execution_count": 15,
   "id": "fc9c8174-4eb0-4314-acd7-fe10e23a7a2e",
   "metadata": {},
   "outputs": [],
   "source": [
    "monday = ToDo_List(\"Completing the assignments\", \"13th October\")"
   ]
  },
  {
   "cell_type": "code",
   "execution_count": 16,
   "id": "129b882e-dcf8-4131-b39b-d39247c15d38",
   "metadata": {},
   "outputs": [
    {
     "name": "stdout",
     "output_type": "stream",
     "text": [
      "Adding the tasks to the ToDo list\n"
     ]
    }
   ],
   "source": [
    "monday.add_tasks()"
   ]
  },
  {
   "cell_type": "code",
   "execution_count": 17,
   "id": "444b833d-da04-4c90-91c5-8f5e3e40555a",
   "metadata": {},
   "outputs": [
    {
     "name": "stdout",
     "output_type": "stream",
     "text": [
      "Marking the tasks over the ToDo list\n"
     ]
    }
   ],
   "source": [
    "monday.mark_tasks()"
   ]
  },
  {
   "cell_type": "code",
   "execution_count": 18,
   "id": "7993f190-9351-45fb-a202-70660ac6c51e",
   "metadata": {},
   "outputs": [
    {
     "name": "stdout",
     "output_type": "stream",
     "text": [
      "Displaying the pending task over the ToDo list\n"
     ]
    }
   ],
   "source": [
    "monday.pending_tasks()"
   ]
  },
  {
   "cell_type": "code",
   "execution_count": null,
   "id": "19252fd3-c883-4b21-970b-e8ed1b160b7a",
   "metadata": {},
   "outputs": [],
   "source": []
  }
 ],
 "metadata": {
  "kernelspec": {
   "display_name": "Python 3 (ipykernel)",
   "language": "python",
   "name": "python3"
  },
  "language_info": {
   "codemirror_mode": {
    "name": "ipython",
    "version": 3
   },
   "file_extension": ".py",
   "mimetype": "text/x-python",
   "name": "python",
   "nbconvert_exporter": "python",
   "pygments_lexer": "ipython3",
   "version": "3.10.8"
  }
 },
 "nbformat": 4,
 "nbformat_minor": 5
}
