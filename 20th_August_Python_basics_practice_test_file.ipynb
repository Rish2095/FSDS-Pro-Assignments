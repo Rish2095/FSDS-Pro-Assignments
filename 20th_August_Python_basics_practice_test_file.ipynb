{
 "cells": [
  {
   "cell_type": "markdown",
   "id": "188cc20c-e59d-41cf-9601-07903f538897",
   "metadata": {},
   "source": [
    "TOPIC: String Based Assignment Problem"
   ]
  },
  {
   "cell_type": "markdown",
   "id": "7ad9f460-5f4f-40d9-86b2-9bbc3f582346",
   "metadata": {},
   "source": [
    "1. Write a program to reverse a string."
   ]
  },
  {
   "cell_type": "code",
   "execution_count": 1,
   "id": "e49c950a-de86-4e94-9996-af8c22dac224",
   "metadata": {},
   "outputs": [],
   "source": [
    "s = \"rishabh\""
   ]
  },
  {
   "cell_type": "code",
   "execution_count": 2,
   "id": "b8ad9b8b-98e8-4976-93da-f432764a3bde",
   "metadata": {},
   "outputs": [
    {
     "data": {
      "text/plain": [
       "'hbahsir'"
      ]
     },
     "execution_count": 2,
     "metadata": {},
     "output_type": "execute_result"
    }
   ],
   "source": [
    "s[::-1]"
   ]
  },
  {
   "cell_type": "markdown",
   "id": "8f861527-f827-4e50-af76-1f2b6034e8ac",
   "metadata": {},
   "source": [
    "2. Check if a string is a palindrome."
   ]
  },
  {
   "cell_type": "code",
   "execution_count": 6,
   "id": "67641fe0-9445-4212-a9ee-42fb9184af99",
   "metadata": {},
   "outputs": [
    {
     "name": "stdin",
     "output_type": "stream",
     "text": [
      " tenet\n"
     ]
    },
    {
     "name": "stdout",
     "output_type": "stream",
     "text": [
      "Pallindrome\n"
     ]
    }
   ],
   "source": [
    "s = input()\n",
    "if s == s[::-1]:\n",
    "    print(\"Pallindrome\")\n",
    "else:\n",
    "    print(\"Not a pallindrome\")"
   ]
  },
  {
   "cell_type": "markdown",
   "id": "e6b732dd-96cf-444c-b6f9-cf0be8f7283e",
   "metadata": {},
   "source": [
    "3. Convert a string to uppercase."
   ]
  },
  {
   "cell_type": "code",
   "execution_count": 7,
   "id": "d3f054bc-202b-4284-9c15-4fee175346c1",
   "metadata": {},
   "outputs": [],
   "source": [
    "s = \"rishabh\""
   ]
  },
  {
   "cell_type": "code",
   "execution_count": 8,
   "id": "6bf10e0d-fa8b-4f90-a3d6-0c463fa78377",
   "metadata": {},
   "outputs": [
    {
     "data": {
      "text/plain": [
       "'RISHABH'"
      ]
     },
     "execution_count": 8,
     "metadata": {},
     "output_type": "execute_result"
    }
   ],
   "source": [
    "s.upper()"
   ]
  },
  {
   "cell_type": "markdown",
   "id": "df955a1e-99d6-423a-a22a-c1aae57a434c",
   "metadata": {},
   "source": [
    "4. Convert a string to lowercase."
   ]
  },
  {
   "cell_type": "code",
   "execution_count": 11,
   "id": "f64def3b-9826-4942-b276-ce34f0d5b8b8",
   "metadata": {},
   "outputs": [],
   "source": [
    "s = \"SINGH\""
   ]
  },
  {
   "cell_type": "code",
   "execution_count": 12,
   "id": "d7ccae93-51ca-4b12-b626-a6debcc25f6b",
   "metadata": {},
   "outputs": [
    {
     "data": {
      "text/plain": [
       "'singh'"
      ]
     },
     "execution_count": 12,
     "metadata": {},
     "output_type": "execute_result"
    }
   ],
   "source": [
    "s.lower()"
   ]
  },
  {
   "cell_type": "markdown",
   "id": "005bdc38-e62f-476a-9132-28e8877d0d7e",
   "metadata": {},
   "source": [
    "5. Count the number of vowels in a string."
   ]
  },
  {
   "cell_type": "code",
   "execution_count": 16,
   "id": "d293c31b-3245-43ff-97e4-1da6fb9c515e",
   "metadata": {},
   "outputs": [
    {
     "name": "stdout",
     "output_type": "stream",
     "text": [
      "Count of vowel a in I want to be a Data Scientist is: 4\n",
      "Count of vowel e in I want to be a Data Scientist is: 2\n",
      "Count of vowel i in I want to be a Data Scientist is: 2\n",
      "Count of vowel o in I want to be a Data Scientist is: 1\n",
      "Count of vowel u in I want to be a Data Scientist is: 0\n"
     ]
    }
   ],
   "source": [
    "s = \"I want to be a Data Scientist\"\n",
    "p = s.count(\"a\")\n",
    "q = s.count(\"e\")\n",
    "r = s.count(\"i\")\n",
    "x = s.count(\"o\")\n",
    "y = s.count(\"u\")\n",
    "print(\"Count of vowel a in\", s, \"is:\", p)\n",
    "print(\"Count of vowel e in\", s, \"is:\", q)\n",
    "print(\"Count of vowel i in\", s, \"is:\", r)\n",
    "print(\"Count of vowel o in\", s, \"is:\", x)\n",
    "print(\"Count of vowel u in\", s, \"is:\", y)"
   ]
  },
  {
   "cell_type": "markdown",
   "id": "aa7ed1a8-676d-415e-a1e0-06ec8526520d",
   "metadata": {},
   "source": [
    "7. Remove all whitespaces from a string."
   ]
  },
  {
   "cell_type": "code",
   "execution_count": 92,
   "id": "52ba7b44-1ca1-459e-a4c9-6c2b55322696",
   "metadata": {},
   "outputs": [],
   "source": [
    "s = \"I want to be a Data Scientist\""
   ]
  },
  {
   "cell_type": "code",
   "execution_count": 23,
   "id": "89aca2e6-a227-45cb-9199-ef3307789ffa",
   "metadata": {},
   "outputs": [
    {
     "data": {
      "text/plain": [
       "'IwanttobeaDataScientist'"
      ]
     },
     "execution_count": 23,
     "metadata": {},
     "output_type": "execute_result"
    }
   ],
   "source": [
    "s.replace(\" \", \"\")"
   ]
  },
  {
   "cell_type": "markdown",
   "id": "29e7d4f8-88de-4b13-a744-d846b0f7ff2c",
   "metadata": {},
   "source": [
    "8. Find the length of a string without using the `len()` function."
   ]
  },
  {
   "cell_type": "code",
   "execution_count": 93,
   "id": "a83401ad-cbe5-4e9d-a3c8-20c61a21d333",
   "metadata": {},
   "outputs": [],
   "source": [
    "s = \"I want to be a Data Scientist\""
   ]
  },
  {
   "cell_type": "code",
   "execution_count": 94,
   "id": "0d04da42-445e-47ff-b848-420488afeaaa",
   "metadata": {},
   "outputs": [
    {
     "data": {
      "text/plain": [
       "'I want to be a Data Scientist'"
      ]
     },
     "execution_count": 94,
     "metadata": {},
     "output_type": "execute_result"
    }
   ],
   "source": [
    "s"
   ]
  },
  {
   "cell_type": "code",
   "execution_count": 95,
   "id": "7631533d-c782-4e07-9528-eb8302469d9f",
   "metadata": {},
   "outputs": [
    {
     "name": "stdout",
     "output_type": "stream",
     "text": [
      "The length of given string I want to be a Data Scientist is:  29\n"
     ]
    }
   ],
   "source": [
    "count = 0\n",
    "for i in s:\n",
    "    count = count + 1\n",
    "print(\"The length of given string\",s,\"is: \", count)"
   ]
  },
  {
   "cell_type": "markdown",
   "id": "50eef358-71fe-4efa-92fc-278c0b45656d",
   "metadata": {},
   "source": [
    "9. Check if a string contains a specific word."
   ]
  },
  {
   "cell_type": "code",
   "execution_count": 28,
   "id": "a3a79330-7e3b-424c-bc2d-395efeb272e8",
   "metadata": {},
   "outputs": [
    {
     "data": {
      "text/plain": [
       "'I want to be a Data Scientist'"
      ]
     },
     "execution_count": 28,
     "metadata": {},
     "output_type": "execute_result"
    }
   ],
   "source": [
    "s"
   ]
  },
  {
   "cell_type": "code",
   "execution_count": 29,
   "id": "73a6844a-ba1e-43ec-b300-3ee5b8e6f18b",
   "metadata": {},
   "outputs": [
    {
     "data": {
      "text/plain": [
       "True"
      ]
     },
     "execution_count": 29,
     "metadata": {},
     "output_type": "execute_result"
    }
   ],
   "source": [
    "\"Data\" in s"
   ]
  },
  {
   "cell_type": "markdown",
   "id": "5f05d8b5-6f2b-4009-8135-2e4f16afd71c",
   "metadata": {},
   "source": [
    "10. Replace a word in a string with another word."
   ]
  },
  {
   "cell_type": "code",
   "execution_count": 30,
   "id": "fcad78b8-f016-4e2f-8114-f0982c86ec5d",
   "metadata": {},
   "outputs": [
    {
     "data": {
      "text/plain": [
       "'I want to be a Data Scientist'"
      ]
     },
     "execution_count": 30,
     "metadata": {},
     "output_type": "execute_result"
    }
   ],
   "source": [
    "s"
   ]
  },
  {
   "cell_type": "code",
   "execution_count": 31,
   "id": "7a8136c5-d36e-47fe-b661-20a8edba2e28",
   "metadata": {},
   "outputs": [
    {
     "data": {
      "text/plain": [
       "'I want to be a ML Engineer'"
      ]
     },
     "execution_count": 31,
     "metadata": {},
     "output_type": "execute_result"
    }
   ],
   "source": [
    "s.replace(\"Data Scientist\", \"ML Engineer\")"
   ]
  },
  {
   "cell_type": "markdown",
   "id": "ae7538ab-7366-4301-b343-a90c68725b08",
   "metadata": {},
   "source": [
    "11. Count the occurrences of a word in a string."
   ]
  },
  {
   "cell_type": "code",
   "execution_count": 33,
   "id": "7a836261-427b-4e3d-8308-b199caf80b2e",
   "metadata": {},
   "outputs": [],
   "source": [
    "s = \"I thought a thought. But the thought I thought wasn't the thought I thought I thought\""
   ]
  },
  {
   "cell_type": "code",
   "execution_count": 34,
   "id": "ccb77c22-67eb-43f0-9e79-277f8adaba39",
   "metadata": {},
   "outputs": [
    {
     "data": {
      "text/plain": [
       "7"
      ]
     },
     "execution_count": 34,
     "metadata": {},
     "output_type": "execute_result"
    }
   ],
   "source": [
    "s.count(\"thought\")"
   ]
  },
  {
   "cell_type": "markdown",
   "id": "3837f825-8cbd-4d96-a500-123d71ca5e0a",
   "metadata": {},
   "source": [
    "12. Find the first occurrence of a word in a string."
   ]
  },
  {
   "cell_type": "code",
   "execution_count": 35,
   "id": "74af710f-29d1-4c6a-9457-8cad0f4facc3",
   "metadata": {},
   "outputs": [
    {
     "data": {
      "text/plain": [
       "\"I thought a thought. But the thought I thought wasn't the thought I thought I thought\""
      ]
     },
     "execution_count": 35,
     "metadata": {},
     "output_type": "execute_result"
    }
   ],
   "source": [
    "s"
   ]
  },
  {
   "cell_type": "code",
   "execution_count": 36,
   "id": "ddceb2d7-003f-45ba-8e97-c60257a2fbe6",
   "metadata": {},
   "outputs": [
    {
     "data": {
      "text/plain": [
       "2"
      ]
     },
     "execution_count": 36,
     "metadata": {},
     "output_type": "execute_result"
    }
   ],
   "source": [
    "s.find(\"thought\")"
   ]
  },
  {
   "cell_type": "markdown",
   "id": "6c4c13e5-5f4a-4b45-8421-9092fda3e715",
   "metadata": {},
   "source": [
    "13. Find the last occurrence of a word in a string."
   ]
  },
  {
   "cell_type": "code",
   "execution_count": 37,
   "id": "1ed1f088-c8ec-406c-991f-c2c85121dbe4",
   "metadata": {},
   "outputs": [
    {
     "data": {
      "text/plain": [
       "\"I thought a thought. But the thought I thought wasn't the thought I thought I thought\""
      ]
     },
     "execution_count": 37,
     "metadata": {},
     "output_type": "execute_result"
    }
   ],
   "source": [
    "s"
   ]
  },
  {
   "cell_type": "code",
   "execution_count": 38,
   "id": "a68d38da-3164-4648-93f3-9b2c03a43749",
   "metadata": {},
   "outputs": [
    {
     "data": {
      "text/plain": [
       "78"
      ]
     },
     "execution_count": 38,
     "metadata": {},
     "output_type": "execute_result"
    }
   ],
   "source": [
    "s.rfind(\"thought\")"
   ]
  },
  {
   "cell_type": "markdown",
   "id": "42b968db-d0b9-4a09-b31d-8d6053c51759",
   "metadata": {},
   "source": [
    "14. Split a string into a list of words."
   ]
  },
  {
   "cell_type": "code",
   "execution_count": 39,
   "id": "e6b6012a-cf2a-4864-a586-83fe45053199",
   "metadata": {},
   "outputs": [],
   "source": [
    "s = \"If,you,can,dream,it,you,can,build,it\""
   ]
  },
  {
   "cell_type": "code",
   "execution_count": 40,
   "id": "56c944df-4f3c-4b1f-8281-36bdd5eada22",
   "metadata": {},
   "outputs": [
    {
     "data": {
      "text/plain": [
       "['If', 'you', 'can', 'dream', 'it', 'you', 'can', 'build', 'it']"
      ]
     },
     "execution_count": 40,
     "metadata": {},
     "output_type": "execute_result"
    }
   ],
   "source": [
    "s.split(\",\")"
   ]
  },
  {
   "cell_type": "markdown",
   "id": "2c953b53-b384-4348-b2d4-32d4f9002a24",
   "metadata": {},
   "source": [
    "15. Join a list of words into a string."
   ]
  },
  {
   "cell_type": "code",
   "execution_count": 41,
   "id": "aa305ad8-9fba-496b-86b6-597e4b6f7299",
   "metadata": {},
   "outputs": [],
   "source": [
    "s = \"I thought a thought. But the thought I thought wasn't the thought I thought I thought\""
   ]
  },
  {
   "cell_type": "code",
   "execution_count": 45,
   "id": "dd1b979b-53be-48f4-887d-0b0853c7127d",
   "metadata": {},
   "outputs": [],
   "source": [
    "b = s.replace(\" \", \"\")"
   ]
  },
  {
   "cell_type": "code",
   "execution_count": 46,
   "id": "bdb63264-f49b-4aec-a53e-fd72e74a8a0f",
   "metadata": {},
   "outputs": [
    {
     "data": {
      "text/plain": [
       "\"Ithoughtathought.ButthethoughtIthoughtwasn'tthethoughtIthoughtIthought\""
      ]
     },
     "execution_count": 46,
     "metadata": {},
     "output_type": "execute_result"
    }
   ],
   "source": [
    "b"
   ]
  },
  {
   "cell_type": "markdown",
   "id": "f168e5e9-d117-4e82-9697-c7a702e97bcb",
   "metadata": {},
   "source": [
    "16. Convert a string where words are separated by spaces to one where words\n",
    "are separated by underscores."
   ]
  },
  {
   "cell_type": "code",
   "execution_count": 47,
   "id": "dfde1e0b-ba67-4774-b1c4-20cdf1bfcc39",
   "metadata": {},
   "outputs": [
    {
     "data": {
      "text/plain": [
       "\"I thought a thought. But the thought I thought wasn't the thought I thought I thought\""
      ]
     },
     "execution_count": 47,
     "metadata": {},
     "output_type": "execute_result"
    }
   ],
   "source": [
    "s"
   ]
  },
  {
   "cell_type": "code",
   "execution_count": 48,
   "id": "b3d5e326-ef8c-4c50-8fe6-9baa941b396e",
   "metadata": {},
   "outputs": [
    {
     "data": {
      "text/plain": [
       "\"I_thought_a_thought._But_the_thought_I_thought_wasn't_the_thought_I_thought_I_thought\""
      ]
     },
     "execution_count": 48,
     "metadata": {},
     "output_type": "execute_result"
    }
   ],
   "source": [
    "s.replace(\" \",\"_\")"
   ]
  },
  {
   "cell_type": "markdown",
   "id": "fefc67da-2321-44ca-b7f8-4070bec9d051",
   "metadata": {},
   "source": [
    "17. Check if a string starts with a specific word or phrase."
   ]
  },
  {
   "cell_type": "code",
   "execution_count": 50,
   "id": "4fd986e9-2576-4122-a1d8-2d08f1e0d901",
   "metadata": {},
   "outputs": [],
   "source": [
    "s = \"If you can dream it, you can build it\""
   ]
  },
  {
   "cell_type": "code",
   "execution_count": 51,
   "id": "7ff1e1d0-8a14-47a1-98a1-a32ae0d369a5",
   "metadata": {},
   "outputs": [
    {
     "data": {
      "text/plain": [
       "True"
      ]
     },
     "execution_count": 51,
     "metadata": {},
     "output_type": "execute_result"
    }
   ],
   "source": [
    "s.startswith(\"If\")"
   ]
  },
  {
   "cell_type": "markdown",
   "id": "a300d85a-2089-425f-a19c-b1b726b7d712",
   "metadata": {},
   "source": [
    "18. Check if a string ends with a specific word or phrase."
   ]
  },
  {
   "cell_type": "code",
   "execution_count": 52,
   "id": "ad24b3c6-4d99-4ab8-9fb4-9b556707080d",
   "metadata": {},
   "outputs": [
    {
     "data": {
      "text/plain": [
       "True"
      ]
     },
     "execution_count": 52,
     "metadata": {},
     "output_type": "execute_result"
    }
   ],
   "source": [
    "s.endswith(\"build it\")"
   ]
  },
  {
   "cell_type": "markdown",
   "id": "8ef020ec-0076-42ac-bac6-ba2e8a95c1c6",
   "metadata": {},
   "source": [
    "19. Convert a string to title case (e.g., \"hello world\" to \"Hello World\")."
   ]
  },
  {
   "cell_type": "code",
   "execution_count": 53,
   "id": "491c8015-daef-49b4-b1e3-64ae8d8e29f7",
   "metadata": {},
   "outputs": [
    {
     "data": {
      "text/plain": [
       "'If you can dream it, you can build it'"
      ]
     },
     "execution_count": 53,
     "metadata": {},
     "output_type": "execute_result"
    }
   ],
   "source": [
    "s"
   ]
  },
  {
   "cell_type": "code",
   "execution_count": 54,
   "id": "c5dd2579-b72d-4a9d-8ae6-fed30567d2b2",
   "metadata": {},
   "outputs": [
    {
     "data": {
      "text/plain": [
       "'If You Can Dream It, You Can Build It'"
      ]
     },
     "execution_count": 54,
     "metadata": {},
     "output_type": "execute_result"
    }
   ],
   "source": [
    "s.title()"
   ]
  },
  {
   "cell_type": "markdown",
   "id": "ffdb0b0f-85c7-423a-b92f-1b17e6c153cc",
   "metadata": {},
   "source": [
    "20. Find the longest word in a string."
   ]
  },
  {
   "cell_type": "code",
   "execution_count": 55,
   "id": "78a37dab-e18b-4a18-9a0a-33026d6a5d1e",
   "metadata": {},
   "outputs": [
    {
     "data": {
      "text/plain": [
       "'If you can dream it, you can build it'"
      ]
     },
     "execution_count": 55,
     "metadata": {},
     "output_type": "execute_result"
    }
   ],
   "source": [
    "s"
   ]
  },
  {
   "cell_type": "code",
   "execution_count": 60,
   "id": "fa065f1b-94bc-40ee-8677-565d8d41ce86",
   "metadata": {},
   "outputs": [],
   "source": [
    "b = s.split(\" \")"
   ]
  },
  {
   "cell_type": "code",
   "execution_count": 63,
   "id": "43bfa897-9e2a-4641-9ac4-b27ff1eabe1a",
   "metadata": {},
   "outputs": [
    {
     "data": {
      "text/plain": [
       "['If', 'you', 'can', 'dream', 'it,', 'you', 'can', 'build', 'it']"
      ]
     },
     "execution_count": 63,
     "metadata": {},
     "output_type": "execute_result"
    }
   ],
   "source": [
    "b"
   ]
  },
  {
   "cell_type": "code",
   "execution_count": 66,
   "id": "819d13a4-e656-4478-8e8f-c11f78ec44af",
   "metadata": {},
   "outputs": [
    {
     "data": {
      "text/plain": [
       "9"
      ]
     },
     "execution_count": 66,
     "metadata": {},
     "output_type": "execute_result"
    }
   ],
   "source": [
    "len(b)"
   ]
  },
  {
   "cell_type": "code",
   "execution_count": null,
   "id": "cd9b6f10-3cd9-4a17-9553-a7ddca7b1beb",
   "metadata": {},
   "outputs": [],
   "source": []
  },
  {
   "cell_type": "markdown",
   "id": "da56738d-a6ee-4591-b58d-1bde08bba832",
   "metadata": {},
   "source": [
    "21. Find the shortest word in a string."
   ]
  },
  {
   "cell_type": "code",
   "execution_count": null,
   "id": "d2c1b71a-f7ca-4d7a-9022-f9c091df515a",
   "metadata": {},
   "outputs": [],
   "source": []
  },
  {
   "cell_type": "markdown",
   "id": "bbe4138d-bafc-4e5d-b116-43d2544fdaa5",
   "metadata": {},
   "source": [
    "22. Reverse the order of words in a string."
   ]
  },
  {
   "cell_type": "code",
   "execution_count": 67,
   "id": "2ae9bc69-e027-4890-8e21-64002d021b88",
   "metadata": {},
   "outputs": [
    {
     "data": {
      "text/plain": [
       "'If you can dream it, you can build it'"
      ]
     },
     "execution_count": 67,
     "metadata": {},
     "output_type": "execute_result"
    }
   ],
   "source": [
    "s"
   ]
  },
  {
   "cell_type": "code",
   "execution_count": 69,
   "id": "640d4e64-e99c-4796-aef4-4c5fb1932de1",
   "metadata": {},
   "outputs": [
    {
     "data": {
      "text/plain": [
       "['it', 'build', 'can', 'you', 'it,', 'dream', 'can', 'you', 'If']"
      ]
     },
     "execution_count": 69,
     "metadata": {},
     "output_type": "execute_result"
    }
   ],
   "source": [
    "s.split()[::-1]"
   ]
  },
  {
   "cell_type": "markdown",
   "id": "24f1b5fb-76be-4bf4-b755-cb1f0e905175",
   "metadata": {},
   "source": [
    "23. Check if a string is alphanumeric."
   ]
  },
  {
   "cell_type": "code",
   "execution_count": 125,
   "id": "153c7a24-4633-4612-9e43-3e0c1b0813d8",
   "metadata": {},
   "outputs": [],
   "source": [
    "s = \"Nov@#0311\""
   ]
  },
  {
   "cell_type": "code",
   "execution_count": 126,
   "id": "66a6753d-f956-419a-80a8-8be57568043a",
   "metadata": {},
   "outputs": [
    {
     "data": {
      "text/plain": [
       "False"
      ]
     },
     "execution_count": 126,
     "metadata": {},
     "output_type": "execute_result"
    }
   ],
   "source": [
    "s.isalnum()"
   ]
  },
  {
   "cell_type": "markdown",
   "id": "9b016ae8-c356-404d-8a7e-ac48855d97b3",
   "metadata": {},
   "source": [
    "24. Extract all digits from a string."
   ]
  },
  {
   "cell_type": "code",
   "execution_count": 82,
   "id": "76427f07-750b-4c06-9bc4-98391aabdf16",
   "metadata": {},
   "outputs": [
    {
     "data": {
      "text/plain": [
       "True"
      ]
     },
     "execution_count": 82,
     "metadata": {},
     "output_type": "execute_result"
    }
   ],
   "source": [
    "s = \"0311\"\n",
    "s.isdigit()"
   ]
  },
  {
   "cell_type": "markdown",
   "id": "8d26cf9a-7ef5-4eef-9da9-d18f0466fe94",
   "metadata": {},
   "source": [
    "25. Extract all alphabets from a string."
   ]
  },
  {
   "cell_type": "code",
   "execution_count": null,
   "id": "d73f0c55-4c2f-4b75-8994-416bfc500571",
   "metadata": {},
   "outputs": [],
   "source": []
  },
  {
   "cell_type": "markdown",
   "id": "6c6a0779-8f78-4646-8a74-008cb6eb8253",
   "metadata": {},
   "source": [
    "26. Count the number of uppercase letters in a string."
   ]
  },
  {
   "cell_type": "code",
   "execution_count": 83,
   "id": "aa62cdff-16cb-4b1a-bd50-4357f1a94f6e",
   "metadata": {},
   "outputs": [],
   "source": [
    "s = \"I want to be a Data Scientist\""
   ]
  },
  {
   "cell_type": "code",
   "execution_count": null,
   "id": "7df9ece2-e191-44dc-9875-e2428c250e1a",
   "metadata": {},
   "outputs": [],
   "source": []
  },
  {
   "cell_type": "markdown",
   "id": "0b9c492a-ce07-4232-bc83-5eeab75381e5",
   "metadata": {},
   "source": [
    "27. Count the number of lowercase letters in a string."
   ]
  },
  {
   "cell_type": "code",
   "execution_count": null,
   "id": "0425c837-b89a-49df-a4b6-d83487a66a9c",
   "metadata": {},
   "outputs": [],
   "source": []
  },
  {
   "cell_type": "markdown",
   "id": "c05b5136-3aaa-492a-b0a1-95a6f4338435",
   "metadata": {},
   "source": [
    "28. Swap the case of each character in a string."
   ]
  },
  {
   "cell_type": "code",
   "execution_count": 91,
   "id": "4679189c-e5ef-4a81-aff1-62c102981fb2",
   "metadata": {},
   "outputs": [
    {
     "data": {
      "text/plain": [
       "'I want to be a Data Scientist'"
      ]
     },
     "execution_count": 91,
     "metadata": {},
     "output_type": "execute_result"
    }
   ],
   "source": [
    "s"
   ]
  },
  {
   "cell_type": "code",
   "execution_count": 92,
   "id": "6034f682-473b-4707-a67d-5495a855b07a",
   "metadata": {},
   "outputs": [
    {
     "data": {
      "text/plain": [
       "'i WANT TO BE A dATA sCIENTIST'"
      ]
     },
     "execution_count": 92,
     "metadata": {},
     "output_type": "execute_result"
    }
   ],
   "source": [
    "s.swapcase()"
   ]
  },
  {
   "cell_type": "markdown",
   "id": "b3c23725-9f9d-46e6-809f-654d1db71d97",
   "metadata": {},
   "source": [
    "29. Remove a specific word from a string."
   ]
  },
  {
   "cell_type": "code",
   "execution_count": 93,
   "id": "8db0a7d6-1fb3-4c0e-a0d5-4e832a649a5f",
   "metadata": {},
   "outputs": [
    {
     "data": {
      "text/plain": [
       "'I want to be a Data Scientist'"
      ]
     },
     "execution_count": 93,
     "metadata": {},
     "output_type": "execute_result"
    }
   ],
   "source": [
    "s"
   ]
  },
  {
   "cell_type": "code",
   "execution_count": 96,
   "id": "f09e554a-a276-4654-bc8f-481f46ae1ae3",
   "metadata": {},
   "outputs": [
    {
     "data": {
      "text/plain": [
       "'I want to  a Data Scientist'"
      ]
     },
     "execution_count": 96,
     "metadata": {},
     "output_type": "execute_result"
    }
   ],
   "source": [
    "s.replace(\"be\", \"\")"
   ]
  },
  {
   "cell_type": "markdown",
   "id": "fb2b59d0-9215-4c55-a4a6-04590ad86fcf",
   "metadata": {},
   "source": [
    "30. Check if a string is a valid email address."
   ]
  },
  {
   "cell_type": "code",
   "execution_count": 99,
   "id": "d0ebfa16-2450-4140-be5a-e6b7506b3b0f",
   "metadata": {},
   "outputs": [
    {
     "name": "stdin",
     "output_type": "stream",
     "text": [
      "Enter the email adress: djfbl\n"
     ]
    },
    {
     "name": "stdout",
     "output_type": "stream",
     "text": [
      "Invalid email address\n"
     ]
    }
   ],
   "source": [
    "s = \"rish@gmail.com\"\n",
    "a = input(\"Enter the email adress:\")\n",
    "if a == s:\n",
    "    print(\"Valid email address\")\n",
    "else:\n",
    "    print(\"Invalid email address\")"
   ]
  },
  {
   "cell_type": "markdown",
   "id": "b6d5bafc-1fc3-44fe-915f-8a11d8e6bcda",
   "metadata": {},
   "source": [
    "31. Extract the username from an email address string."
   ]
  },
  {
   "cell_type": "code",
   "execution_count": 100,
   "id": "79c1a445-9de8-424e-9473-697a791a5a07",
   "metadata": {},
   "outputs": [
    {
     "data": {
      "text/plain": [
       "'rish@gmail.com'"
      ]
     },
     "execution_count": 100,
     "metadata": {},
     "output_type": "execute_result"
    }
   ],
   "source": [
    "s"
   ]
  },
  {
   "cell_type": "code",
   "execution_count": 101,
   "id": "05b232d4-8aca-4f0e-897a-40e743a707ca",
   "metadata": {},
   "outputs": [
    {
     "data": {
      "text/plain": [
       "'rish'"
      ]
     },
     "execution_count": 101,
     "metadata": {},
     "output_type": "execute_result"
    }
   ],
   "source": [
    "s[0:4]"
   ]
  },
  {
   "cell_type": "markdown",
   "id": "12aa28ad-d252-4e72-9206-e38725dea30d",
   "metadata": {},
   "source": [
    "32. Extract the domain name from an email address string."
   ]
  },
  {
   "cell_type": "code",
   "execution_count": 102,
   "id": "16e8bf75-0242-4200-8fd7-414a42ebb117",
   "metadata": {},
   "outputs": [
    {
     "data": {
      "text/plain": [
       "'rish@gmail.com'"
      ]
     },
     "execution_count": 102,
     "metadata": {},
     "output_type": "execute_result"
    }
   ],
   "source": [
    "s"
   ]
  },
  {
   "cell_type": "code",
   "execution_count": 103,
   "id": "d2a83071-df8a-4247-beb5-01b1f76a2ac4",
   "metadata": {},
   "outputs": [
    {
     "data": {
      "text/plain": [
       "'gmail.com'"
      ]
     },
     "execution_count": 103,
     "metadata": {},
     "output_type": "execute_result"
    }
   ],
   "source": [
    "s[5:]"
   ]
  },
  {
   "cell_type": "markdown",
   "id": "fe7c4b24-00fe-4340-9c7a-a6a61b6bc4d0",
   "metadata": {},
   "source": [
    "33. Replace multiple spaces in a string with a single space."
   ]
  },
  {
   "cell_type": "code",
   "execution_count": 104,
   "id": "b769d3f8-19fc-4271-85fc-ade30dbd2b8d",
   "metadata": {},
   "outputs": [],
   "source": [
    "s = \"I want to be a Data Scientist\""
   ]
  },
  {
   "cell_type": "code",
   "execution_count": 105,
   "id": "69c3063c-e4e9-4815-9871-e2405ef10ed1",
   "metadata": {},
   "outputs": [
    {
     "data": {
      "text/plain": [
       "'I    want    to    be    a    Data    Scientist'"
      ]
     },
     "execution_count": 105,
     "metadata": {},
     "output_type": "execute_result"
    }
   ],
   "source": [
    "s.replace(\" \",\"    \")"
   ]
  },
  {
   "cell_type": "markdown",
   "id": "d5b7df90-920e-4115-bd85-be7edfcb1d60",
   "metadata": {},
   "source": [
    "34. Check if a string is a valid URL."
   ]
  },
  {
   "cell_type": "code",
   "execution_count": 106,
   "id": "ffc74bcd-0c65-4cfc-8fa5-9217d8492ebc",
   "metadata": {},
   "outputs": [],
   "source": [
    "s = \"https://lemon-analyst-iwnxi.pwskills.app/lab/tree/work/Untitled.ipynb\""
   ]
  },
  {
   "cell_type": "code",
   "execution_count": null,
   "id": "47bfc1de-c056-4bab-b1b3-ea7b82c3d5be",
   "metadata": {},
   "outputs": [],
   "source": []
  },
  {
   "cell_type": "markdown",
   "id": "a03fbcf1-d258-4041-96e4-eb0a9ba91386",
   "metadata": {},
   "source": [
    "35. Extract the protocol (http or https) from a URL string."
   ]
  },
  {
   "cell_type": "code",
   "execution_count": null,
   "id": "9f2b00e6-0bd7-4fba-959f-5b5a61175efa",
   "metadata": {},
   "outputs": [],
   "source": []
  },
  {
   "cell_type": "markdown",
   "id": "29411748-32c7-46aa-b6f4-e556de0131cb",
   "metadata": {},
   "source": [
    "36. Find the frequency of each character in a string."
   ]
  },
  {
   "cell_type": "code",
   "execution_count": 112,
   "id": "fe8c7c33-0121-46a9-8c0a-372a8ae73cd4",
   "metadata": {},
   "outputs": [],
   "source": [
    "s = \"agbsfkjdsnlgbmdfbhsfgduywe\""
   ]
  },
  {
   "cell_type": "code",
   "execution_count": 116,
   "id": "d795af41-c57f-4fda-8bcc-511db4baf7d6",
   "metadata": {},
   "outputs": [
    {
     "data": {
      "text/plain": [
       "3"
      ]
     },
     "execution_count": 116,
     "metadata": {},
     "output_type": "execute_result"
    }
   ],
   "source": [
    "s.(\"s\")"
   ]
  },
  {
   "cell_type": "code",
   "execution_count": null,
   "id": "b4481c94-88d2-44bf-a848-ab5668714722",
   "metadata": {},
   "outputs": [],
   "source": []
  },
  {
   "cell_type": "markdown",
   "id": "a2287b92-85bd-4167-8a3d-5edfdab1e814",
   "metadata": {},
   "source": [
    "37. Remove all punctuation from a string."
   ]
  },
  {
   "cell_type": "code",
   "execution_count": 121,
   "id": "be715f8d-145f-4706-ad4b-55a9610b0327",
   "metadata": {},
   "outputs": [],
   "source": [
    "s = \"Hello_World!\""
   ]
  },
  {
   "cell_type": "code",
   "execution_count": 124,
   "id": "cea55ad4-ec73-4bf9-8ec9-a483ee45c125",
   "metadata": {},
   "outputs": [
    {
     "data": {
      "text/plain": [
       "'Hello World '"
      ]
     },
     "execution_count": 124,
     "metadata": {},
     "output_type": "execute_result"
    }
   ],
   "source": [
    "s = s.replace(\"_\",\" \")\n",
    "s = s.replace(\"!\",\" \")\n",
    "s"
   ]
  },
  {
   "cell_type": "markdown",
   "id": "6fb57371-be07-498e-a0b9-89c878535950",
   "metadata": {},
   "source": [
    "38. Check if a string contains only digits"
   ]
  },
  {
   "cell_type": "code",
   "execution_count": 128,
   "id": "e51366a3-b956-4448-8c4a-a975807785ab",
   "metadata": {},
   "outputs": [],
   "source": [
    "s = \"873058346\""
   ]
  },
  {
   "cell_type": "code",
   "execution_count": 129,
   "id": "cb80359e-7cff-429b-8698-4a842a9f4669",
   "metadata": {},
   "outputs": [
    {
     "data": {
      "text/plain": [
       "True"
      ]
     },
     "execution_count": 129,
     "metadata": {},
     "output_type": "execute_result"
    }
   ],
   "source": [
    "s.isdigit()"
   ]
  },
  {
   "cell_type": "markdown",
   "id": "85930fdd-e55e-409b-81a7-a2790b3a87e8",
   "metadata": {},
   "source": [
    "39. Check if a string contains only alphabets."
   ]
  },
  {
   "cell_type": "code",
   "execution_count": 130,
   "id": "6326a6ba-2f6d-4bbf-884e-119fbadc5c75",
   "metadata": {},
   "outputs": [],
   "source": [
    "s = \"November\""
   ]
  },
  {
   "cell_type": "code",
   "execution_count": 131,
   "id": "97dff96a-aee9-46ef-be1d-c41948e742c6",
   "metadata": {},
   "outputs": [
    {
     "data": {
      "text/plain": [
       "True"
      ]
     },
     "execution_count": 131,
     "metadata": {},
     "output_type": "execute_result"
    }
   ],
   "source": [
    "s.isalpha()"
   ]
  },
  {
   "cell_type": "markdown",
   "id": "9315bece-ac5d-4e53-9af2-fa28dd0fea6d",
   "metadata": {},
   "source": [
    "40. Convert a string to a list of characters."
   ]
  },
  {
   "cell_type": "code",
   "execution_count": 134,
   "id": "2bb4547d-3b5c-47bc-b4a7-dd7388fec918",
   "metadata": {},
   "outputs": [],
   "source": [
    "s = \"Rishabh\""
   ]
  },
  {
   "cell_type": "code",
   "execution_count": 135,
   "id": "41cd3f65-b271-48ec-83d1-98f466dd2ada",
   "metadata": {},
   "outputs": [
    {
     "data": {
      "text/plain": [
       "['R', 'i', 's', 'h', 'a', 'b', 'h']"
      ]
     },
     "execution_count": 135,
     "metadata": {},
     "output_type": "execute_result"
    }
   ],
   "source": [
    "list(s)"
   ]
  },
  {
   "cell_type": "markdown",
   "id": "fc6892ce-65c8-4f7b-9db2-7d70e09ba62f",
   "metadata": {},
   "source": [
    "41. Check if two strings are anagrams."
   ]
  },
  {
   "cell_type": "code",
   "execution_count": 140,
   "id": "5590bdda-718d-423c-979b-774decd05603",
   "metadata": {},
   "outputs": [
    {
     "data": {
      "text/plain": [
       "True"
      ]
     },
     "execution_count": 140,
     "metadata": {},
     "output_type": "execute_result"
    }
   ],
   "source": [
    "a = \"knee\"\n",
    "b = \"keen\"\n",
    "sorted(a) == sorted(b)"
   ]
  },
  {
   "cell_type": "markdown",
   "id": "02f1403f-acba-4be9-855b-bd3419ba2208",
   "metadata": {},
   "source": [
    "42. Encode a string using a Caesar cipher."
   ]
  },
  {
   "cell_type": "code",
   "execution_count": null,
   "id": "45e5af6b-88e5-4d5a-9093-08d73f85b5b4",
   "metadata": {},
   "outputs": [],
   "source": []
  },
  {
   "cell_type": "markdown",
   "id": "b96ea2f3-72ff-4ccd-a782-3c409502c540",
   "metadata": {},
   "source": [
    "43. Decode a Caesar cipher encoded string."
   ]
  },
  {
   "cell_type": "code",
   "execution_count": null,
   "id": "58d62a68-55fc-4ac3-b94e-8982fe0f1b61",
   "metadata": {},
   "outputs": [],
   "source": []
  },
  {
   "cell_type": "markdown",
   "id": "c907843d-8b5b-4b22-ae8d-5dc743f1ba2a",
   "metadata": {},
   "source": [
    "44. Find the most frequent word in a string."
   ]
  },
  {
   "cell_type": "code",
   "execution_count": 165,
   "id": "f4c40cbe-bb3a-4d39-b590-048dc6afe0ee",
   "metadata": {},
   "outputs": [],
   "source": [
    "s = \"I thought a thought. But the thought I thought wasn't the thought I thought I thought\""
   ]
  },
  {
   "cell_type": "code",
   "execution_count": 142,
   "id": "02e3896e-9cb6-4699-a614-0a6345acd273",
   "metadata": {},
   "outputs": [
    {
     "ename": "AttributeError",
     "evalue": "'str' object has no attribute 'max'",
     "output_type": "error",
     "traceback": [
      "\u001b[0;31m---------------------------------------------------------------------------\u001b[0m",
      "\u001b[0;31mAttributeError\u001b[0m                            Traceback (most recent call last)",
      "Cell \u001b[0;32mIn[142], line 1\u001b[0m\n\u001b[0;32m----> 1\u001b[0m \u001b[43ms\u001b[49m\u001b[38;5;241;43m.\u001b[39;49m\u001b[43mmax\u001b[49m(\u001b[38;5;124m\"\u001b[39m\u001b[38;5;124mthought\u001b[39m\u001b[38;5;124m\"\u001b[39m)\n",
      "\u001b[0;31mAttributeError\u001b[0m: 'str' object has no attribute 'max'"
     ]
    }
   ],
   "source": [
    "s.max(\"thought\")"
   ]
  },
  {
   "cell_type": "code",
   "execution_count": null,
   "id": "b77781d8-872b-4f59-afad-e4bf880fbe35",
   "metadata": {},
   "outputs": [],
   "source": []
  },
  {
   "cell_type": "markdown",
   "id": "b90da09a-9405-41d6-ad32-920e20eae417",
   "metadata": {},
   "source": [
    "45. Find all unique words in a string."
   ]
  },
  {
   "cell_type": "code",
   "execution_count": 166,
   "id": "25e736b4-fd01-4913-89c8-3352f8ca8660",
   "metadata": {},
   "outputs": [
    {
     "data": {
      "text/plain": [
       "\"I thought a thought. But the thought I thought wasn't the thought I thought I thought\""
      ]
     },
     "execution_count": 166,
     "metadata": {},
     "output_type": "execute_result"
    }
   ],
   "source": [
    "s"
   ]
  },
  {
   "cell_type": "code",
   "execution_count": 167,
   "id": "70c48076-13a9-4159-8381-608073569a6f",
   "metadata": {},
   "outputs": [
    {
     "data": {
      "text/plain": [
       "['I',\n",
       " 'thought',\n",
       " 'a',\n",
       " 'thought.',\n",
       " 'But',\n",
       " 'the',\n",
       " 'thought',\n",
       " 'I',\n",
       " 'thought',\n",
       " \"wasn't\",\n",
       " 'the',\n",
       " 'thought',\n",
       " 'I',\n",
       " 'thought',\n",
       " 'I',\n",
       " 'thought']"
      ]
     },
     "execution_count": 167,
     "metadata": {},
     "output_type": "execute_result"
    }
   ],
   "source": [
    "s.split()"
   ]
  },
  {
   "cell_type": "code",
   "execution_count": 168,
   "id": "5c0226d9-bb56-4890-9685-61c03c1c0bc3",
   "metadata": {},
   "outputs": [
    {
     "data": {
      "text/plain": [
       "{'But', 'I', 'a', 'the', 'thought', 'thought.', \"wasn't\"}"
      ]
     },
     "execution_count": 168,
     "metadata": {},
     "output_type": "execute_result"
    }
   ],
   "source": [
    "set(s.split())"
   ]
  },
  {
   "cell_type": "markdown",
   "id": "bc4a00a9-926c-4d42-adbd-6b3a95e395c1",
   "metadata": {},
   "source": [
    "46. Count the number of syllables in a string."
   ]
  },
  {
   "cell_type": "code",
   "execution_count": 153,
   "id": "fb226149-4775-41eb-80a6-88f572dd9c35",
   "metadata": {},
   "outputs": [
    {
     "data": {
      "text/plain": [
       "\"I thought a thought. But the thought I thought wasn't the thought I thought I thought\""
      ]
     },
     "execution_count": 153,
     "metadata": {},
     "output_type": "execute_result"
    }
   ],
   "source": [
    "s "
   ]
  },
  {
   "cell_type": "code",
   "execution_count": 156,
   "id": "e5df4b68-3f0e-4408-aee5-a84b290b3053",
   "metadata": {},
   "outputs": [
    {
     "data": {
      "text/plain": [
       "85"
      ]
     },
     "execution_count": 156,
     "metadata": {},
     "output_type": "execute_result"
    }
   ],
   "source": [
    "len(s)"
   ]
  },
  {
   "cell_type": "markdown",
   "id": "f64ca0d5-9611-488b-ba50-e829b9344b74",
   "metadata": {},
   "source": [
    "47. Check if a string contains any special characters."
   ]
  },
  {
   "cell_type": "code",
   "execution_count": 1,
   "id": "d29d1b16-91e2-4a04-b4fe-73d9c3f31971",
   "metadata": {},
   "outputs": [],
   "source": [
    "s = \"Nov@#0311\""
   ]
  },
  {
   "cell_type": "code",
   "execution_count": 5,
   "id": "a04c9ee1-2f0c-4d0a-adee-4cc9337e2441",
   "metadata": {},
   "outputs": [
    {
     "data": {
      "text/plain": [
       "3"
      ]
     },
     "execution_count": 5,
     "metadata": {},
     "output_type": "execute_result"
    }
   ],
   "source": [
    "s.find(\"@#\")"
   ]
  },
  {
   "cell_type": "markdown",
   "id": "2d0724ea-9e99-4b50-b581-00544b858a9d",
   "metadata": {},
   "source": [
    "48. Remove the nth word from a string."
   ]
  },
  {
   "cell_type": "code",
   "execution_count": 16,
   "id": "68474dcc-8cd8-4c4e-80cb-61667e4ff0a4",
   "metadata": {},
   "outputs": [],
   "source": [
    "s = \"I want to be a Data Scientist\""
   ]
  },
  {
   "cell_type": "code",
   "execution_count": 17,
   "id": "9f02574e-a22b-469d-8677-f2da4740025c",
   "metadata": {},
   "outputs": [],
   "source": [
    "b = s[-1].format()"
   ]
  },
  {
   "cell_type": "code",
   "execution_count": 18,
   "id": "69244c02-862c-4549-9387-fc72df4de2c9",
   "metadata": {},
   "outputs": [
    {
     "data": {
      "text/plain": [
       "'t'"
      ]
     },
     "execution_count": 18,
     "metadata": {},
     "output_type": "execute_result"
    }
   ],
   "source": [
    "b"
   ]
  },
  {
   "cell_type": "code",
   "execution_count": 19,
   "id": "6d70ce2b-b849-487a-a2f9-55da57eb819c",
   "metadata": {},
   "outputs": [
    {
     "data": {
      "text/plain": [
       "'I want to be a Data Scientist'"
      ]
     },
     "execution_count": 19,
     "metadata": {},
     "output_type": "execute_result"
    }
   ],
   "source": [
    "s"
   ]
  },
  {
   "cell_type": "markdown",
   "id": "f11ab491-4373-49a1-bd39-cd55206fecef",
   "metadata": {},
   "source": [
    "We can't remove anything from the string as it is immuttable"
   ]
  },
  {
   "cell_type": "markdown",
   "id": "100f72b2-8146-42f4-b937-29392ce69428",
   "metadata": {},
   "source": [
    "49. Insert a word at the nth position in a string."
   ]
  },
  {
   "cell_type": "markdown",
   "id": "43e388c8-9fc6-4b81-9168-66a97b6c882c",
   "metadata": {},
   "source": [
    "We can't add or insert anything from the string as it is immuttable"
   ]
  },
  {
   "cell_type": "markdown",
   "id": "629bcca1-f349-4100-8e3a-596dbb816756",
   "metadata": {},
   "source": [
    "50. Convert a CSV string to a list of lists."
   ]
  },
  {
   "cell_type": "code",
   "execution_count": null,
   "id": "07bf4224-2bf2-408a-b228-f684254fc248",
   "metadata": {},
   "outputs": [],
   "source": []
  },
  {
   "cell_type": "code",
   "execution_count": null,
   "id": "f1aa2d5b-b785-43f9-acb1-897de6ae60c4",
   "metadata": {},
   "outputs": [],
   "source": []
  },
  {
   "cell_type": "markdown",
   "id": "c841ca7d-48a3-4639-b7e4-36d5b59ba1f2",
   "metadata": {},
   "source": [
    "List Based Practice Problem :"
   ]
  },
  {
   "cell_type": "markdown",
   "id": "eea80348-818e-4486-bc4d-df3ed1c95a1f",
   "metadata": {},
   "source": [
    "1. Create a list with integers from 1 to 10."
   ]
  },
  {
   "cell_type": "code",
   "execution_count": 21,
   "id": "bced3384-b7cd-489d-b3b9-508afee43d2e",
   "metadata": {},
   "outputs": [
    {
     "data": {
      "text/plain": [
       "[1, 2, 3, 4, 5, 6, 7, 8, 9, 10]"
      ]
     },
     "execution_count": 21,
     "metadata": {},
     "output_type": "execute_result"
    }
   ],
   "source": [
    "list(range(1,11))"
   ]
  },
  {
   "cell_type": "markdown",
   "id": "8db5bd9b-79ad-4d17-b007-0fa0e6df81eb",
   "metadata": {},
   "source": [
    "2. Find the length of a list without using the `len()` function."
   ]
  },
  {
   "cell_type": "code",
   "execution_count": 42,
   "id": "533ded8b-0bf1-457a-9a43-1a1c9921a9b3",
   "metadata": {},
   "outputs": [],
   "source": [
    "l = [1,2,3,4,5,6,8]"
   ]
  },
  {
   "cell_type": "code",
   "execution_count": 33,
   "id": "5b194689-a2f2-442e-a50f-1344b10ae060",
   "metadata": {},
   "outputs": [
    {
     "name": "stdout",
     "output_type": "stream",
     "text": [
      "7\n"
     ]
    }
   ],
   "source": [
    "c = 0\n",
    "for i in l:\n",
    "    c = c +1\n",
    "    \n",
    "print(c)"
   ]
  },
  {
   "cell_type": "markdown",
   "id": "0395d847-a2db-4545-98bf-108808c14acb",
   "metadata": {},
   "source": [
    "3. Append an element to the end of a list."
   ]
  },
  {
   "cell_type": "code",
   "execution_count": 34,
   "id": "42204aea-7fcb-4031-b75e-9112c2f364be",
   "metadata": {},
   "outputs": [
    {
     "data": {
      "text/plain": [
       "[1, 2, 3, 4, 5, 6, 8]"
      ]
     },
     "execution_count": 34,
     "metadata": {},
     "output_type": "execute_result"
    }
   ],
   "source": [
    "l"
   ]
  },
  {
   "cell_type": "code",
   "execution_count": 35,
   "id": "c26185c7-4ff2-4a74-bb58-894239335c0e",
   "metadata": {},
   "outputs": [],
   "source": [
    "l.append(\"rish\")"
   ]
  },
  {
   "cell_type": "code",
   "execution_count": 36,
   "id": "d39dbd27-7f61-4322-a9eb-c83556b2db38",
   "metadata": {},
   "outputs": [
    {
     "data": {
      "text/plain": [
       "[1, 2, 3, 4, 5, 6, 8, 'rish']"
      ]
     },
     "execution_count": 36,
     "metadata": {},
     "output_type": "execute_result"
    }
   ],
   "source": [
    "l"
   ]
  },
  {
   "cell_type": "markdown",
   "id": "673bbb29-c1a1-4253-ad87-5224f81d62d6",
   "metadata": {},
   "source": [
    "4. Insert an element at a specific index in a list."
   ]
  },
  {
   "cell_type": "code",
   "execution_count": 43,
   "id": "a999625d-511f-4581-9f6b-04d7a48da0cd",
   "metadata": {},
   "outputs": [
    {
     "data": {
      "text/plain": [
       "[1, 2, 3, 4, 5, 6, 8]"
      ]
     },
     "execution_count": 43,
     "metadata": {},
     "output_type": "execute_result"
    }
   ],
   "source": [
    "l"
   ]
  },
  {
   "cell_type": "code",
   "execution_count": 44,
   "id": "7985f62d-be49-4c43-b0d0-aa79f4ec22b1",
   "metadata": {},
   "outputs": [],
   "source": [
    "l.insert(3,778)"
   ]
  },
  {
   "cell_type": "code",
   "execution_count": 45,
   "id": "1e7ecc84-e380-4924-a508-aacb55622b8b",
   "metadata": {},
   "outputs": [
    {
     "data": {
      "text/plain": [
       "[1, 2, 3, 778, 4, 5, 6, 8]"
      ]
     },
     "execution_count": 45,
     "metadata": {},
     "output_type": "execute_result"
    }
   ],
   "source": [
    "l"
   ]
  },
  {
   "cell_type": "markdown",
   "id": "7993dcea-a3ba-4198-8719-de4d7b14aab1",
   "metadata": {},
   "source": [
    "5. Remove an element from a list by its value."
   ]
  },
  {
   "cell_type": "code",
   "execution_count": 46,
   "id": "64184028-416e-4dc6-9e14-8a541976e6d3",
   "metadata": {},
   "outputs": [
    {
     "data": {
      "text/plain": [
       "[1, 2, 3, 778, 4, 5, 6, 8]"
      ]
     },
     "execution_count": 46,
     "metadata": {},
     "output_type": "execute_result"
    }
   ],
   "source": [
    "l"
   ]
  },
  {
   "cell_type": "code",
   "execution_count": 47,
   "id": "30d77b7d-61d4-46ec-9f15-8e61ff8bc846",
   "metadata": {},
   "outputs": [],
   "source": [
    "l.remove(4)"
   ]
  },
  {
   "cell_type": "code",
   "execution_count": 48,
   "id": "1c335ca5-272b-4cfe-9ba9-d6cfa588997b",
   "metadata": {},
   "outputs": [
    {
     "data": {
      "text/plain": [
       "[1, 2, 3, 778, 5, 6, 8]"
      ]
     },
     "execution_count": 48,
     "metadata": {},
     "output_type": "execute_result"
    }
   ],
   "source": [
    "l"
   ]
  },
  {
   "cell_type": "markdown",
   "id": "46dfb9b1-2856-4428-bcfe-63faa4f7224a",
   "metadata": {},
   "source": [
    "6. Remove an element from a list by its index."
   ]
  },
  {
   "cell_type": "code",
   "execution_count": 58,
   "id": "8a7158c2-be32-4563-95dd-eb557f1f731f",
   "metadata": {},
   "outputs": [],
   "source": [
    "l = [1,2,3,4,5,6,8]"
   ]
  },
  {
   "cell_type": "code",
   "execution_count": 59,
   "id": "f7c16f5d-a3ab-4cd5-ae5d-1c295d0e116d",
   "metadata": {},
   "outputs": [
    {
     "data": {
      "text/plain": [
       "6"
      ]
     },
     "execution_count": 59,
     "metadata": {},
     "output_type": "execute_result"
    }
   ],
   "source": [
    "l.pop(5)"
   ]
  },
  {
   "cell_type": "code",
   "execution_count": 60,
   "id": "20961648-f195-4adf-be69-2c2ae3f5ae45",
   "metadata": {},
   "outputs": [
    {
     "data": {
      "text/plain": [
       "[1, 2, 3, 4, 5, 8]"
      ]
     },
     "execution_count": 60,
     "metadata": {},
     "output_type": "execute_result"
    }
   ],
   "source": [
    "l"
   ]
  },
  {
   "cell_type": "markdown",
   "id": "a75914a0-c6af-46a6-9eb3-9995a43c3710",
   "metadata": {},
   "source": [
    "7. Check if an element exists in a list."
   ]
  },
  {
   "cell_type": "code",
   "execution_count": 61,
   "id": "6467037e-c02d-457d-acbb-3559d8739d55",
   "metadata": {},
   "outputs": [
    {
     "data": {
      "text/plain": [
       "[1, 2, 3, 4, 5, 8]"
      ]
     },
     "execution_count": 61,
     "metadata": {},
     "output_type": "execute_result"
    }
   ],
   "source": [
    "l"
   ]
  },
  {
   "cell_type": "code",
   "execution_count": 62,
   "id": "aad8f516-f522-4b2c-85ac-c2f8b1cacee0",
   "metadata": {},
   "outputs": [
    {
     "data": {
      "text/plain": [
       "False"
      ]
     },
     "execution_count": 62,
     "metadata": {},
     "output_type": "execute_result"
    }
   ],
   "source": [
    "78 in l"
   ]
  },
  {
   "cell_type": "markdown",
   "id": "242035a4-a553-468a-98d6-2acb3a408913",
   "metadata": {},
   "source": [
    "8. Find the index of the first occurrence of an element in a list."
   ]
  },
  {
   "cell_type": "code",
   "execution_count": 65,
   "id": "fe6bef29-ffb2-44a0-9a46-1d7d7efe818a",
   "metadata": {},
   "outputs": [],
   "source": [
    "l = [12,3,4,5,6,7,8,76,5,4,3,5,6,7,5,4]"
   ]
  },
  {
   "cell_type": "code",
   "execution_count": 66,
   "id": "7c33f3c8-7f47-4c89-a41d-52536fa9aedd",
   "metadata": {},
   "outputs": [
    {
     "data": {
      "text/plain": [
       "4"
      ]
     },
     "execution_count": 66,
     "metadata": {},
     "output_type": "execute_result"
    }
   ],
   "source": [
    "l.index(6)"
   ]
  },
  {
   "cell_type": "markdown",
   "id": "907c8649-a117-4b0d-bf8a-d46b0c8ddaf7",
   "metadata": {},
   "source": [
    "9. Count the occurrences of an element in a list."
   ]
  },
  {
   "cell_type": "code",
   "execution_count": 67,
   "id": "61001e25-9201-44f8-8c6f-b8a18cdbebdb",
   "metadata": {},
   "outputs": [],
   "source": [
    "l = [12,3,4,5,6,7,8,76,5,4,3,5,6,7,5,4]"
   ]
  },
  {
   "cell_type": "code",
   "execution_count": 68,
   "id": "9a591986-a944-4398-aba7-60874aedb653",
   "metadata": {},
   "outputs": [
    {
     "data": {
      "text/plain": [
       "4"
      ]
     },
     "execution_count": 68,
     "metadata": {},
     "output_type": "execute_result"
    }
   ],
   "source": [
    "l.count(5)"
   ]
  },
  {
   "cell_type": "markdown",
   "id": "19c46a1c-eb22-44ff-acec-35c88c97e90f",
   "metadata": {},
   "source": [
    "10. Reverse the order of elements in a list."
   ]
  },
  {
   "cell_type": "code",
   "execution_count": 69,
   "id": "c0e0ddb1-6e82-4483-925a-72b72ed2d6a0",
   "metadata": {},
   "outputs": [
    {
     "data": {
      "text/plain": [
       "[12, 3, 4, 5, 6, 7, 8, 76, 5, 4, 3, 5, 6, 7, 5, 4]"
      ]
     },
     "execution_count": 69,
     "metadata": {},
     "output_type": "execute_result"
    }
   ],
   "source": [
    "l"
   ]
  },
  {
   "cell_type": "code",
   "execution_count": 70,
   "id": "7851093a-8569-4817-9232-b18fd30c6371",
   "metadata": {},
   "outputs": [],
   "source": [
    "l.reverse()"
   ]
  },
  {
   "cell_type": "code",
   "execution_count": 71,
   "id": "807df8be-986c-4997-8288-96fcd243a9d4",
   "metadata": {},
   "outputs": [
    {
     "data": {
      "text/plain": [
       "[4, 5, 7, 6, 5, 3, 4, 5, 76, 8, 7, 6, 5, 4, 3, 12]"
      ]
     },
     "execution_count": 71,
     "metadata": {},
     "output_type": "execute_result"
    }
   ],
   "source": [
    "l"
   ]
  },
  {
   "cell_type": "markdown",
   "id": "e48fc6bb-5fac-439e-b127-69d5f2463a65",
   "metadata": {},
   "source": [
    "11. Sort a list in ascending order."
   ]
  },
  {
   "cell_type": "code",
   "execution_count": 72,
   "id": "b14a028e-05f9-45ac-ac1f-e0c3433eff2f",
   "metadata": {},
   "outputs": [],
   "source": [
    "l = [12,3,4,5,6,7,8,76,5,4,3,5,6,7,5,4]"
   ]
  },
  {
   "cell_type": "code",
   "execution_count": 73,
   "id": "721b30a8-bca0-4c5b-87e3-e042a7266f97",
   "metadata": {},
   "outputs": [],
   "source": [
    "l.sort()"
   ]
  },
  {
   "cell_type": "code",
   "execution_count": 74,
   "id": "1860d78d-73cc-4c41-8af2-1d4eb1b53e4c",
   "metadata": {},
   "outputs": [
    {
     "data": {
      "text/plain": [
       "[3, 3, 4, 4, 4, 5, 5, 5, 5, 6, 6, 7, 7, 8, 12, 76]"
      ]
     },
     "execution_count": 74,
     "metadata": {},
     "output_type": "execute_result"
    }
   ],
   "source": [
    "l"
   ]
  },
  {
   "cell_type": "markdown",
   "id": "1f196a37-3293-42fe-8dd6-2623b27fe4fa",
   "metadata": {},
   "source": [
    "12. Sort a list in descending order."
   ]
  },
  {
   "cell_type": "code",
   "execution_count": 75,
   "id": "5fde86c9-e9af-4fa6-9889-34aa6bac8786",
   "metadata": {},
   "outputs": [],
   "source": [
    "l = [12,3,4,5,6,7,8,76,5,4,3,5,6,7,5,4]"
   ]
  },
  {
   "cell_type": "code",
   "execution_count": 76,
   "id": "53bcb723-ce78-4d00-a1ce-c6727bc76811",
   "metadata": {},
   "outputs": [],
   "source": [
    "l.sort(reverse = True)"
   ]
  },
  {
   "cell_type": "code",
   "execution_count": 77,
   "id": "74b2d705-0583-4aa8-b976-ef56d21a5c14",
   "metadata": {},
   "outputs": [
    {
     "data": {
      "text/plain": [
       "[76, 12, 8, 7, 7, 6, 6, 5, 5, 5, 5, 4, 4, 4, 3, 3]"
      ]
     },
     "execution_count": 77,
     "metadata": {},
     "output_type": "execute_result"
    }
   ],
   "source": [
    "l"
   ]
  },
  {
   "cell_type": "markdown",
   "id": "45555dd3-8c0a-4bda-8b33-c31f83f7e51c",
   "metadata": {},
   "source": [
    "13. Create a list of even numbers from 1 to 20."
   ]
  },
  {
   "cell_type": "code",
   "execution_count": 81,
   "id": "c154bf71-93e2-4891-b073-b2a7b1b71096",
   "metadata": {},
   "outputs": [],
   "source": [
    "l = list(range(1,21))"
   ]
  },
  {
   "cell_type": "code",
   "execution_count": 82,
   "id": "23d40a52-ca0d-40cc-86bc-cebbd06bfa32",
   "metadata": {},
   "outputs": [
    {
     "data": {
      "text/plain": [
       "[1, 2, 3, 4, 5, 6, 7, 8, 9, 10, 11, 12, 13, 14, 15, 16, 17, 18, 19, 20]"
      ]
     },
     "execution_count": 82,
     "metadata": {},
     "output_type": "execute_result"
    }
   ],
   "source": [
    "l"
   ]
  },
  {
   "cell_type": "code",
   "execution_count": 88,
   "id": "3b58dd95-9f5a-4a9b-bbc1-83ea0023dcca",
   "metadata": {},
   "outputs": [],
   "source": [
    "l1 = []\n",
    "for i in l:\n",
    "    if i%2 == 0:\n",
    "        l1.append(i)"
   ]
  },
  {
   "cell_type": "code",
   "execution_count": 89,
   "id": "52cfd5b0-d22f-43cb-87ca-6d6d82282ac2",
   "metadata": {},
   "outputs": [
    {
     "data": {
      "text/plain": [
       "[2, 4, 6, 8, 10, 12, 14, 16, 18, 20]"
      ]
     },
     "execution_count": 89,
     "metadata": {},
     "output_type": "execute_result"
    }
   ],
   "source": [
    "l1"
   ]
  },
  {
   "cell_type": "markdown",
   "id": "96765526-fe74-4393-b1f5-772dbb34fd65",
   "metadata": {},
   "source": [
    "14. Create a list of odd numbers from 1 to 20."
   ]
  },
  {
   "cell_type": "code",
   "execution_count": 90,
   "id": "326b079b-2b8e-4826-a653-88390a6772c1",
   "metadata": {},
   "outputs": [
    {
     "data": {
      "text/plain": [
       "[1, 2, 3, 4, 5, 6, 7, 8, 9, 10, 11, 12, 13, 14, 15, 16, 17, 18, 19, 20]"
      ]
     },
     "execution_count": 90,
     "metadata": {},
     "output_type": "execute_result"
    }
   ],
   "source": [
    "l"
   ]
  },
  {
   "cell_type": "code",
   "execution_count": 91,
   "id": "e4dbe476-8923-4c82-acdc-b867a9372e52",
   "metadata": {},
   "outputs": [],
   "source": [
    "l1 = []\n",
    "for i in l:\n",
    "    if i%2 != 0:\n",
    "        l1.append(i)"
   ]
  },
  {
   "cell_type": "code",
   "execution_count": 92,
   "id": "24cc43b4-3dec-49d1-9609-abd5c82dff57",
   "metadata": {},
   "outputs": [
    {
     "data": {
      "text/plain": [
       "[1, 3, 5, 7, 9, 11, 13, 15, 17, 19]"
      ]
     },
     "execution_count": 92,
     "metadata": {},
     "output_type": "execute_result"
    }
   ],
   "source": [
    "l1"
   ]
  },
  {
   "cell_type": "markdown",
   "id": "af6f4d82-609e-4edb-a555-70993deb6843",
   "metadata": {},
   "source": [
    "15. Find the sum of all elements in a list."
   ]
  },
  {
   "cell_type": "code",
   "execution_count": 93,
   "id": "0ce90e86-bee0-40eb-b764-c996cb486360",
   "metadata": {},
   "outputs": [],
   "source": [
    "l = [1,2,3,4,5]"
   ]
  },
  {
   "cell_type": "code",
   "execution_count": 94,
   "id": "b549ba30-e4a1-4277-9436-e27b11b51c02",
   "metadata": {},
   "outputs": [
    {
     "data": {
      "text/plain": [
       "15"
      ]
     },
     "execution_count": 94,
     "metadata": {},
     "output_type": "execute_result"
    }
   ],
   "source": [
    "sum(l)"
   ]
  },
  {
   "cell_type": "markdown",
   "id": "46e84fc8-ec88-4a47-b0eb-fa7d8b110e00",
   "metadata": {},
   "source": [
    "16. Find the maximum value in a list."
   ]
  },
  {
   "cell_type": "code",
   "execution_count": 95,
   "id": "f563dcf7-fe5a-433b-8634-d9cb42d88b2a",
   "metadata": {},
   "outputs": [],
   "source": [
    "l = [12,3,4,5,6,7,8,76,5,4,3,5,6,7,5,4]"
   ]
  },
  {
   "cell_type": "code",
   "execution_count": 96,
   "id": "2f00d329-c658-4a07-8938-2740aa64fb66",
   "metadata": {},
   "outputs": [
    {
     "data": {
      "text/plain": [
       "76"
      ]
     },
     "execution_count": 96,
     "metadata": {},
     "output_type": "execute_result"
    }
   ],
   "source": [
    "max(l)"
   ]
  },
  {
   "cell_type": "markdown",
   "id": "6d2554eb-e746-45bc-8e79-e689220870b7",
   "metadata": {},
   "source": [
    "17. Find the minimum value in a list."
   ]
  },
  {
   "cell_type": "code",
   "execution_count": 97,
   "id": "f0397b3d-9a53-4157-82e8-ac08ede123d9",
   "metadata": {},
   "outputs": [],
   "source": [
    "l = [12,3,4,5,6,7,8,76,5,4,3,5,6,7,5,4]"
   ]
  },
  {
   "cell_type": "code",
   "execution_count": 98,
   "id": "b8c1a675-feb5-41ef-82a9-bee9cea14f6c",
   "metadata": {},
   "outputs": [
    {
     "data": {
      "text/plain": [
       "3"
      ]
     },
     "execution_count": 98,
     "metadata": {},
     "output_type": "execute_result"
    }
   ],
   "source": [
    "min(l)"
   ]
  },
  {
   "cell_type": "markdown",
   "id": "d4e1da4e-c61a-4825-af3e-50c01b7012b0",
   "metadata": {},
   "source": [
    "18. Create a list of squares of numbers from 1 to 10."
   ]
  },
  {
   "cell_type": "code",
   "execution_count": 101,
   "id": "75cb6aac-06e0-4a24-b1eb-525bed19b7ec",
   "metadata": {},
   "outputs": [],
   "source": [
    "l = list(range(1,11))"
   ]
  },
  {
   "cell_type": "code",
   "execution_count": 103,
   "id": "b2ba3f5a-b419-41f0-af23-e0678ad8fab0",
   "metadata": {},
   "outputs": [
    {
     "data": {
      "text/plain": [
       "[1, 2, 3, 4, 5, 6, 7, 8, 9, 10]"
      ]
     },
     "execution_count": 103,
     "metadata": {},
     "output_type": "execute_result"
    }
   ],
   "source": [
    "l"
   ]
  },
  {
   "cell_type": "code",
   "execution_count": 108,
   "id": "887906cf-34e8-4d9c-b2d6-5704263cd2af",
   "metadata": {},
   "outputs": [],
   "source": [
    "l1 = []\n",
    "for i in l:\n",
    "    l1.append(i**2)"
   ]
  },
  {
   "cell_type": "code",
   "execution_count": 109,
   "id": "137805b7-967e-44f4-8900-6ca8c5218f0b",
   "metadata": {},
   "outputs": [
    {
     "data": {
      "text/plain": [
       "[1, 4, 9, 16, 25, 36, 49, 64, 81, 100]"
      ]
     },
     "execution_count": 109,
     "metadata": {},
     "output_type": "execute_result"
    }
   ],
   "source": [
    "l1"
   ]
  },
  {
   "cell_type": "markdown",
   "id": "4ea3c4b0-c271-4e6c-a68b-42f1a6ee88e9",
   "metadata": {},
   "source": [
    "19. Create a list of random numbers."
   ]
  },
  {
   "cell_type": "code",
   "execution_count": 110,
   "id": "1c948fd5-1958-4365-91cf-6a7479eb7d0a",
   "metadata": {},
   "outputs": [],
   "source": [
    "l = [231,5,6,867,9,34,312,4,3467,9,32,3,12,3,57,76,987,4]"
   ]
  },
  {
   "cell_type": "code",
   "execution_count": 111,
   "id": "779e7ce5-e2d3-423d-81c8-cb43502b3210",
   "metadata": {},
   "outputs": [
    {
     "data": {
      "text/plain": [
       "[231, 5, 6, 867, 9, 34, 312, 4, 3467, 9, 32, 3, 12, 3, 57, 76, 987, 4]"
      ]
     },
     "execution_count": 111,
     "metadata": {},
     "output_type": "execute_result"
    }
   ],
   "source": [
    "l"
   ]
  },
  {
   "cell_type": "markdown",
   "id": "0d9a8d61-ed7b-4bd6-8ae6-13d136f8d13c",
   "metadata": {},
   "source": [
    "20. Remove duplicates from a list."
   ]
  },
  {
   "cell_type": "code",
   "execution_count": 112,
   "id": "9dde0a9c-caa4-469f-ba64-3f1f3d0c18d9",
   "metadata": {},
   "outputs": [],
   "source": [
    "l = [12,3,4,5,6,7,8,76,5,4,3,5,6,7,5,4]"
   ]
  },
  {
   "cell_type": "code",
   "execution_count": 114,
   "id": "8ba54ebe-4ec8-4b2c-ab31-b046bb4537f5",
   "metadata": {},
   "outputs": [],
   "source": [
    "l1 = list(set(l))"
   ]
  },
  {
   "cell_type": "code",
   "execution_count": 115,
   "id": "77b31a6f-bd1a-45bb-bdd6-d69be72d8495",
   "metadata": {},
   "outputs": [
    {
     "data": {
      "text/plain": [
       "[3, 4, 5, 6, 7, 8, 12, 76]"
      ]
     },
     "execution_count": 115,
     "metadata": {},
     "output_type": "execute_result"
    }
   ],
   "source": [
    "l1"
   ]
  },
  {
   "cell_type": "markdown",
   "id": "9ed5e259-a82f-4603-80b9-f91f163038d3",
   "metadata": {},
   "source": [
    "21. Find the common elements between two lists."
   ]
  },
  {
   "cell_type": "code",
   "execution_count": 131,
   "id": "96adaebf-8adf-4e56-af6f-09a1f539c2ac",
   "metadata": {},
   "outputs": [],
   "source": [
    "l1 = [1,2,3,4,5]\n",
    "l2 = [3,4,5,6,7]"
   ]
  },
  {
   "cell_type": "code",
   "execution_count": 133,
   "id": "8a5e3456-3e3d-4aef-bdfc-2333b4a5f4bd",
   "metadata": {},
   "outputs": [],
   "source": [
    "l3 = l1 +l2"
   ]
  },
  {
   "cell_type": "code",
   "execution_count": 135,
   "id": "b7f103b2-e05f-4fee-8b8a-77d87b1b137f",
   "metadata": {},
   "outputs": [],
   "source": [
    "s = set(l3)"
   ]
  },
  {
   "cell_type": "code",
   "execution_count": 136,
   "id": "8d532020-8a3d-46b4-ad59-09962d4934c3",
   "metadata": {},
   "outputs": [
    {
     "data": {
      "text/plain": [
       "{1, 2, 3, 4, 5, 6, 7}"
      ]
     },
     "execution_count": 136,
     "metadata": {},
     "output_type": "execute_result"
    }
   ],
   "source": [
    "s"
   ]
  },
  {
   "cell_type": "code",
   "execution_count": 139,
   "id": "f96aef1c-ff63-45e6-ac82-67a200483a4d",
   "metadata": {},
   "outputs": [
    {
     "name": "stdout",
     "output_type": "stream",
     "text": [
      "3\n",
      "4\n",
      "5\n",
      "6\n",
      "7\n"
     ]
    }
   ],
   "source": [
    "for s in l2:\n",
    "    print(s)"
   ]
  },
  {
   "cell_type": "code",
   "execution_count": null,
   "id": "d13ed93b-cede-4c8e-a97c-dc307b4c2134",
   "metadata": {},
   "outputs": [],
   "source": []
  },
  {
   "cell_type": "code",
   "execution_count": null,
   "id": "39bc7a2d-d6cc-4f64-b6f0-1bb9227184f2",
   "metadata": {},
   "outputs": [],
   "source": []
  },
  {
   "cell_type": "code",
   "execution_count": null,
   "id": "663e3b12-582c-434f-8590-2129f4855a5b",
   "metadata": {},
   "outputs": [],
   "source": []
  },
  {
   "cell_type": "code",
   "execution_count": null,
   "id": "9978dc74-e40e-4321-acea-a037f622bfb6",
   "metadata": {},
   "outputs": [],
   "source": [
    "22. Find the difference between two lists."
   ]
  },
  {
   "cell_type": "code",
   "execution_count": null,
   "id": "8330896d-dcfd-4802-be1b-c6bc71df37b3",
   "metadata": {},
   "outputs": [],
   "source": []
  },
  {
   "cell_type": "markdown",
   "id": "942bc525-2c5c-4a18-ab2a-78d3df814781",
   "metadata": {},
   "source": [
    "23. Merge two lists."
   ]
  },
  {
   "cell_type": "code",
   "execution_count": 140,
   "id": "7fdc58a5-c2a9-4cee-a05c-167164c67224",
   "metadata": {},
   "outputs": [],
   "source": [
    "l1 = [1,2,3,4,5]\n",
    "l2 = [3,4,5,6,7]"
   ]
  },
  {
   "cell_type": "code",
   "execution_count": 141,
   "id": "9526c217-eb3f-4d9e-805f-b035d03de962",
   "metadata": {},
   "outputs": [
    {
     "data": {
      "text/plain": [
       "[1, 2, 3, 4, 5, 3, 4, 5, 6, 7]"
      ]
     },
     "execution_count": 141,
     "metadata": {},
     "output_type": "execute_result"
    }
   ],
   "source": [
    "l1 + l2"
   ]
  },
  {
   "cell_type": "markdown",
   "id": "f38d3365-22a0-4206-b5c7-b8eec9aad99b",
   "metadata": {},
   "source": [
    "24. Multiply all elements in a list by 2."
   ]
  },
  {
   "cell_type": "code",
   "execution_count": 143,
   "id": "5324343c-ba2e-403a-a1fa-e810c9a8d10a",
   "metadata": {},
   "outputs": [
    {
     "data": {
      "text/plain": [
       "[1, 2, 3, 4, 5]"
      ]
     },
     "execution_count": 143,
     "metadata": {},
     "output_type": "execute_result"
    }
   ],
   "source": [
    "l1"
   ]
  },
  {
   "cell_type": "code",
   "execution_count": 148,
   "id": "34d92f31-c3ec-4598-af29-756bf7331e5c",
   "metadata": {},
   "outputs": [
    {
     "data": {
      "text/plain": [
       "[2, 4, 6, 8, 10]"
      ]
     },
     "execution_count": 148,
     "metadata": {},
     "output_type": "execute_result"
    }
   ],
   "source": [
    "l3 = []\n",
    "for i in l1:\n",
    "    l3.append(i*2)\n",
    "l3"
   ]
  },
  {
   "cell_type": "markdown",
   "id": "ac672029-01c5-43d7-8aee-b03b8b5a6299",
   "metadata": {},
   "source": [
    "25. Filter out all even numbers from a list."
   ]
  },
  {
   "cell_type": "code",
   "execution_count": 150,
   "id": "1d2bacbd-fbb1-45b0-9fdb-672f378669bc",
   "metadata": {},
   "outputs": [],
   "source": [
    "l = [12,3,4,5,6,7,8,76,5,4,3,5,6,7,5,4]"
   ]
  },
  {
   "cell_type": "code",
   "execution_count": 154,
   "id": "6d957966-55fe-46aa-8681-c31c8f7b4a03",
   "metadata": {},
   "outputs": [
    {
     "data": {
      "text/plain": [
       "[12, 4, 6, 8, 76, 4, 6, 4]"
      ]
     },
     "execution_count": 154,
     "metadata": {},
     "output_type": "execute_result"
    }
   ],
   "source": [
    "l1 = []\n",
    "for i in l:\n",
    "    if i%2 == 0:\n",
    "        l1.append(i)\n",
    "l1"
   ]
  },
  {
   "cell_type": "markdown",
   "id": "76bcc01a-ea4a-43d3-a0c7-e2d5d0eb9f3f",
   "metadata": {},
   "source": [
    "26. Convert a list of strings to a list of integers."
   ]
  },
  {
   "cell_type": "code",
   "execution_count": 166,
   "id": "43e0b24b-1fc4-4306-9db7-443754a4aa23",
   "metadata": {},
   "outputs": [],
   "source": [
    "l = [\"54824\",\"2735678925\",\"5728\",\"27\"]"
   ]
  },
  {
   "cell_type": "code",
   "execution_count": 167,
   "id": "00c94a06-602f-4f10-8ac7-133143e1ca0f",
   "metadata": {},
   "outputs": [
    {
     "data": {
      "text/plain": [
       "[54824, 2735678925, 5728, 27]"
      ]
     },
     "execution_count": 167,
     "metadata": {},
     "output_type": "execute_result"
    }
   ],
   "source": [
    "l1 = []\n",
    "for i in l:\n",
    "    l1.append(int(i))\n",
    "l1"
   ]
  },
  {
   "cell_type": "markdown",
   "id": "daf00824-7490-4628-911d-207e229ebf60",
   "metadata": {},
   "source": [
    "27. Convert a list of integers to a list of strings."
   ]
  },
  {
   "cell_type": "code",
   "execution_count": 163,
   "id": "b7961a00-c16e-482d-9211-0bc93f40ad05",
   "metadata": {},
   "outputs": [],
   "source": [
    "l = [54824, 2735678925, 5728, 27]"
   ]
  },
  {
   "cell_type": "code",
   "execution_count": 168,
   "id": "695eaee1-2d15-48b4-b16f-2307016f63e0",
   "metadata": {},
   "outputs": [
    {
     "data": {
      "text/plain": [
       "['54824', '2735678925', '5728', '27']"
      ]
     },
     "execution_count": 168,
     "metadata": {},
     "output_type": "execute_result"
    }
   ],
   "source": [
    "l1 = []\n",
    "for i in l:\n",
    "    l1.append(str(i))\n",
    "l1"
   ]
  },
  {
   "cell_type": "markdown",
   "id": "f4f0fbe0-4a07-4bd4-af69-2171cd90dedd",
   "metadata": {},
   "source": [
    "28. Flatten a nested list."
   ]
  },
  {
   "cell_type": "code",
   "execution_count": 169,
   "id": "7f0d3212-22f3-4c85-b990-2d673fccd696",
   "metadata": {},
   "outputs": [],
   "source": [
    "l = [1,2,[3,4],[\"dfj\",\"sfgjk\"]]"
   ]
  },
  {
   "cell_type": "code",
   "execution_count": 171,
   "id": "8a6d8d0e-0043-49aa-ae95-1cba5ed60e3a",
   "metadata": {},
   "outputs": [
    {
     "data": {
      "text/plain": [
       "[1, 2, 3, 4, 'dfj', 'sfgjk']"
      ]
     },
     "execution_count": 171,
     "metadata": {},
     "output_type": "execute_result"
    }
   ],
   "source": [
    "l1 = []\n",
    "for i in l:\n",
    "    if type(i) == list:\n",
    "        for j in i:\n",
    "            l1.append(j)\n",
    "    else:\n",
    "        l1.append(i)\n",
    "l1"
   ]
  },
  {
   "cell_type": "markdown",
   "id": "58631dcb-d0af-4af7-b40f-7e180e84fefc",
   "metadata": {},
   "source": [
    "29. Create a list of the first 10 Fibonacci numbers."
   ]
  },
  {
   "cell_type": "code",
   "execution_count": null,
   "id": "d8a4d79f-2289-4d32-baa7-b95e87143ca4",
   "metadata": {},
   "outputs": [],
   "source": [
    "1 = 0\n",
    "while n <=10:\n",
    "    n = n + n-1\n",
    "    print(n)\n",
    "    n = n+1"
   ]
  },
  {
   "cell_type": "code",
   "execution_count": null,
   "id": "5d31d197-06cb-464f-bed1-76c139b78831",
   "metadata": {},
   "outputs": [],
   "source": []
  },
  {
   "cell_type": "markdown",
   "id": "781976a8-3789-4fc7-ba40-2230a057c6bb",
   "metadata": {},
   "source": [
    "30. Check if a list is sorted."
   ]
  },
  {
   "cell_type": "code",
   "execution_count": 181,
   "id": "060b5b53-629c-4864-a944-71cd78aca8b7",
   "metadata": {},
   "outputs": [],
   "source": [
    "l = [12,3,4,5,6,7,8,76,5,4,3,5,6,7,5,4]"
   ]
  },
  {
   "cell_type": "code",
   "execution_count": 182,
   "id": "fe8d6cdb-24c6-4288-8f63-0ef0f994e94a",
   "metadata": {},
   "outputs": [],
   "source": [
    "l.sort()"
   ]
  },
  {
   "cell_type": "code",
   "execution_count": 183,
   "id": "bab9e9ff-e22f-462f-a9a7-e169499bf500",
   "metadata": {},
   "outputs": [
    {
     "data": {
      "text/plain": [
       "[3, 3, 4, 4, 4, 5, 5, 5, 5, 6, 6, 7, 7, 8, 12, 76]"
      ]
     },
     "execution_count": 183,
     "metadata": {},
     "output_type": "execute_result"
    }
   ],
   "source": [
    "l"
   ]
  },
  {
   "cell_type": "markdown",
   "id": "53c954d1-40f8-4cc6-945e-c20d9b28aecb",
   "metadata": {},
   "source": [
    "31. Rotate a list to the left by `n` positions."
   ]
  },
  {
   "cell_type": "code",
   "execution_count": 189,
   "id": "a5ba662c-7796-41c4-a408-974a43494015",
   "metadata": {},
   "outputs": [],
   "source": [
    "l = [3,4,5,6,7]"
   ]
  },
  {
   "cell_type": "code",
   "execution_count": 190,
   "id": "1d68920a-1c74-41f8-9205-381a8d6e29a8",
   "metadata": {},
   "outputs": [
    {
     "data": {
      "text/plain": [
       "'[3, 4, 5, 6, 7]'"
      ]
     },
     "execution_count": 190,
     "metadata": {},
     "output_type": "execute_result"
    }
   ],
   "source": [
    "str(l)"
   ]
  },
  {
   "cell_type": "code",
   "execution_count": 192,
   "id": "8790af16-9c33-436d-a632-845376fbcbd5",
   "metadata": {},
   "outputs": [],
   "source": [
    "l1 = l[3:] +l[:3]"
   ]
  },
  {
   "cell_type": "code",
   "execution_count": 195,
   "id": "96b12c62-6401-4fdf-8e5b-c8a4229456d2",
   "metadata": {},
   "outputs": [
    {
     "data": {
      "text/plain": [
       "[6, 7, 3, 4, 5]"
      ]
     },
     "execution_count": 195,
     "metadata": {},
     "output_type": "execute_result"
    }
   ],
   "source": [
    "#Rotated the list to the left by 3 position\n",
    "l1"
   ]
  },
  {
   "cell_type": "markdown",
   "id": "53b6428e-189b-4b57-9736-a3b86ab6450b",
   "metadata": {},
   "source": [
    "32. Rotate a list to the right by `n` positions."
   ]
  },
  {
   "cell_type": "code",
   "execution_count": 196,
   "id": "c33658d7-b04c-4f6d-b8f0-9d569bf923a8",
   "metadata": {},
   "outputs": [
    {
     "data": {
      "text/plain": [
       "[3, 4, 5, 6, 7]"
      ]
     },
     "execution_count": 196,
     "metadata": {},
     "output_type": "execute_result"
    }
   ],
   "source": [
    "l"
   ]
  },
  {
   "cell_type": "code",
   "execution_count": 197,
   "id": "bbadf128-c2f0-4d4a-a088-d8501efb29fd",
   "metadata": {},
   "outputs": [
    {
     "data": {
      "text/plain": [
       "'[3, 4, 5, 6, 7]'"
      ]
     },
     "execution_count": 197,
     "metadata": {},
     "output_type": "execute_result"
    }
   ],
   "source": [
    "str(l)"
   ]
  },
  {
   "cell_type": "code",
   "execution_count": 198,
   "id": "e973202b-43a4-496b-8fb2-d820bb0af334",
   "metadata": {},
   "outputs": [],
   "source": [
    "l1 = l[-2:] + l[:-2]"
   ]
  },
  {
   "cell_type": "code",
   "execution_count": 199,
   "id": "817468bc-acff-477c-ae36-297e8acaa8e5",
   "metadata": {},
   "outputs": [
    {
     "data": {
      "text/plain": [
       "[5, 6, 7, 3, 4]"
      ]
     },
     "execution_count": 199,
     "metadata": {},
     "output_type": "execute_result"
    }
   ],
   "source": [
    "#Rotated the list to the right by 2 position\n",
    "l1"
   ]
  },
  {
   "cell_type": "markdown",
   "id": "4399bf82-9c8c-4a45-9c23-5469e566ce8c",
   "metadata": {},
   "source": [
    "33. Create a list of prime numbers up to 50."
   ]
  },
  {
   "cell_type": "code",
   "execution_count": null,
   "id": "054cc6e4-7d0e-43b5-b56b-020c6b0981b7",
   "metadata": {},
   "outputs": [],
   "source": [
    "l1= []\n",
    "for i in range(1,51):\n",
    "    if i%i ==\n",
    "    l1.append"
   ]
  },
  {
   "cell_type": "code",
   "execution_count": null,
   "id": "a0d20cc6-02c9-46b1-b44d-8251dcff5c15",
   "metadata": {},
   "outputs": [],
   "source": []
  },
  {
   "cell_type": "markdown",
   "id": "348e602b-cda4-42c6-b9ed-962aa540a9cf",
   "metadata": {},
   "source": [
    "34. Split a list into chunks of size `n`."
   ]
  },
  {
   "cell_type": "code",
   "execution_count": 201,
   "id": "9296b0a1-58fb-4c27-b934-db615156ede8",
   "metadata": {},
   "outputs": [],
   "source": [
    "l = [12,3,4,5,6,7,8,76,5,4,3,5,6,7,5,4]"
   ]
  },
  {
   "cell_type": "code",
   "execution_count": null,
   "id": "bbc22d48-f8c4-4a50-a762-0028000995a8",
   "metadata": {},
   "outputs": [],
   "source": [
    "for i in range(,len(l),3):\n",
    "    "
   ]
  },
  {
   "cell_type": "markdown",
   "id": "21bd8ccf-ede6-407d-a730-931996a10334",
   "metadata": {},
   "source": [
    "35. Find the second largest number in a list."
   ]
  },
  {
   "cell_type": "code",
   "execution_count": 217,
   "id": "a689b5c2-98b0-4ca0-8117-387e11545312",
   "metadata": {},
   "outputs": [
    {
     "data": {
      "text/plain": [
       "[3, 3, 4, 4, 4, 5, 5, 5, 5, 6, 6, 7, 7, 8, 12, 76]"
      ]
     },
     "execution_count": 217,
     "metadata": {},
     "output_type": "execute_result"
    }
   ],
   "source": [
    "l"
   ]
  },
  {
   "cell_type": "code",
   "execution_count": 218,
   "id": "198559c1-7ceb-49f0-b8b5-31726455e118",
   "metadata": {},
   "outputs": [],
   "source": [
    "l.sort()"
   ]
  },
  {
   "cell_type": "code",
   "execution_count": 219,
   "id": "8c1a26e5-2593-495e-a751-e1e4c2079a52",
   "metadata": {},
   "outputs": [
    {
     "data": {
      "text/plain": [
       "12"
      ]
     },
     "execution_count": 219,
     "metadata": {},
     "output_type": "execute_result"
    }
   ],
   "source": [
    "l[-2]"
   ]
  },
  {
   "cell_type": "markdown",
   "id": "cd4c5139-fb33-4a86-b197-33171d1ce90a",
   "metadata": {},
   "source": [
    "36. Replace every element in a list with its square."
   ]
  },
  {
   "cell_type": "code",
   "execution_count": 220,
   "id": "1f546acb-7b38-45f8-addf-eafc57eb5cfb",
   "metadata": {},
   "outputs": [],
   "source": [
    "l = [1,2,3,4,5]"
   ]
  },
  {
   "cell_type": "code",
   "execution_count": 221,
   "id": "182cad3d-51a5-4d47-8470-533f39fdd7aa",
   "metadata": {},
   "outputs": [
    {
     "data": {
      "text/plain": [
       "[1, 4, 9, 16, 25]"
      ]
     },
     "execution_count": 221,
     "metadata": {},
     "output_type": "execute_result"
    }
   ],
   "source": [
    "l1 = []\n",
    "for i in l:\n",
    "    l1.append(i**2)\n",
    "l1"
   ]
  },
  {
   "cell_type": "markdown",
   "id": "1404d5af-c556-4045-9395-34bc39dd907d",
   "metadata": {},
   "source": [
    "37. Convert a list to a dictionary where list elements become keys and their\n",
    "indices become values."
   ]
  },
  {
   "cell_type": "code",
   "execution_count": 222,
   "id": "ff45cc1c-3a8e-4471-939d-4d8a9b52088d",
   "metadata": {},
   "outputs": [
    {
     "data": {
      "text/plain": [
       "[1, 2, 3, 4, 5]"
      ]
     },
     "execution_count": 222,
     "metadata": {},
     "output_type": "execute_result"
    }
   ],
   "source": [
    "l"
   ]
  },
  {
   "cell_type": "code",
   "execution_count": 229,
   "id": "a400c49a-6771-48c5-af24-c7300eb02370",
   "metadata": {},
   "outputs": [],
   "source": [
    "d = dict(enumerate(l))"
   ]
  },
  {
   "cell_type": "code",
   "execution_count": 230,
   "id": "9ce43bf1-9a37-482c-bddf-92c10416f076",
   "metadata": {},
   "outputs": [
    {
     "data": {
      "text/plain": [
       "{0: 1, 1: 2, 2: 3, 3: 4, 4: 5}"
      ]
     },
     "execution_count": 230,
     "metadata": {},
     "output_type": "execute_result"
    }
   ],
   "source": [
    "d"
   ]
  },
  {
   "cell_type": "markdown",
   "id": "ac02df61-1406-4304-8438-67011eac41a7",
   "metadata": {},
   "source": [
    "38. Shuffle the elements of a list randomly."
   ]
  },
  {
   "cell_type": "code",
   "execution_count": 240,
   "id": "f248dc17-bf96-4acd-bb84-543749e8d449",
   "metadata": {},
   "outputs": [],
   "source": [
    "l = [12,3,4,5,6,\"sgd\", \"rish\", True]"
   ]
  },
  {
   "cell_type": "code",
   "execution_count": 241,
   "id": "f0216b99-c6a3-44ee-8329-d9aab808979d",
   "metadata": {},
   "outputs": [
    {
     "data": {
      "text/plain": [
       "[12, 3, 4, 5, 6, 'sgd', 'rish', True]"
      ]
     },
     "execution_count": 241,
     "metadata": {},
     "output_type": "execute_result"
    }
   ],
   "source": [
    "l"
   ]
  },
  {
   "cell_type": "markdown",
   "id": "3c845343-84b0-4bb9-bf05-c01b6ba635d0",
   "metadata": {},
   "source": [
    "39. Create a list of the first 10 factorial numbers."
   ]
  },
  {
   "cell_type": "code",
   "execution_count": null,
   "id": "e6233ca9-33c8-4041-9e6b-812f04abf388",
   "metadata": {},
   "outputs": [],
   "source": []
  },
  {
   "cell_type": "markdown",
   "id": "3f5bbfd2-5bbe-415d-8824-0fec893fcc96",
   "metadata": {},
   "source": [
    "40. Check if two lists have at least one element in common."
   ]
  },
  {
   "cell_type": "code",
   "execution_count": null,
   "id": "92194133-148c-4546-862f-c3932a1b23ca",
   "metadata": {},
   "outputs": [],
   "source": []
  },
  {
   "cell_type": "markdown",
   "id": "4a5f8478-686f-4422-84cf-61cef5392bbb",
   "metadata": {},
   "source": [
    "41. Remove all elements from a list."
   ]
  },
  {
   "cell_type": "code",
   "execution_count": 244,
   "id": "9b6a811b-7aa3-4a83-b457-41e2da87675e",
   "metadata": {},
   "outputs": [],
   "source": [
    "l = [12,3,4,5,6,\"sgd\", \"rish\", True]"
   ]
  },
  {
   "cell_type": "code",
   "execution_count": 245,
   "id": "9bc4e48d-c4f0-4c3b-aa14-60d5831e876c",
   "metadata": {},
   "outputs": [],
   "source": [
    "l.clear()"
   ]
  },
  {
   "cell_type": "code",
   "execution_count": 246,
   "id": "1577e6a1-be94-460a-b2ab-fc57e202676b",
   "metadata": {},
   "outputs": [
    {
     "data": {
      "text/plain": [
       "[]"
      ]
     },
     "execution_count": 246,
     "metadata": {},
     "output_type": "execute_result"
    }
   ],
   "source": [
    "l"
   ]
  },
  {
   "cell_type": "markdown",
   "id": "4d5ee19f-1237-4a1e-8a8f-ec8931b78ab3",
   "metadata": {},
   "source": [
    "42. Replace negative numbers in a list with 0."
   ]
  },
  {
   "cell_type": "code",
   "execution_count": 247,
   "id": "393cbb3c-ca7f-4068-9b61-80c48917a86e",
   "metadata": {},
   "outputs": [],
   "source": [
    "l = [1,2,-3,-21,45,-56,-87,90,67]"
   ]
  },
  {
   "cell_type": "code",
   "execution_count": 248,
   "id": "1b69d714-a3e9-4716-8487-1bc33cb88310",
   "metadata": {},
   "outputs": [
    {
     "data": {
      "text/plain": [
       "[1, 2, 0, 0, 45, 0, 0, 90, 67]"
      ]
     },
     "execution_count": 248,
     "metadata": {},
     "output_type": "execute_result"
    }
   ],
   "source": [
    "l1 = []\n",
    "for i in l:\n",
    "    if i <0:\n",
    "        l1.append(0)\n",
    "    else:\n",
    "        l1.append(i)\n",
    "l1"
   ]
  },
  {
   "cell_type": "markdown",
   "id": "3007c32d-35b9-4d9e-a361-436af31cc0e4",
   "metadata": {},
   "source": [
    "43. Convert a string into a list of words."
   ]
  },
  {
   "cell_type": "code",
   "execution_count": 249,
   "id": "abd7aa36-0c93-492e-bc27-9f9d9431e9a0",
   "metadata": {},
   "outputs": [],
   "source": [
    "s = \"I want to be a Data Scientist\""
   ]
  },
  {
   "cell_type": "code",
   "execution_count": 251,
   "id": "81b8120a-0c22-4b37-86ae-54bc206f68a2",
   "metadata": {},
   "outputs": [],
   "source": [
    "l = s.split(\" \")"
   ]
  },
  {
   "cell_type": "code",
   "execution_count": 252,
   "id": "ca7a5cab-7cb7-4f54-8105-927fb6390f1b",
   "metadata": {},
   "outputs": [
    {
     "data": {
      "text/plain": [
       "['I', 'want', 'to', 'be', 'a', 'Data', 'Scientist']"
      ]
     },
     "execution_count": 252,
     "metadata": {},
     "output_type": "execute_result"
    }
   ],
   "source": [
    "l"
   ]
  },
  {
   "cell_type": "markdown",
   "id": "47b0f49a-dcea-4644-ab21-014d403c25a1",
   "metadata": {},
   "source": [
    "44. Convert a list of words into a string."
   ]
  },
  {
   "cell_type": "code",
   "execution_count": 253,
   "id": "c2247856-1d2e-4b50-9918-19139819e73c",
   "metadata": {},
   "outputs": [],
   "source": [
    "l = ['I', 'want', 'to', 'be', 'a', 'Data', 'Scientist']"
   ]
  },
  {
   "cell_type": "code",
   "execution_count": 261,
   "id": "6535940e-7974-4303-85f9-2c0968ed6cf3",
   "metadata": {},
   "outputs": [
    {
     "data": {
      "text/plain": [
       "'IwanttobeaDataScientist'"
      ]
     },
     "execution_count": 261,
     "metadata": {},
     "output_type": "execute_result"
    }
   ],
   "source": [
    "\"\".join(l)"
   ]
  },
  {
   "cell_type": "markdown",
   "id": "546c90a5-e18d-499f-a930-0d23cfc1909c",
   "metadata": {},
   "source": [
    "45. Create a list of the first `n` powers of 2."
   ]
  },
  {
   "cell_type": "code",
   "execution_count": 267,
   "id": "9359a189-b926-4b2d-8f30-a575a22fd1ad",
   "metadata": {},
   "outputs": [
    {
     "name": "stdin",
     "output_type": "stream",
     "text": [
      "Enter the value of n: 8\n"
     ]
    },
    {
     "data": {
      "text/plain": [
       "[2, 4, 8, 16, 32, 64, 128]"
      ]
     },
     "execution_count": 267,
     "metadata": {},
     "output_type": "execute_result"
    }
   ],
   "source": [
    "l = []\n",
    "n = int(input(\"Enter the value of n:\"))\n",
    "for i in range(1,n):\n",
    "    l.append(2**i)\n",
    "l"
   ]
  },
  {
   "cell_type": "markdown",
   "id": "49d8ea32-4725-41a8-881e-b8ee40471a9c",
   "metadata": {},
   "source": [
    "46. Find the longest string in a list of strings."
   ]
  },
  {
   "cell_type": "code",
   "execution_count": null,
   "id": "d53bae07-e5fe-4fe5-928e-13861957c7d3",
   "metadata": {},
   "outputs": [],
   "source": []
  },
  {
   "cell_type": "markdown",
   "id": "f9a83fc6-9d58-4bfb-b8ec-d73919a1f5ac",
   "metadata": {},
   "source": [
    "47. Find the shortest string in a list of strings."
   ]
  },
  {
   "cell_type": "code",
   "execution_count": null,
   "id": "ed616dba-5995-4378-a7e0-7a383ad70497",
   "metadata": {},
   "outputs": [],
   "source": []
  },
  {
   "cell_type": "markdown",
   "id": "bd5573c7-6dc4-4dcc-ab09-2b83addf6052",
   "metadata": {},
   "source": [
    "48. Create a list of the first `n` triangular numbers."
   ]
  },
  {
   "cell_type": "code",
   "execution_count": 269,
   "id": "c879627c-d2fe-4cb6-a098-434521aa1e6b",
   "metadata": {},
   "outputs": [
    {
     "name": "stdin",
     "output_type": "stream",
     "text": [
      "Enter the value of n: 10\n"
     ]
    },
    {
     "data": {
      "text/plain": [
       "[0.0, 1.0, 3.0, 6.0, 10.0, 15.0, 21.0, 28.0, 36.0, 45.0]"
      ]
     },
     "execution_count": 269,
     "metadata": {},
     "output_type": "execute_result"
    }
   ],
   "source": [
    "l = []\n",
    "n = int(input(\"Enter the value of n:\"))\n",
    "for i in range(0,n):\n",
    "    j = (i+1)*(i/2)\n",
    "    l.append(j)\n",
    "l"
   ]
  },
  {
   "cell_type": "markdown",
   "id": "cbb410e1-90a4-47b7-8d0e-5e24f0a88808",
   "metadata": {},
   "source": [
    "49. Check if a list contains another list as a subsequence."
   ]
  },
  {
   "cell_type": "code",
   "execution_count": null,
   "id": "69bb9d01-d3c3-4585-ae81-1158b3daf9aa",
   "metadata": {},
   "outputs": [],
   "source": []
  },
  {
   "cell_type": "markdown",
   "id": "7423c376-358a-4a62-9887-ffefa0732788",
   "metadata": {},
   "source": [
    "50. Swap two elements in a list by their indices."
   ]
  },
  {
   "cell_type": "code",
   "execution_count": 271,
   "id": "96eb798e-6e5a-410b-a2fc-4c2444368e83",
   "metadata": {},
   "outputs": [],
   "source": [
    "l = [12,3,4,5,6,\"sgd\", \"rish\", True]"
   ]
  },
  {
   "cell_type": "code",
   "execution_count": null,
   "id": "a814a46d-9ccf-47e5-802d-8a928ac3d75a",
   "metadata": {},
   "outputs": [],
   "source": [
    "l.swap()"
   ]
  },
  {
   "cell_type": "markdown",
   "id": "de0de1b1-4248-4cfe-b150-0e9da5d9ff93",
   "metadata": {},
   "source": [
    "Tuple Based Practice Problem :"
   ]
  },
  {
   "cell_type": "markdown",
   "id": "a7e2688b-9b6a-40af-bbe4-8815cf1d669a",
   "metadata": {},
   "source": [
    "1. Create a tuple with integers from 1 to 5."
   ]
  },
  {
   "cell_type": "code",
   "execution_count": 86,
   "id": "84524fc3-1021-46f9-825a-0162b9ec6d81",
   "metadata": {},
   "outputs": [],
   "source": [
    "t = tuple(range(1,6))"
   ]
  },
  {
   "cell_type": "code",
   "execution_count": 87,
   "id": "18a94288-ea85-4dfc-b975-54f9efd53452",
   "metadata": {},
   "outputs": [
    {
     "data": {
      "text/plain": [
       "(1, 2, 3, 4, 5)"
      ]
     },
     "execution_count": 87,
     "metadata": {},
     "output_type": "execute_result"
    }
   ],
   "source": [
    "t"
   ]
  },
  {
   "cell_type": "markdown",
   "id": "aecdb3c1-8323-45c0-ab76-fbe55c521648",
   "metadata": {},
   "source": [
    "2. Access the third element of a tuple."
   ]
  },
  {
   "cell_type": "code",
   "execution_count": 88,
   "id": "19b8da7a-cede-45b9-8077-9598bd5095e1",
   "metadata": {},
   "outputs": [
    {
     "data": {
      "text/plain": [
       "(1, 2, 3, 4, 5)"
      ]
     },
     "execution_count": 88,
     "metadata": {},
     "output_type": "execute_result"
    }
   ],
   "source": [
    "t"
   ]
  },
  {
   "cell_type": "code",
   "execution_count": 89,
   "id": "d9a89de1-348a-4fc9-a747-b7ba077d2248",
   "metadata": {},
   "outputs": [
    {
     "data": {
      "text/plain": [
       "3"
      ]
     },
     "execution_count": 89,
     "metadata": {},
     "output_type": "execute_result"
    }
   ],
   "source": [
    "t[2]"
   ]
  },
  {
   "cell_type": "markdown",
   "id": "ab4ab693-f1f4-4556-b080-7d2a7b9e1fb1",
   "metadata": {},
   "source": [
    "3. Find the length of a tuple without using the `len()` function."
   ]
  },
  {
   "cell_type": "code",
   "execution_count": 90,
   "id": "afb3ddc2-9ca5-4ad0-9fb1-79c31ce0e378",
   "metadata": {},
   "outputs": [
    {
     "data": {
      "text/plain": [
       "(1, 2, 3, 4, 5)"
      ]
     },
     "execution_count": 90,
     "metadata": {},
     "output_type": "execute_result"
    }
   ],
   "source": [
    "t"
   ]
  },
  {
   "cell_type": "code",
   "execution_count": 11,
   "id": "2214cda1-3d03-40c3-a72d-0186c73c111d",
   "metadata": {},
   "outputs": [
    {
     "name": "stdout",
     "output_type": "stream",
     "text": [
      "5\n"
     ]
    }
   ],
   "source": [
    "c = 0\n",
    "for i in t:\n",
    "    c = c + 1\n",
    "print(c)"
   ]
  },
  {
   "cell_type": "markdown",
   "id": "d3defc9e-92fe-4fe2-b69d-dd2fcb86c34b",
   "metadata": {},
   "source": [
    "4. Count the occurrences of an element in a tuple."
   ]
  },
  {
   "cell_type": "code",
   "execution_count": 18,
   "id": "8c9c4fe1-60af-4ca5-9d88-fd2fa9706b25",
   "metadata": {},
   "outputs": [],
   "source": [
    "t = (1,2,3,4,5,6,2,3,4,5,6,4,3,45,6,43,3,33,2,2,2)"
   ]
  },
  {
   "cell_type": "code",
   "execution_count": 19,
   "id": "0deb8df9-326e-4d29-845e-b19fa4f05209",
   "metadata": {},
   "outputs": [
    {
     "data": {
      "text/plain": [
       "5"
      ]
     },
     "execution_count": 19,
     "metadata": {},
     "output_type": "execute_result"
    }
   ],
   "source": [
    "t.count(2)"
   ]
  },
  {
   "cell_type": "markdown",
   "id": "70644867-0ad3-43f3-806c-cf9d38fdb26f",
   "metadata": {},
   "source": [
    "5. Find the index of the first occurrence of an element in a tuple."
   ]
  },
  {
   "cell_type": "code",
   "execution_count": 20,
   "id": "cfb714e9-1d04-41ec-8017-501e8e78b5fd",
   "metadata": {},
   "outputs": [
    {
     "data": {
      "text/plain": [
       "(1, 2, 3, 4, 5, 6, 2, 3, 4, 5, 6, 4, 3, 45, 6, 43, 3, 33, 2, 2, 2)"
      ]
     },
     "execution_count": 20,
     "metadata": {},
     "output_type": "execute_result"
    }
   ],
   "source": [
    "t"
   ]
  },
  {
   "cell_type": "code",
   "execution_count": 21,
   "id": "2c0f5d59-cbf5-4cbe-8f57-4c68fd9e146c",
   "metadata": {},
   "outputs": [
    {
     "data": {
      "text/plain": [
       "5"
      ]
     },
     "execution_count": 21,
     "metadata": {},
     "output_type": "execute_result"
    }
   ],
   "source": [
    "t.index(6)"
   ]
  },
  {
   "cell_type": "markdown",
   "id": "1709ce99-f453-4df9-aea5-b43fe0971b8d",
   "metadata": {},
   "source": [
    "6. Check if an element exists in a tuple."
   ]
  },
  {
   "cell_type": "code",
   "execution_count": 22,
   "id": "bae4df14-c288-4442-b7fc-06453628907d",
   "metadata": {},
   "outputs": [
    {
     "data": {
      "text/plain": [
       "(1, 2, 3, 4, 5, 6, 2, 3, 4, 5, 6, 4, 3, 45, 6, 43, 3, 33, 2, 2, 2)"
      ]
     },
     "execution_count": 22,
     "metadata": {},
     "output_type": "execute_result"
    }
   ],
   "source": [
    "t"
   ]
  },
  {
   "cell_type": "code",
   "execution_count": 29,
   "id": "434a45f2-e8d8-4741-b6bf-328464bfa346",
   "metadata": {},
   "outputs": [
    {
     "data": {
      "text/plain": [
       "True"
      ]
     },
     "execution_count": 29,
     "metadata": {},
     "output_type": "execute_result"
    }
   ],
   "source": [
    "45 in t"
   ]
  },
  {
   "cell_type": "markdown",
   "id": "a5ebf64f-6657-4908-be45-c933a7d56dd7",
   "metadata": {},
   "source": [
    "7. Convert a tuple to a list."
   ]
  },
  {
   "cell_type": "code",
   "execution_count": 31,
   "id": "1db6258e-afdf-4287-bb5b-fa0546c86850",
   "metadata": {},
   "outputs": [
    {
     "data": {
      "text/plain": [
       "(1, 2, 3, 4, 5, 6, 2, 3, 4, 5, 6, 4, 3, 45, 6, 43, 3, 33, 2, 2, 2)"
      ]
     },
     "execution_count": 31,
     "metadata": {},
     "output_type": "execute_result"
    }
   ],
   "source": [
    "t"
   ]
  },
  {
   "cell_type": "code",
   "execution_count": 32,
   "id": "39cce9b8-853b-46b8-9b73-85096383e293",
   "metadata": {},
   "outputs": [
    {
     "data": {
      "text/plain": [
       "tuple"
      ]
     },
     "execution_count": 32,
     "metadata": {},
     "output_type": "execute_result"
    }
   ],
   "source": [
    "type(t)"
   ]
  },
  {
   "cell_type": "code",
   "execution_count": 33,
   "id": "9e010589-ca4a-484d-b3aa-5a144b0cc350",
   "metadata": {},
   "outputs": [],
   "source": [
    "l = list(t)"
   ]
  },
  {
   "cell_type": "code",
   "execution_count": 34,
   "id": "b323be65-c195-44a8-9e9c-093f0414b346",
   "metadata": {},
   "outputs": [
    {
     "data": {
      "text/plain": [
       "[1, 2, 3, 4, 5, 6, 2, 3, 4, 5, 6, 4, 3, 45, 6, 43, 3, 33, 2, 2, 2]"
      ]
     },
     "execution_count": 34,
     "metadata": {},
     "output_type": "execute_result"
    }
   ],
   "source": [
    "l"
   ]
  },
  {
   "cell_type": "code",
   "execution_count": 35,
   "id": "d44e10ef-bffb-4819-8d50-904bc0d47f93",
   "metadata": {},
   "outputs": [
    {
     "data": {
      "text/plain": [
       "list"
      ]
     },
     "execution_count": 35,
     "metadata": {},
     "output_type": "execute_result"
    }
   ],
   "source": [
    "type(l)"
   ]
  },
  {
   "cell_type": "markdown",
   "id": "3a634b33-10c6-4806-85db-e8bf64d98382",
   "metadata": {},
   "source": [
    "8. Convert a list to a tuple."
   ]
  },
  {
   "cell_type": "code",
   "execution_count": 36,
   "id": "baa55823-3693-49c9-beda-5b03ef5eb17b",
   "metadata": {},
   "outputs": [],
   "source": [
    "l = [\"rish\", 2,3,4,5,63,True,4+7j]"
   ]
  },
  {
   "cell_type": "code",
   "execution_count": 37,
   "id": "b2fba30a-bf54-4a47-8d6e-e9098b700de1",
   "metadata": {},
   "outputs": [
    {
     "data": {
      "text/plain": [
       "['rish', 2, 3, 4, 5, 63, True, (4+7j)]"
      ]
     },
     "execution_count": 37,
     "metadata": {},
     "output_type": "execute_result"
    }
   ],
   "source": [
    "l"
   ]
  },
  {
   "cell_type": "code",
   "execution_count": 38,
   "id": "1fe33d5f-120d-457d-99fd-d2996b591473",
   "metadata": {},
   "outputs": [
    {
     "data": {
      "text/plain": [
       "list"
      ]
     },
     "execution_count": 38,
     "metadata": {},
     "output_type": "execute_result"
    }
   ],
   "source": [
    "type(l)"
   ]
  },
  {
   "cell_type": "code",
   "execution_count": 40,
   "id": "f9b4745b-fb1e-4985-adc5-b4da3d3bf5b6",
   "metadata": {},
   "outputs": [],
   "source": [
    "t = tuple(l)"
   ]
  },
  {
   "cell_type": "code",
   "execution_count": 41,
   "id": "f7790c60-767c-4a3d-94fb-c008bd2ad491",
   "metadata": {},
   "outputs": [
    {
     "data": {
      "text/plain": [
       "('rish', 2, 3, 4, 5, 63, True, (4+7j))"
      ]
     },
     "execution_count": 41,
     "metadata": {},
     "output_type": "execute_result"
    }
   ],
   "source": [
    "t"
   ]
  },
  {
   "cell_type": "code",
   "execution_count": 43,
   "id": "c6b0235c-6f49-4ef6-9558-66def8a564a3",
   "metadata": {},
   "outputs": [
    {
     "data": {
      "text/plain": [
       "tuple"
      ]
     },
     "execution_count": 43,
     "metadata": {},
     "output_type": "execute_result"
    }
   ],
   "source": [
    "type(t)"
   ]
  },
  {
   "cell_type": "markdown",
   "id": "33683fcf-c4a0-4ecc-b855-3183440c797f",
   "metadata": {},
   "source": [
    "9. Unpack the elements of a tuple into variables."
   ]
  },
  {
   "cell_type": "code",
   "execution_count": 44,
   "id": "cc8291a6-b024-48f2-aaa9-21915741747b",
   "metadata": {},
   "outputs": [
    {
     "data": {
      "text/plain": [
       "('rish', 2, 3, 4, 5, 63, True, (4+7j))"
      ]
     },
     "execution_count": 44,
     "metadata": {},
     "output_type": "execute_result"
    }
   ],
   "source": [
    "t"
   ]
  },
  {
   "cell_type": "code",
   "execution_count": 45,
   "id": "35775f2f-a890-4955-a120-e0bd19cf81b2",
   "metadata": {},
   "outputs": [],
   "source": [
    "a,b,c,d,e,f,g,h = t"
   ]
  },
  {
   "cell_type": "code",
   "execution_count": 50,
   "id": "34e6a006-a57f-491c-b8c5-870b47a76799",
   "metadata": {},
   "outputs": [
    {
     "data": {
      "text/plain": [
       "'rish'"
      ]
     },
     "execution_count": 50,
     "metadata": {},
     "output_type": "execute_result"
    }
   ],
   "source": [
    "a"
   ]
  },
  {
   "cell_type": "code",
   "execution_count": 47,
   "id": "b54be415-7bbd-4258-ba27-07e98176bd51",
   "metadata": {},
   "outputs": [
    {
     "data": {
      "text/plain": [
       "2"
      ]
     },
     "execution_count": 47,
     "metadata": {},
     "output_type": "execute_result"
    }
   ],
   "source": [
    "b"
   ]
  },
  {
   "cell_type": "code",
   "execution_count": 48,
   "id": "ef77d21d-ef47-4a8b-8a6d-b1f8d4b6652b",
   "metadata": {},
   "outputs": [
    {
     "data": {
      "text/plain": [
       "3"
      ]
     },
     "execution_count": 48,
     "metadata": {},
     "output_type": "execute_result"
    }
   ],
   "source": [
    "c"
   ]
  },
  {
   "cell_type": "code",
   "execution_count": 51,
   "id": "108a2251-9e06-4a3a-b4a5-c1d89d81e5ee",
   "metadata": {},
   "outputs": [
    {
     "data": {
      "text/plain": [
       "4"
      ]
     },
     "execution_count": 51,
     "metadata": {},
     "output_type": "execute_result"
    }
   ],
   "source": [
    "d"
   ]
  },
  {
   "cell_type": "code",
   "execution_count": 52,
   "id": "1fafca6a-9ef9-4981-ab62-9891503f5bb0",
   "metadata": {},
   "outputs": [
    {
     "data": {
      "text/plain": [
       "5"
      ]
     },
     "execution_count": 52,
     "metadata": {},
     "output_type": "execute_result"
    }
   ],
   "source": [
    "e"
   ]
  },
  {
   "cell_type": "code",
   "execution_count": 53,
   "id": "41970022-f334-4654-b413-b73595a40db7",
   "metadata": {},
   "outputs": [
    {
     "data": {
      "text/plain": [
       "63"
      ]
     },
     "execution_count": 53,
     "metadata": {},
     "output_type": "execute_result"
    }
   ],
   "source": [
    "f"
   ]
  },
  {
   "cell_type": "code",
   "execution_count": 54,
   "id": "be6d937f-ba54-4b8e-a1ba-d27c643a4746",
   "metadata": {},
   "outputs": [
    {
     "data": {
      "text/plain": [
       "True"
      ]
     },
     "execution_count": 54,
     "metadata": {},
     "output_type": "execute_result"
    }
   ],
   "source": [
    "g"
   ]
  },
  {
   "cell_type": "code",
   "execution_count": 55,
   "id": "524ea813-761e-4e2a-bab6-438e6018b48d",
   "metadata": {},
   "outputs": [
    {
     "data": {
      "text/plain": [
       "(4+7j)"
      ]
     },
     "execution_count": 55,
     "metadata": {},
     "output_type": "execute_result"
    }
   ],
   "source": [
    "h"
   ]
  },
  {
   "cell_type": "markdown",
   "id": "75af12d9-9dab-4907-a204-72427e9521a0",
   "metadata": {},
   "source": [
    "10. Create a tuple of even numbers from 1 to 10."
   ]
  },
  {
   "cell_type": "code",
   "execution_count": 59,
   "id": "45ca4e00-3931-44fd-8700-d52382f0b030",
   "metadata": {},
   "outputs": [
    {
     "data": {
      "text/plain": [
       "[2, 4, 6, 8, 10]"
      ]
     },
     "execution_count": 59,
     "metadata": {},
     "output_type": "execute_result"
    }
   ],
   "source": [
    "l = []\n",
    "for i in range(1,11):\n",
    "    if i %2 == 0:\n",
    "        l.append(i)\n",
    "l"
   ]
  },
  {
   "cell_type": "code",
   "execution_count": 60,
   "id": "508acb54-0621-4fbe-9834-656383c71bac",
   "metadata": {},
   "outputs": [],
   "source": [
    "t = tuple(l)"
   ]
  },
  {
   "cell_type": "code",
   "execution_count": 61,
   "id": "1bd736a8-80ed-460d-9e5c-296dfdf6911a",
   "metadata": {},
   "outputs": [
    {
     "data": {
      "text/plain": [
       "(2, 4, 6, 8, 10)"
      ]
     },
     "execution_count": 61,
     "metadata": {},
     "output_type": "execute_result"
    }
   ],
   "source": [
    "t"
   ]
  },
  {
   "cell_type": "markdown",
   "id": "7c9cfd18-aea3-4324-ac77-79a799f8f5f8",
   "metadata": {},
   "source": [
    "11. Create a tuple of odd numbers from 1 to 10."
   ]
  },
  {
   "cell_type": "code",
   "execution_count": 62,
   "id": "3593d349-89d2-4ce9-94aa-18e8a734d249",
   "metadata": {},
   "outputs": [
    {
     "data": {
      "text/plain": [
       "[1, 3, 5, 7, 9]"
      ]
     },
     "execution_count": 62,
     "metadata": {},
     "output_type": "execute_result"
    }
   ],
   "source": [
    "l = []\n",
    "for i in range(1,11):\n",
    "    if i %2 != 0:\n",
    "        l.append(i)\n",
    "l"
   ]
  },
  {
   "cell_type": "code",
   "execution_count": 63,
   "id": "a07ca0c9-f775-49a4-b253-43335b7073b6",
   "metadata": {},
   "outputs": [],
   "source": [
    "t = tuple(l)"
   ]
  },
  {
   "cell_type": "code",
   "execution_count": 64,
   "id": "51e38865-3ec4-405d-802f-e8dc7d276ea5",
   "metadata": {},
   "outputs": [
    {
     "data": {
      "text/plain": [
       "(1, 3, 5, 7, 9)"
      ]
     },
     "execution_count": 64,
     "metadata": {},
     "output_type": "execute_result"
    }
   ],
   "source": [
    "t"
   ]
  },
  {
   "cell_type": "markdown",
   "id": "69034645-98ff-42bd-b955-aae3820b34f3",
   "metadata": {},
   "source": [
    "12. Concatenate two tuples."
   ]
  },
  {
   "cell_type": "code",
   "execution_count": 65,
   "id": "14098224-47ab-4432-a475-eecdaffff65b",
   "metadata": {},
   "outputs": [
    {
     "data": {
      "text/plain": [
       "(1, 2, 3, 4, 5, 4, 5, 6, 7, 8)"
      ]
     },
     "execution_count": 65,
     "metadata": {},
     "output_type": "execute_result"
    }
   ],
   "source": [
    "t1 = (1,2,3,4,5)\n",
    "t2 = (4,5,6,7,8)\n",
    "t1 + t2"
   ]
  },
  {
   "cell_type": "markdown",
   "id": "91b61ea5-9b78-43b1-b44f-9d6c26c61485",
   "metadata": {},
   "source": [
    "13. Repeat a tuple three times."
   ]
  },
  {
   "cell_type": "code",
   "execution_count": 66,
   "id": "a1a1df6d-b354-4479-a2ea-ab135ad0055c",
   "metadata": {},
   "outputs": [],
   "source": [
    "t = (1,2,3,4,5)"
   ]
  },
  {
   "cell_type": "code",
   "execution_count": 67,
   "id": "e60e9bb6-a1dc-4065-a1d8-94203ab468ed",
   "metadata": {},
   "outputs": [
    {
     "data": {
      "text/plain": [
       "(1, 2, 3, 4, 5, 1, 2, 3, 4, 5, 1, 2, 3, 4, 5)"
      ]
     },
     "execution_count": 67,
     "metadata": {},
     "output_type": "execute_result"
    }
   ],
   "source": [
    "t*3"
   ]
  },
  {
   "cell_type": "markdown",
   "id": "42893f8b-6faa-4f0b-8877-9093b8bcda92",
   "metadata": {},
   "source": [
    "14. Check if a tuple is empty."
   ]
  },
  {
   "cell_type": "code",
   "execution_count": 69,
   "id": "a34f719e-4258-449a-9af5-958ec75e20ac",
   "metadata": {},
   "outputs": [
    {
     "data": {
      "text/plain": [
       "(1, 2, 3, 4, 5)"
      ]
     },
     "execution_count": 69,
     "metadata": {},
     "output_type": "execute_result"
    }
   ],
   "source": [
    "t"
   ]
  },
  {
   "cell_type": "code",
   "execution_count": 70,
   "id": "d7c35d0d-4173-4082-8c6a-ada08f69cee1",
   "metadata": {},
   "outputs": [
    {
     "data": {
      "text/plain": [
       "False"
      ]
     },
     "execution_count": 70,
     "metadata": {},
     "output_type": "execute_result"
    }
   ],
   "source": [
    "() in t"
   ]
  },
  {
   "cell_type": "markdown",
   "id": "bb6ac1d9-aa77-4b51-ace8-53d7b907189c",
   "metadata": {},
   "source": [
    "15. Create a nested tuple."
   ]
  },
  {
   "cell_type": "code",
   "execution_count": 72,
   "id": "8ffbdffb-1d0d-4ea4-a221-dbc2e4b8a7dc",
   "metadata": {},
   "outputs": [],
   "source": [
    "t = (1,2,3,4,(\"rish\",True,5,6,7,8,),3,4,52,1)"
   ]
  },
  {
   "cell_type": "code",
   "execution_count": 73,
   "id": "bd65b5e5-76f0-4d2c-9622-45c76528a12c",
   "metadata": {},
   "outputs": [
    {
     "data": {
      "text/plain": [
       "(1, 2, 3, 4, ('rish', True, 5, 6, 7, 8), 3, 4, 52, 1)"
      ]
     },
     "execution_count": 73,
     "metadata": {},
     "output_type": "execute_result"
    }
   ],
   "source": [
    "t"
   ]
  },
  {
   "cell_type": "markdown",
   "id": "59d572fb-0adb-4994-b989-71da6c54e05b",
   "metadata": {},
   "source": [
    "16. Access the first element of a nested tuple."
   ]
  },
  {
   "cell_type": "code",
   "execution_count": 74,
   "id": "955a1525-9e30-4343-ab06-efb0a426f492",
   "metadata": {},
   "outputs": [
    {
     "data": {
      "text/plain": [
       "(1, 2, 3, 4, ('rish', True, 5, 6, 7, 8), 3, 4, 52, 1)"
      ]
     },
     "execution_count": 74,
     "metadata": {},
     "output_type": "execute_result"
    }
   ],
   "source": [
    "t"
   ]
  },
  {
   "cell_type": "code",
   "execution_count": 75,
   "id": "b99734a0-75f2-4c92-a7bd-11f7ab16e0a9",
   "metadata": {},
   "outputs": [
    {
     "data": {
      "text/plain": [
       "'rish'"
      ]
     },
     "execution_count": 75,
     "metadata": {},
     "output_type": "execute_result"
    }
   ],
   "source": [
    "t[4][0]"
   ]
  },
  {
   "cell_type": "markdown",
   "id": "6fa9693e-8000-40fa-8331-9b843802aa93",
   "metadata": {},
   "source": [
    "17. Create a tuple with a single element."
   ]
  },
  {
   "cell_type": "code",
   "execution_count": 80,
   "id": "bfa86125-a112-424f-ac82-42f1a02fc39c",
   "metadata": {},
   "outputs": [],
   "source": [
    "t = (200)"
   ]
  },
  {
   "cell_type": "code",
   "execution_count": 81,
   "id": "7c5cbfa8-c360-4428-8573-a01fcad1632e",
   "metadata": {},
   "outputs": [
    {
     "data": {
      "text/plain": [
       "200"
      ]
     },
     "execution_count": 81,
     "metadata": {},
     "output_type": "execute_result"
    }
   ],
   "source": [
    "t"
   ]
  },
  {
   "cell_type": "markdown",
   "id": "791aba81-87cd-430c-9c73-8fcc1f3c1190",
   "metadata": {},
   "source": [
    "18. Compare two tuples."
   ]
  },
  {
   "cell_type": "code",
   "execution_count": 82,
   "id": "e9acb7d0-c2a2-4ea7-8744-ca39fba40a22",
   "metadata": {},
   "outputs": [],
   "source": [
    "t1 = (1,2,3,4,5)\n",
    "t2 = (4,5,6,7,8)"
   ]
  },
  {
   "cell_type": "code",
   "execution_count": 83,
   "id": "b76976d5-4ac9-4a2e-bdf1-33958e5bb5f6",
   "metadata": {},
   "outputs": [
    {
     "data": {
      "text/plain": [
       "False"
      ]
     },
     "execution_count": 83,
     "metadata": {},
     "output_type": "execute_result"
    }
   ],
   "source": [
    "t1 in t2"
   ]
  },
  {
   "cell_type": "markdown",
   "id": "92172cfd-736e-47dc-a50a-95d4aabd8575",
   "metadata": {},
   "source": [
    "19. Delete a tuple."
   ]
  },
  {
   "cell_type": "code",
   "execution_count": 96,
   "id": "2d78b89f-e447-4474-9e08-36087715cc1a",
   "metadata": {},
   "outputs": [],
   "source": [
    "t1 = (1,2,3,4,5)"
   ]
  },
  {
   "cell_type": "markdown",
   "id": "725be7dd-692a-42f7-92a1-d90f886414af",
   "metadata": {},
   "source": [
    "We can't delete the tuple as it is immutable"
   ]
  },
  {
   "cell_type": "markdown",
   "id": "05dd724b-b4ea-4238-996f-9f82b0016f00",
   "metadata": {},
   "source": [
    "20. Slice a tuple."
   ]
  },
  {
   "cell_type": "code",
   "execution_count": 100,
   "id": "bb97f55f-6485-4c52-8d03-69ef33b8c9d1",
   "metadata": {},
   "outputs": [],
   "source": [
    "t = (1,2,3,4,\"rish\",True,5,6,7,8,3,4,52,1)"
   ]
  },
  {
   "cell_type": "code",
   "execution_count": 105,
   "id": "5738a7f9-db12-4396-b6ad-8d86f9fd70a1",
   "metadata": {},
   "outputs": [
    {
     "data": {
      "text/plain": [
       "(2, 4, True, 6, 8)"
      ]
     },
     "execution_count": 105,
     "metadata": {},
     "output_type": "execute_result"
    }
   ],
   "source": [
    "t[1:11:2]"
   ]
  },
  {
   "cell_type": "markdown",
   "id": "d9f3d3a3-cc71-43a0-8c1c-3273199a553a",
   "metadata": {},
   "source": [
    "21. Find the maximum value in a tuple."
   ]
  },
  {
   "cell_type": "code",
   "execution_count": 106,
   "id": "20809116-c742-4add-9dcb-fd58d57edfba",
   "metadata": {},
   "outputs": [],
   "source": [
    "t = (1,2,3,4,5,6,2,3,4,5,6,4,3,45,6,43,3,33,2,2,2)"
   ]
  },
  {
   "cell_type": "code",
   "execution_count": 107,
   "id": "5de4b0d7-3fb6-4194-aaf3-45eac39b75f9",
   "metadata": {},
   "outputs": [
    {
     "data": {
      "text/plain": [
       "45"
      ]
     },
     "execution_count": 107,
     "metadata": {},
     "output_type": "execute_result"
    }
   ],
   "source": [
    "max(t)"
   ]
  },
  {
   "cell_type": "markdown",
   "id": "18ee0249-fc1b-44ac-8133-80b4c2264de5",
   "metadata": {},
   "source": [
    "22. Find the minimum value in a tuple."
   ]
  },
  {
   "cell_type": "code",
   "execution_count": 108,
   "id": "c46b4059-9977-4727-9c9e-d48e376347de",
   "metadata": {},
   "outputs": [
    {
     "data": {
      "text/plain": [
       "(1, 2, 3, 4, 5, 6, 2, 3, 4, 5, 6, 4, 3, 45, 6, 43, 3, 33, 2, 2, 2)"
      ]
     },
     "execution_count": 108,
     "metadata": {},
     "output_type": "execute_result"
    }
   ],
   "source": [
    "t"
   ]
  },
  {
   "cell_type": "code",
   "execution_count": 109,
   "id": "0fb72b6b-f248-4248-89cb-550926dba9a1",
   "metadata": {},
   "outputs": [
    {
     "data": {
      "text/plain": [
       "1"
      ]
     },
     "execution_count": 109,
     "metadata": {},
     "output_type": "execute_result"
    }
   ],
   "source": [
    "min(t)"
   ]
  },
  {
   "cell_type": "markdown",
   "id": "e8bccecf-c578-4dcc-a50e-3c965a10ea26",
   "metadata": {},
   "source": [
    "23. Convert a string to a tuple of characters."
   ]
  },
  {
   "cell_type": "code",
   "execution_count": 112,
   "id": "9c41ac7f-4033-473d-b327-d10153fc709b",
   "metadata": {},
   "outputs": [],
   "source": [
    "s = \"Data Science\""
   ]
  },
  {
   "cell_type": "code",
   "execution_count": 113,
   "id": "6bde3da3-7fcd-48a2-867e-4349cfce9024",
   "metadata": {},
   "outputs": [
    {
     "data": {
      "text/plain": [
       "('D', 'a', 't', 'a', ' ', 'S', 'c', 'i', 'e', 'n', 'c', 'e')"
      ]
     },
     "execution_count": 113,
     "metadata": {},
     "output_type": "execute_result"
    }
   ],
   "source": [
    "tuple(s)"
   ]
  },
  {
   "cell_type": "markdown",
   "id": "c3a120cc-857f-4d2b-b070-95a131adb62e",
   "metadata": {},
   "source": [
    "24. Convert a tuple of characters to a string."
   ]
  },
  {
   "cell_type": "code",
   "execution_count": 119,
   "id": "dbab0e67-f3a1-4bcd-9089-b91c3f600c09",
   "metadata": {},
   "outputs": [],
   "source": [
    "t = ('H','e','l','l','o')"
   ]
  },
  {
   "cell_type": "code",
   "execution_count": 120,
   "id": "9f7cfeb1-d650-450e-b27c-ef5e2d2a1114",
   "metadata": {},
   "outputs": [
    {
     "data": {
      "text/plain": [
       "('H', 'e', 'l', 'l', 'o')"
      ]
     },
     "execution_count": 120,
     "metadata": {},
     "output_type": "execute_result"
    }
   ],
   "source": [
    "t"
   ]
  },
  {
   "cell_type": "code",
   "execution_count": 121,
   "id": "bd2a3620-9628-44a4-8693-af6939843323",
   "metadata": {},
   "outputs": [],
   "source": [
    "s = str(t)"
   ]
  },
  {
   "cell_type": "code",
   "execution_count": 122,
   "id": "c15ac451-1ee7-4d4e-8068-19df3ff48063",
   "metadata": {},
   "outputs": [
    {
     "data": {
      "text/plain": [
       "\"('H', 'e', 'l', 'l', 'o')\""
      ]
     },
     "execution_count": 122,
     "metadata": {},
     "output_type": "execute_result"
    }
   ],
   "source": [
    "s"
   ]
  },
  {
   "cell_type": "markdown",
   "id": "08c46fed-0c9e-471f-8c51-b091cff1c238",
   "metadata": {},
   "source": [
    "25. Create a tuple from multiple data types."
   ]
  },
  {
   "cell_type": "code",
   "execution_count": 123,
   "id": "293c2ec9-5f56-405c-b794-f8e2767b5681",
   "metadata": {},
   "outputs": [],
   "source": [
    "l = [9,8,7,6,5,4,3]\n",
    "s = \"Machine learing\"\n",
    "d = {\"k1\":\"abc\",\"k2\":\"xyz\"}\n",
    "s1 = {2,3,4,6,3,2,21,2,\"eish\"}"
   ]
  },
  {
   "cell_type": "code",
   "execution_count": 128,
   "id": "8fb876a6-e5df-4946-95b7-3ae06a981572",
   "metadata": {},
   "outputs": [],
   "source": [
    "t1 = tuple(l)\n",
    "t2 = tuple(s)\n",
    "t3 = tuple(d)\n",
    "t4 = tuple(s1)"
   ]
  },
  {
   "cell_type": "code",
   "execution_count": 129,
   "id": "623d96db-8916-4f01-aa22-686daf523386",
   "metadata": {},
   "outputs": [
    {
     "data": {
      "text/plain": [
       "(9, 8, 7, 6, 5, 4, 3)"
      ]
     },
     "execution_count": 129,
     "metadata": {},
     "output_type": "execute_result"
    }
   ],
   "source": [
    "t1"
   ]
  },
  {
   "cell_type": "code",
   "execution_count": 130,
   "id": "5fc5f3e2-3f89-4135-bfb2-28b8e52ef216",
   "metadata": {},
   "outputs": [
    {
     "data": {
      "text/plain": [
       "('M', 'a', 'c', 'h', 'i', 'n', 'e', ' ', 'l', 'e', 'a', 'r', 'i', 'n', 'g')"
      ]
     },
     "execution_count": 130,
     "metadata": {},
     "output_type": "execute_result"
    }
   ],
   "source": [
    "t2"
   ]
  },
  {
   "cell_type": "code",
   "execution_count": 131,
   "id": "883e55c4-856b-4269-8927-36532d03040a",
   "metadata": {},
   "outputs": [
    {
     "data": {
      "text/plain": [
       "('k1', 'k2')"
      ]
     },
     "execution_count": 131,
     "metadata": {},
     "output_type": "execute_result"
    }
   ],
   "source": [
    "t3"
   ]
  },
  {
   "cell_type": "code",
   "execution_count": 132,
   "id": "289c9098-453c-4593-bd57-3a942daa858c",
   "metadata": {},
   "outputs": [
    {
     "data": {
      "text/plain": [
       "(2, 3, 4, 'eish', 6, 21)"
      ]
     },
     "execution_count": 132,
     "metadata": {},
     "output_type": "execute_result"
    }
   ],
   "source": [
    "t4"
   ]
  },
  {
   "cell_type": "code",
   "execution_count": 133,
   "id": "520ae1d0-592e-4836-afe8-9ec9356edf71",
   "metadata": {},
   "outputs": [
    {
     "data": {
      "text/plain": [
       "tuple"
      ]
     },
     "execution_count": 133,
     "metadata": {},
     "output_type": "execute_result"
    }
   ],
   "source": [
    "type(t1)"
   ]
  },
  {
   "cell_type": "code",
   "execution_count": 134,
   "id": "379d6126-3b8b-4d01-beaf-046343cdaa20",
   "metadata": {},
   "outputs": [
    {
     "data": {
      "text/plain": [
       "tuple"
      ]
     },
     "execution_count": 134,
     "metadata": {},
     "output_type": "execute_result"
    }
   ],
   "source": [
    "type(t2)"
   ]
  },
  {
   "cell_type": "code",
   "execution_count": 135,
   "id": "e95d90ab-cdad-4cd8-812a-6db7775b6d1f",
   "metadata": {},
   "outputs": [
    {
     "data": {
      "text/plain": [
       "tuple"
      ]
     },
     "execution_count": 135,
     "metadata": {},
     "output_type": "execute_result"
    }
   ],
   "source": [
    "type(t3)"
   ]
  },
  {
   "cell_type": "code",
   "execution_count": 136,
   "id": "3964870c-cfe6-4066-8046-aa02dd0dd13b",
   "metadata": {},
   "outputs": [
    {
     "data": {
      "text/plain": [
       "tuple"
      ]
     },
     "execution_count": 136,
     "metadata": {},
     "output_type": "execute_result"
    }
   ],
   "source": [
    "type(t4)"
   ]
  },
  {
   "cell_type": "markdown",
   "id": "0998e2a0-06b5-4e52-8ac6-b7f26a83478e",
   "metadata": {},
   "source": [
    "26. Check if two tuples are identical."
   ]
  },
  {
   "cell_type": "code",
   "execution_count": 143,
   "id": "7ab2f2ce-d431-4174-ad09-eff081d2d0bc",
   "metadata": {},
   "outputs": [],
   "source": [
    "t1 = (1,2,3,4,5)\n",
    "t2 = (1,2,3,4,5,8)"
   ]
  },
  {
   "cell_type": "code",
   "execution_count": 144,
   "id": "55a2bd47-9130-4c20-ab7f-67201a3ab81f",
   "metadata": {},
   "outputs": [
    {
     "data": {
      "text/plain": [
       "False"
      ]
     },
     "execution_count": 144,
     "metadata": {},
     "output_type": "execute_result"
    }
   ],
   "source": [
    "t1 == t2"
   ]
  },
  {
   "cell_type": "markdown",
   "id": "761ee885-18af-4596-8e6a-24b009b3e156",
   "metadata": {},
   "source": [
    "27. Sort the elements of a tuple."
   ]
  },
  {
   "cell_type": "code",
   "execution_count": 172,
   "id": "9a74a8b5-649d-4f10-b73e-8a3076db79d6",
   "metadata": {},
   "outputs": [],
   "source": [
    "t = (1,2,3,87,6,54,43,232,2,34,5,32,54,6,87,8,6,5)"
   ]
  },
  {
   "cell_type": "code",
   "execution_count": 173,
   "id": "7f7fb9c9-55bc-4e5e-a7e2-6d3b7fa98bd4",
   "metadata": {},
   "outputs": [
    {
     "data": {
      "text/plain": [
       "(1, 2, 2, 3, 5, 5, 6, 6, 6, 8, 32, 34, 43, 54, 54, 87, 87, 232)"
      ]
     },
     "execution_count": 173,
     "metadata": {},
     "output_type": "execute_result"
    }
   ],
   "source": [
    "tuple(sorted(t))"
   ]
  },
  {
   "cell_type": "markdown",
   "id": "c603d9a1-8d8c-419b-8381-96b11f1bbfaf",
   "metadata": {},
   "source": [
    "28. Convert a tuple of integers to a tuple of strings."
   ]
  },
  {
   "cell_type": "code",
   "execution_count": 183,
   "id": "a88bd8f8-8661-443c-8272-e4513b972b8f",
   "metadata": {},
   "outputs": [],
   "source": [
    "t = (1,2,3,87,6,54,43,232)"
   ]
  },
  {
   "cell_type": "code",
   "execution_count": 184,
   "id": "02d4cf85-09e3-4d70-ba42-e3ee33cb513f",
   "metadata": {},
   "outputs": [
    {
     "data": {
      "text/plain": [
       "('1', '2', '3', '87', '6', '54', '43', '232')"
      ]
     },
     "execution_count": 184,
     "metadata": {},
     "output_type": "execute_result"
    }
   ],
   "source": [
    "l = list(t)\n",
    "l1 =[]\n",
    "for i in l:\n",
    "    l1.append(str(i))\n",
    "t1 = tuple(l1)\n",
    "t1"
   ]
  },
  {
   "cell_type": "markdown",
   "id": "18c07dd3-2d6e-4e67-8854-91cd25ca9d05",
   "metadata": {},
   "source": [
    "29. Convert a tuple of strings to a tuple of integers."
   ]
  },
  {
   "cell_type": "code",
   "execution_count": 189,
   "id": "3d816922-0e5b-4bfd-8d4c-3d79912e696f",
   "metadata": {},
   "outputs": [],
   "source": [
    "t = ('1', '2', '3', '87', '6', '54', '43', '232')"
   ]
  },
  {
   "cell_type": "code",
   "execution_count": 190,
   "id": "6be4bc00-04d5-4580-b8f3-27293a5ed049",
   "metadata": {},
   "outputs": [
    {
     "data": {
      "text/plain": [
       "(1, 2, 3, 87, 6, 54, 43, 232)"
      ]
     },
     "execution_count": 190,
     "metadata": {},
     "output_type": "execute_result"
    }
   ],
   "source": [
    "l = list(t)\n",
    "l1 =[]\n",
    "for i in l:\n",
    "    l1.append(int(i))\n",
    "t1 = tuple(l1)\n",
    "t1"
   ]
  },
  {
   "cell_type": "markdown",
   "id": "d67f346c-bb7b-41c3-9625-0e07043918b2",
   "metadata": {},
   "source": [
    "30. Merge two tuples."
   ]
  },
  {
   "cell_type": "code",
   "execution_count": 191,
   "id": "28cf5e0f-9d74-494e-b2a1-bdad18fdae2c",
   "metadata": {},
   "outputs": [],
   "source": [
    "t1 = (1,2,3,4,5)\n",
    "t2 = (4,5,6,7,8)"
   ]
  },
  {
   "cell_type": "code",
   "execution_count": 192,
   "id": "858b8600-336a-4ffe-8125-f6b1a136c966",
   "metadata": {},
   "outputs": [],
   "source": [
    "t = t1 + t2"
   ]
  },
  {
   "cell_type": "code",
   "execution_count": 193,
   "id": "a62ae932-7d9e-4c60-b32f-324f5ddc384f",
   "metadata": {},
   "outputs": [
    {
     "data": {
      "text/plain": [
       "(1, 2, 3, 4, 5, 4, 5, 6, 7, 8)"
      ]
     },
     "execution_count": 193,
     "metadata": {},
     "output_type": "execute_result"
    }
   ],
   "source": [
    "t"
   ]
  },
  {
   "cell_type": "markdown",
   "id": "fce5948a-d746-4c8c-ab79-97644198c5b5",
   "metadata": {},
   "source": [
    "31. Flatten a nested tuple."
   ]
  },
  {
   "cell_type": "code",
   "execution_count": 194,
   "id": "77f32297-27d2-482f-b75d-1c1c4f7cd631",
   "metadata": {},
   "outputs": [],
   "source": [
    "t = (1,2,3,4,(\"rish\",True,5,6,7,8,),3,4,52,1)"
   ]
  },
  {
   "cell_type": "code",
   "execution_count": 197,
   "id": "4ebf550a-2b85-4491-aa72-0bfcdf3c8393",
   "metadata": {},
   "outputs": [
    {
     "data": {
      "text/plain": [
       "(1, 2, 3, 4, 'rish', True, 5, 6, 7, 8, 3, 4, 52, 1)"
      ]
     },
     "execution_count": 197,
     "metadata": {},
     "output_type": "execute_result"
    }
   ],
   "source": [
    "l = list(t)\n",
    "l1 =[]\n",
    "for i in l:\n",
    "    if type(i) == tuple:\n",
    "        for j in i:\n",
    "            l1.append(j)\n",
    "    else:\n",
    "        l1.append(i)\n",
    "t1 = tuple(l1)\n",
    "t1"
   ]
  },
  {
   "cell_type": "markdown",
   "id": "e5c4e797-e2ee-420f-be63-5d70793f63fc",
   "metadata": {},
   "source": [
    "32. Create a tuple of the first 5 prime numbers."
   ]
  },
  {
   "cell_type": "code",
   "execution_count": null,
   "id": "aea54820-55fc-4413-915c-ad4854c5c004",
   "metadata": {},
   "outputs": [],
   "source": []
  },
  {
   "cell_type": "markdown",
   "id": "562d6246-8d83-4131-8d2a-6fe8a36a0483",
   "metadata": {},
   "source": [
    "33. Check if a tuple is a palindrome."
   ]
  },
  {
   "cell_type": "code",
   "execution_count": 201,
   "id": "cc5119dc-891f-4dc4-9def-9efa94cd03ed",
   "metadata": {},
   "outputs": [
    {
     "name": "stdout",
     "output_type": "stream",
     "text": [
      "Palindrome\n"
     ]
    }
   ],
   "source": [
    "t = \"tenet\"\n",
    "if t == t[::-1]:\n",
    "    print(\"Palindrome\")\n",
    "else:\n",
    "    print(\"Not a pallindrome\")"
   ]
  },
  {
   "cell_type": "markdown",
   "id": "0097ec59-eab8-4d36-997c-83688bf95ad3",
   "metadata": {},
   "source": [
    "34. Create a tuple of squares of numbers from 1 to 5."
   ]
  },
  {
   "cell_type": "code",
   "execution_count": 204,
   "id": "ce5b0ccc-1075-4ed0-8ffe-36f9a1cf0b06",
   "metadata": {},
   "outputs": [
    {
     "data": {
      "text/plain": [
       "(1, 4, 9, 16, 25)"
      ]
     },
     "execution_count": 204,
     "metadata": {},
     "output_type": "execute_result"
    }
   ],
   "source": [
    "l = []\n",
    "for i in range(1,6):\n",
    "    l.append(i**2)\n",
    "t = tuple(l)\n",
    "t"
   ]
  },
  {
   "cell_type": "markdown",
   "id": "d564dac0-49a9-4ca2-86ed-4f556316a36d",
   "metadata": {},
   "source": [
    "35. Filter out all even numbers from a tuple."
   ]
  },
  {
   "cell_type": "code",
   "execution_count": 205,
   "id": "3fbd2865-893c-498b-839f-c03d8d47ca0c",
   "metadata": {},
   "outputs": [],
   "source": [
    "t = (1,2,3,87,6,54,43,232,2,34,5,32,54,6,87,8,6,5)"
   ]
  },
  {
   "cell_type": "code",
   "execution_count": 207,
   "id": "02c6e3c9-573b-4714-a169-efa933d97488",
   "metadata": {},
   "outputs": [
    {
     "data": {
      "text/plain": [
       "(2, 6, 54, 232, 2, 34, 32, 54, 6, 8, 6)"
      ]
     },
     "execution_count": 207,
     "metadata": {},
     "output_type": "execute_result"
    }
   ],
   "source": [
    "l = list(t)\n",
    "l1 = []\n",
    "for i in l:\n",
    "    if i%2 ==0:\n",
    "        l1.append(i)\n",
    "t1 = tuple(l1)\n",
    "t1"
   ]
  },
  {
   "cell_type": "markdown",
   "id": "a1acb364-fbcc-4a00-b7a6-714b5f627d13",
   "metadata": {},
   "source": [
    "36. Multiply all elements in a tuple by 2."
   ]
  },
  {
   "cell_type": "code",
   "execution_count": 208,
   "id": "fe526780-443a-48a8-97f3-9105b26decc0",
   "metadata": {},
   "outputs": [],
   "source": [
    "t = (1,2,3,4,5,6)"
   ]
  },
  {
   "cell_type": "code",
   "execution_count": 209,
   "id": "566178f0-edaa-4b18-bdb2-8ed1e16f645c",
   "metadata": {},
   "outputs": [
    {
     "data": {
      "text/plain": [
       "(2, 4, 6, 8, 10, 12)"
      ]
     },
     "execution_count": 209,
     "metadata": {},
     "output_type": "execute_result"
    }
   ],
   "source": [
    "l = list(t)\n",
    "l1 = []\n",
    "for i in l:\n",
    "    l1.append(i*2)\n",
    "t1 = tuple(l1)\n",
    "t1"
   ]
  },
  {
   "cell_type": "markdown",
   "id": "b663e845-b65f-442c-85e1-efdf5f854577",
   "metadata": {},
   "source": [
    "37. Create a tuple of random numbers."
   ]
  },
  {
   "cell_type": "code",
   "execution_count": null,
   "id": "ab396808-5f0c-4d69-baa5-74656275e1eb",
   "metadata": {},
   "outputs": [],
   "source": []
  },
  {
   "cell_type": "markdown",
   "id": "ece87a2f-61c4-451e-a752-eb9bc7c1d48c",
   "metadata": {},
   "source": [
    "38. Check if a tuple is sorted."
   ]
  },
  {
   "cell_type": "code",
   "execution_count": 210,
   "id": "33adc52e-96ab-4dee-98f6-ca439bdf8677",
   "metadata": {},
   "outputs": [],
   "source": [
    "t = (1,2,3,87,6,54,43,232,2,34,5,32,54,6,87,8,6,5)"
   ]
  },
  {
   "cell_type": "code",
   "execution_count": 211,
   "id": "8ef4da83-c2eb-4cfb-b67f-ee6bd74aefd1",
   "metadata": {},
   "outputs": [
    {
     "data": {
      "text/plain": [
       "False"
      ]
     },
     "execution_count": 211,
     "metadata": {},
     "output_type": "execute_result"
    }
   ],
   "source": [
    "t == tuple(sorted(t))"
   ]
  },
  {
   "cell_type": "markdown",
   "id": "d13f3529-aa3c-4cfa-96f9-1d67c33c6358",
   "metadata": {},
   "source": [
    "39. Rotate a tuple to the left by `n` positions."
   ]
  },
  {
   "cell_type": "code",
   "execution_count": 212,
   "id": "c701a29a-46a2-4a01-b511-d0c013253de8",
   "metadata": {},
   "outputs": [],
   "source": [
    "t = (6,5,4,7,3,8,2,9,1)"
   ]
  },
  {
   "cell_type": "code",
   "execution_count": 216,
   "id": "1d26bc15-9d87-47f7-9e08-202dcaebc9e2",
   "metadata": {},
   "outputs": [],
   "source": [
    "t1 = t[4:] + t[:4]"
   ]
  },
  {
   "cell_type": "code",
   "execution_count": 218,
   "id": "561a8d68-f192-4d54-9d0e-5d8a08637ea8",
   "metadata": {},
   "outputs": [
    {
     "data": {
      "text/plain": [
       "(3, 8, 2, 9, 1, 6, 5, 4, 7)"
      ]
     },
     "execution_count": 218,
     "metadata": {},
     "output_type": "execute_result"
    }
   ],
   "source": [
    "#Rotated the list to the left by 3 position\n",
    "t1"
   ]
  },
  {
   "cell_type": "markdown",
   "id": "e0cf3f83-f259-46d3-bb77-31fa0ba4ddda",
   "metadata": {},
   "source": [
    "40. Rotate a tuple to the right by `n` positions."
   ]
  },
  {
   "cell_type": "code",
   "execution_count": 219,
   "id": "82956e20-799b-4bed-98a1-c2b68fa67178",
   "metadata": {},
   "outputs": [],
   "source": [
    "t = (6,5,4,7,3,8,2,9,1)"
   ]
  },
  {
   "cell_type": "code",
   "execution_count": 220,
   "id": "3e613b8c-366e-42ca-a48d-2dacff54aec8",
   "metadata": {},
   "outputs": [],
   "source": [
    "t1 = t[-3:] + t[:-3]"
   ]
  },
  {
   "cell_type": "code",
   "execution_count": 221,
   "id": "d6071ba7-4f82-4ccb-9837-ec49685877d2",
   "metadata": {},
   "outputs": [
    {
     "data": {
      "text/plain": [
       "(2, 9, 1, 6, 5, 4, 7, 3, 8)"
      ]
     },
     "execution_count": 221,
     "metadata": {},
     "output_type": "execute_result"
    }
   ],
   "source": [
    "#Rotated the list to the right by 3 position\n",
    "t1"
   ]
  },
  {
   "cell_type": "markdown",
   "id": "07a8fc82-9325-41bf-a6a0-7661b65ea026",
   "metadata": {},
   "source": [
    "41. Create a tuple of the first 5 Fibonacci numbers."
   ]
  },
  {
   "cell_type": "code",
   "execution_count": null,
   "id": "c91f1f14-ef64-4fbb-94ea-497be3f5b02f",
   "metadata": {},
   "outputs": [],
   "source": []
  },
  {
   "cell_type": "markdown",
   "id": "8fc0e211-32d6-425b-8051-51cee09203f9",
   "metadata": {},
   "source": [
    "42. Create a tuple from user input."
   ]
  },
  {
   "cell_type": "code",
   "execution_count": 234,
   "id": "a1ea88bb-0408-42a5-91ea-ccf6c5914b8b",
   "metadata": {},
   "outputs": [
    {
     "name": "stdin",
     "output_type": "stream",
     "text": [
      "Enter the 1st value for tuple: 2\n",
      "Enter the 2nd value for tuple: 4\n",
      "Enter the 3rd value for tuple: 5\n",
      "Enter the 4th value for tuple: 6\n",
      "Enter the 5th value for tuple: 98\n"
     ]
    },
    {
     "data": {
      "text/plain": [
       "(2, 4, 5, 6, 98)"
      ]
     },
     "execution_count": 234,
     "metadata": {},
     "output_type": "execute_result"
    }
   ],
   "source": [
    "a = int(input(\"Enter the 1st value for tuple:\"))\n",
    "b = int(input(\"Enter the 2nd value for tuple:\"))\n",
    "c = int(input(\"Enter the 3rd value for tuple:\"))\n",
    "d = int(input(\"Enter the 4th value for tuple:\"))\n",
    "e = int(input(\"Enter the 5th value for tuple:\"))\n",
    "t = (a,b,c,d,e)\n",
    "t"
   ]
  },
  {
   "cell_type": "markdown",
   "id": "8a70f653-b4bd-4e88-b9fa-6754125f5d0a",
   "metadata": {},
   "source": [
    "43. Swap two elements in a tuple."
   ]
  },
  {
   "cell_type": "code",
   "execution_count": 235,
   "id": "54ca0706-935e-4bd2-8d1e-d38151b85eb6",
   "metadata": {},
   "outputs": [
    {
     "data": {
      "text/plain": [
       "(2, 4, 5, 6, 98)"
      ]
     },
     "execution_count": 235,
     "metadata": {},
     "output_type": "execute_result"
    }
   ],
   "source": [
    "t"
   ]
  },
  {
   "cell_type": "code",
   "execution_count": 236,
   "id": "957d4f51-8cd7-45e6-bfcd-48164a8427e9",
   "metadata": {},
   "outputs": [
    {
     "data": {
      "text/plain": [
       "[2, 4, 5, 6, 98]"
      ]
     },
     "execution_count": 236,
     "metadata": {},
     "output_type": "execute_result"
    }
   ],
   "source": [
    "list(t)"
   ]
  },
  {
   "cell_type": "code",
   "execution_count": null,
   "id": "1ec05861-3a59-413b-ad85-07bd56e0c384",
   "metadata": {},
   "outputs": [],
   "source": []
  },
  {
   "cell_type": "markdown",
   "id": "c6a35381-d51d-4ea9-867f-6aa2b6be32fe",
   "metadata": {},
   "source": [
    "44. Reverse the elements of a tuple."
   ]
  },
  {
   "cell_type": "code",
   "execution_count": 237,
   "id": "1fd109b5-566a-4d8a-8d87-8a4bfdd4258c",
   "metadata": {},
   "outputs": [
    {
     "data": {
      "text/plain": [
       "(2, 4, 5, 6, 98)"
      ]
     },
     "execution_count": 237,
     "metadata": {},
     "output_type": "execute_result"
    }
   ],
   "source": [
    "t"
   ]
  },
  {
   "cell_type": "code",
   "execution_count": 238,
   "id": "201bec48-7d4d-49be-8701-ac9a8a2a837d",
   "metadata": {},
   "outputs": [
    {
     "data": {
      "text/plain": [
       "(98, 6, 5, 4, 2)"
      ]
     },
     "execution_count": 238,
     "metadata": {},
     "output_type": "execute_result"
    }
   ],
   "source": [
    "t[::-1]"
   ]
  },
  {
   "cell_type": "markdown",
   "id": "ac96eddd-7586-4c77-813b-8ca3f6b866ba",
   "metadata": {},
   "source": [
    "45. Create a tuple of the first `n` powers of 2."
   ]
  },
  {
   "cell_type": "code",
   "execution_count": 243,
   "id": "17346790-ffd2-4b49-867b-22b06c23d5f5",
   "metadata": {},
   "outputs": [
    {
     "name": "stdin",
     "output_type": "stream",
     "text": [
      "Enter your desirable range: 8\n"
     ]
    },
    {
     "data": {
      "text/plain": [
       "(2, 4, 8, 16, 32, 64, 128, 256)"
      ]
     },
     "execution_count": 243,
     "metadata": {},
     "output_type": "execute_result"
    }
   ],
   "source": [
    "l = []\n",
    "n = int(input(\"Enter your desirable range:\"))\n",
    "for i in range(1,n+1):\n",
    "    l.append(2**i)\n",
    "t = tuple(l)\n",
    "t"
   ]
  },
  {
   "cell_type": "markdown",
   "id": "4e601f8a-9504-48ce-a84a-e12db0fbd0be",
   "metadata": {},
   "source": [
    "46. Find the longest string in a tuple of strings."
   ]
  },
  {
   "cell_type": "code",
   "execution_count": 245,
   "id": "fe3aeb5a-312d-4516-8610-3a9da787f9af",
   "metadata": {},
   "outputs": [],
   "source": [
    "t = (\"rdhj\",\"hdfhsg\",765,43,123,\"dfgdkgjndf\",\"hkj\",True)"
   ]
  },
  {
   "cell_type": "code",
   "execution_count": 260,
   "id": "36a5e357-8fd2-405b-9828-9d6a32ab6cc6",
   "metadata": {},
   "outputs": [],
   "source": [
    "l = []\n",
    "for i in t:\n",
    "    if type(i) == str:\n",
    "        l.append(i)\n",
    "s = str(l)"
   ]
  },
  {
   "cell_type": "code",
   "execution_count": null,
   "id": "c78914cf-07c7-4024-bae7-6f69d725f027",
   "metadata": {},
   "outputs": [],
   "source": []
  },
  {
   "cell_type": "markdown",
   "id": "5d0e8abe-9f34-41a7-98d3-7f93264860b4",
   "metadata": {},
   "source": [
    "47. Find the shortest string in a tuple of strings."
   ]
  },
  {
   "cell_type": "code",
   "execution_count": null,
   "id": "934b1ed1-3393-440f-830c-0fcc64d10466",
   "metadata": {},
   "outputs": [],
   "source": []
  },
  {
   "cell_type": "markdown",
   "id": "7c8b58dc-3e1b-419e-9320-0886fb9184cf",
   "metadata": {},
   "source": [
    "48. Create a tuple of the first `n` triangular numbers."
   ]
  },
  {
   "cell_type": "code",
   "execution_count": 267,
   "id": "14c41ed5-2472-4c76-b682-0885ef65d303",
   "metadata": {},
   "outputs": [
    {
     "name": "stdin",
     "output_type": "stream",
     "text": [
      "Enter the range: 10\n"
     ]
    },
    {
     "data": {
      "text/plain": [
       "(1.0, 3.0, 6.0, 10.0, 15.0, 21.0, 28.0, 36.0, 45.0)"
      ]
     },
     "execution_count": 267,
     "metadata": {},
     "output_type": "execute_result"
    }
   ],
   "source": [
    "l = []\n",
    "n = int(input(\"Enter the range:\"))\n",
    "for i in range(1,n):\n",
    "    j = (i+1)*(i/2)\n",
    "    l.append(j)\n",
    "t = tuple(l)\n",
    "t"
   ]
  },
  {
   "cell_type": "markdown",
   "id": "af0c4250-d18b-48f2-be61-8fc625c9f820",
   "metadata": {},
   "source": [
    "49. Check if a tuple contains another tuple as a subsequence."
   ]
  },
  {
   "cell_type": "code",
   "execution_count": null,
   "id": "ed0fe1cc-fa1c-40f1-ba67-b8fe89a11b3a",
   "metadata": {},
   "outputs": [],
   "source": []
  },
  {
   "cell_type": "markdown",
   "id": "426a682d-0b26-45dd-b0dc-302d291442f7",
   "metadata": {},
   "source": [
    "50. Create a tuple of alternating 1s and 0s of length `n`."
   ]
  },
  {
   "cell_type": "code",
   "execution_count": 271,
   "id": "ddf3c43d-8764-4201-95a8-196631aa7a2b",
   "metadata": {},
   "outputs": [
    {
     "name": "stdin",
     "output_type": "stream",
     "text": [
      "Enter your range: 15\n"
     ]
    },
    {
     "data": {
      "text/plain": [
       "(0, 1, 0, 1, 0, 1, 0, 1, 0, 1, 0, 1, 0, 1)"
      ]
     },
     "execution_count": 271,
     "metadata": {},
     "output_type": "execute_result"
    }
   ],
   "source": [
    "l = []\n",
    "n = int(input(\"Enter your range:\"))\n",
    "for i in range(1,n):\n",
    "    if i%2 != 0:\n",
    "        l.append(0)\n",
    "    else:\n",
    "        l.append(1)\n",
    "t = tuple(l)\n",
    "t"
   ]
  },
  {
   "cell_type": "markdown",
   "id": "72975cad-ea2a-4943-b7ca-d1099925b092",
   "metadata": {},
   "source": [
    "Set Based Practice Problem :"
   ]
  },
  {
   "cell_type": "markdown",
   "id": "6f0e67d4-d1ed-440d-adca-888a66042b8e",
   "metadata": {},
   "source": [
    "1. Create a set with integers from 1 to 5."
   ]
  },
  {
   "cell_type": "code",
   "execution_count": 4,
   "id": "a71eab9c-cc5e-4e07-ac45-728339c6ce72",
   "metadata": {},
   "outputs": [],
   "source": [
    "s = set(range(1,6))"
   ]
  },
  {
   "cell_type": "code",
   "execution_count": 5,
   "id": "ed390acd-8f82-479f-a87a-90007823230b",
   "metadata": {},
   "outputs": [
    {
     "data": {
      "text/plain": [
       "{1, 2, 3, 4, 5}"
      ]
     },
     "execution_count": 5,
     "metadata": {},
     "output_type": "execute_result"
    }
   ],
   "source": [
    "s"
   ]
  },
  {
   "cell_type": "markdown",
   "id": "81264e87-980d-4410-9f9f-fc72b3c0716b",
   "metadata": {},
   "source": [
    "2. Add an element to a set."
   ]
  },
  {
   "cell_type": "code",
   "execution_count": 6,
   "id": "2867d4a4-a3fe-4bf8-bbb7-98fc77c956df",
   "metadata": {},
   "outputs": [
    {
     "data": {
      "text/plain": [
       "{1, 2, 3, 4, 5}"
      ]
     },
     "execution_count": 6,
     "metadata": {},
     "output_type": "execute_result"
    }
   ],
   "source": [
    "s"
   ]
  },
  {
   "cell_type": "code",
   "execution_count": 7,
   "id": "3f030533-9e6b-42f3-a2db-dce6d34d67c6",
   "metadata": {},
   "outputs": [],
   "source": [
    "s.add(67)"
   ]
  },
  {
   "cell_type": "code",
   "execution_count": 8,
   "id": "9c7fc348-7d45-4639-bcdb-45a6b9e031c1",
   "metadata": {},
   "outputs": [
    {
     "data": {
      "text/plain": [
       "{1, 2, 3, 4, 5, 67}"
      ]
     },
     "execution_count": 8,
     "metadata": {},
     "output_type": "execute_result"
    }
   ],
   "source": [
    "s"
   ]
  },
  {
   "cell_type": "markdown",
   "id": "86fd68c8-7493-4e0f-8b03-8d34dd44029b",
   "metadata": {},
   "source": [
    "3. Remove an element from a set."
   ]
  },
  {
   "cell_type": "code",
   "execution_count": 9,
   "id": "7d35e5a3-0414-4af7-a341-e7c5213d19b6",
   "metadata": {},
   "outputs": [
    {
     "data": {
      "text/plain": [
       "1"
      ]
     },
     "execution_count": 9,
     "metadata": {},
     "output_type": "execute_result"
    }
   ],
   "source": [
    "s.pop()"
   ]
  },
  {
   "cell_type": "code",
   "execution_count": 10,
   "id": "6634aeea-244c-4fe7-a5ba-311b98f596a9",
   "metadata": {},
   "outputs": [
    {
     "data": {
      "text/plain": [
       "{2, 3, 4, 5, 67}"
      ]
     },
     "execution_count": 10,
     "metadata": {},
     "output_type": "execute_result"
    }
   ],
   "source": [
    "s"
   ]
  },
  {
   "cell_type": "markdown",
   "id": "2279d844-f3c1-414a-9e5c-8d57f57a72e6",
   "metadata": {},
   "source": [
    "4. Check if an element exists in a set."
   ]
  },
  {
   "cell_type": "code",
   "execution_count": 12,
   "id": "40c90081-2a61-44c1-938f-176476927e18",
   "metadata": {},
   "outputs": [
    {
     "data": {
      "text/plain": [
       "{2, 3, 4, 5, 67}"
      ]
     },
     "execution_count": 12,
     "metadata": {},
     "output_type": "execute_result"
    }
   ],
   "source": [
    "s"
   ]
  },
  {
   "cell_type": "code",
   "execution_count": 11,
   "id": "db22204e-930b-4eab-8b64-e715a7b1595f",
   "metadata": {},
   "outputs": [
    {
     "data": {
      "text/plain": [
       "True"
      ]
     },
     "execution_count": 11,
     "metadata": {},
     "output_type": "execute_result"
    }
   ],
   "source": [
    "67 in s"
   ]
  },
  {
   "cell_type": "markdown",
   "id": "caccd6ab-358d-42bb-8147-f5ef2966c6e3",
   "metadata": {},
   "source": [
    "5. Find the length of a set without using the `len()` function."
   ]
  },
  {
   "cell_type": "code",
   "execution_count": 13,
   "id": "ae7a9f82-e342-4539-8d29-cd2d65f82b2d",
   "metadata": {},
   "outputs": [
    {
     "data": {
      "text/plain": [
       "{2, 3, 4, 5, 67}"
      ]
     },
     "execution_count": 13,
     "metadata": {},
     "output_type": "execute_result"
    }
   ],
   "source": [
    "s"
   ]
  },
  {
   "cell_type": "code",
   "execution_count": 15,
   "id": "c5fa5082-8da6-45c2-a2a7-43db5c7290ea",
   "metadata": {},
   "outputs": [],
   "source": [
    "l = list(s)"
   ]
  },
  {
   "cell_type": "code",
   "execution_count": 16,
   "id": "81334420-652f-4641-bb28-ee73df8de1d5",
   "metadata": {},
   "outputs": [
    {
     "name": "stdout",
     "output_type": "stream",
     "text": [
      "Length of given set {2, 3, 4, 5, 67} is:  5\n"
     ]
    }
   ],
   "source": [
    "count = 0\n",
    "for i in l:\n",
    "    count = count +1\n",
    "print(\"Length of given set\",s,\"is: \", count)"
   ]
  },
  {
   "cell_type": "markdown",
   "id": "a876f732-8d61-4891-9a64-2fad3cf088a3",
   "metadata": {},
   "source": [
    "6. Clear all elements from a set."
   ]
  },
  {
   "cell_type": "code",
   "execution_count": 17,
   "id": "03648a20-eeca-493f-af1f-7007fb0ed53e",
   "metadata": {},
   "outputs": [
    {
     "data": {
      "text/plain": [
       "{2, 3, 4, 5, 67}"
      ]
     },
     "execution_count": 17,
     "metadata": {},
     "output_type": "execute_result"
    }
   ],
   "source": [
    "s"
   ]
  },
  {
   "cell_type": "code",
   "execution_count": 18,
   "id": "08f73374-4449-4bee-8945-f297d71226a8",
   "metadata": {},
   "outputs": [],
   "source": [
    "s.clear()"
   ]
  },
  {
   "cell_type": "code",
   "execution_count": 19,
   "id": "2578e426-8100-4e04-9859-232d83a1897d",
   "metadata": {},
   "outputs": [
    {
     "data": {
      "text/plain": [
       "set()"
      ]
     },
     "execution_count": 19,
     "metadata": {},
     "output_type": "execute_result"
    }
   ],
   "source": [
    "s"
   ]
  },
  {
   "cell_type": "markdown",
   "id": "2767aa84-16f0-4517-a7c5-eea6992501b2",
   "metadata": {},
   "source": [
    "7. Create a set of even numbers from 1 to 10."
   ]
  },
  {
   "cell_type": "code",
   "execution_count": 20,
   "id": "e9c481f3-0b95-45b9-8e0b-99e864283376",
   "metadata": {},
   "outputs": [
    {
     "data": {
      "text/plain": [
       "{2, 4, 6, 8, 10}"
      ]
     },
     "execution_count": 20,
     "metadata": {},
     "output_type": "execute_result"
    }
   ],
   "source": [
    "l = []\n",
    "for i in range(1,11):\n",
    "    if i%2 == 0:\n",
    "        l.append(i)\n",
    "s = set(l)\n",
    "s"
   ]
  },
  {
   "cell_type": "markdown",
   "id": "0bf23f14-d59b-4b5e-b771-90846783e373",
   "metadata": {},
   "source": [
    "8. Create a set of odd numbers from 1 to 10."
   ]
  },
  {
   "cell_type": "code",
   "execution_count": 21,
   "id": "e6e8b1ba-2cd6-4a0b-b9c5-8fe04ec86656",
   "metadata": {},
   "outputs": [
    {
     "data": {
      "text/plain": [
       "{1, 3, 5, 7, 9}"
      ]
     },
     "execution_count": 21,
     "metadata": {},
     "output_type": "execute_result"
    }
   ],
   "source": [
    "l = []\n",
    "for i in range(1,11):\n",
    "    if i%2 != 0:\n",
    "        l.append(i)\n",
    "s = set(l)\n",
    "s"
   ]
  },
  {
   "cell_type": "markdown",
   "id": "0aceff2e-6084-406d-aa11-990b5f5b568d",
   "metadata": {},
   "source": [
    "9. Find the union of two sets."
   ]
  },
  {
   "cell_type": "code",
   "execution_count": 22,
   "id": "428247da-5f6c-4e43-a02f-ec80e82e08d4",
   "metadata": {},
   "outputs": [],
   "source": [
    "s1 = {1,2,3,4,5}\n",
    "s2 = {3,4,5,6,7}"
   ]
  },
  {
   "cell_type": "code",
   "execution_count": 23,
   "id": "2e42a18f-5268-4858-bb41-0650ec756404",
   "metadata": {},
   "outputs": [
    {
     "data": {
      "text/plain": [
       "{1, 2, 3, 4, 5, 6, 7}"
      ]
     },
     "execution_count": 23,
     "metadata": {},
     "output_type": "execute_result"
    }
   ],
   "source": [
    "s1.union(s2)"
   ]
  },
  {
   "cell_type": "markdown",
   "id": "dcb9259b-6e2f-4730-bb9a-2059dc6246b4",
   "metadata": {},
   "source": [
    "10. Find the intersection of two sets."
   ]
  },
  {
   "cell_type": "code",
   "execution_count": 26,
   "id": "86ac9ee5-8d94-426e-856f-5d24726cb3de",
   "metadata": {},
   "outputs": [],
   "source": [
    "s1 = {1,2,3,4,5}\n",
    "s2 = {3,4,5,6,7}"
   ]
  },
  {
   "cell_type": "code",
   "execution_count": 27,
   "id": "af3288db-8ccd-4361-9c7b-2dcbcad10dba",
   "metadata": {},
   "outputs": [
    {
     "data": {
      "text/plain": [
       "{3, 4, 5}"
      ]
     },
     "execution_count": 27,
     "metadata": {},
     "output_type": "execute_result"
    }
   ],
   "source": [
    "s1.intersection(s2)"
   ]
  },
  {
   "cell_type": "markdown",
   "id": "c9b1f53b-2cfd-4954-a353-6339e054989c",
   "metadata": {},
   "source": [
    "11. Find the difference between two sets."
   ]
  },
  {
   "cell_type": "code",
   "execution_count": 29,
   "id": "8a4d7a38-b212-4b04-9440-44e50f810a93",
   "metadata": {},
   "outputs": [],
   "source": [
    "s1 = {1,2,3,4,5}\n",
    "s2 = {3,4,5,6,7}"
   ]
  },
  {
   "cell_type": "code",
   "execution_count": 30,
   "id": "1b2534fd-9fee-46ae-bd56-38dd1dd2b6b5",
   "metadata": {},
   "outputs": [
    {
     "data": {
      "text/plain": [
       "{1, 2, 6, 7}"
      ]
     },
     "execution_count": 30,
     "metadata": {},
     "output_type": "execute_result"
    }
   ],
   "source": [
    "s1.union(s2) - s1.intersection(s2)"
   ]
  },
  {
   "cell_type": "markdown",
   "id": "17ea9b80-e196-4a0b-bde7-c8ee1d53ebfb",
   "metadata": {},
   "source": [
    "12. Check if a set is a subset of another set."
   ]
  },
  {
   "cell_type": "code",
   "execution_count": 31,
   "id": "579c5148-69a9-4879-a580-56dd76edaf42",
   "metadata": {},
   "outputs": [],
   "source": [
    "s1 = {1,2,3,4,5}\n",
    "s2 = {3,4}"
   ]
  },
  {
   "cell_type": "code",
   "execution_count": 32,
   "id": "e6fb4141-489f-41a5-ac02-7b73e0d7c8ad",
   "metadata": {},
   "outputs": [
    {
     "data": {
      "text/plain": [
       "True"
      ]
     },
     "execution_count": 32,
     "metadata": {},
     "output_type": "execute_result"
    }
   ],
   "source": [
    "s2.issubset(s1)"
   ]
  },
  {
   "cell_type": "markdown",
   "id": "38515fa7-a0ee-4df6-b561-c96b5d5a9b85",
   "metadata": {},
   "source": [
    "13. Check if a set is a superset of another set."
   ]
  },
  {
   "cell_type": "code",
   "execution_count": 33,
   "id": "38af5984-388a-4a89-9cd9-ab58c75bc7be",
   "metadata": {},
   "outputs": [],
   "source": [
    "s1 = {1,2,3,4,5}\n",
    "s2 = {3,4}"
   ]
  },
  {
   "cell_type": "code",
   "execution_count": 34,
   "id": "d47dd18b-a47a-4c86-bbe8-67280d9413b8",
   "metadata": {},
   "outputs": [
    {
     "data": {
      "text/plain": [
       "True"
      ]
     },
     "execution_count": 34,
     "metadata": {},
     "output_type": "execute_result"
    }
   ],
   "source": [
    "s1.issuperset(s2)"
   ]
  },
  {
   "cell_type": "markdown",
   "id": "bb276326-5608-4328-8e65-a41d6e80b328",
   "metadata": {},
   "source": [
    "14. Create a set from a list."
   ]
  },
  {
   "cell_type": "code",
   "execution_count": 35,
   "id": "f7968fcc-a63f-4514-9933-c49a040d7091",
   "metadata": {},
   "outputs": [],
   "source": [
    "l = [9,8,7,6,5,4]"
   ]
  },
  {
   "cell_type": "code",
   "execution_count": 36,
   "id": "1b07678a-0f6f-4168-894b-ccbd84cc970e",
   "metadata": {},
   "outputs": [
    {
     "data": {
      "text/plain": [
       "[9, 8, 7, 6, 5, 4]"
      ]
     },
     "execution_count": 36,
     "metadata": {},
     "output_type": "execute_result"
    }
   ],
   "source": [
    "l"
   ]
  },
  {
   "cell_type": "code",
   "execution_count": 37,
   "id": "cbbe641a-142c-4b34-bdc5-35a9a5dad990",
   "metadata": {},
   "outputs": [
    {
     "data": {
      "text/plain": [
       "list"
      ]
     },
     "execution_count": 37,
     "metadata": {},
     "output_type": "execute_result"
    }
   ],
   "source": [
    "type(l)"
   ]
  },
  {
   "cell_type": "code",
   "execution_count": 38,
   "id": "bdf82861-9d9e-4616-91df-c56e39f50f40",
   "metadata": {},
   "outputs": [],
   "source": [
    "s = set(l)"
   ]
  },
  {
   "cell_type": "code",
   "execution_count": 39,
   "id": "a9095972-ed0f-4232-b52a-c4d0fd0e6b0c",
   "metadata": {},
   "outputs": [
    {
     "data": {
      "text/plain": [
       "{4, 5, 6, 7, 8, 9}"
      ]
     },
     "execution_count": 39,
     "metadata": {},
     "output_type": "execute_result"
    }
   ],
   "source": [
    "s"
   ]
  },
  {
   "cell_type": "code",
   "execution_count": 40,
   "id": "35a808ed-d76c-4380-9d3b-88e660c357e5",
   "metadata": {},
   "outputs": [
    {
     "data": {
      "text/plain": [
       "set"
      ]
     },
     "execution_count": 40,
     "metadata": {},
     "output_type": "execute_result"
    }
   ],
   "source": [
    "type(s)"
   ]
  },
  {
   "cell_type": "markdown",
   "id": "925f64e1-36cb-4ed0-bd05-771435851a26",
   "metadata": {},
   "source": [
    "15. Convert a set to a list."
   ]
  },
  {
   "cell_type": "code",
   "execution_count": 41,
   "id": "4a5dfa73-6fdc-4b5b-b4c1-cbd7e879dd13",
   "metadata": {},
   "outputs": [
    {
     "data": {
      "text/plain": [
       "{4, 5, 6, 7, 8, 9}"
      ]
     },
     "execution_count": 41,
     "metadata": {},
     "output_type": "execute_result"
    }
   ],
   "source": [
    "s"
   ]
  },
  {
   "cell_type": "code",
   "execution_count": 42,
   "id": "609b59a2-32fc-42a7-89b9-ddcf23abf8f0",
   "metadata": {},
   "outputs": [
    {
     "data": {
      "text/plain": [
       "set"
      ]
     },
     "execution_count": 42,
     "metadata": {},
     "output_type": "execute_result"
    }
   ],
   "source": [
    "type(s)"
   ]
  },
  {
   "cell_type": "code",
   "execution_count": 44,
   "id": "dd94d7cb-302e-459b-8c51-2be3d716422c",
   "metadata": {},
   "outputs": [],
   "source": [
    "l = list(s)"
   ]
  },
  {
   "cell_type": "code",
   "execution_count": 45,
   "id": "0d0d6b45-7f15-4907-bd27-59968e4747cc",
   "metadata": {},
   "outputs": [
    {
     "data": {
      "text/plain": [
       "[4, 5, 6, 7, 8, 9]"
      ]
     },
     "execution_count": 45,
     "metadata": {},
     "output_type": "execute_result"
    }
   ],
   "source": [
    "l"
   ]
  },
  {
   "cell_type": "code",
   "execution_count": 46,
   "id": "a738644c-7471-4fe6-82c1-1edb7e001146",
   "metadata": {},
   "outputs": [
    {
     "data": {
      "text/plain": [
       "list"
      ]
     },
     "execution_count": 46,
     "metadata": {},
     "output_type": "execute_result"
    }
   ],
   "source": [
    "type(l)"
   ]
  },
  {
   "cell_type": "markdown",
   "id": "bafd5805-e176-4fbf-abfa-8efb38766c26",
   "metadata": {},
   "source": [
    "16. Remove a random element from a set."
   ]
  },
  {
   "cell_type": "code",
   "execution_count": 50,
   "id": "c0a93091-55c3-4765-a94b-56aa3b8742ad",
   "metadata": {},
   "outputs": [],
   "source": [
    "s = {2,3,4,5,6,7,5,4,3,2,989,2,\"rish\", \"singh\"}"
   ]
  },
  {
   "cell_type": "code",
   "execution_count": 51,
   "id": "d612f4ff-fa37-41b0-ba59-8be6c326ac79",
   "metadata": {},
   "outputs": [
    {
     "data": {
      "text/plain": [
       "{2, 3, 4, 5, 6, 7, 989, 'rish', 'singh'}"
      ]
     },
     "execution_count": 51,
     "metadata": {},
     "output_type": "execute_result"
    }
   ],
   "source": [
    "s"
   ]
  },
  {
   "cell_type": "code",
   "execution_count": 52,
   "id": "55c58d37-fb37-4ab4-b791-833806c09d21",
   "metadata": {},
   "outputs": [],
   "source": [
    "s.remove(989)"
   ]
  },
  {
   "cell_type": "code",
   "execution_count": 53,
   "id": "5eb4a1b9-8741-4912-83a7-e68afa2f91b7",
   "metadata": {},
   "outputs": [
    {
     "data": {
      "text/plain": [
       "{2, 3, 4, 5, 6, 7, 'rish', 'singh'}"
      ]
     },
     "execution_count": 53,
     "metadata": {},
     "output_type": "execute_result"
    }
   ],
   "source": [
    "s"
   ]
  },
  {
   "cell_type": "markdown",
   "id": "3a15d261-cb47-49a4-a31e-ecbcd6798027",
   "metadata": {},
   "source": [
    "17. Pop an element from a set."
   ]
  },
  {
   "cell_type": "code",
   "execution_count": 54,
   "id": "534cfa84-c032-47cc-9982-d686f707aad2",
   "metadata": {},
   "outputs": [
    {
     "data": {
      "text/plain": [
       "{2, 3, 4, 5, 6, 7, 'rish', 'singh'}"
      ]
     },
     "execution_count": 54,
     "metadata": {},
     "output_type": "execute_result"
    }
   ],
   "source": [
    "s"
   ]
  },
  {
   "cell_type": "code",
   "execution_count": 55,
   "id": "6ef92f8c-075c-4d5f-9ddf-d95542e02503",
   "metadata": {},
   "outputs": [
    {
     "data": {
      "text/plain": [
       "2"
      ]
     },
     "execution_count": 55,
     "metadata": {},
     "output_type": "execute_result"
    }
   ],
   "source": [
    "s.pop()"
   ]
  },
  {
   "cell_type": "code",
   "execution_count": 56,
   "id": "a19da519-a7b6-4ef7-bb28-6626d6a28358",
   "metadata": {},
   "outputs": [
    {
     "data": {
      "text/plain": [
       "{3, 4, 5, 6, 7, 'rish', 'singh'}"
      ]
     },
     "execution_count": 56,
     "metadata": {},
     "output_type": "execute_result"
    }
   ],
   "source": [
    "s"
   ]
  },
  {
   "cell_type": "markdown",
   "id": "d599e0be-12d4-4456-916b-ee89eaafd8f2",
   "metadata": {},
   "source": [
    "18. Check if two sets have no elements in common."
   ]
  },
  {
   "cell_type": "code",
   "execution_count": 57,
   "id": "c7ab5416-fa22-4364-8407-83e4c7a9c277",
   "metadata": {},
   "outputs": [],
   "source": [
    "s1 = {1,2,3,4,5,\"rish\"}\n",
    "s2 = {7,8,9,66,\"singh\"}"
   ]
  },
  {
   "cell_type": "code",
   "execution_count": 61,
   "id": "834674ab-ca76-4146-b6f0-62332b73896f",
   "metadata": {},
   "outputs": [
    {
     "data": {
      "text/plain": [
       "{1, 2, 3, 4, 5, 'rish'}"
      ]
     },
     "execution_count": 61,
     "metadata": {},
     "output_type": "execute_result"
    }
   ],
   "source": [
    "s1"
   ]
  },
  {
   "cell_type": "code",
   "execution_count": 62,
   "id": "2408e1e1-f732-408d-a79b-696689467b12",
   "metadata": {},
   "outputs": [
    {
     "data": {
      "text/plain": [
       "{66, 7, 8, 9, 'singh'}"
      ]
     },
     "execution_count": 62,
     "metadata": {},
     "output_type": "execute_result"
    }
   ],
   "source": [
    "s2"
   ]
  },
  {
   "cell_type": "code",
   "execution_count": 63,
   "id": "f9fb235e-da9c-49c9-9ff7-88f22bef9752",
   "metadata": {},
   "outputs": [
    {
     "data": {
      "text/plain": [
       "set()"
      ]
     },
     "execution_count": 63,
     "metadata": {},
     "output_type": "execute_result"
    }
   ],
   "source": [
    "s1.intersection(s2)"
   ]
  },
  {
   "cell_type": "markdown",
   "id": "7532e8d3-a9ba-4ae0-bf7c-6f081a585ff3",
   "metadata": {},
   "source": [
    "19. Find the symmetric difference between two sets."
   ]
  },
  {
   "cell_type": "code",
   "execution_count": 71,
   "id": "1e360c8a-c11d-4cab-a1d0-fbe9b6546a51",
   "metadata": {},
   "outputs": [],
   "source": [
    "s1 = {1,2,3,4,5,\"rish\"}\n",
    "s2 = {7,8,9,66,\"singh\"}"
   ]
  },
  {
   "cell_type": "code",
   "execution_count": 72,
   "id": "cc567727-df6b-4b88-8225-20bc862718f9",
   "metadata": {},
   "outputs": [
    {
     "data": {
      "text/plain": [
       "{1, 2, 3, 4, 5, 66, 7, 8, 9, 'rish', 'singh'}"
      ]
     },
     "execution_count": 72,
     "metadata": {},
     "output_type": "execute_result"
    }
   ],
   "source": [
    "s1.symmetric_difference(s2)"
   ]
  },
  {
   "cell_type": "markdown",
   "id": "d048c8ae-896d-479a-98ee-8d23293fa165",
   "metadata": {},
   "source": [
    "20. Update a set with elements from another set."
   ]
  },
  {
   "cell_type": "code",
   "execution_count": 82,
   "id": "0b63d3ef-6b19-4a2e-8c73-db2a56fa0541",
   "metadata": {},
   "outputs": [],
   "source": [
    "s1 = {1,2,3,4,5,\"rish\"}\n",
    "s2 = {7,8,9,66,\"singh\"}"
   ]
  },
  {
   "cell_type": "code",
   "execution_count": 83,
   "id": "b289ff0d-e718-46ad-b7c4-5a8441cc952f",
   "metadata": {},
   "outputs": [
    {
     "data": {
      "text/plain": [
       "{1, 2, 3, 4, 5, 'rish'}"
      ]
     },
     "execution_count": 83,
     "metadata": {},
     "output_type": "execute_result"
    }
   ],
   "source": [
    "s1"
   ]
  },
  {
   "cell_type": "code",
   "execution_count": 84,
   "id": "94087722-47c4-4e31-9650-d7387236cc25",
   "metadata": {},
   "outputs": [
    {
     "data": {
      "text/plain": [
       "{66, 7, 8, 9, 'singh'}"
      ]
     },
     "execution_count": 84,
     "metadata": {},
     "output_type": "execute_result"
    }
   ],
   "source": [
    "s2"
   ]
  },
  {
   "cell_type": "code",
   "execution_count": 85,
   "id": "26b7c887-6394-40d9-959d-c1503db46d8f",
   "metadata": {},
   "outputs": [],
   "source": [
    "s1.update(s2)"
   ]
  },
  {
   "cell_type": "code",
   "execution_count": 86,
   "id": "5937949e-0698-4780-9a86-da578db7c3cd",
   "metadata": {},
   "outputs": [
    {
     "data": {
      "text/plain": [
       "{1, 2, 3, 4, 5, 66, 7, 8, 9, 'rish', 'singh'}"
      ]
     },
     "execution_count": 86,
     "metadata": {},
     "output_type": "execute_result"
    }
   ],
   "source": [
    "s1"
   ]
  },
  {
   "cell_type": "markdown",
   "id": "e3aff0ac-6b9b-4b08-a867-e7cf56804138",
   "metadata": {},
   "source": [
    "21. Create a set of the first 5 prime numbers."
   ]
  },
  {
   "cell_type": "code",
   "execution_count": null,
   "id": "1bd85b9e-4759-46ce-a43f-fe3468c37025",
   "metadata": {},
   "outputs": [],
   "source": []
  },
  {
   "cell_type": "markdown",
   "id": "a3950cdf-a1e3-436f-ac0a-d7e309e2cc9d",
   "metadata": {},
   "source": [
    "22. Check if two sets are identical."
   ]
  },
  {
   "cell_type": "code",
   "execution_count": 87,
   "id": "5ec10525-bc20-4acc-8508-ecfa447c2d43",
   "metadata": {},
   "outputs": [],
   "source": [
    "s1 = {1,2,3,4,5,\"rish\"}\n",
    "s2 = {1,2,3,4,5,\"rish\"}"
   ]
  },
  {
   "cell_type": "code",
   "execution_count": 90,
   "id": "551c73c7-ccb3-4770-9473-fa3800c13d9c",
   "metadata": {},
   "outputs": [
    {
     "data": {
      "text/plain": [
       "True"
      ]
     },
     "execution_count": 90,
     "metadata": {},
     "output_type": "execute_result"
    }
   ],
   "source": [
    "s1 == s2"
   ]
  },
  {
   "cell_type": "markdown",
   "id": "e5aedeff-0d73-4903-b876-74728d125803",
   "metadata": {},
   "source": [
    "23. Create a frozen set."
   ]
  },
  {
   "cell_type": "code",
   "execution_count": 92,
   "id": "5bcbc2b8-96a4-4993-b6c9-8bbb03127991",
   "metadata": {},
   "outputs": [],
   "source": [
    "s = {2,3,4,5,6,7,5,4,3,2,989,2,\"rish\", \"singh\"}"
   ]
  },
  {
   "cell_type": "code",
   "execution_count": 93,
   "id": "7510566c-8374-4c0b-8e0b-5f3cf39e4e4a",
   "metadata": {},
   "outputs": [
    {
     "data": {
      "text/plain": [
       "{2, 3, 4, 5, 6, 7, 989, 'rish', 'singh'}"
      ]
     },
     "execution_count": 93,
     "metadata": {},
     "output_type": "execute_result"
    }
   ],
   "source": [
    "s"
   ]
  },
  {
   "cell_type": "code",
   "execution_count": 96,
   "id": "5ddf7c8f-1ff8-481d-9b4a-cb2b9d342f96",
   "metadata": {},
   "outputs": [],
   "source": [
    "s1 = frozenset(s)"
   ]
  },
  {
   "cell_type": "code",
   "execution_count": 97,
   "id": "290e39e7-0ae1-4415-a539-807d1ea7b0fe",
   "metadata": {},
   "outputs": [
    {
     "data": {
      "text/plain": [
       "frozenset({2, 3, 4, 5, 6, 7, 989, 'rish', 'singh'})"
      ]
     },
     "execution_count": 97,
     "metadata": {},
     "output_type": "execute_result"
    }
   ],
   "source": [
    "s1"
   ]
  },
  {
   "cell_type": "code",
   "execution_count": 99,
   "id": "fd5f150c-fb37-4d20-9ff4-6547bd56a322",
   "metadata": {},
   "outputs": [
    {
     "ename": "AttributeError",
     "evalue": "'frozenset' object has no attribute 'pop'",
     "output_type": "error",
     "traceback": [
      "\u001b[0;31m---------------------------------------------------------------------------\u001b[0m",
      "\u001b[0;31mAttributeError\u001b[0m                            Traceback (most recent call last)",
      "Cell \u001b[0;32mIn[99], line 1\u001b[0m\n\u001b[0;32m----> 1\u001b[0m \u001b[43ms1\u001b[49m\u001b[38;5;241;43m.\u001b[39;49m\u001b[43mpop\u001b[49m()\n",
      "\u001b[0;31mAttributeError\u001b[0m: 'frozenset' object has no attribute 'pop'"
     ]
    }
   ],
   "source": [
    "s1.pop()"
   ]
  },
  {
   "cell_type": "markdown",
   "id": "3f95faea-d96c-4d67-bcb3-6d828e5d549e",
   "metadata": {},
   "source": [
    "24. Check if a set is disjoint with another set."
   ]
  },
  {
   "cell_type": "code",
   "execution_count": 102,
   "id": "35b82790-3652-4fd5-abec-88c93286aab7",
   "metadata": {},
   "outputs": [],
   "source": [
    "s1 = {1,2,3,4,5,\"rish\"}\n",
    "s2 = {7,8,9,66,\"singh\"}"
   ]
  },
  {
   "cell_type": "code",
   "execution_count": 103,
   "id": "80730216-dcaf-40ab-8306-bf6e39890668",
   "metadata": {},
   "outputs": [
    {
     "data": {
      "text/plain": [
       "True"
      ]
     },
     "execution_count": 103,
     "metadata": {},
     "output_type": "execute_result"
    }
   ],
   "source": [
    "s1.isdisjoint(s2)"
   ]
  },
  {
   "cell_type": "markdown",
   "id": "da397121-45bb-4b65-9ee0-16b065dce868",
   "metadata": {},
   "source": [
    "25. Create a set of squares of numbers from 1 to 5."
   ]
  },
  {
   "cell_type": "code",
   "execution_count": 104,
   "id": "3c6e52cd-cbf3-4d9e-a3e4-bcacc5ccf51f",
   "metadata": {},
   "outputs": [
    {
     "data": {
      "text/plain": [
       "{1, 4, 9, 16, 25}"
      ]
     },
     "execution_count": 104,
     "metadata": {},
     "output_type": "execute_result"
    }
   ],
   "source": [
    "l = []\n",
    "for i in range(1,6):\n",
    "    l.append(i**2)\n",
    "s = set(l)\n",
    "s"
   ]
  },
  {
   "cell_type": "markdown",
   "id": "6cbd117e-aa54-430d-ad17-b08a6b28bab6",
   "metadata": {},
   "source": [
    "26. Filter out all even numbers from a set."
   ]
  },
  {
   "cell_type": "code",
   "execution_count": 113,
   "id": "a6fafc00-8af0-438c-a231-da973ee38f6e",
   "metadata": {},
   "outputs": [],
   "source": [
    "s = {2,3,4,5,6,7,5,4,3,2,989,2,6,8,7,5,4,24,78,\"rish\", \"singh\"}"
   ]
  },
  {
   "cell_type": "code",
   "execution_count": 114,
   "id": "62333d0d-7da8-4751-a4c1-d9a29ea4fe50",
   "metadata": {},
   "outputs": [
    {
     "data": {
      "text/plain": [
       "{2, 24, 3, 4, 5, 6, 7, 78, 8, 989, 'rish', 'singh'}"
      ]
     },
     "execution_count": 114,
     "metadata": {},
     "output_type": "execute_result"
    }
   ],
   "source": [
    "s"
   ]
  },
  {
   "cell_type": "code",
   "execution_count": 115,
   "id": "91d3a13a-4f7d-421c-873a-f3fc1c264aab",
   "metadata": {},
   "outputs": [
    {
     "data": {
      "text/plain": [
       "{2, 4, 6, 8, 24, 78}"
      ]
     },
     "execution_count": 115,
     "metadata": {},
     "output_type": "execute_result"
    }
   ],
   "source": [
    "l = list(s)\n",
    "l1 = []\n",
    "for i in l:\n",
    "    if type(i) == int:\n",
    "        if i%2 == 0:\n",
    "            l1.append(i)\n",
    "        else:\n",
    "            pass\n",
    "    else:\n",
    "        pass\n",
    "s1 = set(l1)\n",
    "s1"
   ]
  },
  {
   "cell_type": "markdown",
   "id": "e2131cb5-8680-4a54-9ad6-ebaea1967b01",
   "metadata": {},
   "source": [
    "27. Multiply all elements in a set by 2."
   ]
  },
  {
   "cell_type": "code",
   "execution_count": 116,
   "id": "877dbff7-82d3-4ade-932c-b11b70816484",
   "metadata": {},
   "outputs": [],
   "source": [
    "s = {1,2,3,4,5}"
   ]
  },
  {
   "cell_type": "code",
   "execution_count": 119,
   "id": "77965d63-7bef-40f1-87cb-b6f6c5fd8416",
   "metadata": {},
   "outputs": [
    {
     "data": {
      "text/plain": [
       "{1, 2, 3, 4, 5}"
      ]
     },
     "execution_count": 119,
     "metadata": {},
     "output_type": "execute_result"
    }
   ],
   "source": [
    "s"
   ]
  },
  {
   "cell_type": "code",
   "execution_count": 120,
   "id": "34a8c88c-6940-407c-b1ec-e0a40f4bef4a",
   "metadata": {},
   "outputs": [
    {
     "data": {
      "text/plain": [
       "{2, 4, 6, 8, 10}"
      ]
     },
     "execution_count": 120,
     "metadata": {},
     "output_type": "execute_result"
    }
   ],
   "source": [
    "l = list(s)\n",
    "l1 = []\n",
    "for i in l:\n",
    "    l1.append(i*2)\n",
    "s1 = set(l1)\n",
    "s1"
   ]
  },
  {
   "cell_type": "markdown",
   "id": "a7f19360-97e8-4c7b-9123-d6b08e903fb4",
   "metadata": {},
   "source": [
    "28. Create a set of random numbers."
   ]
  },
  {
   "cell_type": "code",
   "execution_count": 121,
   "id": "bcd5eb8a-70e8-4825-8617-87da28995cef",
   "metadata": {},
   "outputs": [],
   "source": [
    "s = {1,2,43,5,7,8,654,3,21,45,7,8765,43,2}"
   ]
  },
  {
   "cell_type": "code",
   "execution_count": 122,
   "id": "c71be550-9055-4ef3-801c-28b48a90a8e6",
   "metadata": {},
   "outputs": [
    {
     "data": {
      "text/plain": [
       "{1, 2, 3, 5, 7, 8, 21, 43, 45, 654, 8765}"
      ]
     },
     "execution_count": 122,
     "metadata": {},
     "output_type": "execute_result"
    }
   ],
   "source": [
    "s"
   ]
  },
  {
   "cell_type": "markdown",
   "id": "b2af265b-214f-432b-9b68-8031780c7418",
   "metadata": {},
   "source": [
    "29. Check if a set is empty."
   ]
  },
  {
   "cell_type": "code",
   "execution_count": 134,
   "id": "7d8c3710-45ac-4dac-bf71-d425201e487d",
   "metadata": {},
   "outputs": [],
   "source": [
    "s1 = {1,2,43,5,7,8,654,3,21,45,7,8765,43,2}"
   ]
  },
  {
   "cell_type": "code",
   "execution_count": 135,
   "id": "1944ebfa-94ec-4963-8871-aedb4e7973f7",
   "metadata": {},
   "outputs": [
    {
     "data": {
      "text/plain": [
       "{1, 2, 3, 5, 7, 8, 21, 43, 45, 654, 8765}"
      ]
     },
     "execution_count": 135,
     "metadata": {},
     "output_type": "execute_result"
    }
   ],
   "source": [
    "s1"
   ]
  },
  {
   "cell_type": "code",
   "execution_count": 136,
   "id": "6c568401-0715-4fe4-acfc-0f0552a88bb6",
   "metadata": {},
   "outputs": [
    {
     "data": {
      "text/plain": [
       "False"
      ]
     },
     "execution_count": 136,
     "metadata": {},
     "output_type": "execute_result"
    }
   ],
   "source": [
    "set() in s1"
   ]
  },
  {
   "cell_type": "markdown",
   "id": "c764d3c0-fe4b-4e25-8949-ba299328da71",
   "metadata": {},
   "source": [
    "30. Create a nested set (hint: use frozenset)."
   ]
  },
  {
   "cell_type": "code",
   "execution_count": 140,
   "id": "499f9c88-49d8-42b4-8185-698c3290eef3",
   "metadata": {},
   "outputs": [],
   "source": [
    "s1 = {1,2,3,4,5,\"rish\"}\n",
    "s2 = {7,8,9,66,\"singh\"}"
   ]
  },
  {
   "cell_type": "code",
   "execution_count": 141,
   "id": "4f347f28-093e-4c95-a3c2-6361d69b210f",
   "metadata": {},
   "outputs": [],
   "source": [
    "s3 = frozenset(s1)\n",
    "s4 = frozenset(s2)"
   ]
  },
  {
   "cell_type": "code",
   "execution_count": 144,
   "id": "32b648c0-e9b8-4ef4-9c08-127bd2ac9dac",
   "metadata": {},
   "outputs": [],
   "source": [
    "s = {s3,s4}"
   ]
  },
  {
   "cell_type": "code",
   "execution_count": 145,
   "id": "1c3a41cb-20f8-4c3d-9d34-835fa4efd7ee",
   "metadata": {},
   "outputs": [
    {
     "data": {
      "text/plain": [
       "{frozenset({66, 7, 8, 9, 'singh'}), frozenset({1, 2, 3, 4, 5, 'rish'})}"
      ]
     },
     "execution_count": 145,
     "metadata": {},
     "output_type": "execute_result"
    }
   ],
   "source": [
    "s"
   ]
  },
  {
   "cell_type": "markdown",
   "id": "fd426816-815f-4e54-9ff4-da18d3240eb2",
   "metadata": {},
   "source": [
    "31. Remove an element from a set using the discard method."
   ]
  },
  {
   "cell_type": "code",
   "execution_count": 146,
   "id": "e16f9c92-02f5-48ff-8874-350312d833ec",
   "metadata": {},
   "outputs": [],
   "source": [
    "s1 = {1,2,3,4,5,\"rish\"}"
   ]
  },
  {
   "cell_type": "code",
   "execution_count": 147,
   "id": "daa17749-5d58-4fb9-9e95-9dce843f9246",
   "metadata": {},
   "outputs": [],
   "source": [
    "s1.discard(\"rish\")"
   ]
  },
  {
   "cell_type": "code",
   "execution_count": 148,
   "id": "11e0d811-2611-4eb2-9882-88d31c5ab498",
   "metadata": {},
   "outputs": [
    {
     "data": {
      "text/plain": [
       "{1, 2, 3, 4, 5}"
      ]
     },
     "execution_count": 148,
     "metadata": {},
     "output_type": "execute_result"
    }
   ],
   "source": [
    "s1"
   ]
  },
  {
   "cell_type": "markdown",
   "id": "ee418d5e-83bf-4ae9-84c9-8a1778fcbe3b",
   "metadata": {},
   "source": [
    "32. Compare two sets."
   ]
  },
  {
   "cell_type": "code",
   "execution_count": 149,
   "id": "2c4788ff-6562-4668-9487-4d6415fdacda",
   "metadata": {},
   "outputs": [],
   "source": [
    "s1 = {1,2,3,4,5,\"rish\"}\n",
    "s2 = {7,8,9,66,\"singh\"}"
   ]
  },
  {
   "cell_type": "code",
   "execution_count": 150,
   "id": "db2a11e2-2aa5-49a3-8e0f-377fa2987a09",
   "metadata": {},
   "outputs": [
    {
     "data": {
      "text/plain": [
       "False"
      ]
     },
     "execution_count": 150,
     "metadata": {},
     "output_type": "execute_result"
    }
   ],
   "source": [
    "s1 == s2"
   ]
  },
  {
   "cell_type": "code",
   "execution_count": 151,
   "id": "dcd59baa-c96e-4586-98f2-9c77d981399b",
   "metadata": {},
   "outputs": [],
   "source": [
    "s3 = {3,4,5,6,7}\n",
    "s4 = {3,4,5,6,7}"
   ]
  },
  {
   "cell_type": "code",
   "execution_count": 152,
   "id": "d2b1736b-2887-49da-ad39-40befe653b5d",
   "metadata": {},
   "outputs": [
    {
     "data": {
      "text/plain": [
       "True"
      ]
     },
     "execution_count": 152,
     "metadata": {},
     "output_type": "execute_result"
    }
   ],
   "source": [
    "s3 == s4"
   ]
  },
  {
   "cell_type": "markdown",
   "id": "8a7fb65f-eb75-4ae8-8080-34b743fc2081",
   "metadata": {},
   "source": [
    "33. Create a set from a string."
   ]
  },
  {
   "cell_type": "code",
   "execution_count": 153,
   "id": "98bcb8d8-d634-45f9-880b-e249e59b6665",
   "metadata": {},
   "outputs": [],
   "source": [
    "s = \"My name is Rishabh\"\n",
    "s1 = set(s)"
   ]
  },
  {
   "cell_type": "code",
   "execution_count": 154,
   "id": "d508330d-148a-4daf-8272-a11c7694d136",
   "metadata": {},
   "outputs": [
    {
     "data": {
      "text/plain": [
       "{' ', 'M', 'R', 'a', 'b', 'e', 'h', 'i', 'm', 'n', 's', 'y'}"
      ]
     },
     "execution_count": 154,
     "metadata": {},
     "output_type": "execute_result"
    }
   ],
   "source": [
    "s1"
   ]
  },
  {
   "cell_type": "code",
   "execution_count": 155,
   "id": "0499c462-1600-43f2-b68d-42e1aca9daf5",
   "metadata": {},
   "outputs": [
    {
     "data": {
      "text/plain": [
       "set"
      ]
     },
     "execution_count": 155,
     "metadata": {},
     "output_type": "execute_result"
    }
   ],
   "source": [
    "type(s1)"
   ]
  },
  {
   "cell_type": "markdown",
   "id": "1acc3d54-c3a5-44b8-9934-106e33017e47",
   "metadata": {},
   "source": [
    "34. Convert a set of strings to a set of integers."
   ]
  },
  {
   "cell_type": "code",
   "execution_count": 3,
   "id": "d63d7641-6743-4798-bdf3-94af4448ec32",
   "metadata": {},
   "outputs": [],
   "source": [
    "s = \"2,3,4,32,5,6,77,6,6,5,75,43,24,89,97\""
   ]
  },
  {
   "cell_type": "code",
   "execution_count": 4,
   "id": "db944ec6-21cd-4482-9d68-9312d7204913",
   "metadata": {},
   "outputs": [
    {
     "data": {
      "text/plain": [
       "'2,3,4,32,5,6,77,6,6,5,75,43,24,89,97'"
      ]
     },
     "execution_count": 4,
     "metadata": {},
     "output_type": "execute_result"
    }
   ],
   "source": [
    "s"
   ]
  },
  {
   "cell_type": "code",
   "execution_count": 7,
   "id": "ee66853d-5c4f-47a7-9b4a-0d8500857ec8",
   "metadata": {},
   "outputs": [],
   "source": [
    "s1 = set(s)"
   ]
  },
  {
   "cell_type": "code",
   "execution_count": 8,
   "id": "56c0c4bf-20d8-4486-ad7b-dd409d7e1015",
   "metadata": {},
   "outputs": [
    {
     "data": {
      "text/plain": [
       "{',', '2', '3', '4', '5', '6', '7', '8', '9'}"
      ]
     },
     "execution_count": 8,
     "metadata": {},
     "output_type": "execute_result"
    }
   ],
   "source": [
    "s1"
   ]
  },
  {
   "cell_type": "code",
   "execution_count": 10,
   "id": "3884b711-c559-4fb3-a5d3-5008cce560e9",
   "metadata": {},
   "outputs": [],
   "source": [
    "s1.discard(\",\")"
   ]
  },
  {
   "cell_type": "code",
   "execution_count": 11,
   "id": "50fc1f15-9e23-49a2-bc02-a0e5cd95e44d",
   "metadata": {},
   "outputs": [
    {
     "data": {
      "text/plain": [
       "{'2', '3', '4', '5', '6', '7', '8', '9'}"
      ]
     },
     "execution_count": 11,
     "metadata": {},
     "output_type": "execute_result"
    }
   ],
   "source": [
    "s1"
   ]
  },
  {
   "cell_type": "code",
   "execution_count": 12,
   "id": "2d269a4e-f1a3-44db-a287-1fcef6b3d07c",
   "metadata": {},
   "outputs": [
    {
     "data": {
      "text/plain": [
       "{2, 3, 4, 5, 6, 7, 8, 9}"
      ]
     },
     "execution_count": 12,
     "metadata": {},
     "output_type": "execute_result"
    }
   ],
   "source": [
    "l = list(s1)\n",
    "l1 = []\n",
    "for i in l:\n",
    "    l1.append(int(i))\n",
    "s2 = set(l1)\n",
    "s2"
   ]
  },
  {
   "cell_type": "markdown",
   "id": "5df2c4d0-ba3c-4e85-8a80-7104630a9b10",
   "metadata": {},
   "source": [
    "35. Convert a set of integers to a set of strings."
   ]
  },
  {
   "cell_type": "code",
   "execution_count": 16,
   "id": "9a08e7ac-46a7-4540-a9dd-2ddd850e80e3",
   "metadata": {},
   "outputs": [
    {
     "data": {
      "text/plain": [
       "{2, 3, 4, 5, 6, 7, 8, 9}"
      ]
     },
     "execution_count": 16,
     "metadata": {},
     "output_type": "execute_result"
    }
   ],
   "source": [
    "s2"
   ]
  },
  {
   "cell_type": "code",
   "execution_count": 17,
   "id": "9078dc20-dd72-4a37-815d-56e7fdf21830",
   "metadata": {},
   "outputs": [
    {
     "data": {
      "text/plain": [
       "{'2', '3', '4', '5', '6', '7', '8', '9'}"
      ]
     },
     "execution_count": 17,
     "metadata": {},
     "output_type": "execute_result"
    }
   ],
   "source": [
    "l = list(s2)\n",
    "l1 = []\n",
    "for i in l:\n",
    "    l1.append(str(i))\n",
    "s = set(l1)\n",
    "s"
   ]
  },
  {
   "cell_type": "markdown",
   "id": "e12f47e2-4e79-4bd6-8d6f-b8f30237b904",
   "metadata": {},
   "source": [
    "36. Create a set from a tuple."
   ]
  },
  {
   "cell_type": "code",
   "execution_count": 19,
   "id": "c9fbcd49-4ca9-4415-8421-708122d5b210",
   "metadata": {},
   "outputs": [],
   "source": [
    "t = (9,8,7,\"rish\",True,7+8j,3.5)"
   ]
  },
  {
   "cell_type": "code",
   "execution_count": 20,
   "id": "8f957ef7-61df-47b6-a3dc-d1f726f79e5b",
   "metadata": {},
   "outputs": [
    {
     "data": {
      "text/plain": [
       "(9, 8, 7, 'rish', True, (7+8j), 3.5)"
      ]
     },
     "execution_count": 20,
     "metadata": {},
     "output_type": "execute_result"
    }
   ],
   "source": [
    "t"
   ]
  },
  {
   "cell_type": "code",
   "execution_count": 21,
   "id": "02a43878-7161-4a74-bd0d-45213f9fb45a",
   "metadata": {},
   "outputs": [
    {
     "data": {
      "text/plain": [
       "tuple"
      ]
     },
     "execution_count": 21,
     "metadata": {},
     "output_type": "execute_result"
    }
   ],
   "source": [
    "type(t)"
   ]
  },
  {
   "cell_type": "code",
   "execution_count": 22,
   "id": "e6e178bd-d482-4674-8578-83119069f29e",
   "metadata": {},
   "outputs": [],
   "source": [
    "s = set(t)"
   ]
  },
  {
   "cell_type": "code",
   "execution_count": 23,
   "id": "3e18a387-ff4c-4b57-8040-7d903d448d58",
   "metadata": {},
   "outputs": [
    {
     "data": {
      "text/plain": [
       "{(7+8j), 3.5, 7, 8, 9, True, 'rish'}"
      ]
     },
     "execution_count": 23,
     "metadata": {},
     "output_type": "execute_result"
    }
   ],
   "source": [
    "s"
   ]
  },
  {
   "cell_type": "code",
   "execution_count": 24,
   "id": "4b99f051-e287-4ef1-adf1-1c014e478ab0",
   "metadata": {},
   "outputs": [
    {
     "data": {
      "text/plain": [
       "set"
      ]
     },
     "execution_count": 24,
     "metadata": {},
     "output_type": "execute_result"
    }
   ],
   "source": [
    "type(s)"
   ]
  },
  {
   "cell_type": "markdown",
   "id": "9882e8e0-85be-4e30-803f-dc4a1f9b99c7",
   "metadata": {},
   "source": [
    "37. Convert a set to a tuple."
   ]
  },
  {
   "cell_type": "code",
   "execution_count": 25,
   "id": "dc38313d-ccd0-4b90-aa25-5df8bf772951",
   "metadata": {},
   "outputs": [
    {
     "data": {
      "text/plain": [
       "{(7+8j), 3.5, 7, 8, 9, True, 'rish'}"
      ]
     },
     "execution_count": 25,
     "metadata": {},
     "output_type": "execute_result"
    }
   ],
   "source": [
    "s"
   ]
  },
  {
   "cell_type": "code",
   "execution_count": 26,
   "id": "6c3e9043-6dda-4477-97bb-1890694f456e",
   "metadata": {},
   "outputs": [
    {
     "data": {
      "text/plain": [
       "set"
      ]
     },
     "execution_count": 26,
     "metadata": {},
     "output_type": "execute_result"
    }
   ],
   "source": [
    "type(s)"
   ]
  },
  {
   "cell_type": "code",
   "execution_count": 27,
   "id": "dc1c5989-e7bc-403f-a456-d829d20a34ac",
   "metadata": {},
   "outputs": [],
   "source": [
    "t = tuple(s)"
   ]
  },
  {
   "cell_type": "code",
   "execution_count": 28,
   "id": "047cd03c-4a51-475a-bd77-a37c2da7cc02",
   "metadata": {},
   "outputs": [
    {
     "data": {
      "text/plain": [
       "(True, 3.5, 7, 8, 9, 'rish', (7+8j))"
      ]
     },
     "execution_count": 28,
     "metadata": {},
     "output_type": "execute_result"
    }
   ],
   "source": [
    "t"
   ]
  },
  {
   "cell_type": "code",
   "execution_count": 29,
   "id": "63d46e3f-4fc5-4d62-a1c9-c307d7079d93",
   "metadata": {},
   "outputs": [
    {
     "data": {
      "text/plain": [
       "tuple"
      ]
     },
     "execution_count": 29,
     "metadata": {},
     "output_type": "execute_result"
    }
   ],
   "source": [
    "type(t)"
   ]
  },
  {
   "cell_type": "markdown",
   "id": "f03efc9d-54bb-48a2-b6c9-45b05e556f98",
   "metadata": {},
   "source": [
    "38. Find the maximum value in a set."
   ]
  },
  {
   "cell_type": "code",
   "execution_count": 31,
   "id": "3628c27d-a2e7-4f6f-b9fd-d7ca2c0079ca",
   "metadata": {},
   "outputs": [],
   "source": [
    "s = {1,76,54,38,98,23,654,765,382,987,6,54}"
   ]
  },
  {
   "cell_type": "code",
   "execution_count": 32,
   "id": "0ebcf1df-9984-4d64-905d-0dd6c4555335",
   "metadata": {},
   "outputs": [
    {
     "data": {
      "text/plain": [
       "{1, 6, 23, 38, 54, 76, 98, 382, 654, 765, 987}"
      ]
     },
     "execution_count": 32,
     "metadata": {},
     "output_type": "execute_result"
    }
   ],
   "source": [
    "s"
   ]
  },
  {
   "cell_type": "code",
   "execution_count": 33,
   "id": "627cdb5e-13ad-4756-ae9c-5beb13e7f396",
   "metadata": {},
   "outputs": [
    {
     "data": {
      "text/plain": [
       "987"
      ]
     },
     "execution_count": 33,
     "metadata": {},
     "output_type": "execute_result"
    }
   ],
   "source": [
    "max(s)"
   ]
  },
  {
   "cell_type": "markdown",
   "id": "173c95f8-1784-41ab-9393-d2c4f5015fe9",
   "metadata": {},
   "source": [
    "39. Find the minimum value in a set."
   ]
  },
  {
   "cell_type": "code",
   "execution_count": 34,
   "id": "9922bf83-4acc-4a81-bb99-564f1636bc7a",
   "metadata": {},
   "outputs": [
    {
     "data": {
      "text/plain": [
       "{1, 6, 23, 38, 54, 76, 98, 382, 654, 765, 987}"
      ]
     },
     "execution_count": 34,
     "metadata": {},
     "output_type": "execute_result"
    }
   ],
   "source": [
    "s"
   ]
  },
  {
   "cell_type": "code",
   "execution_count": 35,
   "id": "71da076e-e306-41f9-b838-eee29001a413",
   "metadata": {},
   "outputs": [
    {
     "data": {
      "text/plain": [
       "1"
      ]
     },
     "execution_count": 35,
     "metadata": {},
     "output_type": "execute_result"
    }
   ],
   "source": [
    "min(s)"
   ]
  },
  {
   "cell_type": "markdown",
   "id": "4999c829-8389-47f4-9bee-519e2fe8f79f",
   "metadata": {},
   "source": [
    "40. Create a set from user input."
   ]
  },
  {
   "cell_type": "code",
   "execution_count": 36,
   "id": "fa891d95-e91b-406d-899a-3a66c441e4b4",
   "metadata": {},
   "outputs": [
    {
     "name": "stdin",
     "output_type": "stream",
     "text": [
      "Enter the 1st value for set: 54\n",
      "Enter the 2nd value for set: 78\n",
      "Enter the 3rd value for set: 96\n",
      "Enter the 4th value for set: 32\n",
      "Enter the 5th value for set: 71\n"
     ]
    },
    {
     "data": {
      "text/plain": [
       "{32, 54, 71, 78, 96}"
      ]
     },
     "execution_count": 36,
     "metadata": {},
     "output_type": "execute_result"
    }
   ],
   "source": [
    "a = int(input(\"Enter the 1st value for set:\"))\n",
    "b = int(input(\"Enter the 2nd value for set:\"))\n",
    "c = int(input(\"Enter the 3rd value for set:\"))\n",
    "d = int(input(\"Enter the 4th value for set:\"))\n",
    "e = int(input(\"Enter the 5th value for set:\"))\n",
    "s = {a,b,c,d,e}\n",
    "s"
   ]
  },
  {
   "cell_type": "markdown",
   "id": "4343d7a3-51e7-432e-b61f-3b9533005d92",
   "metadata": {},
   "source": [
    "41. Check if the intersection of two sets is empty."
   ]
  },
  {
   "cell_type": "code",
   "execution_count": 37,
   "id": "992354ea-47ff-42ca-9d4e-e296fe401c5b",
   "metadata": {},
   "outputs": [],
   "source": [
    "s1 = {1,2,3,4,5,\"rish\"}\n",
    "s2 = {7,8,9,66,\"singh\"}"
   ]
  },
  {
   "cell_type": "code",
   "execution_count": 43,
   "id": "2a47ff26-880e-4812-ba4f-2c402f90f1cc",
   "metadata": {},
   "outputs": [
    {
     "data": {
      "text/plain": [
       "True"
      ]
     },
     "execution_count": 43,
     "metadata": {},
     "output_type": "execute_result"
    }
   ],
   "source": [
    "s1.intersection(s2) == set()"
   ]
  },
  {
   "cell_type": "markdown",
   "id": "6be9bc6e-781d-4d23-9f86-de726272d8d1",
   "metadata": {},
   "source": [
    "42. Create a set of the first 5 Fibonacci numbers."
   ]
  },
  {
   "cell_type": "code",
   "execution_count": null,
   "id": "17d203ab-9252-4067-bc34-a014e6cb1bd4",
   "metadata": {},
   "outputs": [],
   "source": []
  },
  {
   "cell_type": "markdown",
   "id": "5f1fb3cc-8eb5-4378-9e44-1f4f8ae998d4",
   "metadata": {},
   "source": [
    "43. Remove duplicates from a list using sets."
   ]
  },
  {
   "cell_type": "code",
   "execution_count": 49,
   "id": "b6f26da4-936d-4932-a60c-d067cc9ea089",
   "metadata": {},
   "outputs": [],
   "source": [
    "l = [1,3,3,4,5,6,7,6,5,4,2,3,4,6,7,5,3,2,1,3]"
   ]
  },
  {
   "cell_type": "code",
   "execution_count": 50,
   "id": "f4b9f265-e16b-43ea-a77c-a5c61fbbed09",
   "metadata": {},
   "outputs": [
    {
     "data": {
      "text/plain": [
       "[1, 3, 3, 4, 5, 6, 7, 6, 5, 4, 2, 3, 4, 6, 7, 5, 3, 2, 1, 3]"
      ]
     },
     "execution_count": 50,
     "metadata": {},
     "output_type": "execute_result"
    }
   ],
   "source": [
    "l"
   ]
  },
  {
   "cell_type": "code",
   "execution_count": 52,
   "id": "29b9f279-c752-4b5d-ad18-432a562f9830",
   "metadata": {},
   "outputs": [],
   "source": [
    "s = set(l)"
   ]
  },
  {
   "cell_type": "code",
   "execution_count": 53,
   "id": "2f52d2b3-bd2d-4bf1-940b-5c5eac7da1b7",
   "metadata": {},
   "outputs": [
    {
     "data": {
      "text/plain": [
       "{1, 2, 3, 4, 5, 6, 7}"
      ]
     },
     "execution_count": 53,
     "metadata": {},
     "output_type": "execute_result"
    }
   ],
   "source": [
    "s"
   ]
  },
  {
   "cell_type": "code",
   "execution_count": 54,
   "id": "7883789a-da57-44ed-b855-6129ffc55300",
   "metadata": {},
   "outputs": [],
   "source": [
    "l1 = list(s)"
   ]
  },
  {
   "cell_type": "code",
   "execution_count": 55,
   "id": "b8677018-a6e6-46d8-bb5c-4ef897d0844a",
   "metadata": {},
   "outputs": [
    {
     "data": {
      "text/plain": [
       "[1, 2, 3, 4, 5, 6, 7]"
      ]
     },
     "execution_count": 55,
     "metadata": {},
     "output_type": "execute_result"
    }
   ],
   "source": [
    "l1"
   ]
  },
  {
   "cell_type": "markdown",
   "id": "ea496335-4d53-4465-820c-24a08d976c49",
   "metadata": {},
   "source": [
    "44. Check if two sets have the same elements, regardless of their count."
   ]
  },
  {
   "cell_type": "code",
   "execution_count": 68,
   "id": "17a12d65-7e2a-4aa7-a83a-f657dc7ab97f",
   "metadata": {},
   "outputs": [],
   "source": [
    "s1 = {1,2,3,4,5,\"rish\"}\n",
    "s2 = {7,8,9,66,\"singh\"}"
   ]
  },
  {
   "cell_type": "code",
   "execution_count": 69,
   "id": "0fe7bad2-eeaf-4400-abc3-48ce1ae7426b",
   "metadata": {},
   "outputs": [
    {
     "data": {
      "text/plain": [
       "set()"
      ]
     },
     "execution_count": 69,
     "metadata": {},
     "output_type": "execute_result"
    }
   ],
   "source": [
    "s1.intersection(s2)"
   ]
  },
  {
   "cell_type": "code",
   "execution_count": 60,
   "id": "58eaba60-d337-41a6-a3b3-3cbe83dfdc02",
   "metadata": {},
   "outputs": [],
   "source": [
    "s3 = {4,5,\"rish\"}"
   ]
  },
  {
   "cell_type": "code",
   "execution_count": 70,
   "id": "e2c8057e-8c23-4aca-9557-dab963c0a1c6",
   "metadata": {},
   "outputs": [
    {
     "data": {
      "text/plain": [
       "{4, 5, 'rish'}"
      ]
     },
     "execution_count": 70,
     "metadata": {},
     "output_type": "execute_result"
    }
   ],
   "source": [
    "s1.intersection(s3)"
   ]
  },
  {
   "cell_type": "markdown",
   "id": "4a1a4f46-910c-41bc-b772-672a007d8204",
   "metadata": {},
   "source": [
    "45. Create a set of the first `n` powers of 2."
   ]
  },
  {
   "cell_type": "code",
   "execution_count": 63,
   "id": "637b5a46-9a5f-447d-a908-f8c41f5ae8ec",
   "metadata": {},
   "outputs": [
    {
     "name": "stdin",
     "output_type": "stream",
     "text": [
      "Enter your desired range: 6\n"
     ]
    },
    {
     "data": {
      "text/plain": [
       "{2, 4, 8, 16, 32, 64}"
      ]
     },
     "execution_count": 63,
     "metadata": {},
     "output_type": "execute_result"
    }
   ],
   "source": [
    "l = []\n",
    "n = int(input(\"Enter your desired range:\"))\n",
    "for i in range(1, n+1):\n",
    "    l.append(2**i)\n",
    "s = set(l)\n",
    "s"
   ]
  },
  {
   "cell_type": "markdown",
   "id": "14c35663-fc57-413f-bff8-26c3b32fe9cd",
   "metadata": {},
   "source": [
    "46. Find the common elements between a set and a list."
   ]
  },
  {
   "cell_type": "code",
   "execution_count": 71,
   "id": "08e15366-ca53-4778-ae3e-fe46422946d8",
   "metadata": {},
   "outputs": [],
   "source": [
    "s = {1,2,3,4,5,6}\n",
    "l = [3,4,5,6,7,8,9]"
   ]
  },
  {
   "cell_type": "code",
   "execution_count": 72,
   "id": "298bc0cb-50d1-471d-bde5-cb44960676ce",
   "metadata": {},
   "outputs": [],
   "source": [
    "s1 = set(l)"
   ]
  },
  {
   "cell_type": "code",
   "execution_count": 73,
   "id": "94841127-62c4-4a7f-816a-f5322d7506d1",
   "metadata": {},
   "outputs": [
    {
     "data": {
      "text/plain": [
       "{3, 4, 5, 6}"
      ]
     },
     "execution_count": 73,
     "metadata": {},
     "output_type": "execute_result"
    }
   ],
   "source": [
    "s.intersection(s1)"
   ]
  },
  {
   "cell_type": "markdown",
   "id": "123b2ff8-dd56-4ca1-b437-5254642d3df0",
   "metadata": {},
   "source": [
    "47. Create a set of the first `n` triangular numbers."
   ]
  },
  {
   "cell_type": "code",
   "execution_count": 74,
   "id": "f509ef6f-fc82-44a5-9c3a-05dadb01dc13",
   "metadata": {},
   "outputs": [
    {
     "name": "stdin",
     "output_type": "stream",
     "text": [
      "Enter your desired range:  10\n"
     ]
    },
    {
     "data": {
      "text/plain": [
       "{1.0, 3.0, 6.0, 10.0, 15.0, 21.0, 28.0, 36.0, 45.0, 55.0}"
      ]
     },
     "execution_count": 74,
     "metadata": {},
     "output_type": "execute_result"
    }
   ],
   "source": [
    "l = []\n",
    "n = int(input(\"Enter your desired range: \"))\n",
    "for i in range(1,n+1):\n",
    "    j = (i+1)*(i/2)\n",
    "    l.append(j)\n",
    "s = set(l)\n",
    "s"
   ]
  },
  {
   "cell_type": "markdown",
   "id": "7b208121-776a-4339-a1c5-47756f05745a",
   "metadata": {},
   "source": [
    "48. Check if a set contains another set as a subset."
   ]
  },
  {
   "cell_type": "code",
   "execution_count": 75,
   "id": "9800f793-0ba3-4060-9af3-74318d61c38a",
   "metadata": {},
   "outputs": [],
   "source": [
    "s1 = {1,2,3,4,5,6}\n",
    "s2 = {3,4}"
   ]
  },
  {
   "cell_type": "code",
   "execution_count": 78,
   "id": "4cf3d523-ce35-49a5-b023-9459a4177ae0",
   "metadata": {},
   "outputs": [
    {
     "data": {
      "text/plain": [
       "True"
      ]
     },
     "execution_count": 78,
     "metadata": {},
     "output_type": "execute_result"
    }
   ],
   "source": [
    "s1.issuperset(s2)"
   ]
  },
  {
   "cell_type": "markdown",
   "id": "540f3946-2159-48d4-bb07-d2214ebc85de",
   "metadata": {},
   "source": [
    "49. Create a set of alternating 1s and 0s of length `n`."
   ]
  },
  {
   "cell_type": "code",
   "execution_count": 83,
   "id": "9232d35c-2942-4b7c-88fb-30b7b2fc39aa",
   "metadata": {},
   "outputs": [
    {
     "name": "stdin",
     "output_type": "stream",
     "text": [
      "Enter your desired length:  10\n"
     ]
    },
    {
     "name": "stdout",
     "output_type": "stream",
     "text": [
      "1\n",
      "0\n",
      "1\n",
      "0\n",
      "1\n",
      "0\n",
      "1\n",
      "0\n",
      "1\n",
      "0\n",
      "1\n"
     ]
    }
   ],
   "source": [
    "l = []\n",
    "n = int(input(\"Enter your desired length: \"))\n",
    "for i in range(0,n+1):\n",
    "    if i%2 != 0:\n",
    "        print(0)\n",
    "    else:\n",
    "        print(1)"
   ]
  },
  {
   "cell_type": "markdown",
   "id": "2b13cfe3-4e88-402b-9216-19769df28827",
   "metadata": {},
   "source": [
    "50. Merge multiple sets into one."
   ]
  },
  {
   "cell_type": "code",
   "execution_count": 85,
   "id": "de726dd5-7b58-441b-81a0-1d09f46d0786",
   "metadata": {},
   "outputs": [],
   "source": [
    "s1 = {1,2,3,4,5}\n",
    "s2 = {9,8,7,6,5}\n",
    "s3 = {\"rish\",\"singh\",\"Data\",\"Scientist\"}"
   ]
  },
  {
   "cell_type": "code",
   "execution_count": 86,
   "id": "61dd95d1-404c-4b30-9911-d4183ec8f8d1",
   "metadata": {},
   "outputs": [
    {
     "data": {
      "text/plain": [
       "{1, 2, 3, 4, 5}"
      ]
     },
     "execution_count": 86,
     "metadata": {},
     "output_type": "execute_result"
    }
   ],
   "source": [
    "s1"
   ]
  },
  {
   "cell_type": "code",
   "execution_count": 87,
   "id": "8d8fdb32-33aa-44ad-aafe-bca9ef44c5a0",
   "metadata": {},
   "outputs": [
    {
     "data": {
      "text/plain": [
       "{5, 6, 7, 8, 9}"
      ]
     },
     "execution_count": 87,
     "metadata": {},
     "output_type": "execute_result"
    }
   ],
   "source": [
    "s2"
   ]
  },
  {
   "cell_type": "code",
   "execution_count": 88,
   "id": "9f576c53-d46d-4f62-85c9-c0915e04a34d",
   "metadata": {},
   "outputs": [
    {
     "data": {
      "text/plain": [
       "{'Data', 'Scientist', 'rish', 'singh'}"
      ]
     },
     "execution_count": 88,
     "metadata": {},
     "output_type": "execute_result"
    }
   ],
   "source": [
    "s3"
   ]
  },
  {
   "cell_type": "code",
   "execution_count": 89,
   "id": "af86b100-706e-480f-9b13-54da6f719e91",
   "metadata": {},
   "outputs": [],
   "source": [
    "s1.update(s2,s3)"
   ]
  },
  {
   "cell_type": "code",
   "execution_count": 90,
   "id": "290e527e-27f2-47c7-a2f8-7a9b86798b75",
   "metadata": {},
   "outputs": [
    {
     "data": {
      "text/plain": [
       "{1, 2, 3, 4, 5, 6, 7, 8, 9, 'Data', 'Scientist', 'rish', 'singh'}"
      ]
     },
     "execution_count": 90,
     "metadata": {},
     "output_type": "execute_result"
    }
   ],
   "source": [
    "s1"
   ]
  },
  {
   "cell_type": "code",
   "execution_count": null,
   "id": "fc3ed1a3-1efe-414e-bd04-b93fcbd2fc57",
   "metadata": {},
   "outputs": [],
   "source": []
  }
 ],
 "metadata": {
  "kernelspec": {
   "display_name": "Python 3 (ipykernel)",
   "language": "python",
   "name": "python3"
  },
  "language_info": {
   "codemirror_mode": {
    "name": "ipython",
    "version": 3
   },
   "file_extension": ".py",
   "mimetype": "text/x-python",
   "name": "python",
   "nbconvert_exporter": "python",
   "pygments_lexer": "ipython3",
   "version": "3.10.8"
  }
 },
 "nbformat": 4,
 "nbformat_minor": 5
}
