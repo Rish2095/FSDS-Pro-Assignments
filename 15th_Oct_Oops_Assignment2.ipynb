{
 "cells": [
  {
   "cell_type": "markdown",
   "id": "478362fa-fd38-4db8-9b49-5e5ddf084c12",
   "metadata": {},
   "source": [
    "Constructor:"
   ]
  },
  {
   "cell_type": "markdown",
   "id": "4888cb18-b394-43a8-81ac-9aae7f675f55",
   "metadata": {},
   "source": [
    "1. What is a constructor in Python? Explain its purpose and usage."
   ]
  },
  {
   "cell_type": "markdown",
   "id": "19830137-ca5f-410e-a4cd-8446d2578722",
   "metadata": {},
   "source": [
    "Constructors in Python is a special class method for creating and initializing an object instance at that class. The purpose of the constructor is to construct an object and assign a value to the object's members"
   ]
  },
  {
   "cell_type": "markdown",
   "id": "a728a370-6113-4e7a-8c98-2fdfb6d59cb4",
   "metadata": {},
   "source": [
    "2. Differentiate between a parameterless constructor and a parameterized constructor in Python."
   ]
  },
  {
   "cell_type": "markdown",
   "id": "3de34aa5-0171-45c0-91f1-3398720c9b75",
   "metadata": {},
   "source": [
    "Parameterised constructor receives parameters and uses them to initialise the object's member variables. Non-parameterised constructor does not accept parameters and initialises the object's member variables with default values"
   ]
  },
  {
   "cell_type": "markdown",
   "id": "bd2ab922-bbff-4a5e-85db-d0d607cd0226",
   "metadata": {},
   "source": [
    "3. How do you define a constructor in a Python class? Provide an example."
   ]
  },
  {
   "cell_type": "code",
   "execution_count": 6,
   "id": "2d882eeb-37be-4681-9716-9370ee499f97",
   "metadata": {},
   "outputs": [],
   "source": [
    "class test:\n",
    "    \n",
    "    def __init__(self,data):\n",
    "        self.data = data\n",
    "        \n",
    "    def return_data(self):\n",
    "        return self.data*2"
   ]
  },
  {
   "cell_type": "code",
   "execution_count": 7,
   "id": "03bf2172-012c-4eb9-a9f4-3591731d4deb",
   "metadata": {},
   "outputs": [],
   "source": [
    "rish = test(\"singh\")"
   ]
  },
  {
   "cell_type": "code",
   "execution_count": 8,
   "id": "0b3c122b-99e3-458f-aa3c-d3c5df60acb0",
   "metadata": {},
   "outputs": [
    {
     "data": {
      "text/plain": [
       "'singhsingh'"
      ]
     },
     "execution_count": 8,
     "metadata": {},
     "output_type": "execute_result"
    }
   ],
   "source": [
    "rish.return_data()"
   ]
  },
  {
   "cell_type": "markdown",
   "id": "55b903d6-d31f-4bcf-b400-a7e453032f2d",
   "metadata": {},
   "source": [
    "4. Explain the `__init__` method in Python and its role in constructors."
   ]
  },
  {
   "cell_type": "markdown",
   "id": "ac21bc09-5e1f-4f79-9fad-d91459408fab",
   "metadata": {},
   "source": [
    " The __init__ method lets the class initialize the object's attributes.  This method takes the “self” parameter, which refers to the instance being created, and any additional parameters the class needs to set initial values for the object's attributes."
   ]
  },
  {
   "cell_type": "markdown",
   "id": "7b5fc1cf-253b-43a4-8693-4492cbb42378",
   "metadata": {},
   "source": [
    "5. In a class named `Person`, create a constructor that initializes the `name` and `age` attributes. Provide an\n",
    "example of creating an object of this class."
   ]
  },
  {
   "cell_type": "code",
   "execution_count": 9,
   "id": "b66d9926-027b-48ba-b261-b6629d097c0e",
   "metadata": {},
   "outputs": [],
   "source": [
    "class Person:\n",
    "    \n",
    "    def __init__(self, name, age):\n",
    "        self.name = name\n",
    "        self.age = age\n",
    "        \n",
    "    def person_details(self):\n",
    "        return self.name, self.age"
   ]
  },
  {
   "cell_type": "code",
   "execution_count": 10,
   "id": "9e2e1d71-4beb-4b17-838c-e267a4da9a9b",
   "metadata": {},
   "outputs": [],
   "source": [
    "person1 = Person(\"rishabh\", 28)"
   ]
  },
  {
   "cell_type": "code",
   "execution_count": 11,
   "id": "d45231e5-8d18-4fd8-8feb-f21554b0458a",
   "metadata": {},
   "outputs": [
    {
     "data": {
      "text/plain": [
       "('rishabh', 28)"
      ]
     },
     "execution_count": 11,
     "metadata": {},
     "output_type": "execute_result"
    }
   ],
   "source": [
    "person1.person_details()"
   ]
  },
  {
   "cell_type": "markdown",
   "id": "9322eaed-94f5-45d2-a41a-22d938057974",
   "metadata": {},
   "source": [
    "6. How can you call a constructor explicitly in Python? Give an example."
   ]
  },
  {
   "cell_type": "code",
   "execution_count": 12,
   "id": "569bb935-0f3e-4043-9344-3540df069c44",
   "metadata": {},
   "outputs": [],
   "source": [
    "class Person:\n",
    "    \n",
    "    def __init__(self, name, age):\n",
    "        self.name = name\n",
    "        self.age = age"
   ]
  },
  {
   "cell_type": "markdown",
   "id": "e2364a05-26c7-46a9-86a4-62221522ffbf",
   "metadata": {},
   "source": [
    "7. What is the significance of the `self` parameter in Python constructors? Explain with an example."
   ]
  },
  {
   "cell_type": "markdown",
   "id": "a00bd988-2d0b-48c1-a3ce-4c7d64ba1534",
   "metadata": {},
   "source": [
    "Self represents the instance of the class. By using the “self” we can access the attributes and methods of the class in Python."
   ]
  },
  {
   "cell_type": "code",
   "execution_count": 13,
   "id": "4e28138c-d62a-4931-b576-366bfbd30d14",
   "metadata": {},
   "outputs": [],
   "source": [
    "class Person:\n",
    "    \n",
    "    def __init__(self, name, age):\n",
    "        self.name = name\n",
    "        self.age = age\n",
    "        \n",
    "    def person_details(self):\n",
    "        return self.name, self.age"
   ]
  },
  {
   "cell_type": "markdown",
   "id": "36766c29-71c8-4b98-b022-144ab215d1e5",
   "metadata": {},
   "source": [
    "8. Discuss the concept of default constructors in Python. When are they used?"
   ]
  },
  {
   "cell_type": "markdown",
   "id": "b1e7746c-032e-4b7e-a6da-f537727961b5",
   "metadata": {},
   "source": [
    "A default constructor is a constructor that takes no arguments. It is used to create an object with default values for its attributes."
   ]
  },
  {
   "cell_type": "markdown",
   "id": "a07b72ee-83e4-47fc-ba01-4c044a738c95",
   "metadata": {},
   "source": [
    "9. Create a Python class called `Rectangle` with a constructor that initializes the `width` and `height`\n",
    "attributes. Provide a method to calculate the area of the rectangle."
   ]
  },
  {
   "cell_type": "code",
   "execution_count": 18,
   "id": "626a2f16-ff4e-4008-9305-bb6036f254da",
   "metadata": {},
   "outputs": [],
   "source": [
    "class Rectangle:\n",
    "    \n",
    "    def __init__(self, width, height):\n",
    "        self.width = width\n",
    "        self.height = height\n",
    "        \n",
    "    def area(self):\n",
    "        print(\"Area of the rectangle:\", self.width * self.height)"
   ]
  },
  {
   "cell_type": "code",
   "execution_count": 19,
   "id": "b22a52a2-5257-4cee-8bf5-7fa9e6efd7fc",
   "metadata": {},
   "outputs": [],
   "source": [
    "a = Rectangle(3,6)"
   ]
  },
  {
   "cell_type": "code",
   "execution_count": 20,
   "id": "771795c6-97fb-40d9-b809-07508ff2b70a",
   "metadata": {},
   "outputs": [
    {
     "name": "stdout",
     "output_type": "stream",
     "text": [
      "Area of the rectangle: 18\n"
     ]
    }
   ],
   "source": [
    "a.area()"
   ]
  },
  {
   "cell_type": "markdown",
   "id": "dbe315d0-9924-49e6-9949-51086733b2b8",
   "metadata": {},
   "source": [
    "10. How can you have multiple constructors in a Python class? Explain with an example."
   ]
  },
  {
   "cell_type": "markdown",
   "id": "f0ec43a4-507c-4575-b505-9daaf54b18d6",
   "metadata": {},
   "source": [
    "We can use multiple constructors in a python class by using \"args\" positional argument."
   ]
  },
  {
   "cell_type": "code",
   "execution_count": 40,
   "id": "f72b4764-aab1-447d-8db4-43b8e1a31b16",
   "metadata": {},
   "outputs": [],
   "source": [
    "class student:\n",
    "    \n",
    "    def __init__(self,*args):\n",
    "        if len(args) == 1:\n",
    "            self.name = args[0]\n",
    "        elif len(args) == 2:\n",
    "            self.name = args[0]\n",
    "            self.ID = args[1]\n",
    "        elif len(args) == 3:\n",
    "            self.name = args[0]\n",
    "            self.ID = args[1]\n",
    "            self.course = args[2]"
   ]
  },
  {
   "cell_type": "code",
   "execution_count": 41,
   "id": "6703f9fb-9fdf-49b1-b9c7-caba8827a886",
   "metadata": {},
   "outputs": [],
   "source": [
    "rish = student(\"singh\")"
   ]
  },
  {
   "cell_type": "code",
   "execution_count": 42,
   "id": "f5b4cd5d-6a34-4b9a-8ea8-15b8a1389e19",
   "metadata": {},
   "outputs": [
    {
     "data": {
      "text/plain": [
       "'singh'"
      ]
     },
     "execution_count": 42,
     "metadata": {},
     "output_type": "execute_result"
    }
   ],
   "source": [
    "rish.name"
   ]
  },
  {
   "cell_type": "code",
   "execution_count": 31,
   "id": "861a317e-9ba7-4f4d-bbe9-e0f106a595ff",
   "metadata": {},
   "outputs": [],
   "source": [
    "sudh = student(\"kumar\", \"H764\")"
   ]
  },
  {
   "cell_type": "code",
   "execution_count": 32,
   "id": "cb9e7eb6-bd1d-4dfa-8a0c-ecb9b9bd843b",
   "metadata": {},
   "outputs": [
    {
     "data": {
      "text/plain": [
       "'H764'"
      ]
     },
     "execution_count": 32,
     "metadata": {},
     "output_type": "execute_result"
    }
   ],
   "source": [
    "sudh.ID"
   ]
  },
  {
   "cell_type": "code",
   "execution_count": 33,
   "id": "ba1615a6-1ee6-4bc3-b991-78493d5db196",
   "metadata": {},
   "outputs": [
    {
     "data": {
      "text/plain": [
       "'kumar'"
      ]
     },
     "execution_count": 33,
     "metadata": {},
     "output_type": "execute_result"
    }
   ],
   "source": [
    "sudh.name"
   ]
  },
  {
   "cell_type": "code",
   "execution_count": 34,
   "id": "130ad17d-f8e9-474f-9b2c-45aa6dfaf967",
   "metadata": {},
   "outputs": [],
   "source": [
    "pawan = student(\"shudh\", \"J6546\", \"dsa\")"
   ]
  },
  {
   "cell_type": "code",
   "execution_count": 35,
   "id": "0303c06d-fce6-4967-bd96-d8147650b7e1",
   "metadata": {},
   "outputs": [
    {
     "data": {
      "text/plain": [
       "'dsa'"
      ]
     },
     "execution_count": 35,
     "metadata": {},
     "output_type": "execute_result"
    }
   ],
   "source": [
    "pawan.course"
   ]
  },
  {
   "cell_type": "markdown",
   "id": "c00cdc92-99f7-4ca6-8de2-8858e7b74cb4",
   "metadata": {},
   "source": [
    "11. What is method overloading, and how is it related to constructors in Python?"
   ]
  },
  {
   "cell_type": "markdown",
   "id": "78ea6be5-dbae-4f0b-be18-2d1b5b6c8428",
   "metadata": {},
   "source": [
    "Two methods with the same name in a class is called method overloading. If the constructor is written two times with different arguments is called constructor overloading."
   ]
  },
  {
   "cell_type": "markdown",
   "id": "4dddc93c-1f3d-4c05-9681-5906b84c64a8",
   "metadata": {},
   "source": [
    "12. Explain the use of the `super()` function in Python constructors. Provide an example."
   ]
  },
  {
   "cell_type": "markdown",
   "id": "9c7fefea-2383-425a-9607-5f3f8952d91e",
   "metadata": {},
   "source": [
    "The super() function is often used with the __init__() method to initialize the attributes of the parent class."
   ]
  },
  {
   "cell_type": "code",
   "execution_count": 43,
   "id": "bfd76ea2-b1c1-465c-862f-0b396c614737",
   "metadata": {},
   "outputs": [],
   "source": [
    "class A:\n",
    "     def __init__(self):\n",
    "            self.name = \"Rishabh\"\n",
    "            \n",
    "class B(A):\n",
    "    def __init__(self):\n",
    "        super().__init__()"
   ]
  },
  {
   "cell_type": "code",
   "execution_count": 44,
   "id": "55b5cabc-ef85-40b6-a30e-025ef3456f92",
   "metadata": {},
   "outputs": [],
   "source": [
    "a = B()"
   ]
  },
  {
   "cell_type": "code",
   "execution_count": 45,
   "id": "5aa16df6-167a-454d-892d-934c9b607e4a",
   "metadata": {},
   "outputs": [
    {
     "data": {
      "text/plain": [
       "'Rishabh'"
      ]
     },
     "execution_count": 45,
     "metadata": {},
     "output_type": "execute_result"
    }
   ],
   "source": [
    "a.name"
   ]
  },
  {
   "cell_type": "markdown",
   "id": "3928d413-f7dc-4beb-9986-0436b53b21cd",
   "metadata": {},
   "source": [
    "13. Create a class called `Book` with a constructor that initializes the `title`, `author`, and `published_year`\n",
    "attributes. Provide a method to display book details."
   ]
  },
  {
   "cell_type": "code",
   "execution_count": 52,
   "id": "1bc91ebf-2fae-42e6-9abd-b3289f8ef294",
   "metadata": {},
   "outputs": [],
   "source": [
    "class Book:\n",
    "    \n",
    "    def __init__(self, title, author, published_year):\n",
    "        self.title = title\n",
    "        self.author = author\n",
    "        self.published_year = published_year\n",
    "        \n",
    "    def book_details(self):\n",
    "        print(\"The book\", self.title, \"is written by\", self.author, \"and is published in year\", self.published_year)"
   ]
  },
  {
   "cell_type": "code",
   "execution_count": 53,
   "id": "489f86b1-c325-4eca-859d-dacdc226131a",
   "metadata": {},
   "outputs": [],
   "source": [
    "book1 = Book(\"The Silent Patient\", \"Alex Michaelides\", 2019)"
   ]
  },
  {
   "cell_type": "code",
   "execution_count": 54,
   "id": "e69d970c-c0c9-481c-abbf-55b18b1bacc6",
   "metadata": {},
   "outputs": [
    {
     "name": "stdout",
     "output_type": "stream",
     "text": [
      "The book The Silent Patient is written by Alex Michaelides and is published in year 2019\n"
     ]
    }
   ],
   "source": [
    "book1.book_details()"
   ]
  },
  {
   "cell_type": "markdown",
   "id": "eaea38c4-55cd-4436-8693-7c3fb2c0460a",
   "metadata": {},
   "source": [
    "14. Discuss the differences between constructors and regular methods in Python classes."
   ]
  },
  {
   "cell_type": "markdown",
   "id": "8d04f8f2-d937-451c-a7cb-c1643467a8d6",
   "metadata": {},
   "source": [
    "A constructor helps in initializing an object, has no return type and cannot be inherited by subclasses. On the other hand, a method executes operations, returns a value, and can be inherited by subclasses."
   ]
  },
  {
   "cell_type": "markdown",
   "id": "df38d45f-80c2-422c-a8c3-21bdf9f76e28",
   "metadata": {},
   "source": [
    "15. Explain the role of the `self` parameter in instance variable initialization within a constructor."
   ]
  },
  {
   "cell_type": "markdown",
   "id": "7fa7d787-48d2-4a7f-8430-4548509b801c",
   "metadata": {},
   "source": [
    "self parameter in the constructor refers to the instance being created and allows you to access and set its attributes."
   ]
  },
  {
   "cell_type": "markdown",
   "id": "7b141331-7f33-4a2b-a44e-7e02cca72e68",
   "metadata": {},
   "source": [
    "16. How do you prevent a class from having multiple instances by using constructors in Python? Provide an\n",
    "example."
   ]
  },
  {
   "cell_type": "markdown",
   "id": "6649b84f-6adf-4b76-b6d6-54a6ae6f1927",
   "metadata": {},
   "source": [
    "We can use \"args\" as positional arguments to prevent a class from having multiple instances"
   ]
  },
  {
   "cell_type": "code",
   "execution_count": 55,
   "id": "9079f5e7-65c3-4903-b590-d2adc69f5d86",
   "metadata": {},
   "outputs": [],
   "source": [
    "class student:\n",
    "    \n",
    "    def __init__(self,*args):\n",
    "        if len(args) == 1:\n",
    "            self.name = args[0]\n",
    "        elif len(args) == 2:\n",
    "            self.name = args[0]\n",
    "            self.ID = args[1]\n",
    "        elif len(args) == 3:\n",
    "            self.name = args[0]\n",
    "            self.ID = args[1]\n",
    "            self.course = args[2]"
   ]
  },
  {
   "cell_type": "markdown",
   "id": "0df45c69-d9f3-494d-b0a2-09bf49e188b6",
   "metadata": {},
   "source": [
    "17. Create a Python class called `Student` with a constructor that takes a list of subjects as a parameter and\n",
    "initializes the `subjects` attribute."
   ]
  },
  {
   "cell_type": "code",
   "execution_count": 57,
   "id": "1ae7e27b-2492-4a30-a138-5b389ce3443d",
   "metadata": {},
   "outputs": [],
   "source": [
    "class Student:\n",
    "    \n",
    "    def __int__(self, *subject):\n",
    "        self.subject1 = subject[0]\n",
    "        self.subject2 = subject[1]\n",
    "        self.subject3 = subject[2]\n",
    "        self.subject4 = subject[3]"
   ]
  },
  {
   "cell_type": "markdown",
   "id": "143d9909-30ce-41fd-b77d-5f459327ecd8",
   "metadata": {},
   "source": [
    "18. What is the purpose of the `__del__` method in Python classes, and how does it relate to constructors?"
   ]
  },
  {
   "cell_type": "markdown",
   "id": "36b099aa-a8b8-430a-af05-8935fdb08fae",
   "metadata": {},
   "source": [
    "In Python, the __del__() method is referred to as a destructor method. It called to clear initialised or called variables."
   ]
  },
  {
   "cell_type": "markdown",
   "id": "324901cf-f52a-4acd-8a9a-dc3926355b94",
   "metadata": {},
   "source": [
    "19. Explain the use of constructor chaining in Python. Provide a practical example."
   ]
  },
  {
   "cell_type": "markdown",
   "id": "bb50ec3d-5b36-4e9d-9ee0-9e6d3aad26fb",
   "metadata": {},
   "source": [
    "Constructor chaining is the process of calling one constructor from another constructor."
   ]
  },
  {
   "cell_type": "code",
   "execution_count": 60,
   "id": "a01a98ea-7769-4d9f-aaf9-c87f3c6c56a2",
   "metadata": {},
   "outputs": [],
   "source": [
    "class car:\n",
    "    \n",
    "    def __init__(self):\n",
    "        self.car_brand = \"Ford\"\n",
    "        \n",
    "class engine(car):\n",
    "    \n",
    "    def __init__(self):\n",
    "        super().__init__()\n",
    "        self.car_engine1 = \"turbocharged 2.3-liter\"\n",
    "\n",
    "class hp(engine):\n",
    "    \n",
    "    def __init__(self):\n",
    "        super().__init__()\n",
    "        self.hp1 = \"300 hp\"        "
   ]
  },
  {
   "cell_type": "code",
   "execution_count": 61,
   "id": "20acf393-fa56-49ff-8c5e-16186204e62e",
   "metadata": {},
   "outputs": [],
   "source": [
    "bronco = hp()"
   ]
  },
  {
   "cell_type": "code",
   "execution_count": 62,
   "id": "32ca3cf5-4677-4daf-b340-4ff22c832db4",
   "metadata": {},
   "outputs": [
    {
     "data": {
      "text/plain": [
       "'Ford'"
      ]
     },
     "execution_count": 62,
     "metadata": {},
     "output_type": "execute_result"
    }
   ],
   "source": [
    "bronco.car_brand"
   ]
  },
  {
   "cell_type": "code",
   "execution_count": 63,
   "id": "dfd7303f-ffd8-40e8-a526-abe5c7897f0e",
   "metadata": {},
   "outputs": [
    {
     "data": {
      "text/plain": [
       "'turbocharged 2.3-liter'"
      ]
     },
     "execution_count": 63,
     "metadata": {},
     "output_type": "execute_result"
    }
   ],
   "source": [
    "bronco.car_engine1"
   ]
  },
  {
   "cell_type": "code",
   "execution_count": 64,
   "id": "03a2131c-4d9b-45ad-8cc7-12e865cfc663",
   "metadata": {},
   "outputs": [
    {
     "data": {
      "text/plain": [
       "'300 hp'"
      ]
     },
     "execution_count": 64,
     "metadata": {},
     "output_type": "execute_result"
    }
   ],
   "source": [
    "bronco.hp1"
   ]
  },
  {
   "cell_type": "markdown",
   "id": "910a76c4-9771-439c-ae7a-381d8582f137",
   "metadata": {},
   "source": [
    "20. Create a Python class called `Car` with a default constructor that initializes the `make` and `model`\n",
    "attributes. Provide a method to display car information."
   ]
  },
  {
   "cell_type": "code",
   "execution_count": 65,
   "id": "feb90518-53b9-4caf-994f-b99cc5a0c3bc",
   "metadata": {},
   "outputs": [],
   "source": [
    "class Car:\n",
    "    \n",
    "    def __init__(self):\n",
    "        self.make = \"28 February 2011\"\n",
    "        self.model = \"Aventador\"\n",
    "        \n",
    "    def car_info(self):\n",
    "        return self.make, self.model"
   ]
  },
  {
   "cell_type": "code",
   "execution_count": 66,
   "id": "c3a30230-0a06-475c-8b76-d58ceb0840fa",
   "metadata": {},
   "outputs": [],
   "source": [
    "lambo = Car()"
   ]
  },
  {
   "cell_type": "code",
   "execution_count": 69,
   "id": "c95df60b-f1cf-4b1b-9f30-e01eff04e656",
   "metadata": {},
   "outputs": [
    {
     "data": {
      "text/plain": [
       "('28 February 2011', 'Aventador')"
      ]
     },
     "execution_count": 69,
     "metadata": {},
     "output_type": "execute_result"
    }
   ],
   "source": [
    "lambo.car_info()"
   ]
  },
  {
   "cell_type": "code",
   "execution_count": null,
   "id": "5aba0cd5-bab6-4c80-af6d-90c8d17dfc70",
   "metadata": {},
   "outputs": [],
   "source": []
  },
  {
   "cell_type": "markdown",
   "id": "815454c7-9544-4d8c-b729-741eefde0194",
   "metadata": {},
   "source": [
    "Inheritance:"
   ]
  },
  {
   "cell_type": "markdown",
   "id": "a6151e77-0733-4485-9fc6-645816741796",
   "metadata": {},
   "source": [
    "1. What is inheritance in Python? Explain its significance in object-oriented programming."
   ]
  },
  {
   "cell_type": "markdown",
   "id": "d4606136-5c38-496c-acc5-87cf74da3c15",
   "metadata": {},
   "source": [
    "Inheritance is a programming procedure that allows you to reuse code by referencing the behaviors and data of an object. In Oops, inheritance helps the class that can inherit from another class shares all the attributes and methods of the referenced class."
   ]
  },
  {
   "cell_type": "markdown",
   "id": "4b12c825-bd5e-4505-8d14-47d14b03c0bd",
   "metadata": {},
   "source": [
    "2. Differentiate between single inheritance and multiple inheritance in Python. Provide examples for each."
   ]
  },
  {
   "cell_type": "markdown",
   "id": "92a82699-968c-4925-88a8-927ffec05f5f",
   "metadata": {},
   "source": [
    "Single inheritance is a type of inheritance that enables a derived class to inherit attributes and methods from a single parent class while multiple inheritance is a type of inheritance that enables a derived class to inherit attributes and methods from more than one parent class."
   ]
  },
  {
   "cell_type": "code",
   "execution_count": 5,
   "id": "e047fd0c-deb6-4704-959f-d13435e808cb",
   "metadata": {},
   "outputs": [
    {
     "name": "stdout",
     "output_type": "stream",
     "text": [
      "Single inheritance\n"
     ]
    }
   ],
   "source": [
    "#Single inheritance:\n",
    "\n",
    "class A:\n",
    "    \n",
    "    def test(self):\n",
    "        print(\"Single inheritance\")\n",
    "        \n",
    "class B(A):\n",
    "    \n",
    "    def demo(self):\n",
    "        pass\n",
    "    \n",
    "a = B()\n",
    "a.test()"
   ]
  },
  {
   "cell_type": "code",
   "execution_count": 6,
   "id": "785a5a66-53e8-4e23-88e4-1df6c548f2f3",
   "metadata": {},
   "outputs": [
    {
     "data": {
      "text/plain": [
       "'Multiple Inheritance'"
      ]
     },
     "execution_count": 6,
     "metadata": {},
     "output_type": "execute_result"
    }
   ],
   "source": [
    "#Multiple inheritance\n",
    "\n",
    "class X:\n",
    "    \n",
    "    def test1(self):\n",
    "        return \"Multiple Inheritance\"\n",
    "    \n",
    "class Y(X):\n",
    "    \n",
    "    pass\n",
    "\n",
    "class Z(Y):\n",
    "    \n",
    "    pass\n",
    "\n",
    "z = Z()\n",
    "z.test1()"
   ]
  },
  {
   "cell_type": "markdown",
   "id": "5febbc3e-89b1-4fa4-b4e4-b543a59c6870",
   "metadata": {},
   "source": [
    "3. Create a Python class called `Vehicle` with attributes `color` and `speed`. Then, create a child class called\n",
    "`Car` that inherits from `Vehicle` and adds a `brand` attribute. Provide an example of creating a `Car` object."
   ]
  },
  {
   "cell_type": "code",
   "execution_count": 24,
   "id": "f92aef9f-dea4-4051-b92e-59a59b3df4f0",
   "metadata": {},
   "outputs": [],
   "source": [
    "class Vehicle:\n",
    "    \n",
    "    def __init__(self):\n",
    "        self.color = \"Red\"\n",
    "        self.speed = \"350kmph\"\n",
    "        \n",
    "class Car(Vehicle):\n",
    "    \n",
    "    def __init__(self, brand):\n",
    "        self.brand = brand\n",
    "        super().__init__()\n",
    "        \n",
    "    def car_details(self):\n",
    "        return self.color, self.speed, self.brand"
   ]
  },
  {
   "cell_type": "code",
   "execution_count": 25,
   "id": "4a62cf9a-1630-4b02-bd46-7feeafff2962",
   "metadata": {},
   "outputs": [],
   "source": [
    "avantador = Car(\"Red\")"
   ]
  },
  {
   "cell_type": "code",
   "execution_count": 26,
   "id": "43f06072-1bc9-4ab4-95a0-6655d4ebaeca",
   "metadata": {},
   "outputs": [
    {
     "data": {
      "text/plain": [
       "('Red', '350kmph', 'Red')"
      ]
     },
     "execution_count": 26,
     "metadata": {},
     "output_type": "execute_result"
    }
   ],
   "source": [
    "avantador.car_details()"
   ]
  },
  {
   "cell_type": "markdown",
   "id": "a51f8095-5f77-4e16-8800-f8b325c227db",
   "metadata": {},
   "source": [
    "4. Explain the concept of method overriding in inheritance. Provide a practical example."
   ]
  },
  {
   "cell_type": "markdown",
   "id": "1cd535be-3c24-43fb-8f91-583beb3e249d",
   "metadata": {},
   "source": [
    "Method overriding allows you to redefine a method in a subclass or the derived class previously defined in its superclass."
   ]
  },
  {
   "cell_type": "code",
   "execution_count": 27,
   "id": "aa0b6ad2-4875-4700-b9f2-445f739f1e58",
   "metadata": {},
   "outputs": [],
   "source": [
    "class Water:\n",
    "    \n",
    "    def state(self):\n",
    "        print(\"Water is in liquid state\")\n",
    "        \n",
    "class Ice(Water):\n",
    "    \n",
    "    def state(self):\n",
    "        print(\"Water is in solid state\")"
   ]
  },
  {
   "cell_type": "code",
   "execution_count": 28,
   "id": "a4a7e7fb-3d18-4600-845f-615030b24ceb",
   "metadata": {},
   "outputs": [],
   "source": [
    "k = Ice()"
   ]
  },
  {
   "cell_type": "code",
   "execution_count": 29,
   "id": "05971afa-384e-4e8a-b3cf-a9c868b3567a",
   "metadata": {},
   "outputs": [
    {
     "name": "stdout",
     "output_type": "stream",
     "text": [
      "Water is in solid state\n"
     ]
    }
   ],
   "source": [
    "k.state()"
   ]
  },
  {
   "cell_type": "markdown",
   "id": "9c9594eb-f3ed-431d-803f-4b5091664ed7",
   "metadata": {},
   "source": [
    "5. How can you access the methods and attributes of a parent class from a child class in Python? Give an\n",
    "example."
   ]
  },
  {
   "cell_type": "code",
   "execution_count": 31,
   "id": "ec192310-395d-4d09-8e98-aa12feed2262",
   "metadata": {},
   "outputs": [
    {
     "data": {
      "text/plain": [
       "('Red', '350kmph', 'lambo')"
      ]
     },
     "execution_count": 31,
     "metadata": {},
     "output_type": "execute_result"
    }
   ],
   "source": [
    "class Vehicle:\n",
    "    \n",
    "    def __init__(self):\n",
    "        self.color = \"Red\"\n",
    "        self.speed = \"350kmph\"\n",
    "        \n",
    "class Car(Vehicle):\n",
    "    \n",
    "    def __init__(self, brand):\n",
    "        self.brand = brand\n",
    "        super().__init__()\n",
    "        \n",
    "    def car_details(self):\n",
    "        return self.color, self.speed, self.brand\n",
    "\n",
    "urus = Car(\"lambo\")\n",
    "urus.car_details()\n",
    "    \n",
    "#By using the super() method"
   ]
  },
  {
   "cell_type": "markdown",
   "id": "caa8dc8b-0bf1-4031-bdd2-a35098091e9d",
   "metadata": {},
   "source": [
    "6. Discuss the use of the `super()` function in Python inheritance. When and why is it used? Provide an\n",
    "example."
   ]
  },
  {
   "cell_type": "markdown",
   "id": "cefb6ccf-b8ad-4d27-83aa-f2d9b525db6c",
   "metadata": {},
   "source": [
    "The super() function is used with the __init__() method to initialize the attributes of the parent class"
   ]
  },
  {
   "cell_type": "code",
   "execution_count": 36,
   "id": "4c7353b4-78c0-4da2-8be4-d1daef03e525",
   "metadata": {},
   "outputs": [],
   "source": [
    "class ATM:\n",
    "    \n",
    "    def __init__(self):\n",
    "        self.pin = 1234\n",
    "        self.bank = \"HDFC\"\n",
    "        \n",
    "class account(ATM):\n",
    "    \n",
    "    def __init__(self, Account_type):\n",
    "        self.account_type = Account_type\n",
    "        super().__init__()\n",
    "        \n",
    "    def account_details(self):\n",
    "        return self.pin, self.bank, self.account_type"
   ]
  },
  {
   "cell_type": "code",
   "execution_count": 37,
   "id": "a6bad54b-73c2-4a42-9c07-e1502b4f94b6",
   "metadata": {},
   "outputs": [],
   "source": [
    "rish = account(\"Saving\")"
   ]
  },
  {
   "cell_type": "code",
   "execution_count": 38,
   "id": "0f5b2b3e-722c-404d-a6b2-df52b9c56010",
   "metadata": {},
   "outputs": [
    {
     "data": {
      "text/plain": [
       "(1234, 'HDFC', 'Saving')"
      ]
     },
     "execution_count": 38,
     "metadata": {},
     "output_type": "execute_result"
    }
   ],
   "source": [
    "rish.account_details()"
   ]
  },
  {
   "cell_type": "markdown",
   "id": "11301acf-a2c2-4a43-a402-5fc23c9b7d87",
   "metadata": {},
   "source": [
    "7. Create a Python class called `Animal` with a method `speak()`. Then, create child classes `Dog` and `Cat` that inherit from 'Animal' and override the 'speak()' method. Provide an example of using these classes."
   ]
  },
  {
   "cell_type": "code",
   "execution_count": 39,
   "id": "836eabc1-10a0-4467-9235-4f7174042e56",
   "metadata": {},
   "outputs": [],
   "source": [
    "class Animal:\n",
    "    \n",
    "    def speak(self):\n",
    "        print(\"All animal speaks differently\")\n",
    "        \n",
    "class Dog(Animal):\n",
    "    \n",
    "    def speak(self):\n",
    "        print(\"Dog barks\")\n",
    "        \n",
    "class Cat(Animal):\n",
    "    \n",
    "    def speak(self):\n",
    "        print(\"Cat meows\")"
   ]
  },
  {
   "cell_type": "code",
   "execution_count": 40,
   "id": "4c7e1377-4e9f-4319-89c2-b05c5c3231a9",
   "metadata": {},
   "outputs": [],
   "source": [
    "d = Dog()\n",
    "c = Cat()"
   ]
  },
  {
   "cell_type": "code",
   "execution_count": 41,
   "id": "4e508902-6b63-4ef6-9396-94394c44efab",
   "metadata": {},
   "outputs": [
    {
     "name": "stdout",
     "output_type": "stream",
     "text": [
      "Dog barks\n"
     ]
    }
   ],
   "source": [
    "d.speak()"
   ]
  },
  {
   "cell_type": "code",
   "execution_count": 42,
   "id": "d7ae04aa-f01e-4ad0-84ea-cd65920d6112",
   "metadata": {},
   "outputs": [
    {
     "name": "stdout",
     "output_type": "stream",
     "text": [
      "Cat meows\n"
     ]
    }
   ],
   "source": [
    "c.speak()"
   ]
  },
  {
   "cell_type": "markdown",
   "id": "982900c6-c839-477d-8ba2-7478e0766f3c",
   "metadata": {},
   "source": [
    "8. Explain the role of the `isinstance()` function in Python and how it relates to inheritance."
   ]
  },
  {
   "cell_type": "markdown",
   "id": "2a97a92f-0aed-48d3-aa59-9b19bf844ba1",
   "metadata": {},
   "source": [
    "The isinstance() function checks whether an object is an instance of the class mentioned. One can test if an object or variable is an instance of the type or class. In case of inheritance, the isinstance() function can be used to check if a specified class is the parent class of an object."
   ]
  },
  {
   "cell_type": "markdown",
   "id": "2e3ec3d8-7371-4c73-9414-b13c5652bac8",
   "metadata": {},
   "source": [
    "9. What is the purpose of the `issubclass()` function in Python? Provide an example."
   ]
  },
  {
   "cell_type": "markdown",
   "id": "56998c06-43e6-4554-a4cf-5a51c14b24e9",
   "metadata": {},
   "source": [
    "The Python issubclass () is a built-in function that is used to check whether a class is the subclass of another class in the program or not."
   ]
  },
  {
   "cell_type": "code",
   "execution_count": 43,
   "id": "b28a1e55-3041-4f9f-b523-5041aeca7939",
   "metadata": {},
   "outputs": [],
   "source": [
    "class Animal:\n",
    "    \n",
    "    def speak(self):\n",
    "        print(\"All animal speaks differently\")\n",
    "        \n",
    "class Dog(Animal):\n",
    "    \n",
    "    def speak(self):\n",
    "        print(\"Dog barks\")"
   ]
  },
  {
   "cell_type": "code",
   "execution_count": 44,
   "id": "654bd8b2-9d84-4c25-91c6-15eb911fc224",
   "metadata": {},
   "outputs": [
    {
     "data": {
      "text/plain": [
       "True"
      ]
     },
     "execution_count": 44,
     "metadata": {},
     "output_type": "execute_result"
    }
   ],
   "source": [
    "issubclass(Dog, Animal)"
   ]
  },
  {
   "cell_type": "markdown",
   "id": "6ca907f0-f4e8-4f1d-9d48-01b161f8721e",
   "metadata": {},
   "source": [
    "10. Discuss the concept of constructor inheritance in Python. How are constructors inherited in child classes?"
   ]
  },
  {
   "cell_type": "markdown",
   "id": "3715ee41-4f39-4970-99ab-100c6356be7c",
   "metadata": {},
   "source": [
    "In inheritance, if you define a new class giving a reference of some other class then due to inheriting property of python your new class will inherit all attributes and behavior of the parent class."
   ]
  },
  {
   "cell_type": "markdown",
   "id": "be73614e-8304-40ae-97f7-35b98100bfba",
   "metadata": {},
   "source": [
    "11. Create a Python class called `Shape` with a method `area()` that calculates the area of a shape. Then, create child classes `Circle` and `Rectangle` that inherit from `Shape` and implement the `area()` method\n",
    "accordingly. Provide an example."
   ]
  },
  {
   "cell_type": "code",
   "execution_count": 69,
   "id": "1a3a7bbe-b97f-4aa6-bd4d-5c87e92f4793",
   "metadata": {},
   "outputs": [],
   "source": [
    "import math\n",
    "class Shape:\n",
    "        \n",
    "    def area(self):\n",
    "        pass\n",
    "    \n",
    "class Circle(Shape):\n",
    "    \n",
    "    def __init__(self, radius):\n",
    "        self.radius = radius\n",
    "        \n",
    "    def area(self):\n",
    "        print(\"Area of the Circle: \", math.pi * (self.radius**2))\n",
    "        \n",
    "class Rectangle(Shape):\n",
    "    \n",
    "    def __init__(self, length,width):\n",
    "        self.length = length\n",
    "        self.width = width\n",
    "        \n",
    "    def area(self):\n",
    "        print(\"Area of the Rectangle: \", self.length * self.width)\n",
    "        "
   ]
  },
  {
   "cell_type": "code",
   "execution_count": 72,
   "id": "3d5aa119-b5c0-416b-af08-481c28f202bf",
   "metadata": {},
   "outputs": [],
   "source": [
    "shape1 = Circle(5)"
   ]
  },
  {
   "cell_type": "code",
   "execution_count": 73,
   "id": "a138e708-49cc-462b-9aea-9e80920de02b",
   "metadata": {},
   "outputs": [
    {
     "name": "stdout",
     "output_type": "stream",
     "text": [
      "Area of the Circle:  78.53981633974483\n"
     ]
    }
   ],
   "source": [
    "shape1.area()"
   ]
  },
  {
   "cell_type": "code",
   "execution_count": 74,
   "id": "8a297758-ba92-4598-a734-5551df17602c",
   "metadata": {},
   "outputs": [],
   "source": [
    "shape2 = Rectangle(4,8)"
   ]
  },
  {
   "cell_type": "code",
   "execution_count": 76,
   "id": "a937009f-4068-414d-921d-71fef5a7d84e",
   "metadata": {},
   "outputs": [
    {
     "name": "stdout",
     "output_type": "stream",
     "text": [
      "Area of the Rectangle:  32\n"
     ]
    }
   ],
   "source": [
    "shape2.area()"
   ]
  },
  {
   "cell_type": "markdown",
   "id": "5f8f916f-7f42-4f7c-9f34-9844716c8ee3",
   "metadata": {},
   "source": [
    "12. Explain the use of abstract base classes (ABCs) in Python and how they relate to inheritance. Provide an\n",
    "example using the `abc` module."
   ]
  },
  {
   "cell_type": "markdown",
   "id": "a11528df-722b-4798-8075-0e7157485c33",
   "metadata": {},
   "source": [
    "An abstract base class is a class that is used as a blueprint for other classes."
   ]
  },
  {
   "cell_type": "markdown",
   "id": "cf091b8a-acf6-4f1b-8b8a-2b07d421f492",
   "metadata": {},
   "source": [
    "Abstract base classes cannot be instantiated. Instead, they are inherited and extended by the concrete subclasses. Subclasses derived from a specific abstract base class must implement the methods and properties provided in that abstract base class."
   ]
  },
  {
   "cell_type": "code",
   "execution_count": 109,
   "id": "e5b80599-9779-4679-9cc3-072fee9abeac",
   "metadata": {},
   "outputs": [],
   "source": [
    "from abc import ABC, abstractmethod\n",
    "\n",
    "class Shape(ABC):\n",
    "\n",
    "    @abstractmethod\n",
    "    def area(self):\n",
    "        pass\n",
    "\n",
    "    @abstractmethod\n",
    "    def perimeter(self):\n",
    "        pass\n",
    "\n",
    "class Circle(Shape):\n",
    "\n",
    "    def __init__(self, radius):\n",
    "        self.radius = radius\n",
    "\n",
    "    def area(self):\n",
    "        return 3.14 * (self.radius ** 2)\n",
    "\n",
    "    def perimeter(self):\n",
    "        return 2 * 3.14 * self.radius\n",
    "\n",
    "class Rectangle(Shape):\n",
    "\n",
    "    def __init__(self, length, width):\n",
    "        self.length = length\n",
    "        self.width = width\n",
    "\n",
    "    def area(self):\n",
    "        return self.length * self.width\n",
    "\n",
    "    def perimeter(self):\n",
    "        return 2 * (self.length + self.width)"
   ]
  },
  {
   "cell_type": "code",
   "execution_count": 110,
   "id": "e28c3f7c-1ab8-4b0f-b86f-0699ef6438ad",
   "metadata": {},
   "outputs": [],
   "source": [
    "c = Circle(5)"
   ]
  },
  {
   "cell_type": "code",
   "execution_count": 111,
   "id": "08cedb29-cdbe-4667-af2d-9f98958e8281",
   "metadata": {},
   "outputs": [
    {
     "data": {
      "text/plain": [
       "78.5"
      ]
     },
     "execution_count": 111,
     "metadata": {},
     "output_type": "execute_result"
    }
   ],
   "source": [
    "c.area()"
   ]
  },
  {
   "cell_type": "code",
   "execution_count": 112,
   "id": "10859401-7f28-44c3-8419-3236d8b90556",
   "metadata": {},
   "outputs": [
    {
     "data": {
      "text/plain": [
       "31.400000000000002"
      ]
     },
     "execution_count": 112,
     "metadata": {},
     "output_type": "execute_result"
    }
   ],
   "source": [
    "c.perimeter()"
   ]
  },
  {
   "cell_type": "code",
   "execution_count": 113,
   "id": "0039cc8b-2e4d-4489-8662-d568a3182f7c",
   "metadata": {},
   "outputs": [],
   "source": [
    "r = Rectangle(6,7)"
   ]
  },
  {
   "cell_type": "code",
   "execution_count": 114,
   "id": "de05e166-f512-4b6c-8565-8c6a1bd1771e",
   "metadata": {},
   "outputs": [
    {
     "data": {
      "text/plain": [
       "42"
      ]
     },
     "execution_count": 114,
     "metadata": {},
     "output_type": "execute_result"
    }
   ],
   "source": [
    "r.area()"
   ]
  },
  {
   "cell_type": "code",
   "execution_count": 108,
   "id": "ecc13b57-43b2-4fd6-bc93-135e6d33816e",
   "metadata": {},
   "outputs": [
    {
     "data": {
      "text/plain": [
       "26"
      ]
     },
     "execution_count": 108,
     "metadata": {},
     "output_type": "execute_result"
    }
   ],
   "source": [
    "r.perimeter()"
   ]
  },
  {
   "cell_type": "markdown",
   "id": "640c4460-05be-4d9e-995d-581b82bf9339",
   "metadata": {},
   "source": [
    "14. Create a Python class called `Employee` with attributes `name` and `salary`. Then, create a child class\n",
    "`Manager` that inherits from `Employee` and adds an attribute `department`. Provide an example."
   ]
  },
  {
   "cell_type": "code",
   "execution_count": 115,
   "id": "09357d7a-444a-48a7-a572-e602ef90a0fb",
   "metadata": {},
   "outputs": [],
   "source": [
    "class Employee:\n",
    "    \n",
    "    def __init__(self):\n",
    "        self.name = \"Rishabh\"\n",
    "        self.salary = 1000\n",
    "        \n",
    "class Manager(Employee):\n",
    "    \n",
    "    def __init__(self, department):\n",
    "        self.department = department\n",
    "        super().__init__()\n",
    "        \n",
    "    def employee_details(self):\n",
    "        return self.name, self.salary, self.department"
   ]
  },
  {
   "cell_type": "code",
   "execution_count": 116,
   "id": "4cdc230d-2e07-4175-b00d-ad4f7a2ce5be",
   "metadata": {},
   "outputs": [],
   "source": [
    "ubi = Manager(\"Gaming\")"
   ]
  },
  {
   "cell_type": "code",
   "execution_count": 117,
   "id": "db7ecf6d-a34d-42d7-8615-ed07663d1ef7",
   "metadata": {},
   "outputs": [
    {
     "data": {
      "text/plain": [
       "('Rishabh', 1000, 'Gaming')"
      ]
     },
     "execution_count": 117,
     "metadata": {},
     "output_type": "execute_result"
    }
   ],
   "source": [
    "ubi.employee_details()"
   ]
  },
  {
   "cell_type": "markdown",
   "id": "a339263f-3b63-4300-a47a-f3166f432709",
   "metadata": {},
   "source": [
    "15. Discuss the concept of method overloading in Python inheritance. How does it differ from method\n",
    "overriding?"
   ]
  },
  {
   "cell_type": "markdown",
   "id": "d652acd9-52d1-40c7-a964-da35361e4fd5",
   "metadata": {},
   "source": [
    "In the process of method overloading, all the functions or methods must contain the same name with varied signatures.\n",
    "In the process of method overriding, all the functions or methods must possess the very same name along with similar signatures."
   ]
  },
  {
   "cell_type": "markdown",
   "id": "4e773cfa-6359-4ef4-94e0-333a9d1f1a04",
   "metadata": {},
   "source": [
    "16. Explain the purpose of the `__init__()` method in Python inheritance and how it is utilized in child classes."
   ]
  },
  {
   "cell_type": "markdown",
   "id": "57cf0a9c-0fd9-4f94-a5b6-ce16cccbf325",
   "metadata": {},
   "source": [
    "The __init__ method allows you to initialize the attributes (variables) of an object. \n",
    "The super() function is used with the init() method to initialize the attributes of the parent class in child class."
   ]
  },
  {
   "cell_type": "markdown",
   "id": "9a751bef-a60f-4712-b792-cfbf5b4564fb",
   "metadata": {},
   "source": [
    "17. Create a Python class called `Bird` with a method `fly()`. Then, create child classes `Eagle` and `Sparrow` that inherit from `Bird` and implement the `fly()` method differently. Provide an example of using these classes."
   ]
  },
  {
   "cell_type": "code",
   "execution_count": 118,
   "id": "b345b23e-386a-43ac-ac41-e63bf5db683f",
   "metadata": {},
   "outputs": [],
   "source": [
    "class Bird:\n",
    "    \n",
    "    def fly(self):\n",
    "        pass\n",
    "    \n",
    "class Eagle(Bird):\n",
    "    \n",
    "    def fly(self):\n",
    "        print(\"Eagle flies at higher altitudes\")\n",
    "        \n",
    "class Sparrow(Bird):\n",
    "    \n",
    "    def fly(self):\n",
    "        print(\"Sparrow flies at lower altitudes\")"
   ]
  },
  {
   "cell_type": "code",
   "execution_count": 119,
   "id": "79202c4a-dbab-4e86-96ee-3b7be3b6996d",
   "metadata": {},
   "outputs": [],
   "source": [
    "e = Eagle()\n",
    "s = Sparrow()"
   ]
  },
  {
   "cell_type": "code",
   "execution_count": 120,
   "id": "8d729f4a-828d-458d-a473-8edced7234de",
   "metadata": {},
   "outputs": [
    {
     "name": "stdout",
     "output_type": "stream",
     "text": [
      "Eagle flies at higher altitudes\n"
     ]
    }
   ],
   "source": [
    "e.fly()"
   ]
  },
  {
   "cell_type": "code",
   "execution_count": 121,
   "id": "9ce38f8b-2a8e-4924-81cb-47e2102c2555",
   "metadata": {},
   "outputs": [
    {
     "name": "stdout",
     "output_type": "stream",
     "text": [
      "Sparrow flies at lower altitudes\n"
     ]
    }
   ],
   "source": [
    "s.fly()"
   ]
  },
  {
   "cell_type": "markdown",
   "id": "fcbbf70a-e360-498b-881f-e3a3aefcf5ce",
   "metadata": {},
   "source": [
    "18. What is the \"diamond problem\" in multiple inheritance, and how does Python address it?"
   ]
  },
  {
   "cell_type": "markdown",
   "id": "4816a7d2-d67a-4d79-a635-fbfb0065dfac",
   "metadata": {},
   "source": [
    "The \"diamond problem\" is a challenge that arises in programming languages that support multiple inheritance. It occurs when a class inherits from two classes that have a common ancestor."
   ]
  },
  {
   "cell_type": "markdown",
   "id": "0192f222-35f3-4d88-92ec-61d825378bbf",
   "metadata": {},
   "source": [
    "Python address it by using a mechanism called C3 linearization and uses super() which allows a class to invoke the method of its superclass in a way that respects the method resolution order."
   ]
  },
  {
   "cell_type": "markdown",
   "id": "078ee590-a798-486d-83e9-49c845e90d20",
   "metadata": {},
   "source": [
    "20. Create a Python class hierarchy for a university system. Start with a base class `Person` and create child\n",
    "classes `Student` and `Professor`, each with their own attributes and methods. Provide an example of using\n",
    "these classes in a university context."
   ]
  },
  {
   "cell_type": "code",
   "execution_count": 135,
   "id": "6dcf5f55-cb71-4ded-a6c0-dfcda79a29a5",
   "metadata": {},
   "outputs": [],
   "source": [
    "class Person:\n",
    "    \n",
    "    def __init__(self, name, age):\n",
    "        self.name = name\n",
    "        self.age = age\n",
    "        \n",
    "class Student(Person):\n",
    "    \n",
    "    def __init__(self,name,age,course):\n",
    "        super().__init__(name,age)\n",
    "        self.course = course\n",
    "        self.timing = []\n",
    "        \n",
    "    def class_timing(self, timing):\n",
    "        self.timing.append(timing)\n",
    "        \n",
    "    def student_info(self):\n",
    "        print(self.name, self.age, self.course, self.timing)\n",
    "\n",
    "class Professor(Person):\n",
    "    \n",
    "    def __init__(self,name,age,course):\n",
    "        super().__init__(name,age)\n",
    "        self.course = course\n",
    "        self.timing = []\n",
    "        \n",
    "    def class_timing(self, timing):\n",
    "        self.timing.append(timing)\n",
    "        \n",
    "    def professor_info(self):\n",
    "        print(self.name, self.age, self.course, self.timing)"
   ]
  },
  {
   "cell_type": "code",
   "execution_count": 136,
   "id": "09a1f24c-3414-4922-b88a-792dd4f1a315",
   "metadata": {},
   "outputs": [],
   "source": [
    "rish = Student(\"Rishabh\", 28, \"FSDS\")"
   ]
  },
  {
   "cell_type": "code",
   "execution_count": 137,
   "id": "a95d8a21-a5ac-42fb-83eb-58f7bb4250c1",
   "metadata": {},
   "outputs": [],
   "source": [
    "rish.class_timing(\"9AM\")"
   ]
  },
  {
   "cell_type": "code",
   "execution_count": 138,
   "id": "1ce00e8e-6c7f-448a-8606-196b8cd94315",
   "metadata": {},
   "outputs": [
    {
     "name": "stdout",
     "output_type": "stream",
     "text": [
      "Rishabh 28 FSDS ['9AM']\n"
     ]
    }
   ],
   "source": [
    "rish.student_info()"
   ]
  },
  {
   "cell_type": "code",
   "execution_count": 139,
   "id": "15142989-1bf5-431b-9ad6-eb0f8511e530",
   "metadata": {},
   "outputs": [],
   "source": [
    "sudh = Professor(\"Sudhanshu\", 31, \"DSA\")"
   ]
  },
  {
   "cell_type": "code",
   "execution_count": 140,
   "id": "eb8203d6-8d96-498d-b7ba-9a7fc9a0a8f0",
   "metadata": {},
   "outputs": [
    {
     "name": "stdout",
     "output_type": "stream",
     "text": [
      "Sudhanshu 31 DSA []\n"
     ]
    }
   ],
   "source": [
    "sudh.professor_info()"
   ]
  },
  {
   "cell_type": "code",
   "execution_count": 141,
   "id": "5b769c7a-0e9e-4a6f-a9af-4a14817a68c6",
   "metadata": {},
   "outputs": [],
   "source": [
    "sudh.class_timing(\"12PM\")"
   ]
  },
  {
   "cell_type": "code",
   "execution_count": 142,
   "id": "0ea323f3-4b79-4ea4-8be7-c5fcd1f892eb",
   "metadata": {},
   "outputs": [
    {
     "name": "stdout",
     "output_type": "stream",
     "text": [
      "Sudhanshu 31 DSA ['12PM']\n"
     ]
    }
   ],
   "source": [
    "sudh.professor_info()"
   ]
  },
  {
   "cell_type": "code",
   "execution_count": null,
   "id": "e5216940-2ce9-4c2d-b163-24156b176e7c",
   "metadata": {},
   "outputs": [],
   "source": []
  },
  {
   "cell_type": "markdown",
   "id": "51ff0156-9ff0-42ee-bdb3-a550ea229d1d",
   "metadata": {},
   "source": [
    "Encapsulation:"
   ]
  },
  {
   "cell_type": "markdown",
   "id": "da856024-6d9f-43f9-98c4-f19a1f2ec637",
   "metadata": {},
   "source": [
    "1. Explain the concept of encapsulation in Python. What is its role in object-oriented programming?"
   ]
  },
  {
   "cell_type": "markdown",
   "id": "5a8ce9df-3a94-4b6a-b574-c95aec5d52ad",
   "metadata": {},
   "source": [
    "Encapsulation describes the idea of wrapping data and the methods that work on data within one unit. This puts restrictions on accessing variables and methods directly and can prevent the accidental modification of dat"
   ]
  },
  {
   "cell_type": "markdown",
   "id": "7f4d3dcb-a970-478e-8a4c-29c057e656a9",
   "metadata": {},
   "source": [
    "2. Describe the key principles of encapsulation, including access control and data hiding."
   ]
  },
  {
   "cell_type": "markdown",
   "id": "7047c61d-e04e-4e1d-ba65-2c4656bcdc22",
   "metadata": {},
   "source": [
    "Encapsulation is used to hide the values or state of a structured data object inside a class, preventing unauthorized parties' direct access to them."
   ]
  },
  {
   "cell_type": "markdown",
   "id": "68728667-8754-4589-a95c-9a67240b81f0",
   "metadata": {},
   "source": [
    "Access control restricts access to parts of your code from code in other source files and modules. "
   ]
  },
  {
   "cell_type": "markdown",
   "id": "02740c41-5ac5-4ee9-9b9f-389f8784fe8d",
   "metadata": {},
   "source": [
    "Data hiding protects the data members from being changed or hacked and ensures the security of members of a class from illegal access."
   ]
  },
  {
   "cell_type": "markdown",
   "id": "423f8a3f-66fa-4f7b-afe5-041a7c2832b6",
   "metadata": {},
   "source": [
    "3. How can you achieve encapsulation in Python classes? Provide an example."
   ]
  },
  {
   "cell_type": "markdown",
   "id": "95d3eee1-4ea4-4a15-a978-2970363fa228",
   "metadata": {},
   "source": [
    "In Python, Encapsulation can be achieved by declaring the data members of a class either as private or protected. "
   ]
  },
  {
   "cell_type": "code",
   "execution_count": 1,
   "id": "643afd82-0e66-4cf2-b0b7-d8d8cc122976",
   "metadata": {},
   "outputs": [],
   "source": [
    "class demo:\n",
    "    \n",
    "    def __init__(self):\n",
    "        self._a = \"rish\"\n",
    "        self.b = \"singh\"\n",
    "        \n",
    "    def __account(self):\n",
    "        return 1234\n",
    "    \n",
    "    def location(self):\n",
    "        print(\"Pune\")"
   ]
  },
  {
   "cell_type": "code",
   "execution_count": 2,
   "id": "095ddb2e-5f63-4df0-9fe7-17c792f074c1",
   "metadata": {},
   "outputs": [],
   "source": [
    "d = demo()"
   ]
  },
  {
   "cell_type": "code",
   "execution_count": 3,
   "id": "cf62e63a-8c46-4000-9a1e-c14df16ea69a",
   "metadata": {},
   "outputs": [
    {
     "data": {
      "text/plain": [
       "'singh'"
      ]
     },
     "execution_count": 3,
     "metadata": {},
     "output_type": "execute_result"
    }
   ],
   "source": [
    "d.b"
   ]
  },
  {
   "cell_type": "code",
   "execution_count": 4,
   "id": "64c02f85-d47f-49bc-9c44-ddc3a66453e0",
   "metadata": {},
   "outputs": [
    {
     "name": "stdout",
     "output_type": "stream",
     "text": [
      "Pune\n"
     ]
    }
   ],
   "source": [
    "d.location()"
   ]
  },
  {
   "cell_type": "code",
   "execution_count": 5,
   "id": "8c588d36-581a-4e3f-a2e2-a522849abec8",
   "metadata": {},
   "outputs": [
    {
     "data": {
      "text/plain": [
       "'rish'"
      ]
     },
     "execution_count": 5,
     "metadata": {},
     "output_type": "execute_result"
    }
   ],
   "source": [
    "d._a"
   ]
  },
  {
   "cell_type": "code",
   "execution_count": 6,
   "id": "cd52e392-f129-4d8a-959d-09883c914804",
   "metadata": {},
   "outputs": [
    {
     "data": {
      "text/plain": [
       "1234"
      ]
     },
     "execution_count": 6,
     "metadata": {},
     "output_type": "execute_result"
    }
   ],
   "source": [
    "d._demo__account()"
   ]
  },
  {
   "cell_type": "markdown",
   "id": "45cb7d97-6cbe-426b-9c01-dee4a8d3c9db",
   "metadata": {},
   "source": [
    "4. Discuss the difference between public, private, and protected access modifiers in Python."
   ]
  },
  {
   "cell_type": "markdown",
   "id": "b189fa8e-6d72-4c5b-95d8-40979032f345",
   "metadata": {},
   "source": [
    "Public data attributes are accessible by any class and function, protected data attributes should only be accessed inside the class environment and can also be accessed inside the sub-classes and private data attributes are only accessible inside the class."
   ]
  },
  {
   "cell_type": "markdown",
   "id": "b98c94d1-6b03-4dc5-a56d-82a56f802a18",
   "metadata": {},
   "source": [
    "5. Create a Python class called `Person` with a private attribute `__name`. Provide methods to get and set the\n",
    "name attribute."
   ]
  },
  {
   "cell_type": "code",
   "execution_count": 11,
   "id": "127e54af-5b7e-43cf-9b07-a33e4440a04e",
   "metadata": {},
   "outputs": [],
   "source": [
    "class Person:\n",
    "    \n",
    "    def __init__(self, name, age):\n",
    "        self.__name = name\n",
    "        self.age = age"
   ]
  },
  {
   "cell_type": "code",
   "execution_count": 12,
   "id": "43daf4c5-35ed-4326-bc10-e71e5f10f91a",
   "metadata": {},
   "outputs": [],
   "source": [
    "rish = Person(\"Rishabh\", 28)"
   ]
  },
  {
   "cell_type": "code",
   "execution_count": 13,
   "id": "b8b020d7-1ba0-4811-8dad-b747f4c32f1e",
   "metadata": {},
   "outputs": [
    {
     "data": {
      "text/plain": [
       "28"
      ]
     },
     "execution_count": 13,
     "metadata": {},
     "output_type": "execute_result"
    }
   ],
   "source": [
    "rish.age"
   ]
  },
  {
   "cell_type": "code",
   "execution_count": 15,
   "id": "c2993599-3c08-4b5b-af01-de6c0849db78",
   "metadata": {},
   "outputs": [
    {
     "data": {
      "text/plain": [
       "'Rishabh'"
      ]
     },
     "execution_count": 15,
     "metadata": {},
     "output_type": "execute_result"
    }
   ],
   "source": [
    "rish._Person__name"
   ]
  },
  {
   "cell_type": "markdown",
   "id": "a9305826-d63f-4ce3-8d92-60041c8096e6",
   "metadata": {},
   "source": [
    "6. Explain the purpose of getter and setter methods in encapsulation. Provide examples."
   ]
  },
  {
   "cell_type": "markdown",
   "id": "e3e5a7aa-f066-4831-b90c-38cae13180b1",
   "metadata": {},
   "source": [
    "In order to obtain the data, we use getters methods and in order to update or alter the values, we use setters methods."
   ]
  },
  {
   "cell_type": "code",
   "execution_count": 25,
   "id": "0d13415b-2400-4752-8caa-991701392cae",
   "metadata": {},
   "outputs": [],
   "source": [
    "class Employee:\n",
    "    \n",
    "    def __init__(self, name, company):\n",
    "        self._name = name\n",
    "        self.__company = company\n",
    "        \n",
    "    def get_data(self):\n",
    "        return self._name, self.__company\n",
    "    \n",
    "    def set_data(self, name1, company1):\n",
    "        self._name = name1\n",
    "        self.__company = company1\n",
    "        return self._name, self.__company"
   ]
  },
  {
   "cell_type": "code",
   "execution_count": 26,
   "id": "6c8ddeaa-2430-4ddc-9b41-ed00c5830c81",
   "metadata": {},
   "outputs": [],
   "source": [
    "rish = Employee(\"Rishabh\", \"Ubisoft\")"
   ]
  },
  {
   "cell_type": "code",
   "execution_count": 27,
   "id": "03bf39a4-42bd-407a-bf4f-6bd6a88f5d42",
   "metadata": {},
   "outputs": [
    {
     "data": {
      "text/plain": [
       "('Rishabh', 'Ubisoft')"
      ]
     },
     "execution_count": 27,
     "metadata": {},
     "output_type": "execute_result"
    }
   ],
   "source": [
    "rish.get_data()"
   ]
  },
  {
   "cell_type": "code",
   "execution_count": 28,
   "id": "8cee9db0-c5c5-4913-bac3-441ba2276c49",
   "metadata": {},
   "outputs": [
    {
     "data": {
      "text/plain": [
       "('Rishi', 'Google')"
      ]
     },
     "execution_count": 28,
     "metadata": {},
     "output_type": "execute_result"
    }
   ],
   "source": [
    "rish.set_data(\"Rishi\",\"Google\")"
   ]
  },
  {
   "cell_type": "markdown",
   "id": "3803131f-a2f1-435f-9bd0-bacf0537cfe6",
   "metadata": {},
   "source": [
    "7. What is name mangling in Python, and how does it affect encapsulation?"
   ]
  },
  {
   "cell_type": "markdown",
   "id": "feb06d5f-b381-4ec8-8713-0d91aff75635",
   "metadata": {},
   "source": [
    "Name mangling in Python is used to restrict private class attributes or methods from being accessed from outside the class.\n",
    "Name mangling affect encapsulation by resticting access, accidental game conflicts and enforced conventions."
   ]
  },
  {
   "cell_type": "markdown",
   "id": "440433bd-7eef-4b74-84e3-00ea660dba35",
   "metadata": {},
   "source": [
    "8. Create a Python class called `BankAccount` with private attributes for the account balance (`__balance`) and account number('__account_number'). Provide methods for depositing and withdrawing money."
   ]
  },
  {
   "cell_type": "code",
   "execution_count": 14,
   "id": "ab6f25b2-3b3b-4ab5-8100-272f18fcf667",
   "metadata": {},
   "outputs": [],
   "source": [
    "class BankAccount:\n",
    "    \n",
    "    def __init__(self, balance, account_number):\n",
    "        self.__balance = balance\n",
    "        self.__account_number = account_number\n",
    "        \n",
    "    def deposit(self, deposit):\n",
    "        self.deposit = deposit\n",
    "        self.__balance = self.__balance + self.deposit\n",
    "        print(\"Balance after the deposit is: \", self.__balance)\n",
    "        \n",
    "    def withdrawal(self, withdrawal):\n",
    "        self.withdrawal = withdrawal\n",
    "        self.__balance = self.__balance - self.withdrawal\n",
    "        return \"Balance after the deposit is: \", self.__balance"
   ]
  },
  {
   "cell_type": "code",
   "execution_count": 15,
   "id": "318e0e53-fb25-4e66-b975-cc1fa084fd92",
   "metadata": {},
   "outputs": [],
   "source": [
    "hdfc = BankAccount(800, 5878)"
   ]
  },
  {
   "cell_type": "code",
   "execution_count": 16,
   "id": "1536037d-5d1b-4f3b-9984-0c539889e7de",
   "metadata": {},
   "outputs": [
    {
     "name": "stdout",
     "output_type": "stream",
     "text": [
      "Balance after the deposit is:  1100\n"
     ]
    }
   ],
   "source": [
    "hdfc.deposit(300)"
   ]
  },
  {
   "cell_type": "code",
   "execution_count": 17,
   "id": "33a77f4a-74cc-4ac8-9c26-b3479e78aa29",
   "metadata": {},
   "outputs": [
    {
     "data": {
      "text/plain": [
       "('Balance after the deposit is: ', 600)"
      ]
     },
     "execution_count": 17,
     "metadata": {},
     "output_type": "execute_result"
    }
   ],
   "source": [
    "hdfc.withdrawal(500)"
   ]
  },
  {
   "cell_type": "markdown",
   "id": "87574b24-fd84-42ed-8103-8037122e5921",
   "metadata": {},
   "source": [
    "In terms of code maintainability: \n",
    "1. Encapsulation promotes modularity by grouping related data and behavior into a single unit (class).\n",
    "2. Encapsulation makes the ease for the coder to modify the code.\n",
    "3. Encapsulation makes the code easy to reuse. read ot understand.\n",
    "\n",
    "In terms of security:\n",
    "1. Encapsulation allows for access control, limiting the visibility of certain parts of a class to the outside world.\n",
    "2. By using access modifiers like private and protected, encapsulation prevents unauthorized access to critical parts of the code.\n",
    "3. Encapsulation supports data hiding, meaning that the internal representation of an object is hidden from the outside world."
   ]
  },
  {
   "cell_type": "markdown",
   "id": "99b3d5e5-2ab6-4afa-95ed-b177d284feab",
   "metadata": {},
   "source": [
    "10. How can you access private attributes in Python? Provide an example demonstrating the use of name\n",
    "mangling."
   ]
  },
  {
   "cell_type": "markdown",
   "id": "e9fd2fcd-0d77-4430-a2d6-da25120371fc",
   "metadata": {},
   "source": [
    "Name mangling involves adding a prefix to the names of private attributes to make them less accessible. The format is __attribute-name, and Python internally modifies this to _class-name__attribute-name. "
   ]
  },
  {
   "cell_type": "code",
   "execution_count": 55,
   "id": "4c913fec-80e1-4ccc-a215-5ce16b919949",
   "metadata": {},
   "outputs": [
    {
     "data": {
      "text/plain": [
       "'Rishabh'"
      ]
     },
     "execution_count": 55,
     "metadata": {},
     "output_type": "execute_result"
    }
   ],
   "source": [
    "class Person:\n",
    "    \n",
    "    def __init__(self, name, age):\n",
    "        self.__name = name\n",
    "        self.age = age\n",
    "        \n",
    "rish = Person(\"Rishabh\", 28)\n",
    "\n",
    "rish._Person__name #_class-name__attribute-name"
   ]
  },
  {
   "cell_type": "markdown",
   "id": "df795470-61e1-4503-864a-9671175c4cd8",
   "metadata": {},
   "source": [
    "11. Create a Python class hierarchy for a school system, including classes for students, teachers, and courses,\n",
    "and implement encapsulation principles to protect sensitive information."
   ]
  },
  {
   "cell_type": "code",
   "execution_count": 64,
   "id": "772de744-08ee-455a-9ea5-7e0e07cbf882",
   "metadata": {},
   "outputs": [],
   "source": [
    "class School:\n",
    "    \n",
    "    def __init__(self):\n",
    "        pass\n",
    "        \n",
    "class student(School):\n",
    "    \n",
    "    def _grade(self,marks):\n",
    "        self._marks = marks\n",
    "        return self._marks\n",
    "    \n",
    "class teacher(School):\n",
    "    \n",
    "    def __number(self,phone_number):\n",
    "        self.__phone_number = phone_number\n",
    "        return self.__phone_number\n",
    "    \n",
    "class course(School):\n",
    "    \n",
    "    def __amount(self,fees):\n",
    "        self.__fees = fees\n",
    "        return self.__fees"
   ]
  },
  {
   "cell_type": "code",
   "execution_count": 66,
   "id": "aeeb3fb7-41f7-48d7-be3b-34d89cf8d115",
   "metadata": {},
   "outputs": [],
   "source": [
    "rish = student()"
   ]
  },
  {
   "cell_type": "code",
   "execution_count": 69,
   "id": "02345614-903d-47a4-816c-2398123dcbc1",
   "metadata": {},
   "outputs": [
    {
     "data": {
      "text/plain": [
       "56"
      ]
     },
     "execution_count": 69,
     "metadata": {},
     "output_type": "execute_result"
    }
   ],
   "source": [
    "rish._grade(56)"
   ]
  },
  {
   "cell_type": "code",
   "execution_count": 71,
   "id": "1aeb264a-b120-473d-8e39-9b37ae14bc46",
   "metadata": {},
   "outputs": [],
   "source": [
    "sudh = teacher()"
   ]
  },
  {
   "cell_type": "code",
   "execution_count": 73,
   "id": "ada72061-ea97-4093-98f3-c64b1b70dbd7",
   "metadata": {},
   "outputs": [
    {
     "data": {
      "text/plain": [
       "87568769"
      ]
     },
     "execution_count": 73,
     "metadata": {},
     "output_type": "execute_result"
    }
   ],
   "source": [
    "sudh._teacher__number(87568769)"
   ]
  },
  {
   "cell_type": "code",
   "execution_count": 75,
   "id": "3ccd537a-df74-4420-910e-1c21c08355cd",
   "metadata": {},
   "outputs": [],
   "source": [
    "FSDS = course()"
   ]
  },
  {
   "cell_type": "code",
   "execution_count": 79,
   "id": "df414f91-0a36-4e01-9394-d4bc32cf3a68",
   "metadata": {},
   "outputs": [
    {
     "data": {
      "text/plain": [
       "1000"
      ]
     },
     "execution_count": 79,
     "metadata": {},
     "output_type": "execute_result"
    }
   ],
   "source": [
    "FSDS._course__amount(1000)"
   ]
  },
  {
   "cell_type": "markdown",
   "id": "db30dddc-9584-4cab-8ee8-52778e340e5b",
   "metadata": {},
   "source": [
    "12. Explain the concept of property decorators in Python and how they relate to encapsulation."
   ]
  },
  {
   "cell_type": "markdown",
   "id": "8ec143b3-98c2-41db-a513-f4b76a176248",
   "metadata": {},
   "source": [
    "@property decorator is a built-in decorator in Python which is helpful in defining the properties effortlessly without manually calling the inbuilt function property(). Which is used to return the property attributes of a class from the stated getter, setter and deleter as parameters.\n",
    "To implement encapsulation, we need to provide a getter and setter method for each private variable."
   ]
  },
  {
   "cell_type": "markdown",
   "id": "1fb79fb9-72b2-4e16-96e2-2f877a43de73",
   "metadata": {},
   "source": [
    "13. What is data hiding, and why is it important in encapsulation? Provide examples."
   ]
  },
  {
   "cell_type": "markdown",
   "id": "b7854e5d-51cf-4098-ac8b-367b26164054",
   "metadata": {},
   "source": [
    "Data hiding is the practice of restricting access to certain details of an object and exposing only what is necessary for the external world to interact with the object.\n",
    "\n",
    "Data hiding is important in encapsulation to restrict direct access and modification of an object's internal state, promoting controlled and secure interaction through defined interfaces."
   ]
  },
  {
   "cell_type": "code",
   "execution_count": 80,
   "id": "46a425a6-195c-4fbe-abfc-291ef3e1f248",
   "metadata": {},
   "outputs": [
    {
     "data": {
      "text/plain": [
       "'Rishabh'"
      ]
     },
     "execution_count": 80,
     "metadata": {},
     "output_type": "execute_result"
    }
   ],
   "source": [
    "class Person:\n",
    "    \n",
    "    def __init__(self, name, age):\n",
    "        self.__name = name\n",
    "        self.age = age\n",
    "        \n",
    "rish = Person(\"Rishabh\", 28)\n",
    "\n",
    "rish._Person__name"
   ]
  },
  {
   "cell_type": "markdown",
   "id": "cf560550-f1ea-41bc-b2bc-4285f062d3fa",
   "metadata": {},
   "source": [
    "14. Create a Python class called `Employee` with private attributes for salary (`__salary`) and employee ID ('__employee_ID'). Provide a method to calculate yearly bonuses."
   ]
  },
  {
   "cell_type": "code",
   "execution_count": 81,
   "id": "6c7cc958-3fa1-4a8f-8b8f-cb34e3bf2299",
   "metadata": {},
   "outputs": [],
   "source": [
    "class Employee:\n",
    "    \n",
    "    def __init__(self, salary, ID):\n",
    "        self.__salary = salary\n",
    "        self.__employee_ID = ID\n",
    "        \n",
    "    def yearly_bonus(self):\n",
    "        if self.__salary >= 10000:\n",
    "            print(\"20% bonus for you: \", 0.2 * self.__salary)\n",
    "        elif self.__salary >= 5000:\n",
    "            print(\"10% bonus for you: \", 0.1 * self.__salary)\n",
    "        else:\n",
    "            print(\"5% bonus for you: \", 0.05 * self.__salary)"
   ]
  },
  {
   "cell_type": "code",
   "execution_count": 82,
   "id": "999a52f7-cbdf-4493-bbd2-b416b898dc84",
   "metadata": {},
   "outputs": [],
   "source": [
    "rish = Employee(5463, \"I5322\")"
   ]
  },
  {
   "cell_type": "code",
   "execution_count": 83,
   "id": "d43475bd-bef1-4126-aaf0-162c6ce10eb8",
   "metadata": {},
   "outputs": [
    {
     "name": "stdout",
     "output_type": "stream",
     "text": [
      "10% bonus for you:  546.3000000000001\n"
     ]
    }
   ],
   "source": [
    "rish.yearly_bonus()"
   ]
  },
  {
   "cell_type": "markdown",
   "id": "1e8b375a-4b6b-4483-be88-91fe05f2bee5",
   "metadata": {},
   "source": [
    "15. Discuss the use of accessors and mutators in encapsulation. How do they help maintain control over\n",
    "attribute access?"
   ]
  },
  {
   "cell_type": "markdown",
   "id": "3fdef42b-4f4c-400e-b77c-fb8c30176802",
   "metadata": {},
   "source": [
    "Accessors and mutators are methods used in encapsulation to control access to an object's attributes, maintaining a controlled and secure interface for interacting with the object's state.\n",
    "\n",
    "Accessors and mutators in encapsulation act as gatekeepers, controlling access to and modification of an object's attributes. They enhance security, maintain data integrity, and provide a well-defined and stable interface for external code to interact with objects"
   ]
  },
  {
   "cell_type": "markdown",
   "id": "0cb44a93-23da-4609-bc77-2ea7d24148dc",
   "metadata": {},
   "source": [
    "16. What are the potential drawbacks or disadvantages of using encapsulation in Python?"
   ]
  },
  {
   "cell_type": "markdown",
   "id": "8b835889-187b-43b4-89d2-d730828675dc",
   "metadata": {},
   "source": [
    "Drawbacks of using encapsulation in Python:\n",
    "1. Overusing encapsulation can lead to overly complex class hierarchies and relationships, making the code harder to understand and maintain.\n",
    "2. Python is a dynamic language that allows attributes to be added or modified at runtime. Encapsulation can restrict this flexibility, making it more challenging to work with certain dynamic features of the language.\n",
    "3. While encapsulation aims to prevent misuse of class attributes, it doesn't offer foolproof security.\n",
    "4. When changes to the internal structure of a class are necessary, modifying encapsulated code may require updates to multiple methods or classes."
   ]
  },
  {
   "cell_type": "markdown",
   "id": "20b63d17-847d-47a9-bd2e-4b355da3f0eb",
   "metadata": {},
   "source": [
    "17. Create a Python class for a library system that encapsulates book information, including titles, authors,\n",
    "and availability status."
   ]
  },
  {
   "cell_type": "code",
   "execution_count": 106,
   "id": "157fd631-118b-4c33-81b6-14473bd2fce0",
   "metadata": {},
   "outputs": [],
   "source": [
    "class Book:\n",
    "    \n",
    "    def __init__(self, title, author, status):\n",
    "        self._title = title\n",
    "        self.__author = author\n",
    "        self.availability_status = status\n",
    "        \n",
    "    def _book_title(self):\n",
    "        return self._title\n",
    "    \n",
    "    def __book_author(self):\n",
    "        return self.__author\n",
    "    \n",
    "    def book_availability(self):\n",
    "        return self.availability_status"
   ]
  },
  {
   "cell_type": "code",
   "execution_count": 109,
   "id": "144d74b5-5ca0-443d-a2ce-09bdaea46d77",
   "metadata": {},
   "outputs": [],
   "source": [
    "book1 = Book(\"Emma\", \"Jane Austen\", \"Not Available\")"
   ]
  },
  {
   "cell_type": "code",
   "execution_count": 110,
   "id": "3d266452-f200-429b-8309-6b783dfbd098",
   "metadata": {},
   "outputs": [
    {
     "data": {
      "text/plain": [
       "'Not Available'"
      ]
     },
     "execution_count": 110,
     "metadata": {},
     "output_type": "execute_result"
    }
   ],
   "source": [
    "book1.book_availability()"
   ]
  },
  {
   "cell_type": "code",
   "execution_count": 111,
   "id": "38e4f406-f23b-42a8-8b0b-2344adcd9960",
   "metadata": {},
   "outputs": [
    {
     "data": {
      "text/plain": [
       "'Emma'"
      ]
     },
     "execution_count": 111,
     "metadata": {},
     "output_type": "execute_result"
    }
   ],
   "source": [
    "book1._book_title()"
   ]
  },
  {
   "cell_type": "code",
   "execution_count": 112,
   "id": "f1aa63e9-4bba-41fb-83c1-9d14f8b394cc",
   "metadata": {},
   "outputs": [
    {
     "data": {
      "text/plain": [
       "'Jane Austen'"
      ]
     },
     "execution_count": 112,
     "metadata": {},
     "output_type": "execute_result"
    }
   ],
   "source": [
    "book1._Book__book_author()"
   ]
  },
  {
   "cell_type": "markdown",
   "id": "3c6a0a0b-548d-4c7e-b0d8-afbe383554f5",
   "metadata": {},
   "source": [
    "18. Explain how encapsulation enhances code reusability and modularity in Python programs."
   ]
  },
  {
   "cell_type": "markdown",
   "id": "ba958be1-5a42-4045-a853-6a55a27969a8",
   "metadata": {},
   "source": [
    "Code reusability:\n",
    "Encapsulation encourages the reuse of code. Classes can be used as building blocks in various parts of an application or even in different projects, leading to more efficient and less redundant code.\n",
    "\n",
    "Modularity:\n",
    "Encapsulation promotes modularity by grouping related data and behavior into a single unit (class). This makes the code more organized and easier to understand, as each class represents a self-contained entity."
   ]
  },
  {
   "cell_type": "markdown",
   "id": "91c46a8b-8236-492a-b011-0f5788b40b90",
   "metadata": {},
   "source": [
    "19. Describe the concept of information hiding in encapsulation. Why is it essential in software development?"
   ]
  },
  {
   "cell_type": "markdown",
   "id": "28d1d67a-91e5-4b2f-9253-5461524a9ea5",
   "metadata": {},
   "source": [
    "Information hiding is a key concept within the broader principle of encapsulation in software development. It refers to the practice of concealing the implementation details of a module or class and exposing only what is necessary for the external world to interact with it.\n",
    "\n",
    "Information hiding is essential in software development because it enhances modularity, reduces complexity, promotes flexibility, and contributes to the overall organization and maintainability of a codebase"
   ]
  },
  {
   "cell_type": "markdown",
   "id": "e7fdde90-1c60-4868-bb9e-14b82f8740d1",
   "metadata": {},
   "source": [
    "20. Create a Python class called `Customer` with private attributes for customer details like name, address,\n",
    "and contact information. Implement encapsulation to ensure data integrity and security."
   ]
  },
  {
   "cell_type": "code",
   "execution_count": 113,
   "id": "40bd957a-8ff3-4a01-ad14-5d22a97d86e4",
   "metadata": {},
   "outputs": [],
   "source": [
    "class Customer:\n",
    "    \n",
    "    def __init__(self, name, adress, contact_info):\n",
    "        self.name = name\n",
    "        self._adress = adress\n",
    "        self.__contact_info = contact_info\n",
    "        \n",
    "    def __customer_info(self):\n",
    "        return self.name, self._adress, self.__contact_info"
   ]
  },
  {
   "cell_type": "code",
   "execution_count": 114,
   "id": "7fe3bc73-49a4-4786-8559-e3a65762ad18",
   "metadata": {},
   "outputs": [],
   "source": [
    "rish = Customer(\"Rishabh\", \"BTM\", 6568789)"
   ]
  },
  {
   "cell_type": "code",
   "execution_count": 116,
   "id": "262881a8-1112-4b75-ad7d-fee5c5076389",
   "metadata": {},
   "outputs": [
    {
     "data": {
      "text/plain": [
       "'Rishabh'"
      ]
     },
     "execution_count": 116,
     "metadata": {},
     "output_type": "execute_result"
    }
   ],
   "source": [
    "rish.name"
   ]
  },
  {
   "cell_type": "code",
   "execution_count": 117,
   "id": "9a364f10-86f6-46af-80ec-9d7098624bfe",
   "metadata": {},
   "outputs": [
    {
     "data": {
      "text/plain": [
       "'BTM'"
      ]
     },
     "execution_count": 117,
     "metadata": {},
     "output_type": "execute_result"
    }
   ],
   "source": [
    "rish._adress"
   ]
  },
  {
   "cell_type": "code",
   "execution_count": 118,
   "id": "bb7531fd-a12f-4367-b809-36869c39ecff",
   "metadata": {},
   "outputs": [
    {
     "data": {
      "text/plain": [
       "6568789"
      ]
     },
     "execution_count": 118,
     "metadata": {},
     "output_type": "execute_result"
    }
   ],
   "source": [
    "rish._Customer__contact_info"
   ]
  },
  {
   "cell_type": "code",
   "execution_count": 120,
   "id": "78e7ed92-4971-4621-9387-fa9f945828ac",
   "metadata": {},
   "outputs": [
    {
     "data": {
      "text/plain": [
       "('Rishabh', 'BTM', 6568789)"
      ]
     },
     "execution_count": 120,
     "metadata": {},
     "output_type": "execute_result"
    }
   ],
   "source": [
    "rish._Customer__customer_info()"
   ]
  },
  {
   "cell_type": "code",
   "execution_count": null,
   "id": "650f6913-60d4-40fd-abec-de86ba9fbba4",
   "metadata": {},
   "outputs": [],
   "source": []
  },
  {
   "cell_type": "markdown",
   "id": "562bd161-9271-4f95-a891-baf79f56555f",
   "metadata": {},
   "source": [
    "Polymorphism:"
   ]
  },
  {
   "cell_type": "markdown",
   "id": "80866853-ac4c-4ef8-ac53-e3e9add06e21",
   "metadata": {},
   "source": [
    "1. What is polymorphism in Python? Explain how it is related to object-oriented programming."
   ]
  },
  {
   "cell_type": "markdown",
   "id": "d74fae1c-ca7c-415f-b997-e200af4bfe0c",
   "metadata": {},
   "source": [
    "The word \"polymorphism\" means \"many forms\", and in programming it refers to methods/functions/operators with the same name that can be executed on many objects or classes.\n",
    "\n",
    "Polymorphism is one of the core concepts in OOP languages and describes the concept of using different classes with the same interface. Each of these classes can provide its implementation of the interface"
   ]
  },
  {
   "cell_type": "markdown",
   "id": "5bca60c0-565f-4c4f-8355-5dadc2d079e0",
   "metadata": {},
   "source": [
    "2. Describe the difference between compile-time polymorphism and runtime polymorphism in Python."
   ]
  },
  {
   "cell_type": "markdown",
   "id": "ff7881fe-03c2-4a0f-8363-29349aa2c8fc",
   "metadata": {},
   "source": [
    "Method overloading produces compile-time polymorphism. The phrase method overloading refers to the ability to have many methods with the same name. Because this procedure occurs during build time, it is called Compile-Time Polymorphism.\n",
    "\n",
    "Runtime polymorphism occurs when an object is associated with functionality during runtime. Method overriding can be used to provide runtime polymorphism."
   ]
  },
  {
   "cell_type": "markdown",
   "id": "567522d7-f892-49b0-a188-8a225c5a596e",
   "metadata": {},
   "source": [
    "3. Create a Python class hierarchy for shapes (e.g., circle, square, triangle) and demonstrate polymorphism\n",
    "through a common method, such as `calculate_area()`."
   ]
  },
  {
   "cell_type": "code",
   "execution_count": 5,
   "id": "0f6e6f02-6f6e-445c-9408-000a1a6d8060",
   "metadata": {},
   "outputs": [],
   "source": [
    "class Shape:\n",
    "    \n",
    "    def calculate_area(self):\n",
    "        pass\n",
    "    \n",
    "class Circle(Shape):\n",
    "    \n",
    "    def __init__(self, radius):\n",
    "        self.radius = radius\n",
    "        \n",
    "    def calculate_area(self):\n",
    "        return \"Area of the circle is:\", 3.14 * (self.radius **2)\n",
    "        \n",
    "class Square(Shape):\n",
    "    \n",
    "    def __init__(self, side):\n",
    "        self.side = side\n",
    "        \n",
    "    def calculate_area(self):\n",
    "        print(\"Area of the Square is:\", self.side **2)\n",
    "    \n",
    "class Triangle(Shape):\n",
    "    \n",
    "    def __init__(self, width, height):\n",
    "        self.width = width\n",
    "        self.height = height\n",
    "        \n",
    "    def calculate_area(self):\n",
    "        return \"Area of the triangle is:\", 0.5 * self.width * self.height\n",
    "        "
   ]
  },
  {
   "cell_type": "code",
   "execution_count": 6,
   "id": "9c95ff98-415c-41c2-9bc2-5f8e0065c5a4",
   "metadata": {},
   "outputs": [],
   "source": [
    "r = Circle(3)"
   ]
  },
  {
   "cell_type": "code",
   "execution_count": 7,
   "id": "632b4557-b76d-4eb2-a920-f7270383a717",
   "metadata": {},
   "outputs": [
    {
     "data": {
      "text/plain": [
       "('Area of the circle is:', 28.26)"
      ]
     },
     "execution_count": 7,
     "metadata": {},
     "output_type": "execute_result"
    }
   ],
   "source": [
    "r.calculate_area()"
   ]
  },
  {
   "cell_type": "code",
   "execution_count": 8,
   "id": "44035ed2-469e-4a1b-8fae-a3144fa5e867",
   "metadata": {},
   "outputs": [],
   "source": [
    "s = Square(6)"
   ]
  },
  {
   "cell_type": "code",
   "execution_count": 9,
   "id": "f98bbc4a-8d59-4012-94d9-c69e375e5ed9",
   "metadata": {},
   "outputs": [
    {
     "name": "stdout",
     "output_type": "stream",
     "text": [
      "Area of the Square is: 36\n"
     ]
    }
   ],
   "source": [
    "s.calculate_area()"
   ]
  },
  {
   "cell_type": "code",
   "execution_count": 10,
   "id": "0dfe422b-614c-4bf3-bf2f-4e202169c6fd",
   "metadata": {},
   "outputs": [],
   "source": [
    "t = Triangle(3,4)"
   ]
  },
  {
   "cell_type": "code",
   "execution_count": null,
   "id": "8d53b594-be55-4802-b64c-c1f2257d8726",
   "metadata": {},
   "outputs": [
    {
     "data": {
      "text/plain": [
       "('Area of the triangle is:', 6.0)"
      ]
     },
     "execution_count": 11,
     "metadata": {},
     "output_type": "execute_result"
    }
   ],
   "source": [
    "t.calculate_area()"
   ]
  },
  {
   "cell_type": "markdown",
   "id": "11edeec4-76d4-4a5f-bd86-0463d4c39ac8",
   "metadata": {},
   "source": [
    "4. Explain the concept of method overriding in polymorphism. Provide an example."
   ]
  },
  {
   "cell_type": "markdown",
   "id": "81a6bb4b-8f42-4f9a-aa8e-5c864e2b0f1f",
   "metadata": {},
   "source": [
    "Method overriding is a concept in object-oriented programming (OOP) that allows a subclass to provide a specific implementation of a method that is already defined in its superclass."
   ]
  },
  {
   "cell_type": "code",
   "execution_count": 17,
   "id": "66e415db-eebf-4ed6-982c-63c9d5909e3c",
   "metadata": {},
   "outputs": [],
   "source": [
    "class Animal:\n",
    "    \n",
    "    def speaks(self):\n",
    "        pass\n",
    "    \n",
    "class Dog(Animal):\n",
    "    \n",
    "    def speaks(self):\n",
    "        print(\"Barks\")\n",
    "        \n",
    "class Cat(Animal):\n",
    "    \n",
    "    def speaks(self):\n",
    "        print(\"Meows\")"
   ]
  },
  {
   "cell_type": "code",
   "execution_count": 18,
   "id": "7566b760-6ce4-415b-9679-c235d60a09d2",
   "metadata": {},
   "outputs": [],
   "source": [
    "d = Dog()"
   ]
  },
  {
   "cell_type": "code",
   "execution_count": 19,
   "id": "7e2d6fdf-e58c-41d5-a227-0beee9d4ba10",
   "metadata": {},
   "outputs": [
    {
     "name": "stdout",
     "output_type": "stream",
     "text": [
      "Barks\n"
     ]
    }
   ],
   "source": [
    "d.speaks()"
   ]
  },
  {
   "cell_type": "code",
   "execution_count": 20,
   "id": "a218509b-fead-4a9c-a433-72fa0ba92b38",
   "metadata": {},
   "outputs": [],
   "source": [
    "c = Cat()"
   ]
  },
  {
   "cell_type": "code",
   "execution_count": 21,
   "id": "9db26d78-ef98-4fc9-a051-55904ae6d591",
   "metadata": {},
   "outputs": [
    {
     "name": "stdout",
     "output_type": "stream",
     "text": [
      "Meows\n"
     ]
    }
   ],
   "source": [
    "c.speaks()"
   ]
  },
  {
   "cell_type": "markdown",
   "id": "129af515-dce5-4811-a16e-6da19d9a591c",
   "metadata": {},
   "source": [
    "5. How is polymorphism different from method overloading in Python? Provide examples for both."
   ]
  },
  {
   "cell_type": "markdown",
   "id": "6a3daad0-3aa5-4bd5-bc1a-ed7169617115",
   "metadata": {},
   "source": [
    "Polymorphism allows objects of different types to be treated as objects of a common base type. It enables a single interface to be used for different types of objects, providing a way to use a single method or operation with different types of data.\n",
    "\n",
    "Method overloading refers to the ability to define multiple methods in a class with the same name but different signatures. The method that gets called depends on the number or types of arguments passed to it."
   ]
  },
  {
   "cell_type": "code",
   "execution_count": 22,
   "id": "df8a84f1-79d7-4925-a7c7-1ce2c75d9d6c",
   "metadata": {},
   "outputs": [
    {
     "name": "stdout",
     "output_type": "stream",
     "text": [
      "Barks\n",
      "Meows\n"
     ]
    }
   ],
   "source": [
    "#Polymorphism using method overriding\n",
    "class Animal:\n",
    "    \n",
    "    def speaks(self):\n",
    "        pass\n",
    "    \n",
    "class Dog(Animal):\n",
    "    \n",
    "    def speaks(self):\n",
    "        print(\"Barks\")\n",
    "        \n",
    "class Cat(Animal):\n",
    "    \n",
    "    def speaks(self):\n",
    "        print(\"Meows\")\n",
    "\n",
    "d = Dog()\n",
    "d.speaks()\n",
    "\n",
    "c = Cat()\n",
    "c.speaks()"
   ]
  },
  {
   "cell_type": "code",
   "execution_count": 24,
   "id": "ffd499a6-8850-4a8e-9f52-bdab5e0cd9cb",
   "metadata": {},
   "outputs": [],
   "source": [
    "#Method Overloading\n",
    "\n",
    "class Oper:\n",
    "    \n",
    "    def __init__(self, a, b = 0, c = 0):\n",
    "        self.a = a\n",
    "        self.b = b\n",
    "        self.c = c\n",
    "    \n",
    "    def add(self):\n",
    "        return self.a + self.b + self.c"
   ]
  },
  {
   "cell_type": "code",
   "execution_count": 26,
   "id": "7ee332f9-1a19-4eff-86f4-f16c9d76981d",
   "metadata": {},
   "outputs": [],
   "source": [
    "x = Oper(2,3,4)"
   ]
  },
  {
   "cell_type": "code",
   "execution_count": 27,
   "id": "6cda1edb-aa59-42f2-896e-4d097bd8db08",
   "metadata": {},
   "outputs": [
    {
     "data": {
      "text/plain": [
       "9"
      ]
     },
     "execution_count": 27,
     "metadata": {},
     "output_type": "execute_result"
    }
   ],
   "source": [
    "x.add()"
   ]
  },
  {
   "cell_type": "markdown",
   "id": "de15779a-04c2-410f-889d-93b593f5ec3f",
   "metadata": {},
   "source": [
    "6. Create a Python class called `Animal` with a method `speak()`. Then, create child classes like `Dog`, `Cat`, and `Bird`, each with their own `speak()` method. Demonstrate polymorphism by calling the `speak()` method\n",
    "on objects of different subclasses."
   ]
  },
  {
   "cell_type": "code",
   "execution_count": 28,
   "id": "f1b9231e-6f20-4e69-b7b0-76b1a7efd45f",
   "metadata": {},
   "outputs": [],
   "source": [
    "class Animal:\n",
    "    \n",
    "    def speaks(self):\n",
    "        pass\n",
    "    \n",
    "class Dog(Animal):\n",
    "    \n",
    "    def speaks(self):\n",
    "        print(\"Barks\")\n",
    "        \n",
    "class Cat(Animal):\n",
    "    \n",
    "    def speaks(self):\n",
    "        print(\"Meows\")\n",
    "        \n",
    "class Bird(Animal):\n",
    "    \n",
    "    def speaks(self):\n",
    "        print(\"Chirps\")"
   ]
  },
  {
   "cell_type": "code",
   "execution_count": 30,
   "id": "0425385a-963b-44eb-8751-6b708aeaacc2",
   "metadata": {},
   "outputs": [
    {
     "name": "stdout",
     "output_type": "stream",
     "text": [
      "Barks\n"
     ]
    }
   ],
   "source": [
    "d = Dog()\n",
    "d.speaks()"
   ]
  },
  {
   "cell_type": "code",
   "execution_count": 31,
   "id": "eaf64ad2-6ac6-4b19-a954-e8053eb13727",
   "metadata": {},
   "outputs": [
    {
     "name": "stdout",
     "output_type": "stream",
     "text": [
      "Meows\n"
     ]
    }
   ],
   "source": [
    "c = Cat()\n",
    "c.speaks()"
   ]
  },
  {
   "cell_type": "code",
   "execution_count": 32,
   "id": "96b71c5c-7f33-4261-9cf5-1b4ef31ad0fb",
   "metadata": {},
   "outputs": [
    {
     "name": "stdout",
     "output_type": "stream",
     "text": [
      "Chirps\n"
     ]
    }
   ],
   "source": [
    "b = Bird()\n",
    "b.speaks()"
   ]
  },
  {
   "cell_type": "markdown",
   "id": "db04a570-80c9-4cc8-b64c-ac903585b32c",
   "metadata": {},
   "source": [
    "8. Create a Python class hierarchy for a vehicle system (e.g., car, bicycle, boat) and implement a polymorphic `start()` method that prints a message specific to each vehicle type."
   ]
  },
  {
   "cell_type": "code",
   "execution_count": 1,
   "id": "2766f848-0913-4dd7-91bf-14ac80c385b8",
   "metadata": {},
   "outputs": [],
   "source": [
    "class Vehicle:\n",
    "    \n",
    "    def __init__(self, brand, model):\n",
    "        self.brand = brand\n",
    "        self.model = model\n",
    "        \n",
    "    def start(self):\n",
    "        print(\"This is Vehicle class\")\n",
    "        \n",
    "class Car(Vehicle):\n",
    "    \n",
    "    def __init__(self,brand, model, speed):\n",
    "        super().__init__(brand, model)\n",
    "        self.speed = speed\n",
    "        \n",
    "    def start(self):\n",
    "        print(\"The car\", self.model, \"is\", self.brand, \"with\", self.speed)\n",
    "        \n",
    "class Bicycle(Vehicle):\n",
    "    \n",
    "    def __init__(self,brand, model, speed):\n",
    "        super().__init__(brand, model)\n",
    "        self.speed = speed\n",
    "        \n",
    "    def start(self):\n",
    "        print(\"The bicycle\", self.model, \"is\", self.brand, \"with\", self.speed)\n",
    "        \n",
    "class Boat(Vehicle):\n",
    "    \n",
    "    def __init__(self,brand, model, speed):\n",
    "        super().__init__(brand, model)\n",
    "        self.speed = speed\n",
    "        \n",
    "    def start(self):\n",
    "        print(\"The boat\", self.model, \"is\", self.brand, \"with\", self.speed)\n",
    "    "
   ]
  },
  {
   "cell_type": "code",
   "execution_count": 2,
   "id": "b2269c29-a091-4ad8-943c-9d3f76552a65",
   "metadata": {},
   "outputs": [],
   "source": [
    "c = Car(\"Ford\", \"Bronco\", \"210KMPH\")"
   ]
  },
  {
   "cell_type": "code",
   "execution_count": 3,
   "id": "06568ae0-2853-47f3-b8f9-2f4ec7a71d91",
   "metadata": {},
   "outputs": [
    {
     "name": "stdout",
     "output_type": "stream",
     "text": [
      "The car Bronco is Ford with 210KMPH\n"
     ]
    }
   ],
   "source": [
    "c.start()"
   ]
  },
  {
   "cell_type": "code",
   "execution_count": 4,
   "id": "063c9be2-0a31-4abf-bc89-7417d9647e4b",
   "metadata": {},
   "outputs": [],
   "source": [
    "b = Bicycle(\"Trek\", \"Madone\", \"38.6KMPH\")"
   ]
  },
  {
   "cell_type": "code",
   "execution_count": 5,
   "id": "db96a672-9a72-4bfb-b629-02341ced3d8d",
   "metadata": {},
   "outputs": [
    {
     "name": "stdout",
     "output_type": "stream",
     "text": [
      "The bicycle Madone is Trek with 38.6KMPH\n"
     ]
    }
   ],
   "source": [
    "b.start()"
   ]
  },
  {
   "cell_type": "code",
   "execution_count": 6,
   "id": "6c0bd8a3-f53e-41b7-9ef3-1edca451ae2f",
   "metadata": {},
   "outputs": [],
   "source": [
    "c = Boat(\"BERTRAM\", \"35 Flybridge\", \"110KMPH\")"
   ]
  },
  {
   "cell_type": "code",
   "execution_count": 7,
   "id": "555caa43-1fd4-4b60-8977-29bb87b67cd5",
   "metadata": {},
   "outputs": [
    {
     "name": "stdout",
     "output_type": "stream",
     "text": [
      "The boat 35 Flybridge is BERTRAM with 110KMPH\n"
     ]
    }
   ],
   "source": [
    "c.start()"
   ]
  },
  {
   "cell_type": "markdown",
   "id": "1fbfe53a-5dc3-43e2-8800-63f679b39d6f",
   "metadata": {},
   "source": [
    "9. Explain the significance of the `isinstance()` and `issubclass()` functions in Python polymorphism."
   ]
  },
  {
   "cell_type": "markdown",
   "id": "ee351eb7-263e-46b3-a318-e4a0326a5b4b",
   "metadata": {},
   "source": [
    "The function isinstance () checks whether the object that is passed in its parameters is the subclass of the classinfo mentioned within the parameters. On the other hand, the Python issubclass () function only checks whether a class is a subclass of a supposed parent class."
   ]
  },
  {
   "cell_type": "markdown",
   "id": "97a700a1-a7a2-443f-9cee-83cf7585e770",
   "metadata": {},
   "source": [
    "10. What is the role of the `@abstractmethod` decorator in achieving polymorphism in Python? Provide an\n",
    "example."
   ]
  },
  {
   "cell_type": "markdown",
   "id": "7e5e8458-d2b4-4fc3-8928-469e29307b77",
   "metadata": {},
   "source": [
    "The @abstractmethod decorator is applied to a method in an abstract base class, and any concrete subclass must override and provide an implementation for that method. This helps achieve polymorphism, as different objects (instances of different classes) can be used interchangeably if they adhere to the same interface (i.e., they implement the same abstract methods)."
   ]
  },
  {
   "cell_type": "code",
   "execution_count": 10,
   "id": "186a60ee-956e-4c14-8eb9-205ac5d5e19f",
   "metadata": {},
   "outputs": [
    {
     "name": "stdout",
     "output_type": "stream",
     "text": [
      "The car Bronco is Ford with 210KMPH\n",
      "The bicycle Madone is Trek with 38.6KMPH\n",
      "The boat 35 Flybridge is BERTRAM with 110KMPH\n"
     ]
    }
   ],
   "source": [
    "from abc import ABC, abstractmethod\n",
    "\n",
    "class Vehicle(ABC):\n",
    "    \n",
    "    def __init__(self, brand, model):\n",
    "        self.brand = brand\n",
    "        self.model = model\n",
    "    \n",
    "    @abstractmethod\n",
    "    def start(self):\n",
    "        print(\"This is Vehicle class\")\n",
    "        \n",
    "class Car(Vehicle):\n",
    "    \n",
    "    def __init__(self,brand, model, speed):\n",
    "        super().__init__(brand, model)\n",
    "        self.speed = speed\n",
    "        \n",
    "    def start(self):\n",
    "        print(\"The car\", self.model, \"is\", self.brand, \"with\", self.speed)\n",
    "        \n",
    "class Bicycle(Vehicle):\n",
    "    \n",
    "    def __init__(self,brand, model, speed):\n",
    "        super().__init__(brand, model)\n",
    "        self.speed = speed\n",
    "        \n",
    "    def start(self):\n",
    "        print(\"The bicycle\", self.model, \"is\", self.brand, \"with\", self.speed)\n",
    "        \n",
    "class Boat(Vehicle):\n",
    "    \n",
    "    def __init__(self,brand, model, speed):\n",
    "        super().__init__(brand, model)\n",
    "        self.speed = speed\n",
    "        \n",
    "    def start(self):\n",
    "        print(\"The boat\", self.model, \"is\", self.brand, \"with\", self.speed)\n",
    "        \n",
    "c = Car(\"Ford\", \"Bronco\", \"210KMPH\")\n",
    "c.start()\n",
    "b = Bicycle(\"Trek\", \"Madone\", \"38.6KMPH\")\n",
    "b.start()\n",
    "a = Boat(\"BERTRAM\", \"35 Flybridge\", \"110KMPH\")\n",
    "a.start()"
   ]
  },
  {
   "cell_type": "markdown",
   "id": "1adac258-bc90-488e-a237-63c9f66ab928",
   "metadata": {},
   "source": [
    "11. Create a Python class called `Shape` with a polymorphic method `area()` that calculates the area of different shapes(eg. circle, rectangle, triangle)"
   ]
  },
  {
   "cell_type": "code",
   "execution_count": 17,
   "id": "5038ef44-a564-40d9-9f76-b1a7343b1e2e",
   "metadata": {},
   "outputs": [],
   "source": [
    "class Shape:\n",
    "    \n",
    "    def area(self):\n",
    "        pass\n",
    "    \n",
    "class Circle(Shape):\n",
    "    \n",
    "    def __init__(self, radius):\n",
    "        self.radius = radius\n",
    "        \n",
    "    def area(self):\n",
    "        return \"Area of the circle is:\", 3.14 * (self.radius **2)\n",
    "        \n",
    "class Square(Shape):\n",
    "    \n",
    "    def __init__(self, side):\n",
    "        self.side = side\n",
    "        \n",
    "    def area(self):\n",
    "        print(\"Area of the Square is:\", self.side **2)\n",
    "    \n",
    "class Triangle(Shape):\n",
    "    \n",
    "    def __init__(self, width, height):\n",
    "        self.width = width\n",
    "        self.height = height\n",
    "        \n",
    "    def area(self):\n",
    "        return \"Area of the triangle is:\", 0.5 * self.width * self.height\n"
   ]
  },
  {
   "cell_type": "code",
   "execution_count": 18,
   "id": "490c513c-7190-4f8e-b487-ef80a880ae7c",
   "metadata": {},
   "outputs": [
    {
     "data": {
      "text/plain": [
       "('Area of the circle is:', 28.26)"
      ]
     },
     "execution_count": 18,
     "metadata": {},
     "output_type": "execute_result"
    }
   ],
   "source": [
    "r = Circle(3)\n",
    "r.area()"
   ]
  },
  {
   "cell_type": "code",
   "execution_count": 19,
   "id": "fcb8350a-4203-43a8-bc6c-597593f630d2",
   "metadata": {},
   "outputs": [
    {
     "name": "stdout",
     "output_type": "stream",
     "text": [
      "Area of the Square is: 36\n"
     ]
    }
   ],
   "source": [
    "s = Square(6)\n",
    "s.area()"
   ]
  },
  {
   "cell_type": "code",
   "execution_count": 20,
   "id": "306393dc-6c37-4310-95c0-eb795c1def42",
   "metadata": {},
   "outputs": [
    {
     "data": {
      "text/plain": [
       "('Area of the triangle is:', 6.0)"
      ]
     },
     "execution_count": 20,
     "metadata": {},
     "output_type": "execute_result"
    }
   ],
   "source": [
    "t = Triangle(3,4)\n",
    "t.area()"
   ]
  },
  {
   "cell_type": "markdown",
   "id": "06f950a5-adb4-4cb0-843c-868436430acb",
   "metadata": {},
   "source": [
    "12. Discuss the benefits of polymorphism in terms of code reusability and flexibility in Python programs."
   ]
  },
  {
   "cell_type": "markdown",
   "id": "fe5b399b-15ac-4355-a818-6036a8d63435",
   "metadata": {},
   "source": [
    "Benefits of polymorphism in terms of Code Reusability:\n",
    "1. Polymorphism allows the use of a common interface across different classes, enabling the reuse of code.\n",
    "2. With polymorphism, you can write functions or methods that operate on objects of a base class and its subclasses interchangeably.\n",
    "\n",
    "Benefits of polymorphism in terms of Flexibility:\n",
    "1. Polymorphism enhances the flexibility of code by allowing different classes to be used interchangeably\n",
    "2. You can write functions or methods that work with objects of a certain type without needing to know the specific class of the object."
   ]
  },
  {
   "cell_type": "markdown",
   "id": "206e241f-713c-40c8-8250-3cd68767bd81",
   "metadata": {},
   "source": [
    "13. Explain the use of the `super()` function in Python polymorphism. How does it help call methods of parent\n",
    "classes?"
   ]
  },
  {
   "cell_type": "markdown",
   "id": "8f7f9ab4-7352-467c-84fd-bd6ae1c7312e",
   "metadata": {},
   "source": [
    "Use of super() function in Python polymorphism:\n",
    "1. It ensures that the entire inheritance hierarchy is considered when invoking methods, maintaining a consistent and predictable order.\n",
    "2. It supports cooperative multiple inheritance by allowing each class to contribute to the behavior in a controlled manner.\n",
    "3. It improves code maintainability by providing a clear and standard way to call methods from parent classes, making the code more readable and understandable.\n",
    "\n",
    "The super() function in Python is used to call methods of a parent class in the context of an overridden method in a subclass. It plays a crucial role in achieving method resolution order (MRO) and allows you to invoke the methods of the parent class, ensuring that all classes in the inheritance hierarchy have an opportunity to contribute to the behavior."
   ]
  },
  {
   "cell_type": "markdown",
   "id": "4f2ee138-abc9-41fc-94c4-e0e8c1e89eac",
   "metadata": {},
   "source": [
    "14. Create a Python class hierarchy for a banking system with various account types (e.g., savings, checking,credit card) and demostrate polymorphism by implementing a common withdraw(method)"
   ]
  },
  {
   "cell_type": "code",
   "execution_count": 62,
   "id": "6a60000c-1fc6-4e13-ba48-26b40d5db439",
   "metadata": {},
   "outputs": [
    {
     "data": {
      "text/plain": [
       "'Amount left after withdrawal is: 500'"
      ]
     },
     "execution_count": 62,
     "metadata": {},
     "output_type": "execute_result"
    }
   ],
   "source": [
    "class Banking_System:\n",
    "    def __init__(self, account_number, IFSC_code):\n",
    "        self.account_number = account_number\n",
    "        self.IFSC_code = IFSC_code\n",
    "\n",
    "    def withdraw(self):\n",
    "        pass\n",
    "\n",
    "class Savings(Banking_System):\n",
    "    def __init__(self, account_number, IFSC_code):\n",
    "        super().__init__(account_number, IFSC_code)\n",
    "\n",
    "    def withdraw(self):\n",
    "        print(\"The withdrawal amount is not specified for Savings account.\")\n",
    "\n",
    "class Checking(Banking_System):\n",
    "    def __init__(self, account_number, IFSC_code, balance):\n",
    "        super().__init__(account_number, IFSC_code)\n",
    "        self.balance = balance\n",
    "\n",
    "    def withdraw(self, withdrawal_amount):\n",
    "        self.balance -= withdrawal_amount\n",
    "        return f\"Amount left after withdrawal is: {self.balance}\"\n",
    "\n",
    "class Credit_Card(Banking_System):\n",
    "    def __init__(self, account_number, IFSC_code, limit):\n",
    "        super().__init__(account_number, IFSC_code)\n",
    "        self.limit = limit\n",
    "\n",
    "    def withdraw(self):\n",
    "        return f\"Credit Card limit is: {self.limit}\"\n",
    "\n",
    "c = Checking(8779, \"gafgn76889\", 1000)\n",
    "c.withdraw(500)"
   ]
  },
  {
   "cell_type": "markdown",
   "id": "1c275f58-56e3-4d61-8cd7-37700f900a96",
   "metadata": {},
   "source": [
    "15. Describe the concept of operator overloading in Python and how it relates to polymorphism. Provide\n",
    "examples using operators like `+` and `*`."
   ]
  },
  {
   "cell_type": "markdown",
   "id": "358b6269-a867-4bc3-a8c3-d29e2cd582aa",
   "metadata": {},
   "source": [
    "Operator overloading in Python refers to the ability to define and redefine the behavior of operators for user-defined objects or classes. This allows you to use standard operators, such as +, -, *, /, etc., with instances of your custom classes. It is a form of polymorphism where the same operator can behave differently depending on the type of objects involved."
   ]
  },
  {
   "cell_type": "code",
   "execution_count": 63,
   "id": "70036e52-a905-426b-9346-b9fef1aa8a57",
   "metadata": {},
   "outputs": [
    {
     "name": "stdout",
     "output_type": "stream",
     "text": [
      "Resultant Point: (4, 6)\n",
      "Resultant Point with Scalar: (6, 7)\n"
     ]
    }
   ],
   "source": [
    "#Example: Operator Overloading with + (Addition)\n",
    "\n",
    "class Point:\n",
    "    def __init__(self, x, y):\n",
    "        self.x = x\n",
    "        self.y = y\n",
    "\n",
    "    def __add__(self, other):\n",
    "        if isinstance(other, Point):\n",
    "            return Point(self.x + other.x, self.y + other.y)\n",
    "        elif isinstance(other, (int, float)):\n",
    "            return Point(self.x + other, self.y + other)\n",
    "        else:\n",
    "            raise ValueError(\"Unsupported operand type\")\n",
    "\n",
    "point1 = Point(1, 2)\n",
    "point2 = Point(3, 4)\n",
    "\n",
    "result_point = point1 + point2\n",
    "print(f\"Resultant Point: ({result_point.x}, {result_point.y})\")\n",
    "\n",
    "result_point_with_scalar = point1 + 5\n",
    "print(f\"Resultant Point with Scalar: ({result_point_with_scalar.x}, {result_point_with_scalar.y})\")"
   ]
  },
  {
   "cell_type": "code",
   "execution_count": 64,
   "id": "8dfd08f5-9b4e-4ece-a356-63376d172a0b",
   "metadata": {},
   "outputs": [
    {
     "name": "stdout",
     "output_type": "stream",
     "text": [
      "Resultant Vector: (4, 6)\n"
     ]
    }
   ],
   "source": [
    "#Example: Operator Overloading with * (Multiplication)\n",
    "\n",
    "class Vector:\n",
    "    def __init__(self, x, y):\n",
    "        self.x = x\n",
    "        self.y = y\n",
    "\n",
    "    def __mul__(self, scalar):\n",
    "        if isinstance(scalar, (int, float)):\n",
    "            return Vector(self.x * scalar, self.y * scalar)\n",
    "        else:\n",
    "            raise ValueError(\"Unsupported operand type\")\n",
    "\n",
    "vector = Vector(2, 3)\n",
    "\n",
    "result_vector = vector * 2\n",
    "print(f\"Resultant Vector: ({result_vector.x}, {result_vector.y})\")\n"
   ]
  },
  {
   "cell_type": "markdown",
   "id": "5608b949-f367-4e50-8415-89bb0584f365",
   "metadata": {},
   "source": [
    "16. What is dynamic polymorphism, and how is it achieved in Python?"
   ]
  },
  {
   "cell_type": "markdown",
   "id": "cd7a2918-2340-450a-a979-410034b5d718",
   "metadata": {},
   "source": [
    "Dynamic polymorphism, also known as runtime polymorphism, is a type of polymorphism where the actual method or operation that gets executed is determined at runtime which means a single interface can represent objects of different types, and the correct method to be called is resolved during program execution.\n",
    "\n",
    "In Python, dynamic polymorphism is achieved through method overriding and the use of abstract classes or interfaces."
   ]
  },
  {
   "cell_type": "markdown",
   "id": "80fd6e14-de98-423c-9d79-80a9fc958e42",
   "metadata": {},
   "source": [
    "17. Create a Python class hierarchy for employees in a company (e.g., manager, developer, designer) and implement polymorphism through a common \"calculate_salary()\" method."
   ]
  },
  {
   "cell_type": "code",
   "execution_count": 77,
   "id": "566b5fa4-3fd6-425e-a3f2-7fc01cc404a5",
   "metadata": {},
   "outputs": [],
   "source": [
    "class Employee:\n",
    "    \n",
    "    def __init__(self, profile, salary):\n",
    "        self.profile = profile\n",
    "        self.salary = salary\n",
    "        \n",
    "    def calculate_salary(self):\n",
    "        pass\n",
    "\n",
    "class Manager(Employee):\n",
    "    \n",
    "    def calculate_salary(self,basic):\n",
    "        self.basic = basic\n",
    "        self.salary = self.basic * self.salary\n",
    "        return f\"{self.profile}'s Salary is: {self.salary}\"\n",
    "\n",
    "class Developer(Employee):\n",
    "    \n",
    "    def calculate_salary(self,basic):\n",
    "        self.basic = basic\n",
    "        self.salary = self.basic * self.salary\n",
    "        return f\"{self.profile}'s Salary is: {self.salary}\"\n",
    "\n",
    "class Designer(Employee):\n",
    "    \n",
    "    def calculate_salary(self,basic):\n",
    "        self.basic = basic\n",
    "        self.salary = self.basic * self.salary\n",
    "        return f\"{self.profile}'s Salary is: {self.salary}\""
   ]
  },
  {
   "cell_type": "code",
   "execution_count": 78,
   "id": "5412d07e-b4ad-4113-984a-c20580fcca5a",
   "metadata": {},
   "outputs": [],
   "source": [
    "m = Manager(\"Manager\", 100)"
   ]
  },
  {
   "cell_type": "code",
   "execution_count": 79,
   "id": "30c8c426-735c-4f15-b12e-4d61b37234fa",
   "metadata": {},
   "outputs": [
    {
     "data": {
      "text/plain": [
       "\"Manager's Salary is: 10000\""
      ]
     },
     "execution_count": 79,
     "metadata": {},
     "output_type": "execute_result"
    }
   ],
   "source": [
    "m.calculate_salary(100)"
   ]
  },
  {
   "cell_type": "code",
   "execution_count": 80,
   "id": "79ddd4af-44d2-43c0-9f73-9b19c4eac989",
   "metadata": {},
   "outputs": [],
   "source": [
    "de = Developer(\"Developer\",10)"
   ]
  },
  {
   "cell_type": "code",
   "execution_count": 81,
   "id": "5a2c2643-e508-4e36-b764-094a178e158c",
   "metadata": {},
   "outputs": [
    {
     "data": {
      "text/plain": [
       "\"Developer's Salary is: 1000\""
      ]
     },
     "execution_count": 81,
     "metadata": {},
     "output_type": "execute_result"
    }
   ],
   "source": [
    "de.calculate_salary(100)"
   ]
  },
  {
   "cell_type": "code",
   "execution_count": 82,
   "id": "85485e39-ecf3-433e-a10d-66b535c860c8",
   "metadata": {},
   "outputs": [],
   "source": [
    "di = Designer(\"Designer\", 1)"
   ]
  },
  {
   "cell_type": "code",
   "execution_count": 83,
   "id": "30fb37dc-dbe1-41bd-b971-e61fe2de7c17",
   "metadata": {},
   "outputs": [
    {
     "data": {
      "text/plain": [
       "\"Designer's Salary is: 100\""
      ]
     },
     "execution_count": 83,
     "metadata": {},
     "output_type": "execute_result"
    }
   ],
   "source": [
    "di.calculate_salary(100)"
   ]
  },
  {
   "cell_type": "markdown",
   "id": "c2fa8387-8938-4b4d-a2a5-279897e86d23",
   "metadata": {},
   "source": [
    "18. Discuss the concept of function pointers and how they can be used to achieve polymorphism in Python."
   ]
  },
  {
   "cell_type": "markdown",
   "id": "22a04c42-dd85-4b77-bf85-278d4011024f",
   "metadata": {},
   "source": [
    "\n",
    "In Python, the concept of function pointers is not as explicit as it is in some other programming languages like C or C++. However, Python provides a way to achieve a similar effect using first-class functions, which are functions that can be treated as first-class citizens. This means they can be passed as arguments to other functions, returned as values from other functions, and assigned to variables.\n",
    "\n",
    "While Python does not have explicit function pointers, the use of first-class functions allows for the implementation of polymorphism by passing functions as arguments or storing them in data structures. This is commonly known as \"functional polymorphism\" or \"behavioral polymorphism.\""
   ]
  },
  {
   "cell_type": "markdown",
   "id": "d71c1579-7453-4827-ac29-b502535b6120",
   "metadata": {},
   "source": [
    "19. Explain the role of interfaces and abstract classes in polymorphism, drawing comparisons between them."
   ]
  },
  {
   "cell_type": "markdown",
   "id": "3704bd5e-a512-4607-8511-a5511249ab3c",
   "metadata": {},
   "source": [
    "Comparisons:\n",
    "1. Multiple Inheritance: Abstract classes support multiple inheritance, but it can lead to complications and the diamond problem while interfaces provide a cleaner way to achieve multiple inheritance without the ambiguity associated with the diamond problem.\n",
    "\n",
    "2. Method Implementation: Abstract classes can have both abstract and concrete methods while interfaces only contain abstract method declarations; concrete methods are not allowed.\n",
    "\n",
    "3. Flexibility: Abstract classes provide more flexibility in terms of defining a mix of abstract and concrete methods in a common base class while interfaces enforce a clearer separation between method declarations and implementations.\n",
    "\n",
    "4. Implementation Details: Abstract classes may include some implementation details in addition to declaring abstract methods while interfaces focus solely on method declarations without providing any implementation details"
   ]
  },
  {
   "cell_type": "markdown",
   "id": "1a67869b-0b24-4484-b0de-e2cc63d435e7",
   "metadata": {},
   "source": [
    "20. Create a Python class for a zoo simulation, demonstrating polymorphism with different animal types (e.g., mammals, birds, reptiles) and their behavior(eg. eating, sleeping, making sounds)"
   ]
  },
  {
   "cell_type": "code",
   "execution_count": 85,
   "id": "5c452469-f05f-4a9f-a464-25f088570db0",
   "metadata": {},
   "outputs": [
    {
     "name": "stdout",
     "output_type": "stream",
     "text": [
      "Mammals are sleeping\n",
      "Birds are maiking sounds\n",
      "Reptiles are eating\n"
     ]
    }
   ],
   "source": [
    "class Zoo:\n",
    "    \n",
    "    def behavior(self):\n",
    "        pass\n",
    "    \n",
    "class Mammals(Zoo):\n",
    "    \n",
    "    def behavior(self):\n",
    "        print(\"Mammals are sleeping\")\n",
    "        \n",
    "class Birds(Zoo):\n",
    "    \n",
    "    def behavior(self):\n",
    "        print(\"Birds are maiking sounds\")\n",
    "        \n",
    "class Reptiles(Zoo):\n",
    "    \n",
    "    def behavior(self):\n",
    "        print(\"Reptiles are eating\")\n",
    "        \n",
    "Lion = Mammals()\n",
    "Lion.behavior()\n",
    "\n",
    "Toucan = Birds()\n",
    "Toucan.behavior()\n",
    "\n",
    "Snake = Reptiles()\n",
    "Snake.behavior()"
   ]
  },
  {
   "cell_type": "markdown",
   "id": "3ee162e7-a7ba-414a-8fc6-a60f4fc443ab",
   "metadata": {},
   "source": [
    "Abstraction:"
   ]
  },
  {
   "cell_type": "markdown",
   "id": "d0569e8a-c775-4490-b847-6213bc7b1a3e",
   "metadata": {},
   "source": [
    "1. What is abstraction in Python, and how does it relate to object-oriented programming?"
   ]
  },
  {
   "cell_type": "markdown",
   "id": "08deda65-54ff-4237-9e30-11a3e41ddd4e",
   "metadata": {},
   "source": [
    "Abstraction is a fundamental concept in object-oriented programming (OOP) that involves simplifying complex systems by modeling classes based on the essential properties and behaviors they share.\n",
    "\n",
    "Abstraction in Python, as in other object-oriented languages, allows developers to model real-world entities, relationships, and behaviors in a way that is both intuitive and manageable. By abstracting away unnecessary details, developers can create modular, reusable, and maintainable code that represents the essential aspects of a system."
   ]
  },
  {
   "cell_type": "markdown",
   "id": "32761150-c07e-4efc-a85a-fb5206044e32",
   "metadata": {},
   "source": [
    "2. Describe the benefits of abstraction in terms of code organization and complexity reduction."
   ]
  },
  {
   "cell_type": "markdown",
   "id": "88a94adf-6184-44c7-ae78-466ba32a2ea5",
   "metadata": {},
   "source": [
    "Benefits of abstraction in terms of code organization:\n",
    "1. Abstraction allows developers to focus on essential aspects of a system while hiding unnecessary details. This simplification of complexity makes code more understandable and manageable.\n",
    "2. Abstraction promotes the creation of modular code, where different components of a system are encapsulated within separate units (classes or modules).\n",
    "3. Abstraction encourages the creation of reusable components that can be easily integrated into different parts of a system.\n",
    "4. Abstraction provides a foundation for building scalable systems. As the system grows, new functionalities can be added by extending existing abstractions or creating new ones.\n",
    "\n",
    "Benefits of abstraction in terms of complexity reduction:\n",
    "1. Abstraction allows developers to focus on essential details while hiding unnecessary complexities.\n",
    "2. By encapsulating implementation details within well-defined abstractions (such as classes or modules), abstraction shields developers from the complexity of internal workings.\n",
    "3. Abstraction helps in hiding the low-level implementation details, allowing developers to work with higher-level concepts.\n",
    "4. Abstraction promotes a clear separation between high-level concepts and implementation details, making it easier for developers to understand and reason about a system.\n"
   ]
  },
  {
   "cell_type": "markdown",
   "id": "35ccbcf8-8756-449b-abb0-e7b981a992c5",
   "metadata": {},
   "source": [
    "3. Create a Python class called `Shape` with an abstract method `calculate_area()`. Then, create child classes (e.g., `Circle`, `Rectangle`) that implement the `calculate_area()` method. Provide an example of\n",
    "using these classes."
   ]
  },
  {
   "cell_type": "code",
   "execution_count": 5,
   "id": "b5513775-5286-4662-91c3-44a0d1085a7d",
   "metadata": {},
   "outputs": [],
   "source": [
    "from abc import ABC, abstractmethod\n",
    "\n",
    "class Shape:\n",
    "    \n",
    "    @abstractmethod\n",
    "    def calculate_area(self):\n",
    "        pass\n",
    "    \n",
    "class Circle(Shape):\n",
    "    \n",
    "    def __init__(self, radius):\n",
    "        self.radius = radius\n",
    "        \n",
    "    def calculate_area(self):\n",
    "        return \"Area of the circle is:\", 3.14 * (self.radius **2)\n",
    "        \n",
    "class Square(Shape):\n",
    "    \n",
    "    def __init__(self, side):\n",
    "        self.side = side\n",
    "        \n",
    "    def calculate_area(self):\n",
    "        print(\"Area of the Square is:\", self.side **2)\n",
    "    \n",
    "class Triangle(Shape):\n",
    "    \n",
    "    def __init__(self, width, height):\n",
    "        self.width = width\n",
    "        self.height = height\n",
    "        \n",
    "    def calculate_area(self):\n",
    "        return \"Area of the triangle is:\", 0.5 * self.width * self.height\n"
   ]
  },
  {
   "cell_type": "code",
   "execution_count": 6,
   "id": "adfa1dd0-e02a-4505-ae43-a11990fc2018",
   "metadata": {},
   "outputs": [
    {
     "data": {
      "text/plain": [
       "('Area of the triangle is:', 6.0)"
      ]
     },
     "execution_count": 6,
     "metadata": {},
     "output_type": "execute_result"
    }
   ],
   "source": [
    "t = Triangle(3,4)\n",
    "t.calculate_area()"
   ]
  },
  {
   "cell_type": "code",
   "execution_count": 7,
   "id": "547893e6-b5ac-49b1-8fcb-0c196bca4c60",
   "metadata": {},
   "outputs": [
    {
     "name": "stdout",
     "output_type": "stream",
     "text": [
      "Area of the Square is: 36\n"
     ]
    }
   ],
   "source": [
    "s = Square(6)\n",
    "s.calculate_area()"
   ]
  },
  {
   "cell_type": "code",
   "execution_count": 8,
   "id": "1e70e613-6f3b-4590-836e-51c4cc71e8e6",
   "metadata": {},
   "outputs": [
    {
     "data": {
      "text/plain": [
       "('Area of the circle is:', 28.26)"
      ]
     },
     "execution_count": 8,
     "metadata": {},
     "output_type": "execute_result"
    }
   ],
   "source": [
    "r = Circle(3)\n",
    "r.calculate_area()"
   ]
  },
  {
   "cell_type": "markdown",
   "id": "1be208fd-a972-44f2-b40b-ae34cf8bfca9",
   "metadata": {},
   "source": [
    "4. Explain the concept of abstract classes in Python and how they are defined using the `abc` module. Provide\n",
    "an example."
   ]
  },
  {
   "cell_type": "markdown",
   "id": "f360caf2-e552-427f-bf55-eefae9a473d1",
   "metadata": {},
   "source": [
    "Abstract classes in Python are classes that cannot be instantiated and may contain one or more abstract methods.Abstract classes are often used to define a common interface for a group of related classes, ensuring that each subclass provides a specific set of methods.\n",
    "\n",
    "The abc module (Abstract Base Classes) in Python provides a mechanism for defining abstract classes and abstract methods. Abstract classes are created by inheriting from the ABC class, and abstract methods are declared using the @abstractmethod decorator."
   ]
  },
  {
   "cell_type": "code",
   "execution_count": 10,
   "id": "ec2fa920-efb1-4d74-acec-338813a0e36e",
   "metadata": {},
   "outputs": [
    {
     "name": "stdout",
     "output_type": "stream",
     "text": [
      "Mammals are sleeping\n",
      "Birds are maiking sounds\n",
      "Reptiles are eating\n"
     ]
    }
   ],
   "source": [
    "from abc import ABC, abstractmethod\n",
    "\n",
    "class Zoo:\n",
    "    \n",
    "    @abstractmethod\n",
    "    def behavior(self):\n",
    "        pass\n",
    "    \n",
    "class Mammals(Zoo):\n",
    "    \n",
    "    def behavior(self):\n",
    "        print(\"Mammals are sleeping\")\n",
    "        \n",
    "class Birds(Zoo):\n",
    "    \n",
    "    def behavior(self):\n",
    "        print(\"Birds are maiking sounds\")\n",
    "        \n",
    "class Reptiles(Zoo):\n",
    "    \n",
    "    def behavior(self):\n",
    "        print(\"Reptiles are eating\")\n",
    "        \n",
    "Lion = Mammals()\n",
    "Lion.behavior()\n",
    "\n",
    "Toucan = Birds()\n",
    "Toucan.behavior()\n",
    "\n",
    "Snake = Reptiles()\n",
    "Snake.behavior()"
   ]
  },
  {
   "cell_type": "markdown",
   "id": "4e02f79c-88d5-4e37-a880-462afc9bc309",
   "metadata": {},
   "source": [
    "5. How do abstract classes differ from regular classes in Python? Discuss their use cases."
   ]
  },
  {
   "cell_type": "markdown",
   "id": "3c412377-8c52-4bc2-af7b-efea669a2a0c",
   "metadata": {},
   "source": [
    "Difference between abstract classes and regular classes in Python:\n",
    "1. Abstract classes cannot be instantiated directly. They serve as a blueprint for other classes and must be subclassed whereas Regular classes can be instantiated directly. They represent concrete objects and may or may not have concrete implementations for all methods.\n",
    "2. Abstract classes can contain abstract methods, which are declared but not implemented in the abstract class itself whereas Regular classes can have both abstract and concrete methods. They provide full implementations for concrete methods and may also include abstract methods if needed.\n",
    "\n",
    "Use Case Scenarios:\n",
    "\n",
    "Abstract Classes: We use abstract classes when you want to define a common set of methods that should be implemented by multiple subclasses.\n",
    "\n",
    "Regular Classes: We useUse regular classes when you want to create instances of concrete objects with well-defined behaviors."
   ]
  },
  {
   "cell_type": "markdown",
   "id": "71f49f5d-9d7e-46a9-9ffc-0e88600dd09e",
   "metadata": {},
   "source": [
    "6. Create a Python class for a bank account and demonstrate abstraction by hiding the account balance and\n",
    "providing methods to deposit and withdraw funds."
   ]
  },
  {
   "cell_type": "code",
   "execution_count": 13,
   "id": "49dd958c-2e13-456b-8f1f-98705d5f2d3f",
   "metadata": {},
   "outputs": [
    {
     "name": "stdout",
     "output_type": "stream",
     "text": [
      "Balance after the deposit is:  1500\n"
     ]
    },
    {
     "data": {
      "text/plain": [
       "('Balance after the withdrawal is: ', 700)"
      ]
     },
     "execution_count": 13,
     "metadata": {},
     "output_type": "execute_result"
    }
   ],
   "source": [
    "class BankAccount:\n",
    "    \n",
    "    def __init__(self, balance):\n",
    "        self.__balance = balance\n",
    "        \n",
    "    def deposit(self, deposit):\n",
    "        self.deposit = deposit\n",
    "        self.__balance = self.__balance + self.deposit\n",
    "        print(\"Balance after the deposit is: \", self.__balance)\n",
    "        \n",
    "    def withdrawal(self, withdrawal):\n",
    "        self.withdrawal = withdrawal\n",
    "        self.__balance = self.__balance - self.withdrawal\n",
    "        return \"Balance after the withdrawal is: \", self.__balance\n",
    "    \n",
    "rish = BankAccount(1000)\n",
    "rish.deposit(500)\n",
    "rish.withdrawal(800)"
   ]
  },
  {
   "cell_type": "markdown",
   "id": "6c822f51-c322-4ab8-accd-7c6dc362d588",
   "metadata": {},
   "source": [
    "7. Discuss the concept of interface classes in Python and their role in achieving abstraction."
   ]
  },
  {
   "cell_type": "markdown",
   "id": "e200b7de-2a39-48b1-a5d6-f5a9a8dce7df",
   "metadata": {},
   "source": [
    "In Python, interface classes are classes that declare a set of methods but do not provide any implementation for those methods. The purpose of an interface is to define a contract that concrete classes must adhere to by implementing the specified methods.\n",
    "\n",
    "Interface role in achieving abstraction through:\n",
    "1. Declaration of Methods\n",
    "2. Use of Abstract Classes\n",
    "3. Subclass Implementation\n",
    "4. Achieving Polymorphism"
   ]
  },
  {
   "cell_type": "markdown",
   "id": "efd466d8-ece9-41ef-b9e8-bba1be84e259",
   "metadata": {},
   "source": [
    "8. Create a Python class hierarchy for animals and implement abstraction by defining common methods (eg. eat(), sleep()) in an abstract base class"
   ]
  },
  {
   "cell_type": "code",
   "execution_count": 14,
   "id": "aa57be21-3477-47ca-a8cb-57facddf9cc1",
   "metadata": {},
   "outputs": [
    {
     "name": "stdout",
     "output_type": "stream",
     "text": [
      "Dog eats peddegree\n",
      "Dog sleeps for 12 hours\n",
      "Cat eats fish\n",
      "Cat sleeps for 16 hours\n"
     ]
    }
   ],
   "source": [
    "from abc import ABC, abstractmethod\n",
    "\n",
    "class Animals:\n",
    "    \n",
    "    @abstractmethod\n",
    "    def eat(self):\n",
    "        pass\n",
    "    @abstractmethod\n",
    "    def sleep(self):\n",
    "        pass\n",
    "    \n",
    "class Dogs(Animals):\n",
    "    \n",
    "    def eat(self):\n",
    "        print(\"Dog eats peddegree\")\n",
    "    \n",
    "    def sleep(self):\n",
    "        print(\"Dog sleeps for 12 hours\")\n",
    "        \n",
    "class Cats(Animals):\n",
    "    \n",
    "    def eat(self):\n",
    "        print(\"Cat eats fish\")\n",
    "    \n",
    "    def sleep(self):\n",
    "        print(\"Cat sleeps for 16 hours\")\n",
    "        \n",
    "a = Dogs()\n",
    "a.eat()\n",
    "a.sleep()\n",
    "\n",
    "b = Cats()\n",
    "b.eat()\n",
    "b.sleep()"
   ]
  },
  {
   "cell_type": "markdown",
   "id": "46ffe05a-3128-421d-b377-adf807c44b38",
   "metadata": {},
   "source": [
    "9. Explain the significance of encapsulation in achieving abstraction. Provide examples."
   ]
  },
  {
   "cell_type": "markdown",
   "id": "807d52b5-4778-47f2-9977-99e7cf3ee7e7",
   "metadata": {},
   "source": [
    "The significance of encapsulation lies in its ability to hide the internal details of an object and expose a controlled interface, promoting information hiding and abstraction."
   ]
  },
  {
   "cell_type": "code",
   "execution_count": 16,
   "id": "9528edbd-415b-4968-8714-ace5c1acb9f0",
   "metadata": {},
   "outputs": [
    {
     "name": "stdout",
     "output_type": "stream",
     "text": [
      "Balance after the deposit is:  1500\n"
     ]
    },
    {
     "data": {
      "text/plain": [
       "('Balance after the withdrawal is: ', 700)"
      ]
     },
     "execution_count": 16,
     "metadata": {},
     "output_type": "execute_result"
    }
   ],
   "source": [
    "from abc import ABC, abstractmethod\n",
    "\n",
    "class BankAccount:\n",
    "    \n",
    "    @abstractmethod\n",
    "    def __init__(self, balance):\n",
    "        self.__balance = balance\n",
    "        \n",
    "    def deposit(self, deposit):\n",
    "        self.deposit = deposit\n",
    "        self.__balance = self.__balance + self.deposit\n",
    "        print(\"Balance after the deposit is: \", self.__balance)\n",
    "        \n",
    "    def withdrawal(self, withdrawal):\n",
    "        self.withdrawal = withdrawal\n",
    "        self.__balance = self.__balance - self.withdrawal\n",
    "        return \"Balance after the withdrawal is: \", self.__balance\n",
    "    \n",
    "rish = BankAccount(1000)\n",
    "rish.deposit(500)\n",
    "rish.withdrawal(800)"
   ]
  },
  {
   "cell_type": "markdown",
   "id": "fea5b6ee-9153-482c-83c2-c1b7e50f61cf",
   "metadata": {},
   "source": [
    "10. What is the purpose of abstract methods, and how do they enforce abstraction in Python classes?"
   ]
  },
  {
   "cell_type": "markdown",
   "id": "bcaa7573-566c-4b9e-b86c-327568735145",
   "metadata": {},
   "source": [
    "Abstract methods in Python serve the purpose of defining a method signature in an abstract class without providing an actual implementation. They play a key role in enforcing abstraction by creating a contract that concrete subclasses must adhere to.\n",
    "\n",
    "Abstract methods enforce abstraction in Python classes through:\n",
    "1. Declaration in Abstract Classes\n",
    "2. Requirement for Concrete Subclasses\n",
    "3. TypeError for Unimplemented Methods\n",
    "4. Consistent Interface:\n",
    "5. Promotion of Abstraction"
   ]
  },
  {
   "cell_type": "markdown",
   "id": "f26b9857-db0a-4770-adb5-582b6ade248e",
   "metadata": {},
   "source": [
    "11. Create a Python class for a vehicle system and demonstrate abstraction by defining common methods (eg. start(), stop()) in an abstract base class."
   ]
  },
  {
   "cell_type": "code",
   "execution_count": 17,
   "id": "66fd2598-57ee-4db1-bcee-3e9f97e960e4",
   "metadata": {},
   "outputs": [],
   "source": [
    "class Vehicle(ABC):\n",
    "    @abstractmethod\n",
    "    def start(self):\n",
    "        pass\n",
    "\n",
    "    @abstractmethod\n",
    "    def stop(self):\n",
    "        pass\n",
    "\n",
    "class Car(Vehicle):\n",
    "    def start(self):\n",
    "        print(\"Car started\")\n",
    "\n",
    "    def stop(self):\n",
    "        print(\"Car stopped\")\n",
    "\n",
    "class Bicycle(Vehicle):\n",
    "    def start(self):\n",
    "        print(\"Bicycle started\")\n",
    "\n",
    "    def stop(self):\n",
    "        print(\"Bicycle stopped\")"
   ]
  },
  {
   "cell_type": "code",
   "execution_count": 18,
   "id": "8b18b46d-aba3-4d6b-bf9f-3ef9281ee352",
   "metadata": {},
   "outputs": [
    {
     "name": "stdout",
     "output_type": "stream",
     "text": [
      "Car started\n",
      "Car stopped\n"
     ]
    }
   ],
   "source": [
    "c = Car()\n",
    "c.start()\n",
    "c.stop()"
   ]
  },
  {
   "cell_type": "code",
   "execution_count": 19,
   "id": "65e15cf7-c51f-4ca8-aa6d-fe3a8f8d412d",
   "metadata": {},
   "outputs": [
    {
     "name": "stdout",
     "output_type": "stream",
     "text": [
      "Bicycle started\n",
      "Bicycle stopped\n"
     ]
    }
   ],
   "source": [
    "b = Bicycle()\n",
    "b.start()\n",
    "b.stop()"
   ]
  },
  {
   "cell_type": "markdown",
   "id": "6a31ab15-4b32-4195-94ca-368d874e9b38",
   "metadata": {},
   "source": [
    "12. Describe the use of abstract properties in Python and how they can be employed in abstract classes."
   ]
  },
  {
   "cell_type": "markdown",
   "id": "03f93a5e-84ef-4af6-8c49-27af0459d7b2",
   "metadata": {},
   "source": [
    "Abstract properties in Python are a way to define abstract attributes in abstract classes. Similar to abstract methods, abstract properties declare the existence of certain attributes without providing an implementation.\n",
    "\n",
    "Abstract properties are declared using the @property decorator along with the @abstractmethod decorator in abstract classes."
   ]
  },
  {
   "cell_type": "markdown",
   "id": "798b577b-d4f7-4d93-8906-87909d8587e1",
   "metadata": {},
   "source": [
    "13. Create a Python class hierarchy for employees in a company (e.g., manager, developer, designer) and implement abstraction by defining a common 'get_salary()' method."
   ]
  },
  {
   "cell_type": "code",
   "execution_count": 20,
   "id": "f9f5074c-d36d-44c6-ba52-2e02bdec107b",
   "metadata": {},
   "outputs": [],
   "source": [
    "from abc import ABC, abstractmethod\n",
    "\n",
    "class Employee:\n",
    "    \n",
    "    @abstractmethod\n",
    "    def __init__(self, profile, salary):\n",
    "        self.profile = profile\n",
    "        self.salary = salary\n",
    "       \n",
    "    @abstractmethod\n",
    "    def get_salary(self):\n",
    "        pass\n",
    "\n",
    "class Manager(Employee):\n",
    "    \n",
    "    def get_salary(self,basic):\n",
    "        self.basic = basic\n",
    "        self.salary = self.basic * self.salary\n",
    "        return f\"{self.profile}'s Salary is: {self.salary}\"\n",
    "\n",
    "class Developer(Employee):\n",
    "    \n",
    "    def get_salary(self,basic):\n",
    "        self.basic = basic\n",
    "        self.salary = self.basic * self.salary\n",
    "        return f\"{self.profile}'s Salary is: {self.salary}\"\n",
    "\n",
    "class Designer(Employee):\n",
    "    \n",
    "    def get_salary(self,basic):\n",
    "        self.basic = basic\n",
    "        self.salary = self.basic * self.salary\n",
    "        return f\"{self.profile}'s Salary is: {self.salary}\""
   ]
  },
  {
   "cell_type": "code",
   "execution_count": 21,
   "id": "4acbd2ad-67de-4321-966a-4ab6fd7f902a",
   "metadata": {},
   "outputs": [
    {
     "data": {
      "text/plain": [
       "\"Manager's Salary is: 10000\""
      ]
     },
     "execution_count": 21,
     "metadata": {},
     "output_type": "execute_result"
    }
   ],
   "source": [
    "m = Manager(\"Manager\", 100)\n",
    "m.get_salary(100)"
   ]
  },
  {
   "cell_type": "code",
   "execution_count": 22,
   "id": "0d456742-4f42-4730-a64f-04573934284f",
   "metadata": {},
   "outputs": [
    {
     "data": {
      "text/plain": [
       "\"Developer's Salary is: 1000\""
      ]
     },
     "execution_count": 22,
     "metadata": {},
     "output_type": "execute_result"
    }
   ],
   "source": [
    "de = Developer(\"Developer\", 100)\n",
    "de.get_salary(10)"
   ]
  },
  {
   "cell_type": "code",
   "execution_count": 23,
   "id": "50b32190-957b-497a-bbc8-775d168f6374",
   "metadata": {},
   "outputs": [
    {
     "data": {
      "text/plain": [
       "\"Designer's Salary is: 100\""
      ]
     },
     "execution_count": 23,
     "metadata": {},
     "output_type": "execute_result"
    }
   ],
   "source": [
    "di = Designer(\"Designer\", 100)\n",
    "di.get_salary(1)"
   ]
  },
  {
   "cell_type": "markdown",
   "id": "258e0b55-0829-4b01-ba3e-b2204112575d",
   "metadata": {},
   "source": [
    "14. Discuss the differences between abstract classes and concrete classes in Python, including their\n",
    "instantiation."
   ]
  },
  {
   "cell_type": "markdown",
   "id": "b47171c4-dd0e-4a96-8b29-94b7c5e84b2d",
   "metadata": {},
   "source": [
    "Difference between abstract classes and regular classes in Python:\n",
    "\n",
    "1. Instantiation: Abstract classes cannot be instantiated directly. They serve as a blueprint for other classes and must be subclassed whereas Regular classes can be instantiated directly. They represent concrete objects and may or may not have concrete implementations for all methods.\n",
    "2. Method Implementations: Abstract classes may contain abstract methods, which are declared but not implemented in the abstract class whereas Concrete classes provide full implementations for all methods, including concrete methods.\n",
    "3. Use cases: Abstract classes are used to define a common interface or set of methods that should be implemented by all subclasses whereas Concrete classes are used to create objects with well-defined behaviors and attributes."
   ]
  },
  {
   "cell_type": "markdown",
   "id": "f2f61d61-f469-49d6-b61c-13e5d501c086",
   "metadata": {},
   "source": [
    "15. Explain the concept of abstract data types (ADTs) and their role in achieving abstraction in Python."
   ]
  },
  {
   "cell_type": "markdown",
   "id": "5b1f1a53-2739-4b4d-b154-5ecf6d8f8cfd",
   "metadata": {},
   "source": [
    "Abstract Data Types (ADTs) are a conceptual framework that represents a set of data and operations on that data without specifying the underlying implementation details. ADTs provide a high-level description of data structures and their associated operations, focusing on what operations are possible and what they accomplish rather than how they are implemented.\n",
    "\n",
    "ADTs helps in achieving abstraction in Python through:\n",
    "1. Separation of Concerns: ADTs separate the specification of data structures and operations from their implementation.\n",
    "2. Defined Operations: ADTs define a set of operations that can be performed on the data, such as inserting, deleting, searching, and updating elements. \n",
    "3. Flexibility: The abstraction provided by ADTs promotes flexibility. Developers can switch between different implementations of the same ADT without affecting the code that uses it.\n",
    "4. Standardization: ADTs provide a standardized way of describing and using common data structures."
   ]
  },
  {
   "cell_type": "markdown",
   "id": "244e1585-ff24-4d86-bf9e-4884a3a27b58",
   "metadata": {},
   "source": [
    "16. Create a Python class for a computer system, demonstrating abstraction by defining common methods (eg. 'power_on()', 'shutdown()') in an abstract base class."
   ]
  },
  {
   "cell_type": "code",
   "execution_count": 24,
   "id": "3c2fa813-7ca1-41c2-b59f-3c32e82cbea5",
   "metadata": {},
   "outputs": [],
   "source": [
    "from abc import ABC, abstractmethod\n",
    "\n",
    "class ComputerSystem(ABC):\n",
    "    @abstractmethod\n",
    "    def power_on(self):\n",
    "        pass\n",
    "\n",
    "    @abstractmethod\n",
    "    def shutdown(self):\n",
    "        pass\n",
    "\n",
    "class Desktop(ComputerSystem):\n",
    "    def power_on(self):\n",
    "        print(\"Desktop is Powering on\")\n",
    "\n",
    "    def shutdown(self):\n",
    "        print(\"Desktop is Shutting down\")\n",
    "\n",
    "class Laptop(ComputerSystem):\n",
    "    def power_on(self):\n",
    "        print(\"Laptop is Powering on\")\n",
    "\n",
    "    def shutdown(self):\n",
    "        print(\"Laptop is Shutting down\")"
   ]
  },
  {
   "cell_type": "code",
   "execution_count": 25,
   "id": "e15de870-d3b9-4d88-8ddf-867e9186ca06",
   "metadata": {},
   "outputs": [],
   "source": [
    "dell = Desktop()"
   ]
  },
  {
   "cell_type": "code",
   "execution_count": 26,
   "id": "76f9508a-b656-474e-8957-df19615a01b0",
   "metadata": {},
   "outputs": [
    {
     "name": "stdout",
     "output_type": "stream",
     "text": [
      "Desktop is Powering on\n",
      "Desktop is Shutting down\n"
     ]
    }
   ],
   "source": [
    "dell.power_on()\n",
    "dell.shutdown()"
   ]
  },
  {
   "cell_type": "code",
   "execution_count": 27,
   "id": "35ac9185-f659-4dcd-bfe3-ed745e051d05",
   "metadata": {},
   "outputs": [],
   "source": [
    "mac = Laptop()"
   ]
  },
  {
   "cell_type": "code",
   "execution_count": 28,
   "id": "c28b4656-0974-4e1d-9e68-464ad5b5ed71",
   "metadata": {},
   "outputs": [
    {
     "name": "stdout",
     "output_type": "stream",
     "text": [
      "Laptop is Powering on\n",
      "Laptop is Shutting down\n"
     ]
    }
   ],
   "source": [
    "mac.power_on()\n",
    "mac.shutdown()"
   ]
  },
  {
   "cell_type": "markdown",
   "id": "1d495ad4-7e31-4ef3-963c-febf777ae498",
   "metadata": {},
   "source": [
    "17. Discuss the benefits of using abstraction in large-scale software development projects."
   ]
  },
  {
   "cell_type": "markdown",
   "id": "05dd0ef0-cf87-46c3-9a0a-bc73f74d47d7",
   "metadata": {},
   "source": [
    "Benefits of using abstraction in large-scale software development projects are:\n",
    "1. Abstraction allows developers to break down a large system into smaller, more manageable modules or components.\n",
    "2. Abstraction enhances maintainability by providing a clear separation between high-level concepts and implementation details\n",
    "3. Abstraction improves documentation and communication by providing a clear and standardized way to describe the interfaces and functionalities of components\n",
    "4. Abstraction helps manage the cognitive load on developers by allowing them to work with high-level concepts and interfaces.\n",
    "5. Abstraction promotes the creation of reusable components and libraries."
   ]
  },
  {
   "cell_type": "markdown",
   "id": "5478ad8a-d4f0-4f14-9247-210c7aa5ea47",
   "metadata": {},
   "source": [
    "18. Explain how abstraction enhances code reusability and modularity in Python programs."
   ]
  },
  {
   "cell_type": "markdown",
   "id": "b27f8dc8-62b6-4f2b-97e5-61d97c8712ca",
   "metadata": {},
   "source": [
    "In terms of code reusability:\n",
    "1. Abstraction promotes the creation of reusable components and libraries.\n",
    "2. Abstract classes, interfaces, and functions with well-defined interfaces can be reused across different parts of the system or in different projects.\n",
    "3. Code reusability reduces redundancy, speeds up development, and ensures consistency in similar functionalities.\n",
    "\n",
    "In terms of modularity:\n",
    "1. Abstraction allows developers to break down a large system into smaller, more manageable modules or components.\n",
    "2. Each module focuses on a specific functionality, and the details of the implementation are hidden from the rest of the system.\n",
    "3. Modularity simplifies the development process, making it easier to understand, test, and maintain individual components."
   ]
  },
  {
   "cell_type": "markdown",
   "id": "8270ac3c-0112-4e53-8360-2561e2b756c7",
   "metadata": {},
   "source": [
    "19. Create a Python class for a library system, implementing abstraction by defining common methods (e.g., 'add_book()', 'borrow_book()') in an abstract class."
   ]
  },
  {
   "cell_type": "code",
   "execution_count": 31,
   "id": "56141a87-16a8-4ac8-b7ae-04d851f7b3f8",
   "metadata": {},
   "outputs": [],
   "source": [
    "from abc import ABC, abstractmethod\n",
    "\n",
    "class Library_System:\n",
    "    \n",
    "    @abstractmethod\n",
    "    def add_book(self):\n",
    "        pass\n",
    "     \n",
    "    @abstractmethod\n",
    "    def borrow_book(self):\n",
    "        pass\n",
    "\n",
    "class Central_Library(Library_System):\n",
    "    \n",
    "    def add_book(self):\n",
    "        print(\"Hamlet is added to the central library\")\n",
    "     \n",
    "    def borrow_book(self):\n",
    "        print(\"Emma is borrowed to the central library\")\n",
    "        \n",
    "class Local_Library(Library_System):\n",
    "    \n",
    "    def add_book(self):\n",
    "        print(\"Night is added to the local library\")\n",
    "     \n",
    "    def borrow_book(self):\n",
    "        print(\"Circle is borrowed to the local library\")"
   ]
  },
  {
   "cell_type": "code",
   "execution_count": 32,
   "id": "801bc33d-406a-4f84-b690-6b939f935df4",
   "metadata": {},
   "outputs": [
    {
     "name": "stdout",
     "output_type": "stream",
     "text": [
      "Hamlet is added to the central library\n",
      "Emma is borrowed to the central library\n"
     ]
    }
   ],
   "source": [
    "c = Central_Library()\n",
    "c.add_book()\n",
    "c.borrow_book()"
   ]
  },
  {
   "cell_type": "code",
   "execution_count": 33,
   "id": "c0285338-3417-45db-b51b-41c01c858ebe",
   "metadata": {},
   "outputs": [
    {
     "name": "stdout",
     "output_type": "stream",
     "text": [
      "Night is added to the local library\n",
      "Circle is borrowed to the local library\n"
     ]
    }
   ],
   "source": [
    "l = Local_Library()\n",
    "l.add_book()\n",
    "l.borrow_book()"
   ]
  },
  {
   "cell_type": "markdown",
   "id": "20c22f32-b976-44e4-891e-3a3cbe3b9e07",
   "metadata": {},
   "source": [
    "20. Describe the concept of method abstraction in Python and how it relates to polymorphism."
   ]
  },
  {
   "cell_type": "markdown",
   "id": "d0680f51-f6bb-4703-afe6-fa600f94297a",
   "metadata": {},
   "source": [
    "Method abstraction in Python refers to the practice of creating abstract methods within a class that define a common interface without providing specific implementations. Abstract methods act as placeholders for functionality that must be implemented by concrete subclasses.\n",
    "\n",
    "This concept is closely related to polymorphism, as it allows objects of different classes to be treated uniformly based on a shared interface. Concrete subclasses provide their own implementations for these abstract methods, allowing objects of different types to be treated uniformly through polymorphism."
   ]
  },
  {
   "cell_type": "markdown",
   "id": "fbc9d4fe-5d3b-4d3e-ad17-940a9fe1bd8d",
   "metadata": {},
   "source": [
    "Composition:"
   ]
  },
  {
   "cell_type": "markdown",
   "id": "0842b9d0-e7f4-410f-b762-f767fbe1b80f",
   "metadata": {},
   "source": [
    "1. Explain the concept of composition in Python and how it is used to build complex objects from simpler ones."
   ]
  },
  {
   "cell_type": "markdown",
   "id": "47966157-3cd4-4ed3-88cc-bca112e22319",
   "metadata": {},
   "source": [
    "Composition is a design principle that allows you to build complex objects by combining simpler ones. It is an alternative to inheritance and involves creating relationships between classes by embedding one or more objects within another.\n",
    "\n",
    "Composition is often considered more flexible than inheritance because it allows you to change the behavior of a class by modifying its components or by replacing them with different ones."
   ]
  },
  {
   "cell_type": "markdown",
   "id": "98e4ded1-d0b4-4b59-972d-bb91a19425e9",
   "metadata": {},
   "source": [
    "2. Describe the difference between composition and inheritance in object-oriented programming."
   ]
  },
  {
   "cell_type": "markdown",
   "id": "d8092c2f-13d3-418d-ab29-798b3f0fc346",
   "metadata": {},
   "source": [
    "Difference between composition and inheritance in object-oriented programming are:\n",
    "1. Relationship Type: Inheritance is an \"is-a\" relationship, where a class (subclass or derived class) inherits the properties and behaviors of another class (superclass or base class) whereas Composition is a \"has-a\" relationship, where a class is composed of one or more instances of other classes.\n",
    "2. Code Reusability: Code reuse is achieved by inheriting attributes and behaviors from a base class whereas  Code reuse is achieved by composing objects from other classes. \n",
    "3. Flexibility:  Inheritance creates a tight coupling between the subclass and superclass, making it less flexible when requirements change whereas Composition promotes loose coupling between classes. \n",
    "4. Runtime Behavior:  Inheritance determines the runtime behavior of objects based on their class hierarchy whereas Runtime behavior is determined by the interactions between objects and their components. "
   ]
  },
  {
   "cell_type": "markdown",
   "id": "d37faa61-ab26-455b-8dbc-86d101218321",
   "metadata": {},
   "source": [
    "3. Create a Python class called `Author` with attributes for name and birthdate. Then, create a `Book` class\n",
    "that contains an instance of `Author` as a composition. Provide an example of creating a `Book` object."
   ]
  },
  {
   "cell_type": "code",
   "execution_count": 31,
   "id": "9676d194-c368-414f-aa9a-eb246e0a2bfa",
   "metadata": {},
   "outputs": [],
   "source": [
    "class Author:\n",
    "    \n",
    "    def __init__(self, name, location):\n",
    "        self.name = name\n",
    "        self.location = location\n",
    "        \n",
    "class Book:\n",
    "    \n",
    "    def __init__(self, title, author):\n",
    "        self.title = title\n",
    "        self.author = author\n",
    "        \n",
    "    def display_info(self):\n",
    "        print(f\"Title of the book: {self.title}\")\n",
    "        print(f\"Author's name: {self.author.name}\")\n",
    "        print(f\"Author's location: {self.author.location}\")\n",
    "        "
   ]
  },
  {
   "cell_type": "code",
   "execution_count": 32,
   "id": "8a553896-3342-4cf3-a050-f82384d8131e",
   "metadata": {},
   "outputs": [],
   "source": [
    "author = Author(\"Jane Austen\", \"Winchester\")"
   ]
  },
  {
   "cell_type": "code",
   "execution_count": 33,
   "id": "624524eb-ba88-4d28-b933-d21317dfefef",
   "metadata": {},
   "outputs": [],
   "source": [
    "rish = Book(\"Emma\", author)"
   ]
  },
  {
   "cell_type": "code",
   "execution_count": 34,
   "id": "fb3b4e8c-fadb-40fc-a2a6-ef501b1aa7e0",
   "metadata": {},
   "outputs": [
    {
     "name": "stdout",
     "output_type": "stream",
     "text": [
      "Title of the book: Emma\n",
      "Author's name: Jane Austen\n",
      "Author's location: Winchester\n"
     ]
    }
   ],
   "source": [
    "rish.display_info()"
   ]
  },
  {
   "cell_type": "markdown",
   "id": "a5768fca-5a09-4df3-9d2c-c2f3adc44fb5",
   "metadata": {},
   "source": [
    "4. Discuss the benefits of using composition over inheritance in Python, especially in terms of code flexibility\n",
    "and reusability."
   ]
  },
  {
   "cell_type": "markdown",
   "id": "f1db8694-b473-4e32-b668-ad7ac4d8f9e3",
   "metadata": {},
   "source": [
    "In terms of code flexibility: Composition promotes a more flexible and loosely coupled design. Objects can be composed of other objects without the need for a rigid class hierarchy whereas Inheritance creates a tight coupling between the subclass and its superclass. Changes in the superclass can have unintended consequences on the subclass, making the code more rigid.\n",
    "\n",
    "In terms of code flexibility and reusability: In composition, code reuse is achieved by composing objects from different classes, allowing for more modular and reusable components. You can change or add behavior by combining different components whereas in inheritance, Code reuse is achieved by inheriting from a common base class. While this can lead to code reuse, it may also result in a less flexible and more tightly coupled design."
   ]
  },
  {
   "cell_type": "markdown",
   "id": "b7c2c866-1285-4fda-b111-22cc1729ad48",
   "metadata": {},
   "source": [
    "5. How can you implement composition in Python classes? Provide examples of using composition to create\n",
    "complex objects."
   ]
  },
  {
   "cell_type": "markdown",
   "id": "ba9b5c21-0e60-47a4-9bf4-af44057a3f74",
   "metadata": {},
   "source": [
    "Composition in Python involves creating complex objects by combining multiple simpler objects. This is typically achieved by including instances of other classes as attributes within a class."
   ]
  },
  {
   "cell_type": "code",
   "execution_count": 35,
   "id": "dcd35612-0f21-431b-ac71-72b8a0377968",
   "metadata": {},
   "outputs": [
    {
     "name": "stdout",
     "output_type": "stream",
     "text": [
      "Engines is starting\n",
      "Wheels are rotating\n",
      "Car is moving now\n"
     ]
    }
   ],
   "source": [
    "class Engine:\n",
    "    \n",
    "    def start(self):\n",
    "        print(\"Engines is starting\")\n",
    "        \n",
    "class Wheel:\n",
    "    \n",
    "    def rotate(self):\n",
    "        print(\"Wheels are rotating\")\n",
    "        \n",
    "class Car:\n",
    "    \n",
    "    def __init__(self):\n",
    "        self.engine = Engine()\n",
    "        self.wheel = Wheel()\n",
    "        \n",
    "    def move(self):\n",
    "        self.engine.start()\n",
    "        self.wheel.rotate()\n",
    "        print(\"Car is moving now\")\n",
    "        \n",
    "c = Car()\n",
    "c.move()"
   ]
  },
  {
   "cell_type": "markdown",
   "id": "308f1900-f530-49f0-b14e-406f0a00edc4",
   "metadata": {},
   "source": [
    "6. Create a Python class hierarchy for a music player system, using composition to represent playlists and\n",
    "songs."
   ]
  },
  {
   "cell_type": "code",
   "execution_count": 36,
   "id": "e9a443db-17cc-4495-b78f-0f93845de669",
   "metadata": {},
   "outputs": [
    {
     "name": "stdout",
     "output_type": "stream",
     "text": [
      "MP3 started\n",
      "Playlist selected\n",
      "Song is playing\n"
     ]
    }
   ],
   "source": [
    "class Music_Player:\n",
    "    \n",
    "    def start(self):\n",
    "        print(\"MP3 started\")\n",
    "        \n",
    "class Playlist:\n",
    "    \n",
    "    def select(self):\n",
    "        print(\"Playlist selected\")\n",
    "        \n",
    "class Song:\n",
    "    \n",
    "    def __init__(self):\n",
    "        self.music = Music_Player()\n",
    "        self.playlist = Playlist()\n",
    "        \n",
    "    def play(self):\n",
    "        self.music.start()\n",
    "        self.playlist.select()\n",
    "        print(\"Song is playing\")\n",
    "        \n",
    "rish = Song()\n",
    "rish.play()"
   ]
  },
  {
   "cell_type": "markdown",
   "id": "99074897-127d-4d28-93da-12eb6ccc94f6",
   "metadata": {},
   "source": [
    "7. Explain the concept of \"has-a\" relationships in composition and how it helps design software systems."
   ]
  },
  {
   "cell_type": "markdown",
   "id": "c9e4f60a-bb7c-495e-b263-80cf6c616fb5",
   "metadata": {},
   "source": [
    "Concept of \"has-a\" relationships in composition refers to the relationship between a class and its components or parts. When a class \"has-a\" relationship with another class, it means that the class contains an instance of the other class as one of its attributes or components.\n",
    "\n",
    "The concept of \"has-a\" relationships in composition enhances the design of software systems by fostering modularity, flexibility, and encapsulation. It contributes to the creation of more maintainable, reusable, and extensible code, aligning with best practices in object-oriented design."
   ]
  },
  {
   "cell_type": "markdown",
   "id": "47c7412e-0fec-4845-9dc8-97590cab784f",
   "metadata": {},
   "source": [
    "8. Create a Python class for a computer system, using composition to represent components like CPU, RAM,\n",
    "and storage devices."
   ]
  },
  {
   "cell_type": "code",
   "execution_count": 38,
   "id": "1bbc68c0-05a6-4779-b7cf-1ba139f7e994",
   "metadata": {},
   "outputs": [
    {
     "name": "stdout",
     "output_type": "stream",
     "text": [
      "Computer system consists of following things: \n",
      "CPU is Central Processing Unit\n",
      "RAM helps in storing the data\n",
      "CD, Floppy, SD card, HDD, SDD are storages deives\n"
     ]
    }
   ],
   "source": [
    "class CPU:\n",
    "    \n",
    "    def brain(self):\n",
    "        print(\"CPU is Central Processing Unit\")\n",
    "        \n",
    "class RAM:\n",
    "    \n",
    "    def helps_in(self):\n",
    "        print(\"RAM helps in storing the data\")\n",
    "        \n",
    "class Storage_devices:\n",
    "    \n",
    "    def types(self):\n",
    "        print(\"CD, Floppy, SD card, HDD, SDD are storages deives\")\n",
    "        \n",
    "class Computer_System:\n",
    "    \n",
    "    def __init__(self):\n",
    "        self.cpu = CPU()\n",
    "        self.ram = RAM()\n",
    "        self.dev = Storage_devices()\n",
    "        \n",
    "    def consist(self):\n",
    "        print(\"Computer system consists of following things: \")\n",
    "        self.cpu.brain()\n",
    "        self.ram.helps_in()\n",
    "        self.dev.types()\n",
    "        \n",
    "dell = Computer_System()\n",
    "dell.consist()"
   ]
  },
  {
   "cell_type": "markdown",
   "id": "29fc2d8e-c8cd-4ea3-82b3-3d3561c050da",
   "metadata": {},
   "source": [
    "9. Describe the concept of \"delegation\" in composition and how it simplifies the design of complex systems."
   ]
  },
  {
   "cell_type": "markdown",
   "id": "e42b584d-6573-4f02-940d-8a886dbe3784",
   "metadata": {},
   "source": [
    " In the context of composition, delegation occurs when one object passes responsibility for a task to another object. It's a way of achieving code reuse and flexibility by allowing one class to delegate certain behavior to another class that is better suited to handle it.\n",
    " \n",
    "Delegation in composition simplifies the design of complex systems by promoting collaboration, separation of concerns, and dynamic behavior. It contributes to code that is more modular, flexible, and easier to maintain, aligning with principles of good object-oriented design."
   ]
  },
  {
   "cell_type": "markdown",
   "id": "61127f5c-5cf9-4456-9404-424ce046ef50",
   "metadata": {},
   "source": [
    "10. Create a Python class for a car, using composition to represent components like the engine, wheels, and\n",
    "transmission."
   ]
  },
  {
   "cell_type": "code",
   "execution_count": 40,
   "id": "2c4cc653-abce-42b0-94ac-a17a62f33176",
   "metadata": {},
   "outputs": [
    {
     "name": "stdout",
     "output_type": "stream",
     "text": [
      "Engines is starting\n",
      "Transmiting power from enigne to wheels\n",
      "Wheels are rotating\n",
      "Car is moving now\n"
     ]
    }
   ],
   "source": [
    "class Engine:\n",
    "    \n",
    "    def start(self):\n",
    "        print(\"Engines is starting\")\n",
    "\n",
    "class Transmission:\n",
    "    \n",
    "    def power(self):\n",
    "        print(\"Transmiting power from enigne to wheels\")\n",
    "        \n",
    "class Wheel:\n",
    "    \n",
    "    def rotate(self):\n",
    "        print(\"Wheels are rotating\")\n",
    "        \n",
    "\n",
    "class Car:\n",
    "    \n",
    "    def __init__(self):\n",
    "        self.engine = Engine()\n",
    "        self.trans = Transmission()\n",
    "        self.wheel = Wheel()\n",
    "        \n",
    "    def move(self):\n",
    "        self.engine.start()\n",
    "        self.trans.power()\n",
    "        self.wheel.rotate()\n",
    "        print(\"Car is moving now\")\n",
    "        \n",
    "c = Car()\n",
    "c.move()"
   ]
  },
  {
   "cell_type": "markdown",
   "id": "6b004a78-3403-4b4d-981d-5752cca04d41",
   "metadata": {},
   "source": [
    "11. How can you encapsulate and hide the details of composed objects in Python classes to maintain\n",
    "abstraction?"
   ]
  },
  {
   "cell_type": "markdown",
   "id": "42a0a363-07de-41ab-bf20-69a62819a633",
   "metadata": {},
   "source": [
    "We  can encapsulate the details of composed objects in Python classes, maintaining abstraction and promoting a clean and manageable code structure. This approach enhances the security and robustness of your code by preventing unintended direct access to internal components.\n",
    "\n",
    "Techniques to encapsulate and hide the details of composed objects in Python classes:\n",
    "1. By Using Private Attributes\n",
    "2. By Adding Getter and Setter Methods\n",
    "3. By Using Property Decorators\n",
    "4. By Limiting Public Interface\n",
    "5. Through Name Mangling"
   ]
  },
  {
   "cell_type": "markdown",
   "id": "4728df83-1acf-4a33-bbe9-1513751bb3a3",
   "metadata": {},
   "source": [
    "12. Create a Python class for a university course, using composition to represent students, instructors, and\n",
    "course materials."
   ]
  },
  {
   "cell_type": "code",
   "execution_count": 42,
   "id": "295efe7b-5e24-4632-89c1-79ed26e27b2f",
   "metadata": {},
   "outputs": [
    {
     "name": "stdout",
     "output_type": "stream",
     "text": [
      "PwSkills consists of following thing: \n",
      "Students are : Rakesh, Suraj, Sasi, Nithin, Mihir, Rishabh\n",
      "Instructors are : Sudh, Krish, Vishwa, Sunny, Priya\n",
      "Courses are : DSA, FSDS, WEB DEV, Blockchain, ML, DL, NLP, CV\n"
     ]
    }
   ],
   "source": [
    "class students:\n",
    "    \n",
    "    def name(self):\n",
    "        print(\"Students are : Rakesh, Suraj, Sasi, Nithin, Mihir, Rishabh\")\n",
    "        \n",
    "class instructors:\n",
    "    \n",
    "    def mentor(self):\n",
    "        print(\"Instructors are : Sudh, Krish, Vishwa, Sunny, Priya\")\n",
    "        \n",
    "class course_materials:\n",
    "    \n",
    "    def course(self):\n",
    "        print(\"Courses are : DSA, FSDS, WEB DEV, Blockchain, ML, DL, NLP, CV\")\n",
    "        \n",
    "class University_cousre:\n",
    "    \n",
    "    def __init__(self):\n",
    "        self.stud = students()\n",
    "        self.inst = instructors()\n",
    "        self.cour = course_materials()\n",
    "        \n",
    "    def consist(self):\n",
    "        print(\"PwSkills consists of following thing: \")\n",
    "        self.stud.name()\n",
    "        self.inst.mentor()\n",
    "        self.cour.course()\n",
    "        \n",
    "rish = University_cousre()\n",
    "rish.consist()"
   ]
  },
  {
   "cell_type": "markdown",
   "id": "fb825774-72ad-44a3-925f-8ce222e02856",
   "metadata": {},
   "source": [
    "13. Discuss the challenges and drawbacks of composition, such as increased complexity and potential for\n",
    "tight coupling between objects."
   ]
  },
  {
   "cell_type": "markdown",
   "id": "66e1ce1a-4518-4c3b-849f-abcffd83f959",
   "metadata": {},
   "source": [
    "Dawbacks of composition in terms of increased complexity:\n",
    "Composition can lead to increased complexity in the code, especially as the number of composed objects grows. Managing the interactions between multiple components and ensuring they work seamlessly together can become challenging.\n",
    "\n",
    "Dawbacks of composition in terms of potential for tight coupling between objects:\n",
    "While composition is intended to promote loose coupling, improper use or design choices may lead to tight coupling between objects. Tight coupling can reduce the flexibility of the system and make it more difficult to modify or extend."
   ]
  },
  {
   "cell_type": "markdown",
   "id": "49bbd266-2650-49b8-a402-68284a7b12a7",
   "metadata": {},
   "source": [
    "14. Create a Python class hierarchy for a restaurant system, using composition to represent menus, dishes,\n",
    "and ingredients."
   ]
  },
  {
   "cell_type": "code",
   "execution_count": 44,
   "id": "cb1deed1-d78b-4110-bfd2-1325aa7b1388",
   "metadata": {},
   "outputs": [
    {
     "name": "stdout",
     "output_type": "stream",
     "text": [
      "Customer is reading the menu\n",
      "Customer has selected the dish\n",
      "Chef added all the ingredients to the selected dish\n",
      "Dish is served to the customer\n"
     ]
    }
   ],
   "source": [
    "class Menus:\n",
    "    \n",
    "    def read(self):\n",
    "        print(\"Customer is reading the menu\")\n",
    "        \n",
    "class Dishes:\n",
    "    \n",
    "    def select(self):\n",
    "        print(\"Customer has selected the dish\")\n",
    "        \n",
    "class Ingredients:\n",
    "    \n",
    "    def add(self):\n",
    "        print(\"Chef added all the ingredients to the selected dish\")\n",
    "        \n",
    "class Restaurant_System:\n",
    "    \n",
    "    def __init__(self):\n",
    "        self.menu = Menus()\n",
    "        self.dish = Dishes()\n",
    "        self.ingre = Ingredients()\n",
    "        \n",
    "    def serve(self):\n",
    "        self.menu.read()\n",
    "        self.dish.select()\n",
    "        self.ingre.add()\n",
    "        print(\"Dish is served to the customer\")\n",
    "        \n",
    "taj = Restaurant_System()\n",
    "taj.serve()"
   ]
  },
  {
   "cell_type": "markdown",
   "id": "fd6cd12f-a61f-4e84-92b0-f905198da57a",
   "metadata": {},
   "source": [
    "15. Explain how composition enhances code maintainability and modularity in Python programs."
   ]
  },
  {
   "cell_type": "markdown",
   "id": "c73a6b48-d351-4229-bfe3-8825899bb8f3",
   "metadata": {},
   "source": [
    "Composition enhances code maintainability because of the modular nature of composition simplifies debugging and maintenance. Developers can focus on individual components, reducing the cognitive load associated with understanding the entire system.\n",
    "\n",
    "Composition enhances modularity by encourages breaking down a system into smaller, self-contained modules or classes. Each module is responsible for a specific aspect of functionality, promoting a clear separation of concerns.Modules can be developed and tested independently. This allows developers to focus on specific functionalities without needing to understand the entire system, making the codebase more modular and easier to manage."
   ]
  },
  {
   "cell_type": "markdown",
   "id": "1ee1064f-ae57-4be7-86ed-cabfc3594105",
   "metadata": {},
   "source": [
    "16. Create a Python class for a computer game character, using composition to represent attributes like\n",
    "weapons, armor, and inventory."
   ]
  },
  {
   "cell_type": "code",
   "execution_count": 49,
   "id": "ba1682b6-e37f-45c7-bd67-29c4098329a7",
   "metadata": {},
   "outputs": [
    {
     "name": "stdout",
     "output_type": "stream",
     "text": [
      "My favourite game character is Kotal Kahn from MK11\n",
      "Kotal kahn uses Tecpatl as weapon\n",
      "Kotal kahn wears gold, metal armlets as armor\n",
      "Kotal Kahn's command grab is best in the ability inventory\n"
     ]
    }
   ],
   "source": [
    "class weapons:\n",
    "    \n",
    "    def use(self):\n",
    "        print(\"Kotal kahn uses Tecpatl as weapon\")\n",
    "        \n",
    "class armor:\n",
    "    \n",
    "    def wears(self):\n",
    "        print(\"Kotal kahn wears gold, metal armlets as armor\")\n",
    "        \n",
    "class inventory:\n",
    "    \n",
    "    def ability(self):\n",
    "        print(\"Kotal Kahn's command grab is best in the ability inventory\")\n",
    "        \n",
    "class Game_Character:\n",
    "    \n",
    "    def __init__(self):\n",
    "        self.weapons = weapons()\n",
    "        self.armor = armor()\n",
    "        self.inventory = inventory()\n",
    "        \n",
    "    def character_info(self):\n",
    "        print(\"My favourite game character is Kotal Kahn from MK11\")\n",
    "        self.weapons.use()\n",
    "        self.armor.wears()\n",
    "        self.inventory.ability()\n",
    "\n",
    "rish = Game_Character()\n",
    "rish.character_info()"
   ]
  },
  {
   "cell_type": "markdown",
   "id": "78db8cab-ba17-48e0-b2cf-5c72a6986838",
   "metadata": {},
   "source": [
    "17. Describe the concept of \"aggregation\" in composition and how it differs from simple composition."
   ]
  },
  {
   "cell_type": "markdown",
   "id": "c5242cf0-0ae5-4d3d-b05f-599d4ff32139",
   "metadata": {},
   "source": [
    "Aggregation is a form of composition in object-oriented programming where one object \"has-a\" relationship with another object, but the objects are not fundamentally dependent on each other.\n",
    "\n",
    "The key difference between simple composition and aggregation lies in the strength of the relationship and the independence of lifetimes. In simple composition, the child object is typically a crucial part of the parent object, and their lifetimes are closely tied. In aggregation, the relationship is more flexible, and the child object can exist independently of the parent."
   ]
  },
  {
   "cell_type": "markdown",
   "id": "b49c119b-e8ce-45b3-a51f-621886e43f0a",
   "metadata": {},
   "source": [
    "18. Create a Python class for a house, using composition to represent rooms, furniture, and appliances."
   ]
  },
  {
   "cell_type": "code",
   "execution_count": 50,
   "id": "48ceddac-141c-409d-8c35-21ec2680bdc7",
   "metadata": {},
   "outputs": [
    {
     "name": "stdout",
     "output_type": "stream",
     "text": [
      "My house must contains following things: \n",
      "House must have 4 rooms\n",
      "House must have Dining furniture, Bed, Table, Recliner\n",
      "House must have fridge, geyser, laptop, induction\n"
     ]
    }
   ],
   "source": [
    "class rooms:\n",
    "    \n",
    "    def num(self):\n",
    "        print(\"House must have 4 rooms\")\n",
    "        \n",
    "class furniture:\n",
    "    \n",
    "    def types(self):\n",
    "        print(\"House must have Dining furniture, Bed, Table, Recliner\")\n",
    "\n",
    "class appliances:\n",
    "    \n",
    "    def diff(self):\n",
    "        print(\"House must have fridge, geyser, laptop, induction\")\n",
    "        \n",
    "class House:\n",
    "    \n",
    "    def __init__(self):\n",
    "        self.rooms = rooms()\n",
    "        self.furniture = furniture()\n",
    "        self.appliances = appliances()\n",
    "        \n",
    "    def contains(self):\n",
    "        print(\"My house must contains following things: \")\n",
    "        self.rooms.num()\n",
    "        self.furniture.types()\n",
    "        self.appliances.diff()\n",
    "        \n",
    "rish = House()\n",
    "rish.contains()"
   ]
  },
  {
   "cell_type": "markdown",
   "id": "9381bb77-cd2c-4fe1-9177-ee7b976ada4b",
   "metadata": {},
   "source": [
    "19. How can you achieve flexibility in composed objects by allowing them to be replaced or modified\n",
    "dynamically at runtime?"
   ]
  },
  {
   "cell_type": "markdown",
   "id": "582892c6-3e99-47f8-80b0-cbe122551dae",
   "metadata": {},
   "source": [
    "Achieving flexibility in composed objects by allowing them to be replaced or modified dynamically at runtime involves using design patterns and techniques that promote dynamic behavior. Here are some approaches to achieve such flexibility:\n",
    "\n",
    "1. By using dependency injection to provide components to an object at runtime. Instead of hard-coding dependencies within a class, inject them externally. This allows for easy replacement or modification of components without changing the class's code.\n",
    "2. By applying the strategy pattern, which involves encapsulating interchangeable algorithms or behaviors in separate classes. The composed object holds a reference to a strategy interface, and the strategy can be swapped dynamically.\n",
    "3. By using the factory pattern to create objects dynamically based on certain conditions or requirements. Factories can encapsulate the creation process, allowing for the dynamic instantiation of different types of objects."
   ]
  },
  {
   "cell_type": "markdown",
   "id": "6564f21c-11ae-4c22-a772-c900ed142e39",
   "metadata": {},
   "source": [
    "20. Create a Python class for a social media application, using composition to represent users, posts, and\n",
    "comments."
   ]
  },
  {
   "cell_type": "code",
   "execution_count": 51,
   "id": "a3d28d3a-193d-48db-9583-ac08903472b9",
   "metadata": {},
   "outputs": [
    {
     "name": "stdout",
     "output_type": "stream",
     "text": [
      "Opening my Instagram profile\n",
      "Adding post to your profile\n",
      "Searching for the users\n",
      "Writing comments to friend's post\n"
     ]
    }
   ],
   "source": [
    "class users:\n",
    "    \n",
    "    def search(self):\n",
    "        print(\"Searching for the users\")\n",
    "        \n",
    "class posts:\n",
    "    \n",
    "    def add(self):\n",
    "        print(\"Adding post to your profile\")\n",
    "        \n",
    "class comments:\n",
    "    \n",
    "    def write(self):\n",
    "        print(\"Writing comments to friend's post\")\n",
    "        \n",
    "class Instagram:\n",
    "    \n",
    "    def __init__(self):\n",
    "        self.user = users()\n",
    "        self.post = posts()\n",
    "        self.comment = comments()\n",
    "        \n",
    "    def open(self):\n",
    "        print(\"Opening my Instagram profile\")\n",
    "        self.post.add()\n",
    "        self.user.search()\n",
    "        self.comment.write()\n",
    "        \n",
    "rish = Instagram()\n",
    "rish.open()"
   ]
  },
  {
   "cell_type": "code",
   "execution_count": null,
   "id": "9f091f42-960b-424f-bdb0-c4c40c2fefbc",
   "metadata": {},
   "outputs": [],
   "source": []
  }
 ],
 "metadata": {
  "kernelspec": {
   "display_name": "Python 3 (ipykernel)",
   "language": "python",
   "name": "python3"
  },
  "language_info": {
   "codemirror_mode": {
    "name": "ipython",
    "version": 3
   },
   "file_extension": ".py",
   "mimetype": "text/x-python",
   "name": "python",
   "nbconvert_exporter": "python",
   "pygments_lexer": "ipython3",
   "version": "3.10.8"
  }
 },
 "nbformat": 4,
 "nbformat_minor": 5
}
