{
 "cells": [
  {
   "cell_type": "markdown",
   "id": "ec1e1c90-acdb-4913-b8ce-62ac8f244c9b",
   "metadata": {},
   "source": [
    "For Loop :-"
   ]
  },
  {
   "cell_type": "markdown",
   "id": "627c526f-6024-42bd-b37c-be044f03e809",
   "metadata": {},
   "source": [
    "Write a Python program to print numbers from 1 to 10 using a for loop."
   ]
  },
  {
   "cell_type": "code",
   "execution_count": 2,
   "id": "09331953-6a08-4005-b13f-1044aebd6404",
   "metadata": {},
   "outputs": [
    {
     "name": "stdout",
     "output_type": "stream",
     "text": [
      "1\n",
      "2\n",
      "3\n",
      "4\n",
      "5\n",
      "6\n",
      "7\n",
      "8\n",
      "9\n",
      "10\n"
     ]
    }
   ],
   "source": [
    "for i in range(1,11):\n",
    "    print(i)"
   ]
  },
  {
   "cell_type": "markdown",
   "id": "d52efd2a-7abc-4eb0-bb8e-37275ca6b1bc",
   "metadata": {},
   "source": [
    "Explain the difference between a for loop and a while loop in Python."
   ]
  },
  {
   "cell_type": "code",
   "execution_count": 5,
   "id": "4264e601-3b45-457e-b5b4-222aedbca8d1",
   "metadata": {},
   "outputs": [
    {
     "name": "stdout",
     "output_type": "stream",
     "text": [
      "0\n",
      "1\n",
      "2\n",
      "3\n",
      "4\n"
     ]
    }
   ],
   "source": [
    "for i in range(0,5):\n",
    "    print(i)"
   ]
  },
  {
   "cell_type": "code",
   "execution_count": 6,
   "id": "5626d27c-f25a-4974-85f6-2d256c71f6af",
   "metadata": {},
   "outputs": [
    {
     "name": "stdout",
     "output_type": "stream",
     "text": [
      "0\n",
      "1\n",
      "2\n",
      "3\n",
      "4\n"
     ]
    }
   ],
   "source": [
    "i = 0\n",
    "while i < 5:\n",
    "    print(i)\n",
    "    i = i +1"
   ]
  },
  {
   "cell_type": "markdown",
   "id": "584ee3ba-f4d3-40de-873d-45acfd356793",
   "metadata": {},
   "source": [
    "for loop will iterate till the upper bound of the range but while loop will continue until the condition is false."
   ]
  },
  {
   "cell_type": "markdown",
   "id": "f1a4677a-0603-4aad-9e30-50813f55e17f",
   "metadata": {},
   "source": [
    "Write a Python program to calculate the sum of all numbers from 1 to 100 using a for loop."
   ]
  },
  {
   "cell_type": "code",
   "execution_count": 7,
   "id": "a9a786e4-a70c-4bda-82bf-99569ddd6e35",
   "metadata": {},
   "outputs": [
    {
     "name": "stdout",
     "output_type": "stream",
     "text": [
      "5050\n"
     ]
    }
   ],
   "source": [
    "sum = 0\n",
    "for i in range(1,101):\n",
    "    sum = sum + i\n",
    "print(sum)"
   ]
  },
  {
   "cell_type": "markdown",
   "id": "817ce833-f1b1-4b35-8104-3edb19fff0f1",
   "metadata": {},
   "source": [
    "How do you iterate through a list using a for loop in Python?"
   ]
  },
  {
   "cell_type": "code",
   "execution_count": 8,
   "id": "332ee8dc-4a12-4d4c-8ed4-8d7889e8a696",
   "metadata": {},
   "outputs": [],
   "source": [
    "l = [1,2,3,4,5,6]"
   ]
  },
  {
   "cell_type": "code",
   "execution_count": 9,
   "id": "10bd29dd-2446-424f-8ee3-55d45881c321",
   "metadata": {},
   "outputs": [
    {
     "data": {
      "text/plain": [
       "[1, 2, 3, 4, 5, 6]"
      ]
     },
     "execution_count": 9,
     "metadata": {},
     "output_type": "execute_result"
    }
   ],
   "source": [
    "l"
   ]
  },
  {
   "cell_type": "code",
   "execution_count": 10,
   "id": "0eb973c2-b166-4db3-aef7-3f360021b698",
   "metadata": {},
   "outputs": [
    {
     "name": "stdout",
     "output_type": "stream",
     "text": [
      "1\n",
      "2\n",
      "3\n",
      "4\n",
      "5\n",
      "6\n"
     ]
    }
   ],
   "source": [
    "for i in l:\n",
    "    print(i)"
   ]
  },
  {
   "cell_type": "markdown",
   "id": "d49f62ed-8baa-4358-82d5-c35aa33a63d9",
   "metadata": {},
   "source": [
    "Write a Python program to find the product of all elements in a list using a for loop."
   ]
  },
  {
   "cell_type": "code",
   "execution_count": 12,
   "id": "f810f3c2-c8a7-4c05-8b49-40781de5dc4c",
   "metadata": {},
   "outputs": [
    {
     "name": "stdout",
     "output_type": "stream",
     "text": [
      "120\n"
     ]
    }
   ],
   "source": [
    "l = [1,2,3,4,5]\n",
    "mul = 1\n",
    "for i in l:\n",
    "    mul = mul * i\n",
    "print(mul)"
   ]
  },
  {
   "cell_type": "markdown",
   "id": "1f4c7789-457b-49c4-b2e9-c05cbdc7f5a1",
   "metadata": {},
   "source": [
    "Create a Python program that prints all even numbers from 1 to 20 using a for loop"
   ]
  },
  {
   "cell_type": "code",
   "execution_count": 14,
   "id": "33816da4-711f-4e4d-b6f4-97249ed5db82",
   "metadata": {},
   "outputs": [
    {
     "name": "stdout",
     "output_type": "stream",
     "text": [
      "2\n",
      "4\n",
      "6\n",
      "8\n",
      "10\n",
      "12\n",
      "14\n",
      "16\n",
      "18\n",
      "20\n"
     ]
    }
   ],
   "source": [
    "for i in range(1,21):\n",
    "    if i % 2 == 0:\n",
    "        print(i)\n",
    "    else:\n",
    "        pass"
   ]
  },
  {
   "cell_type": "markdown",
   "id": "27e4d847-f4d1-4db4-8ca5-16dc3dc377d5",
   "metadata": {},
   "source": [
    "Write a Python program that calculates the factorial of a number using a for loop."
   ]
  },
  {
   "cell_type": "code",
   "execution_count": 22,
   "id": "6d391880-2c1b-4f1d-ba63-2acaf5870c77",
   "metadata": {},
   "outputs": [
    {
     "name": "stdin",
     "output_type": "stream",
     "text": [
      "Enter the number:  8\n"
     ]
    },
    {
     "name": "stdout",
     "output_type": "stream",
     "text": [
      "40320\n"
     ]
    }
   ],
   "source": [
    "n = int(input(\"Enter the number: \"))\n",
    "fac = 1\n",
    "for i in range(1,n+1):\n",
    "    fac = fac * i\n",
    "print(fac)"
   ]
  },
  {
   "cell_type": "markdown",
   "id": "7f4afaf8-a3fd-46e7-9277-8b7d07ca3b96",
   "metadata": {},
   "source": [
    "How can you iterate through the characters of a string using a for loop in Python?"
   ]
  },
  {
   "cell_type": "code",
   "execution_count": 31,
   "id": "30271476-34a2-42a0-96cf-9dfed2703235",
   "metadata": {},
   "outputs": [
    {
     "name": "stdout",
     "output_type": "stream",
     "text": [
      "D\n",
      "a\n",
      "t\n",
      "a\n",
      " \n",
      "S\n",
      "c\n",
      "i\n",
      "e\n",
      "n\n",
      "t\n",
      "i\n",
      "s\n",
      "t\n"
     ]
    }
   ],
   "source": [
    "s = \"Data Scientist\"\n",
    "for i in s:\n",
    "    print(i)"
   ]
  },
  {
   "cell_type": "markdown",
   "id": "ae24b36e-1a9d-4bc7-9864-f6d280f25650",
   "metadata": {},
   "source": [
    "Write a Python program to find the largest number in a list using a for loop."
   ]
  },
  {
   "cell_type": "code",
   "execution_count": 27,
   "id": "cd9d13fd-7d23-4ec6-b10d-2342915ee334",
   "metadata": {},
   "outputs": [],
   "source": [
    "l = [3,4,6,78,9,6,5,43,32,4,5,7,9,7,65,4,6,8,55,5]"
   ]
  },
  {
   "cell_type": "code",
   "execution_count": 30,
   "id": "1544e16a-200b-4982-94bc-94f146cada1e",
   "metadata": {},
   "outputs": [
    {
     "name": "stdout",
     "output_type": "stream",
     "text": [
      "78\n"
     ]
    }
   ],
   "source": [
    "k = l[0]\n",
    "for i in l:\n",
    "    if i > k:\n",
    "        k = i\n",
    "print(k)\n",
    "        "
   ]
  },
  {
   "cell_type": "markdown",
   "id": "7e75a3fd-cf4b-4484-81fb-cba08252306c",
   "metadata": {},
   "source": [
    "0, 1, 1, 2, 3, 5, 8, 13, 21, 34, 55, 89, 144."
   ]
  },
  {
   "cell_type": "markdown",
   "id": "dfcf1be4-09bd-4a30-981f-dd1897d3dad2",
   "metadata": {},
   "source": [
    "Create a Python program that prints the Fibonacci sequence up to a specified limit using a for loop."
   ]
  },
  {
   "cell_type": "code",
   "execution_count": 36,
   "id": "4e77c0b8-a8fb-49d4-87d6-d8de4d42a3b4",
   "metadata": {},
   "outputs": [
    {
     "name": "stdin",
     "output_type": "stream",
     "text": [
      "Enter the range:  10\n"
     ]
    },
    {
     "name": "stdout",
     "output_type": "stream",
     "text": [
      "[0, 1, 1, 2, 3, 5, 8, 13, 21]\n"
     ]
    }
   ],
   "source": [
    "l = []\n",
    "a = 0\n",
    "b = 1\n",
    "n = int(input(\"Enter the range: \"))\n",
    "for i in range(1,n):\n",
    "    c = a + b\n",
    "    l.append(a)\n",
    "    a = b\n",
    "    b = c\n",
    "print(l)"
   ]
  },
  {
   "cell_type": "markdown",
   "id": "51dd4898-d2fc-4e13-89ce-55d3c79ba502",
   "metadata": {},
   "source": [
    "Write a Python program to count the number of vowels in a given string using a for loop."
   ]
  },
  {
   "cell_type": "code",
   "execution_count": 40,
   "id": "92808389-acca-41e9-8365-405cccdc0be0",
   "metadata": {},
   "outputs": [
    {
     "name": "stdout",
     "output_type": "stream",
     "text": [
      "Number of vowels in this string Data Scientist is:  5\n"
     ]
    }
   ],
   "source": [
    "s = \"Data Scientist\"\n",
    "v = [\"a\", \"e\", \"i\", \"o\", \"u\"]\n",
    "count = 0\n",
    "for i in s:\n",
    "    if i.lower() in v:\n",
    "        count = count + 1\n",
    "    else:\n",
    "        pass\n",
    "print(\"Number of vowels in this string\", s, \"is: \", count)"
   ]
  },
  {
   "cell_type": "markdown",
   "id": "ccfa3727-cc2f-4f51-922a-752098cb9e7c",
   "metadata": {},
   "source": [
    "Create a Python program that generates a multiplication table for a given number using a for loop."
   ]
  },
  {
   "cell_type": "code",
   "execution_count": 42,
   "id": "9ff5aa90-2a57-4ea5-9289-a14e4630066a",
   "metadata": {},
   "outputs": [
    {
     "name": "stdin",
     "output_type": "stream",
     "text": [
      "Enter the number 19\n"
     ]
    },
    {
     "name": "stdout",
     "output_type": "stream",
     "text": [
      "19 times 1 is equal to  19\n",
      "19 times 2 is equal to  38\n",
      "19 times 3 is equal to  57\n",
      "19 times 4 is equal to  76\n",
      "19 times 5 is equal to  95\n",
      "19 times 6 is equal to  114\n",
      "19 times 7 is equal to  133\n",
      "19 times 8 is equal to  152\n",
      "19 times 9 is equal to  171\n",
      "19 times 10 is equal to  190\n"
     ]
    }
   ],
   "source": [
    "n = int(input(\"Enter the number\"))\n",
    "for i in range(1, 11):\n",
    "    print(n, \"times\", i, \"is equal to \", n*i)"
   ]
  },
  {
   "cell_type": "markdown",
   "id": "3e414886-94eb-4a47-97f7-65565e23660f",
   "metadata": {},
   "source": [
    "Write a Python program to reverse a list using a for loop."
   ]
  },
  {
   "cell_type": "code",
   "execution_count": 45,
   "id": "c4431c79-36ab-4248-8f59-8a8aee55cd26",
   "metadata": {},
   "outputs": [
    {
     "name": "stdout",
     "output_type": "stream",
     "text": [
      "[6, 5, 4, 3, 2, 1]\n"
     ]
    }
   ],
   "source": [
    "l = [1,2,3,4,5,6]\n",
    "l1 = []\n",
    "for i in l[::-1]:\n",
    "    l1.append(i)\n",
    "print(l1)"
   ]
  },
  {
   "cell_type": "markdown",
   "id": "f6115434-5159-45db-b395-fb1568422419",
   "metadata": {},
   "source": [
    "Write a Python program to find the common elements between two lists using a for loop."
   ]
  },
  {
   "cell_type": "code",
   "execution_count": 47,
   "id": "e0e8f6b9-1983-482e-8d22-3de0f53c75cf",
   "metadata": {},
   "outputs": [
    {
     "name": "stdout",
     "output_type": "stream",
     "text": [
      "Common elements between two lists are : [4, 5, 'singh']\n"
     ]
    }
   ],
   "source": [
    "l1 = [1,2,3,4,5, \"rish\", \"singh\"]\n",
    "l2 = [4,5,6,7,8,9,\"singh\"]\n",
    "l3 = []\n",
    "for i in l1:\n",
    "    if i in l2:\n",
    "        l3.append(i)\n",
    "    else:\n",
    "        pass\n",
    "print(\"Common elements between two lists are :\", l3)"
   ]
  },
  {
   "cell_type": "markdown",
   "id": "940e7e40-49ef-4abf-ab93-09819de37907",
   "metadata": {},
   "source": [
    "Explain how to use a for loop to iterate through the keys and values of a dictionary in Python."
   ]
  },
  {
   "cell_type": "code",
   "execution_count": 51,
   "id": "13414313-e6d2-4da1-95d7-4e72c688b76b",
   "metadata": {},
   "outputs": [
    {
     "name": "stdout",
     "output_type": "stream",
     "text": [
      "one\n",
      "two\n",
      "three\n",
      "four\n"
     ]
    }
   ],
   "source": [
    "d = {\"one\" : \"rish\", \"two\" : True, \"three\" : 4325, \"four\" : 4 +7j}\n",
    "for i in d.keys():\n",
    "    print(i)"
   ]
  },
  {
   "cell_type": "code",
   "execution_count": 52,
   "id": "ed5b8686-59bb-4cd4-a2a1-ad6fbd7fb7c1",
   "metadata": {},
   "outputs": [
    {
     "name": "stdout",
     "output_type": "stream",
     "text": [
      "rish\n",
      "True\n",
      "4325\n",
      "(4+7j)\n"
     ]
    }
   ],
   "source": [
    "for j in d.values():\n",
    "    print(j)"
   ]
  },
  {
   "cell_type": "markdown",
   "id": "8981be66-3a3e-43dd-88a1-231ca0a34271",
   "metadata": {},
   "source": [
    "Write a Python program to find the GCD (Greatest Common Divisor) of two numbers using a for loop."
   ]
  },
  {
   "cell_type": "code",
   "execution_count": 55,
   "id": "12c2f44a-1ef2-4114-8621-707fb7c4720d",
   "metadata": {},
   "outputs": [
    {
     "name": "stdin",
     "output_type": "stream",
     "text": [
      "Enter the 1st number:  400\n",
      "Enter the 2nd number:  96\n"
     ]
    },
    {
     "name": "stdout",
     "output_type": "stream",
     "text": [
      "GCD (Greatest Common Divisor) of two given numbers is:  16\n"
     ]
    }
   ],
   "source": [
    "a = int(input(\"Enter the 1st number: \"))\n",
    "b = int(input(\"Enter the 2nd number: \"))\n",
    "if a > b:\n",
    "    a,b = b,a\n",
    "for i in range(1,a+1):\n",
    "    if a%i ==0 and b%i ==0:\n",
    "        gcd = i\n",
    "print(\"GCD (Greatest Common Divisor) of two given numbers is: \", gcd)"
   ]
  },
  {
   "cell_type": "markdown",
   "id": "70f8b3a0-39f8-42b8-9a68-0d43be68296a",
   "metadata": {},
   "source": [
    "Create a Python program that checks if a string is a palindrome using a for loop."
   ]
  },
  {
   "cell_type": "code",
   "execution_count": 70,
   "id": "d6626ae2-873f-43d7-8caf-01abb2a79941",
   "metadata": {},
   "outputs": [
    {
     "name": "stdin",
     "output_type": "stream",
     "text": [
      "Enter the string:  oppo\n"
     ]
    },
    {
     "name": "stdout",
     "output_type": "stream",
     "text": [
      "Pallindrome\n"
     ]
    }
   ],
   "source": [
    "s = input(\"Enter the string: \")\n",
    "s1 = \"\"\n",
    "for i in s[::-1]:\n",
    "    s1 = s1 + i\n",
    "if s1 == s:\n",
    "    print(\"Pallindrome\")\n",
    "else:\n",
    "    print(\"Not a pallindrome\")"
   ]
  },
  {
   "cell_type": "markdown",
   "id": "e266c19e-70d3-4e80-9a56-d3157dc04382",
   "metadata": {},
   "source": [
    "Write a Python program to remove duplicates from a list using a for loop."
   ]
  },
  {
   "cell_type": "code",
   "execution_count": 71,
   "id": "f755a321-e41d-4a8f-b6e2-b2d4840ee8cf",
   "metadata": {},
   "outputs": [],
   "source": [
    "l = [3,4,6,78,9,6,5,43,32,4,5,7,9,7,65,4,6,8,55,5]"
   ]
  },
  {
   "cell_type": "code",
   "execution_count": 72,
   "id": "39c9e8bc-7f31-4d87-a894-a8c61409be0b",
   "metadata": {},
   "outputs": [
    {
     "name": "stdout",
     "output_type": "stream",
     "text": [
      "[3, 4, 6, 78, 9, 5, 43, 32, 7, 65, 8, 55]\n"
     ]
    }
   ],
   "source": [
    "l1 = []\n",
    "for i in l:\n",
    "    if i not in l1:\n",
    "        l1.append(i)\n",
    "    else:\n",
    "        pass\n",
    "print(l1)"
   ]
  },
  {
   "cell_type": "markdown",
   "id": "233e7e84-f465-40fa-b316-5c6f41b59fcd",
   "metadata": {},
   "source": [
    "Create a Python program that counts the number of words in a sentence using a for loop."
   ]
  },
  {
   "cell_type": "code",
   "execution_count": 77,
   "id": "37a7a69b-4886-4c00-9b1d-fcd4ac4b3220",
   "metadata": {},
   "outputs": [
    {
     "name": "stdout",
     "output_type": "stream",
     "text": [
      "['I', 'want', 'to', 'be', 'a', 'Data', 'Scientist']\n",
      "Number of words in given sentence is  7\n"
     ]
    }
   ],
   "source": [
    "s = \"I want to be a Data Scientist\"\n",
    "s1 = s.split(\" \")\n",
    "print(s1)\n",
    "count = 0\n",
    "for i in s1:\n",
    "    count = count + 1\n",
    "print(\"Number of words in given sentence is \", count)"
   ]
  },
  {
   "cell_type": "markdown",
   "id": "21e6fc51-c1f3-47a0-b011-dd9ed122d1bd",
   "metadata": {},
   "source": [
    "Write a Python program to find the sum of all odd numbers from 1 to 50 using a for loop."
   ]
  },
  {
   "cell_type": "code",
   "execution_count": 80,
   "id": "412ea640-8e65-447e-9e68-7ea3204df525",
   "metadata": {},
   "outputs": [
    {
     "name": "stdout",
     "output_type": "stream",
     "text": [
      "625\n"
     ]
    }
   ],
   "source": [
    "sum = 0\n",
    "for i in range(1,50):\n",
    "    if i%2 != 0:\n",
    "        sum = sum + i\n",
    "    else:\n",
    "        pass\n",
    "print(sum)"
   ]
  },
  {
   "cell_type": "markdown",
   "id": "061c1552-519b-4648-919a-0cabbe9956a9",
   "metadata": {},
   "source": [
    "Write a Python program that checks if a given year is a leap year using a for loop."
   ]
  },
  {
   "cell_type": "code",
   "execution_count": 88,
   "id": "7a2f7289-9a62-4105-9490-207d0ba6314d",
   "metadata": {},
   "outputs": [
    {
     "name": "stdin",
     "output_type": "stream",
     "text": [
      "Enter the year:  1696\n",
      "Upto what year you want to check:  1705\n"
     ]
    },
    {
     "name": "stdout",
     "output_type": "stream",
     "text": [
      "1696  is a leap year\n",
      "1697\n",
      "1698\n",
      "1699\n",
      "1700\n",
      "1701\n",
      "1702\n",
      "1703\n",
      "1704  is a leap year\n",
      "1705\n"
     ]
    }
   ],
   "source": [
    "n = int(input(\"Enter the year: \"))\n",
    "e = int(input(\"Upto what year you want to check: \"))\n",
    "for i in range(n, e +1):\n",
    "    if (i % 400 == 0 or i%100 != 0) and i%4 == 0:\n",
    "        print(i, \" is a leap year\")\n",
    "    else:\n",
    "        print(i)"
   ]
  },
  {
   "cell_type": "markdown",
   "id": "9c11d9bd-6c5f-47b0-87a6-a18d744776ca",
   "metadata": {},
   "source": [
    "Create a Python program that calculates the square root of a number using a for loop."
   ]
  },
  {
   "cell_type": "code",
   "execution_count": 12,
   "id": "bb4393cd-23a9-4208-9626-f702e45b5542",
   "metadata": {},
   "outputs": [
    {
     "name": "stdin",
     "output_type": "stream",
     "text": [
      "Enter the number:  729\n"
     ]
    },
    {
     "data": {
      "text/plain": [
       "27.0"
      ]
     },
     "execution_count": 12,
     "metadata": {},
     "output_type": "execute_result"
    }
   ],
   "source": [
    "import math\n",
    "n = float(input(\"Enter the number: \"))\n",
    "math.sqrt(n)"
   ]
  },
  {
   "cell_type": "markdown",
   "id": "fae0a8c5-9f7a-4aba-8953-551d0110acc7",
   "metadata": {},
   "source": [
    "Write a Python program to find the LCM (Least Common Multiple) of two numbers using a for loop"
   ]
  },
  {
   "cell_type": "code",
   "execution_count": 13,
   "id": "c5df09b5-f81b-4b65-87b6-2ce9904b9819",
   "metadata": {},
   "outputs": [
    {
     "name": "stdin",
     "output_type": "stream",
     "text": [
      "Enter 1st number:  12\n",
      "Enter 2nd number:  14\n"
     ]
    },
    {
     "name": "stdout",
     "output_type": "stream",
     "text": [
      "The LCM of two numbers are:  84\n"
     ]
    }
   ],
   "source": [
    "a = int(input(\"Enter 1st number: \"))\n",
    "b = int(input(\"Enter 2nd number: \"))\n",
    "for i in range(max(a,b), (a*b)+1):\n",
    "    if i%a == i%b == 0:\n",
    "        lcm = i\n",
    "        break\n",
    "print(\"The LCM of two numbers are: \", lcm)"
   ]
  },
  {
   "cell_type": "code",
   "execution_count": null,
   "id": "25d90f6c-ce81-4f13-a46a-212061334b2a",
   "metadata": {},
   "outputs": [],
   "source": []
  },
  {
   "cell_type": "markdown",
   "id": "d5636d03-0c47-4b75-a1c6-3bc3d298ca13",
   "metadata": {},
   "source": [
    "If else :"
   ]
  },
  {
   "cell_type": "markdown",
   "id": "0a8a4fd6-c971-4049-bae4-a558e9f6fdcc",
   "metadata": {},
   "source": [
    "Write a Python program to check if a number is positive, negative, or zero using an if-else statement."
   ]
  },
  {
   "cell_type": "code",
   "execution_count": 21,
   "id": "59ba3c5b-55c3-4701-bb9e-c1a36c448f55",
   "metadata": {},
   "outputs": [
    {
     "name": "stdin",
     "output_type": "stream",
     "text": [
      "Enter the number:  -987\n"
     ]
    },
    {
     "name": "stdout",
     "output_type": "stream",
     "text": [
      "Entered number is negative\n"
     ]
    }
   ],
   "source": [
    "n = int(input(\"Enter the number: \"))\n",
    "if n <=0:\n",
    "    if n == 0:\n",
    "        print(\"Entered number is zero\")\n",
    "    else:\n",
    "        print(\"Entered number is negative\")\n",
    "else:\n",
    "    print(\"Entered number is positive\")"
   ]
  },
  {
   "cell_type": "markdown",
   "id": "755a13b3-53cd-435e-8eb7-fe1d71e28669",
   "metadata": {},
   "source": [
    "Create a Python program that checks if a given number is even or odd using an if-else statement."
   ]
  },
  {
   "cell_type": "code",
   "execution_count": 25,
   "id": "7c6e7af5-7363-4bf1-88c8-61eb7ee40610",
   "metadata": {},
   "outputs": [
    {
     "name": "stdin",
     "output_type": "stream",
     "text": [
      "Enter the number:  82397\n"
     ]
    },
    {
     "name": "stdout",
     "output_type": "stream",
     "text": [
      "Entered number is odd\n"
     ]
    }
   ],
   "source": [
    "n = int(input(\"Enter the number: \"))\n",
    "if n%2 == 0:\n",
    "    print(\"Entered number is even\")\n",
    "else:\n",
    "    print(\"Entered number is odd\")"
   ]
  },
  {
   "cell_type": "markdown",
   "id": "e82d62d0-bb69-474b-b38e-76e139a416d2",
   "metadata": {},
   "source": [
    "How can you use nested if-else statements in Python, and provide an example?"
   ]
  },
  {
   "cell_type": "code",
   "execution_count": 26,
   "id": "c3d44aba-af3f-4f1d-a352-c133c5458ccc",
   "metadata": {},
   "outputs": [
    {
     "name": "stdin",
     "output_type": "stream",
     "text": [
      "Enter the number:  876\n"
     ]
    },
    {
     "name": "stdout",
     "output_type": "stream",
     "text": [
      "Entered number is positive\n"
     ]
    }
   ],
   "source": [
    "n = int(input(\"Enter the number: \"))\n",
    "if n <=0:\n",
    "    if n == 0:\n",
    "        print(\"Entered number is zero\")\n",
    "    else:\n",
    "        print(\"Entered number is negative\")\n",
    "else:\n",
    "    print(\"Entered number is positive\")"
   ]
  },
  {
   "cell_type": "markdown",
   "id": "80b42ac2-a37c-428b-9130-04de54c873ed",
   "metadata": {},
   "source": [
    "Write a Python program to determine the largest of three numbers using if-else."
   ]
  },
  {
   "cell_type": "code",
   "execution_count": 30,
   "id": "af8975ef-ec69-44ab-81d0-434c2bf2162f",
   "metadata": {},
   "outputs": [
    {
     "name": "stdin",
     "output_type": "stream",
     "text": [
      "Enter 1st number:  675\n",
      "Enter 2nd number:  4324\n",
      "Enter 3rd number:  09809\n"
     ]
    },
    {
     "name": "stdout",
     "output_type": "stream",
     "text": [
      "Largest number is  9809\n"
     ]
    }
   ],
   "source": [
    "a = int(input(\"Enter 1st number: \"))\n",
    "b = int(input(\"Enter 2nd number: \"))\n",
    "c = int(input(\"Enter 3rd number: \"))\n",
    "if a > b:\n",
    "    if a > c:\n",
    "        print(\"Largest number is \", a)\n",
    "    else:\n",
    "        print(\"Largest number is \", c)\n",
    "else:\n",
    "    if b > c:\n",
    "        print(\"Largest number is \", b)\n",
    "    else:\n",
    "        print(\"Largest number is \", c)"
   ]
  },
  {
   "cell_type": "markdown",
   "id": "4155296d-dd1a-4db4-a7eb-00641f72e368",
   "metadata": {},
   "source": [
    "Write a Python program that calculates the absolute value of a number using if-else."
   ]
  },
  {
   "cell_type": "code",
   "execution_count": 34,
   "id": "e89ab179-f3a8-433e-b0a1-a6960bf9b7c3",
   "metadata": {},
   "outputs": [
    {
     "name": "stdin",
     "output_type": "stream",
     "text": [
      "Enter the number:  -74\n"
     ]
    },
    {
     "name": "stdout",
     "output_type": "stream",
     "text": [
      "The absolute value of the entered number is:  74\n"
     ]
    }
   ],
   "source": [
    "n = int(input(\"Enter the number: \"))\n",
    "if n < 0:\n",
    "    print(\"The absolute value of the entered number is: \", n*(-1))\n",
    "else:\n",
    "    print(\"The absolute value of the entered number is:\", n)"
   ]
  },
  {
   "cell_type": "markdown",
   "id": "d959f324-433c-4db0-bbad-111b995f5167",
   "metadata": {},
   "source": [
    "Create a Python program that checks if a given character is a vowel or consonant using if-else."
   ]
  },
  {
   "cell_type": "code",
   "execution_count": 41,
   "id": "f672b00d-12d3-4b7d-98ac-e194a1403930",
   "metadata": {},
   "outputs": [
    {
     "name": "stdin",
     "output_type": "stream",
     "text": [
      "Enter the characters:  O\n"
     ]
    },
    {
     "name": "stdout",
     "output_type": "stream",
     "text": [
      "Entered characters is vowel\n"
     ]
    }
   ],
   "source": [
    "c = [\"a\",\"e\",\"i\",\"o\",\"u\"]\n",
    "s = input(\"Enter the characters: \")\n",
    "if s.lower() in c:\n",
    "    print(\"Entered characters is vowel\")\n",
    "else:\n",
    "    print(\"Entered characters is consonant\")"
   ]
  },
  {
   "cell_type": "markdown",
   "id": "10142885-0ae5-4d10-8cf0-718c2715136a",
   "metadata": {},
   "source": [
    "Write a Python program to determine if a user is eligible to vote based on their age using if-else."
   ]
  },
  {
   "cell_type": "code",
   "execution_count": 46,
   "id": "6716690c-3b3d-4749-81ef-9b82633628ee",
   "metadata": {},
   "outputs": [
    {
     "name": "stdin",
     "output_type": "stream",
     "text": [
      "Enter your age:  28\n"
     ]
    },
    {
     "name": "stdout",
     "output_type": "stream",
     "text": [
      "Eligible for voting\n"
     ]
    }
   ],
   "source": [
    "age = int(input(\"Enter your age: \"))\n",
    "if age >=18:\n",
    "    print(\"Eligible for voting\")\n",
    "else:\n",
    "    print(\"Not eligible for voting\")"
   ]
  },
  {
   "cell_type": "markdown",
   "id": "01d0d776-1768-4042-990c-275ead8da5e8",
   "metadata": {},
   "source": [
    "Create a Python program that calculates the discount amount based on the purchase amount using if-else."
   ]
  },
  {
   "cell_type": "code",
   "execution_count": 48,
   "id": "fc8138e0-5730-49c0-98de-e85b83fffb41",
   "metadata": {},
   "outputs": [
    {
     "name": "stdin",
     "output_type": "stream",
     "text": [
      "Enter the shopping amount:  100000\n"
     ]
    },
    {
     "name": "stdout",
     "output_type": "stream",
     "text": [
      "Your got 25% discount on your shopping amount which is:  25000.0\n"
     ]
    }
   ],
   "source": [
    "n = int(input(\"Enter the shopping amount: \"))\n",
    "if n >= 50000:\n",
    "    print(\"Your got 25% discount on your shopping amount which is: \", n*0.25)\n",
    "elif n >= 30000:\n",
    "    print(\"Your got 15% discount on your shopping amount which is: \", n*0.15)\n",
    "elif n >= 10000:\n",
    "    print(\"Your got 5% discount on your shopping amount which is: \", n*0.05)\n",
    "else:\n",
    "    print(\"No Discount for you\")"
   ]
  },
  {
   "cell_type": "markdown",
   "id": "e7cc4705-f608-4e24-a09f-3aeebb87d286",
   "metadata": {},
   "source": [
    "Write a Python program to check if a number is within a specified range using if-else."
   ]
  },
  {
   "cell_type": "code",
   "execution_count": 53,
   "id": "d2f2d5c0-0d47-4966-9103-bbcbce894a8a",
   "metadata": {},
   "outputs": [
    {
     "name": "stdin",
     "output_type": "stream",
     "text": [
      "Enter the number:  56\n"
     ]
    },
    {
     "name": "stdout",
     "output_type": "stream",
     "text": [
      "Entered number 56 is within range of 25 to 90\n"
     ]
    }
   ],
   "source": [
    "n = int(input(\"Enter the number: \"))\n",
    "if n in range(25, 91):\n",
    "    print(\"Entered number\" , n, \"is within range of 25 to 90\")\n",
    "else:\n",
    "    print(\"Entered number\" , n, \"is not within range of 25 to 90\")"
   ]
  },
  {
   "cell_type": "markdown",
   "id": "07d2600f-4565-4b79-861c-855eaaad1f78",
   "metadata": {},
   "source": [
    "Create a Python program that determines the grade of a student based on their score using if-else."
   ]
  },
  {
   "cell_type": "code",
   "execution_count": 58,
   "id": "51145a91-4b7b-4dd4-8e86-d87074246455",
   "metadata": {},
   "outputs": [
    {
     "name": "stdin",
     "output_type": "stream",
     "text": [
      "Enter the number:  78\n"
     ]
    },
    {
     "name": "stdout",
     "output_type": "stream",
     "text": [
      "Grade B\n"
     ]
    }
   ],
   "source": [
    "n = int(input(\"Enter the number: \"))\n",
    "if n >=90:\n",
    "    print(\"Grade A\")\n",
    "elif n >=75:\n",
    "    print(\"Grade B\")\n",
    "elif n >=40:\n",
    "    print(\"Grade C\")\n",
    "elif n >=20:\n",
    "    print(\"Grade D\")\n",
    "else:\n",
    "    print(\"Grade E\")"
   ]
  },
  {
   "cell_type": "markdown",
   "id": "ca258916-331a-465e-9a4a-7a24ca76843f",
   "metadata": {},
   "source": [
    "Write a Python program to check if a string is empty or not using if-else."
   ]
  },
  {
   "cell_type": "code",
   "execution_count": 65,
   "id": "1a0fbcf4-0280-406b-a475-ac42fce98ce4",
   "metadata": {},
   "outputs": [
    {
     "name": "stdin",
     "output_type": "stream",
     "text": [
      "Enter the sting:  vjjh\n"
     ]
    },
    {
     "name": "stdout",
     "output_type": "stream",
     "text": [
      "Not empty string\n"
     ]
    }
   ],
   "source": [
    "s = input(\"Enter the sting: \")\n",
    "if s == \"\":\n",
    "    print(\"Empty string\")\n",
    "else:\n",
    "    print(\"Not empty string\")"
   ]
  },
  {
   "cell_type": "markdown",
   "id": "4bb45b4c-c924-4985-8075-69b2d426ffda",
   "metadata": {},
   "source": [
    "Create a Python program that identifies the type of a triangle (e.g., equilateral, isosceles, or scalene) based on input values using if-else."
   ]
  },
  {
   "cell_type": "code",
   "execution_count": 73,
   "id": "e564f654-3cfb-494e-b532-d79078280a58",
   "metadata": {},
   "outputs": [
    {
     "name": "stdin",
     "output_type": "stream",
     "text": [
      "Enter 1st side of the triangle:  78\n",
      "Enter 2nd side of the triangle:  90\n",
      "Enter 3rd side of the triangle:  78\n"
     ]
    },
    {
     "name": "stdout",
     "output_type": "stream",
     "text": [
      "The triangle is isosceles\n"
     ]
    }
   ],
   "source": [
    "a = int(input(\"Enter 1st side of the triangle: \"))\n",
    "b = int(input(\"Enter 2nd side of the triangle: \"))\n",
    "c = int(input(\"Enter 3rd side of the triangle: \"))\n",
    "if a == b:\n",
    "    if a == c:\n",
    "        print(\"The triangle is equilateral\")\n",
    "    else:\n",
    "        print(\"The triangle is isosceles\")\n",
    "elif a == c:\n",
    "    if a == b:\n",
    "        print(\"The triangle is equilateral\")\n",
    "    else:\n",
    "        print(\"The triangle is isosceles\")\n",
    "elif b == c:\n",
    "    if b == a:\n",
    "        print(\"The triangle is equilateral\")\n",
    "    else:\n",
    "        print(\"The triangle is isosceles\")\n",
    "else:\n",
    "    print(\"The triangle is scalene\")"
   ]
  },
  {
   "cell_type": "markdown",
   "id": "06bcb7f7-29dd-4b8e-96ed-0a469c9efe5e",
   "metadata": {},
   "source": [
    "Write a Python program to determine the day of the week based on a user-provided number using if-else."
   ]
  },
  {
   "cell_type": "code",
   "execution_count": 82,
   "id": "11f2970f-a40d-41a8-bd43-96508dbf7f0e",
   "metadata": {},
   "outputs": [
    {
     "name": "stdin",
     "output_type": "stream",
     "text": [
      "Enter the number from 1-7 to determine the day of the week:  5\n"
     ]
    },
    {
     "name": "stdout",
     "output_type": "stream",
     "text": [
      "Friday\n"
     ]
    }
   ],
   "source": [
    "n = int(input(\"Enter the number from 1-7 to determine the day of the week: \"))\n",
    "if n == 1:\n",
    "    print(\"Monday\")\n",
    "elif n == 2:\n",
    "    print(\"Tuesday\")\n",
    "elif n == 3:\n",
    "    print(\"Wednesday\")\n",
    "elif n == 4:\n",
    "    print(\"Thursday\")\n",
    "elif n == 5:\n",
    "    print(\"Friday\")\n",
    "elif n == 6:\n",
    "    print(\"Saturday\")\n",
    "elif n == 7:\n",
    "    print(\"Sunday\")\n",
    "else:\n",
    "    print(\"Enter number only from 1 to 7\")"
   ]
  },
  {
   "cell_type": "markdown",
   "id": "e72ba61b-e205-42b2-9192-2b57af82e99d",
   "metadata": {},
   "source": [
    "Create a Python program that checks if a given year is a leap year using both if-else and a function."
   ]
  },
  {
   "cell_type": "code",
   "execution_count": 8,
   "id": "a1406249-bbb1-46bf-9073-7f445ec41445",
   "metadata": {},
   "outputs": [],
   "source": [
    "def leap_year(i):\n",
    "    if (i % 400 == 0 or i%100 != 0) and i%4 == 0:\n",
    "        print(i, \" is a leap year\")\n",
    "    else:\n",
    "        print(i, \" is not a leap year\")"
   ]
  },
  {
   "cell_type": "code",
   "execution_count": 9,
   "id": "0b5ffc51-818c-4c30-9e0b-dc27a09d4dc7",
   "metadata": {},
   "outputs": [
    {
     "name": "stdout",
     "output_type": "stream",
     "text": [
      "2024  is a leap year\n"
     ]
    }
   ],
   "source": [
    "leap_year(2024)"
   ]
  },
  {
   "cell_type": "markdown",
   "id": "12ad610f-acd3-42f7-8562-6c2539834b97",
   "metadata": {},
   "source": [
    "How do you use the \"assert\" statement in Python to add debugging checks within if-else blocks?"
   ]
  },
  {
   "cell_type": "code",
   "execution_count": 14,
   "id": "d1883d96-8f8a-4d4d-8beb-1ed3167ebb6c",
   "metadata": {},
   "outputs": [
    {
     "name": "stdin",
     "output_type": "stream",
     "text": [
      "Enter the number greater than 200:  23\n"
     ]
    },
    {
     "ename": "AssertionError",
     "evalue": "number greater then 200 expected, got: 23",
     "output_type": "error",
     "traceback": [
      "\u001b[0;31m---------------------------------------------------------------------------\u001b[0m",
      "\u001b[0;31mAssertionError\u001b[0m                            Traceback (most recent call last)",
      "Cell \u001b[0;32mIn[14], line 2\u001b[0m\n\u001b[1;32m      1\u001b[0m n \u001b[38;5;241m=\u001b[39m \u001b[38;5;28mint\u001b[39m(\u001b[38;5;28minput\u001b[39m(\u001b[38;5;124m\"\u001b[39m\u001b[38;5;124mEnter the number greater than 200: \u001b[39m\u001b[38;5;124m\"\u001b[39m))\n\u001b[0;32m----> 2\u001b[0m \u001b[38;5;28;01massert\u001b[39;00m n \u001b[38;5;241m>\u001b[39m \u001b[38;5;241m200\u001b[39m, \u001b[38;5;124mf\u001b[39m\u001b[38;5;124m\"\u001b[39m\u001b[38;5;124mnumber greater then 200 expected, got: \u001b[39m\u001b[38;5;132;01m{\u001b[39;00mn\u001b[38;5;132;01m}\u001b[39;00m\u001b[38;5;124m\"\u001b[39m\n",
      "\u001b[0;31mAssertionError\u001b[0m: number greater then 200 expected, got: 23"
     ]
    }
   ],
   "source": [
    "n = int(input(\"Enter the number greater than 200: \"))\n",
    "assert n > 200, f\"number greater then 200 expected, got: {n}\""
   ]
  },
  {
   "cell_type": "markdown",
   "id": "f62d9396-ba9f-4331-80c2-8201741d8c82",
   "metadata": {},
   "source": [
    "Create a Python program that determines the eligibility of a person for a senior citizen discount based on age using if-else."
   ]
  },
  {
   "cell_type": "code",
   "execution_count": 16,
   "id": "4fea8df8-3429-4253-b889-98874816494b",
   "metadata": {},
   "outputs": [
    {
     "name": "stdin",
     "output_type": "stream",
     "text": [
      "Enter your age:  89\n"
     ]
    },
    {
     "name": "stdout",
     "output_type": "stream",
     "text": [
      "You are getting senior citizen discount\n"
     ]
    }
   ],
   "source": [
    "age = int(input(\"Enter your age: \"))\n",
    "if age >= 60:\n",
    "    print(\"You are getting senior citizen discount\")\n",
    "else:\n",
    "    print(\"No discount for you\")"
   ]
  },
  {
   "cell_type": "markdown",
   "id": "18f026d2-34b7-46ca-8ac7-38f09b507fec",
   "metadata": {},
   "source": [
    "Write a Python program to categorize a given character as uppercase, lowercase, or neither using if-else."
   ]
  },
  {
   "cell_type": "code",
   "execution_count": 23,
   "id": "9e85cf2e-51f5-45eb-ac28-b9c9ada05b99",
   "metadata": {},
   "outputs": [
    {
     "name": "stdin",
     "output_type": "stream",
     "text": [
      "Enter any character:  D\n"
     ]
    },
    {
     "name": "stdout",
     "output_type": "stream",
     "text": [
      "Given character is in uppercase\n"
     ]
    }
   ],
   "source": [
    "c = input(\"Enter any character: \")\n",
    "if c == c.lower():\n",
    "    print(\"Given character is in lowercase\")\n",
    "elif c == c.upper():\n",
    "    print(\"Given character is in uppercase\")\n",
    "else:\n",
    "    print(\"Enter character only\")"
   ]
  },
  {
   "cell_type": "markdown",
   "id": "721e1ee3-055f-4246-a226-c4d9cb15dc1d",
   "metadata": {},
   "source": [
    "Write a Python program to determine the roots of a quadratic equation using if-else."
   ]
  },
  {
   "cell_type": "markdown",
   "id": "2b1b3548-11fc-4d12-bc7d-498a1d6c0fd3",
   "metadata": {},
   "source": [
    "ax2 + bx + c = 0\n",
    "x = {-b +- √(b2 – 4ac)}/2a"
   ]
  },
  {
   "cell_type": "code",
   "execution_count": 34,
   "id": "2d62ede4-acf5-43f0-968f-6994a341b6f6",
   "metadata": {},
   "outputs": [
    {
     "name": "stdin",
     "output_type": "stream",
     "text": [
      "Enter value of a:  2\n",
      "Enter value of b:  2\n",
      "Enter value of c:  1\n"
     ]
    },
    {
     "name": "stdout",
     "output_type": "stream",
     "text": [
      "The quadratic equation is:  2 **x2 +  2 **x +  1 = 0\n",
      "Complex roots\n",
      "The roots of the given quadratic equation are real and same roots:  -2.0 -i 2.0 and -2.0 +i 2.0\n"
     ]
    }
   ],
   "source": [
    "import math\n",
    "\n",
    "a = int(input(\"Enter value of a: \"))\n",
    "b = int(input(\"Enter value of b: \"))\n",
    "c = int(input(\"Enter value of c: \"))\n",
    "print(\"The quadratic equation is: \",a,\"**x2 + \", b,\"**x + \",c ,\"= 0\")\n",
    "\n",
    "d = (b**2 - 4*a*c)\n",
    "e = math.sqrt(abs(d))\n",
    "if d > 0:\n",
    "    print(\"real and different roots\")\n",
    "    x1 = (-b + math.sqrt(d))/2*a\n",
    "    x2 = (-b - math.sqrt(d))/2*a\n",
    "    print(\"The roots of the given quadratic equation are real and different roots : \", x1, \"and\", x2)\n",
    "elif d == 0:\n",
    "    print(\"real and same roots\")\n",
    "    x1 = -b /2*a\n",
    "    print(\"The roots of the given quadratic equation are real and same roots: \", x1)\n",
    "else:\n",
    "    print(\"Complex roots\")\n",
    "    x1 = -b /2*a\n",
    "    x2 = -b /2*a\n",
    "    print(\"The roots of the given quadratic equation are real and same roots: \", x1, \"-i\",e , \"and\", x2, \"+i\",e)"
   ]
  },
  {
   "cell_type": "markdown",
   "id": "3bfdfa5c-a5fb-4bfb-a117-6f8490fa8d5a",
   "metadata": {},
   "source": [
    "Create a Python program that checks if a given year is a century year or not using if-else."
   ]
  },
  {
   "cell_type": "code",
   "execution_count": 39,
   "id": "998c8df1-2895-4590-a6c2-d9d85305c100",
   "metadata": {},
   "outputs": [
    {
     "name": "stdin",
     "output_type": "stream",
     "text": [
      "Enter the year:  2000\n"
     ]
    },
    {
     "name": "stdout",
     "output_type": "stream",
     "text": [
      "Entered is a century year\n"
     ]
    }
   ],
   "source": [
    "y = int(input(\"Enter the year: \"))\n",
    "if y%100 == 0:\n",
    "    print(\"Entered is a century year\")\n",
    "else:\n",
    "    print(\"Entered is not a century year\")\n"
   ]
  },
  {
   "cell_type": "markdown",
   "id": "e515bc33-61a2-49c2-b2b4-06824acc46ed",
   "metadata": {},
   "source": [
    "Write a Python program to determine if a given number is a perfect square using if-else."
   ]
  },
  {
   "cell_type": "code",
   "execution_count": 71,
   "id": "59ddd70b-84fa-431b-82ee-8b1f2f3f4810",
   "metadata": {},
   "outputs": [
    {
     "name": "stdin",
     "output_type": "stream",
     "text": [
      "Enter the number:  625\n"
     ]
    },
    {
     "name": "stdout",
     "output_type": "stream",
     "text": [
      "Entered number is a perfect square\n"
     ]
    }
   ],
   "source": [
    "import math\n",
    "\n",
    "n = int(input(\"Enter the number: \"))\n",
    "n1 = math.sqrt(n)\n",
    "if n1.is_integer():\n",
    "    print(\"Entered number is a perfect square\")\n",
    "else:\n",
    "    print(\"Entered number is not a perfect square\")"
   ]
  },
  {
   "cell_type": "markdown",
   "id": "1fb87739-a329-4d2e-b8d5-ad672f16667a",
   "metadata": {},
   "source": [
    "Explain the purpose of the \"continue\" and \"break\" statements within if-else loops."
   ]
  },
  {
   "cell_type": "code",
   "execution_count": 96,
   "id": "0c9d93de-0e80-49b6-be51-e3ab3767f8cd",
   "metadata": {},
   "outputs": [
    {
     "name": "stdin",
     "output_type": "stream",
     "text": [
      "Enter the number:  576\n"
     ]
    },
    {
     "name": "stdout",
     "output_type": "stream",
     "text": [
      "Entered number is not a prime number\n"
     ]
    }
   ],
   "source": [
    "n = int(input(\"Enter the number: \"))\n",
    "if n <= 1:\n",
    "    if n == 1:\n",
    "        print(\"Entered number is 1 and it's not a prime number\")\n",
    "    elif n == 0:\n",
    "        print(\"Entered number is 0 and it's neither prime number nor composite number\")\n",
    "    else:\n",
    "        print(\"Entered number is a negative and it's not a prime number\")\n",
    "else:\n",
    "    for i in range(2,n):\n",
    "        if n%i == 0:\n",
    "            c = \"is not\"\n",
    "            break\n",
    "        else:\n",
    "            c = \"is\"\n",
    "            continue\n",
    "    print(\"Entered number\", c, \"a prime number\")"
   ]
  },
  {
   "cell_type": "markdown",
   "id": "d6378687-af7e-4a03-9e3e-e9ed594359c1",
   "metadata": {},
   "source": [
    "Create a Python program that calculates the BMI (Body Mass Index) of a person based on their weight and height using if-else."
   ]
  },
  {
   "cell_type": "markdown",
   "id": "7ec33716-94ea-4255-9cfe-b49d0c6d215b",
   "metadata": {},
   "source": [
    "BMI Categories:\n",
    "Underweight = <18.5\n",
    "Normal weight = 18.5–24.9\n",
    "Overweight = 25–29.9\n",
    "Obesity = BMI of 30 or greater"
   ]
  },
  {
   "cell_type": "code",
   "execution_count": 74,
   "id": "f3c0ea6a-57f6-4979-893c-238f0926f222",
   "metadata": {},
   "outputs": [
    {
     "name": "stdin",
     "output_type": "stream",
     "text": [
      "Enter the height in metres:  1.81\n",
      "Enter the weight in kgs:  103\n"
     ]
    },
    {
     "name": "stdout",
     "output_type": "stream",
     "text": [
      "BMI:  31.43982173926315\n",
      "Obesity\n"
     ]
    }
   ],
   "source": [
    "h = float(input(\"Enter the height in metres: \"))\n",
    "w = int(input(\"Enter the weight in kgs: \"))\n",
    "\n",
    "b = w/h**2\n",
    "print(\"BMI: \", b)\n",
    "\n",
    "if b <18.5:\n",
    "    print(\"Underweight\")\n",
    "elif b >= 18.5 and b <=24.9:\n",
    "    print(\"Normal weight\")\n",
    "elif b >=25 and b <=29.9:\n",
    "    print(\"Overweight\")\n",
    "elif b >=30:\n",
    "    print(\"Obesity\")\n",
    "else:\n",
    "    print(\"Enter a valid value\")"
   ]
  },
  {
   "cell_type": "markdown",
   "id": "656607d2-4206-42de-8c8d-b01ab6849b41",
   "metadata": {},
   "source": [
    "How can you use the \"filter()\" function with if-else statements to filter elements from a list?"
   ]
  },
  {
   "cell_type": "code",
   "execution_count": 8,
   "id": "3b7bcfad-b5b7-4d23-81a3-1ca9fd423ea9",
   "metadata": {},
   "outputs": [
    {
     "data": {
      "text/plain": [
       "[2, 4]"
      ]
     },
     "execution_count": 8,
     "metadata": {},
     "output_type": "execute_result"
    }
   ],
   "source": [
    "l = [1,2,3,4,5]\n",
    "list(filter(lambda i : i%2 == 0, l ))"
   ]
  },
  {
   "cell_type": "markdown",
   "id": "0695e382-0527-42f4-bbb3-61c7c1baf5d3",
   "metadata": {},
   "source": [
    "Write a Python program to determine if a given number is prime or not using if-else."
   ]
  },
  {
   "cell_type": "code",
   "execution_count": 95,
   "id": "e2e8b970-fdca-4f65-be1e-6d4f0b349a99",
   "metadata": {},
   "outputs": [
    {
     "name": "stdin",
     "output_type": "stream",
     "text": [
      "Enter the number:  78\n"
     ]
    },
    {
     "name": "stdout",
     "output_type": "stream",
     "text": [
      "Entered number is not a prime number\n"
     ]
    }
   ],
   "source": [
    "n = int(input(\"Enter the number: \"))\n",
    "if n <= 1:\n",
    "    if n == 1:\n",
    "        print(\"Entered number is 1 and it's not a prime number\")\n",
    "    elif n == 0:\n",
    "        print(\"Entered number is 0 and it's neither prime number nor composite number\")\n",
    "    else:\n",
    "        print(\"Entered number is a negative and it's not a prime number\")\n",
    "else:\n",
    "    for i in range(2,n):\n",
    "        if n%i == 0:\n",
    "            c = \"is not\"\n",
    "            break\n",
    "        else:\n",
    "            c = \"is\"\n",
    "            continue\n",
    "    print(\"Entered number\", c, \"a prime number\")"
   ]
  },
  {
   "cell_type": "code",
   "execution_count": null,
   "id": "07866486-0a17-4c30-9968-63bb4e0c6924",
   "metadata": {},
   "outputs": [],
   "source": []
  },
  {
   "cell_type": "markdown",
   "id": "be63cf44-9b04-464e-8cb7-57836b0203f6",
   "metadata": {},
   "source": [
    "Map :-"
   ]
  },
  {
   "cell_type": "markdown",
   "id": "75e12f8a-81f1-4dcc-801a-4b08f8384afa",
   "metadata": {},
   "source": [
    "Explain the purpose of the `map()` function in Python and provide an example of how it can be used to apply a function to each element of an iterable"
   ]
  },
  {
   "cell_type": "markdown",
   "id": "df947364-3928-43ff-aec1-b32afe9d1604",
   "metadata": {},
   "source": [
    "map() function is used to do the operation individually with each elements of the given data"
   ]
  },
  {
   "cell_type": "code",
   "execution_count": 9,
   "id": "71b5442e-033e-4355-ab0b-aa38f1b98223",
   "metadata": {},
   "outputs": [
    {
     "data": {
      "text/plain": [
       "[3, 4, 5, 6, 7]"
      ]
     },
     "execution_count": 9,
     "metadata": {},
     "output_type": "execute_result"
    }
   ],
   "source": [
    "l = [1,2,3,4,5]\n",
    "list(map(lambda i : i+2, l ))"
   ]
  },
  {
   "cell_type": "markdown",
   "id": "3555f600-4de4-4517-8e19-1a030f2a5efc",
   "metadata": {},
   "source": [
    "Write a Python program that uses the `map()` function to square each element of a list of numbers."
   ]
  },
  {
   "cell_type": "code",
   "execution_count": 10,
   "id": "a8b0ad1d-7724-4cdd-ae94-3e426873c447",
   "metadata": {},
   "outputs": [
    {
     "data": {
      "text/plain": [
       "[1, 2, 3, 4, 5]"
      ]
     },
     "execution_count": 10,
     "metadata": {},
     "output_type": "execute_result"
    }
   ],
   "source": [
    "l"
   ]
  },
  {
   "cell_type": "code",
   "execution_count": 12,
   "id": "e2b82791-ee01-49b7-99e3-e32bf45e79c6",
   "metadata": {},
   "outputs": [
    {
     "data": {
      "text/plain": [
       "[1, 4, 9, 16, 25]"
      ]
     },
     "execution_count": 12,
     "metadata": {},
     "output_type": "execute_result"
    }
   ],
   "source": [
    "list(map(lambda i : i**2, l))"
   ]
  },
  {
   "cell_type": "markdown",
   "id": "3a1c4a84-1bd3-48e5-a50c-84fc073a8fcc",
   "metadata": {},
   "source": [
    "How does the `map()` function differ from a list comprehension in Python, and when would you choose one over the other?"
   ]
  },
  {
   "cell_type": "markdown",
   "id": "fafd3d36-2880-45c1-ab60-80ef5d46e0fc",
   "metadata": {},
   "source": [
    "List comprehension returns a list, whereas the map function returns an object of Iterable."
   ]
  },
  {
   "cell_type": "markdown",
   "id": "6cb63d80-0792-4b82-bdbe-dc9cae1ea8f4",
   "metadata": {},
   "source": [
    "Create a Python program that uses the `map()` function to convert a list of names to uppercase."
   ]
  },
  {
   "cell_type": "code",
   "execution_count": 13,
   "id": "c583ffb5-f435-458b-bedc-235176234aba",
   "metadata": {},
   "outputs": [
    {
     "data": {
      "text/plain": [
       "['RISHABH', 'MOHAN', 'SUMIT', 'DIVYA']"
      ]
     },
     "execution_count": 13,
     "metadata": {},
     "output_type": "execute_result"
    }
   ],
   "source": [
    "l = [\"rishabh\",\"mohan\",\"sumit\",\"divya\"]\n",
    "list(map(lambda i : i.upper(), l))"
   ]
  },
  {
   "cell_type": "markdown",
   "id": "14970796-cd6a-4572-855d-08f594c3fbea",
   "metadata": {},
   "source": [
    "Write a Python program that uses the `map()` function to calculate the length of each word in a list of strings."
   ]
  },
  {
   "cell_type": "code",
   "execution_count": 15,
   "id": "be167d11-2a39-4667-8644-b4a5bd14e685",
   "metadata": {},
   "outputs": [
    {
     "data": {
      "text/plain": [
       "[1, 4, 2, 2, 1, 4, 9]"
      ]
     },
     "execution_count": 15,
     "metadata": {},
     "output_type": "execute_result"
    }
   ],
   "source": [
    "s = \"I want to be a Data Scientist\"\n",
    "list(map(lambda i : len(i), s.split(\" \")))"
   ]
  },
  {
   "cell_type": "markdown",
   "id": "a63d1a16-be16-4b07-a847-cc46dcf02c2d",
   "metadata": {},
   "source": [
    "How can you use the `map()` function to apply a custom function to elements of multiple lists simultaneously in Python?"
   ]
  },
  {
   "cell_type": "code",
   "execution_count": 16,
   "id": "59937bae-257b-45b7-a6b2-c9f8dec272cc",
   "metadata": {},
   "outputs": [
    {
     "ename": "TypeError",
     "evalue": "<lambda>() takes 1 positional argument but 2 were given",
     "output_type": "error",
     "traceback": [
      "\u001b[0;31m---------------------------------------------------------------------------\u001b[0m",
      "\u001b[0;31mTypeError\u001b[0m                                 Traceback (most recent call last)",
      "Cell \u001b[0;32mIn[16], line 4\u001b[0m\n\u001b[1;32m      1\u001b[0m l1 \u001b[38;5;241m=\u001b[39m [\u001b[38;5;241m1\u001b[39m,\u001b[38;5;241m2\u001b[39m,\u001b[38;5;241m3\u001b[39m,\u001b[38;5;241m4\u001b[39m,\u001b[38;5;241m5\u001b[39m]\n\u001b[1;32m      2\u001b[0m l2 \u001b[38;5;241m=\u001b[39m [\u001b[38;5;241m9\u001b[39m,\u001b[38;5;241m8\u001b[39m,\u001b[38;5;241m7\u001b[39m,\u001b[38;5;241m6\u001b[39m]\n\u001b[0;32m----> 4\u001b[0m \u001b[38;5;28;43mlist\u001b[39;49m\u001b[43m(\u001b[49m\u001b[38;5;28;43mmap\u001b[39;49m\u001b[43m(\u001b[49m\u001b[38;5;28;43;01mlambda\u001b[39;49;00m\u001b[43m \u001b[49m\u001b[43mi\u001b[49m\u001b[43m \u001b[49m\u001b[43m:\u001b[49m\u001b[43m \u001b[49m\u001b[43mi\u001b[49m\u001b[38;5;241;43m%\u001b[39;49m\u001b[38;5;241;43m2\u001b[39;49m\u001b[43m \u001b[49m\u001b[38;5;241;43m==\u001b[39;49m\u001b[43m \u001b[49m\u001b[38;5;241;43m0\u001b[39;49m\u001b[43m,\u001b[49m\u001b[43m \u001b[49m\u001b[43ml1\u001b[49m\u001b[43m,\u001b[49m\u001b[43ml2\u001b[49m\u001b[43m)\u001b[49m\u001b[43m)\u001b[49m\n",
      "\u001b[0;31mTypeError\u001b[0m: <lambda>() takes 1 positional argument but 2 were given"
     ]
    }
   ],
   "source": [
    "l1 = [1,2,3,4,5]\n",
    "l2 = [9,8,7,6]\n",
    "\n",
    "list(map(lambda i : i%2 == 0, l1,l2))"
   ]
  },
  {
   "cell_type": "markdown",
   "id": "a423396e-5afb-4cd9-b34a-74b2935ebb99",
   "metadata": {},
   "source": [
    "Create a Python program that uses `map()` to convert a list of temperatures from Celsius to Fahrenheit."
   ]
  },
  {
   "cell_type": "code",
   "execution_count": 20,
   "id": "1bd5a7a2-f6ad-49ad-adc0-e61307692540",
   "metadata": {},
   "outputs": [
    {
     "name": "stdin",
     "output_type": "stream",
     "text": [
      "Enter the temperature in Celcius:  47\n"
     ]
    },
    {
     "name": "stdout",
     "output_type": "stream",
     "text": [
      "The temperature in Fahrenheit:  116.6\n"
     ]
    }
   ],
   "source": [
    "c = int(input(\"Enter the temperature in Celcius: \"))\n",
    "f = (c * 9/5) + 32\n",
    "print(\"The temperature in Fahrenheit: \",f)"
   ]
  },
  {
   "cell_type": "markdown",
   "id": "f541fa0c-3dc6-46b1-9e18-1513cb60fbe6",
   "metadata": {},
   "source": [
    "Write a Python program that uses the `map()` function to round each element of a list of floating-point numbers to the nearest integer."
   ]
  },
  {
   "cell_type": "code",
   "execution_count": 24,
   "id": "ca16f4a4-aa29-47de-be01-98278bddb83f",
   "metadata": {},
   "outputs": [
    {
     "data": {
      "text/plain": [
       "[2, 3, 98, 78, 100, 43]"
      ]
     },
     "execution_count": 24,
     "metadata": {},
     "output_type": "execute_result"
    }
   ],
   "source": [
    "l = [2.1,3.456,98.32,78.12,99.99,42.87]\n",
    "list(map(lambda i : round(i), l))"
   ]
  },
  {
   "cell_type": "code",
   "execution_count": null,
   "id": "2b6e40a1-81fa-44c8-b16e-a5d763b7de5c",
   "metadata": {},
   "outputs": [],
   "source": []
  },
  {
   "cell_type": "markdown",
   "id": "74d22898-11d9-4e4c-8c1a-736004a5effe",
   "metadata": {},
   "source": [
    "Reduce :-"
   ]
  },
  {
   "cell_type": "markdown",
   "id": "07a1ddff-5876-40b5-a7e0-cdd09e280218",
   "metadata": {},
   "source": [
    "What is the `reduce()` function in Python, and what module should you import to use it? Provide an example of its basic usage."
   ]
  },
  {
   "cell_type": "markdown",
   "id": "1831779a-dd40-47e4-8c3f-0ef54e0036ba",
   "metadata": {},
   "source": [
    "The reduce() function is a powerful tool in Python that operates on a list (or any iterable), applies a function to its elements, and 'reduces' them to a single output. It's part of the functools module, which needs to be imported before you can use reduce()"
   ]
  },
  {
   "cell_type": "code",
   "execution_count": 1,
   "id": "5d719694-ad17-468d-97e8-8d8d4a964191",
   "metadata": {},
   "outputs": [],
   "source": [
    "from functools import reduce"
   ]
  },
  {
   "cell_type": "code",
   "execution_count": 3,
   "id": "c2d7d332-c482-4867-9879-d29df8f27334",
   "metadata": {},
   "outputs": [
    {
     "data": {
      "text/plain": [
       "10"
      ]
     },
     "execution_count": 3,
     "metadata": {},
     "output_type": "execute_result"
    }
   ],
   "source": [
    "l = [1,2,3,4]\n",
    "reduce(lambda a,b : a+b, l)"
   ]
  },
  {
   "cell_type": "markdown",
   "id": "3ccdde5c-6318-4813-b006-32b1e7e16627",
   "metadata": {},
   "source": [
    "Write a Python program that uses the `reduce()` function to find the product of all elements in a list."
   ]
  },
  {
   "cell_type": "code",
   "execution_count": 5,
   "id": "567543ca-c028-45ad-9dc4-d9c5385dc7ff",
   "metadata": {},
   "outputs": [
    {
     "data": {
      "text/plain": [
       "720"
      ]
     },
     "execution_count": 5,
     "metadata": {},
     "output_type": "execute_result"
    }
   ],
   "source": [
    "l = [1,2,3,4,5,6]\n",
    "reduce(lambda a,b : a*b, l)"
   ]
  },
  {
   "cell_type": "markdown",
   "id": "40e6472d-4d66-40eb-b7e9-664d01e324b4",
   "metadata": {},
   "source": [
    "Create a Python program that uses `reduce()` to find the maximum element in a list of numbers."
   ]
  },
  {
   "cell_type": "code",
   "execution_count": 6,
   "id": "604484df-fff6-4a85-bf41-8dd41238e822",
   "metadata": {},
   "outputs": [
    {
     "data": {
      "text/plain": [
       "89"
      ]
     },
     "execution_count": 6,
     "metadata": {},
     "output_type": "execute_result"
    }
   ],
   "source": [
    "l = [35,57,7,89,32,31,57,65,79,21,32,4,34,64,56,86,79,54,24]\n",
    "reduce(lambda a,b: max(a,b), l)"
   ]
  },
  {
   "cell_type": "markdown",
   "id": "7a947410-2cad-46dc-a539-09e62f22c4cd",
   "metadata": {},
   "source": [
    "How can you use the `reduce()` function to concatenate a list of strings into a single string?"
   ]
  },
  {
   "cell_type": "code",
   "execution_count": 7,
   "id": "385c2ac6-c128-47de-abef-e451fdf5c223",
   "metadata": {},
   "outputs": [
    {
     "data": {
      "text/plain": [
       "'I want to be a Data Scientist'"
      ]
     },
     "execution_count": 7,
     "metadata": {},
     "output_type": "execute_result"
    }
   ],
   "source": [
    "l = [\"I\", \" want\", \" to\", \" be\", \" a\", \" Data\", \" Scientist\"]\n",
    "reduce(lambda a,b: a + b, l)"
   ]
  },
  {
   "cell_type": "markdown",
   "id": "31d65725-b23d-4d10-99d5-e5cfd8069080",
   "metadata": {},
   "source": [
    "Write a Python program that calculates the factorial of a number using the `reduce()` function."
   ]
  },
  {
   "cell_type": "code",
   "execution_count": 8,
   "id": "580c576a-fd9f-46dd-9ae6-835b7d15ebc7",
   "metadata": {},
   "outputs": [
    {
     "name": "stdin",
     "output_type": "stream",
     "text": [
      "Enter the number:  7\n"
     ]
    },
    {
     "data": {
      "text/plain": [
       "5040"
      ]
     },
     "execution_count": 8,
     "metadata": {},
     "output_type": "execute_result"
    }
   ],
   "source": [
    "n = int(input(\"Enter the number: \"))\n",
    "reduce(lambda a,b: a*b, range(1,n+1))"
   ]
  },
  {
   "cell_type": "markdown",
   "id": "978384bb-8f9e-4135-90b8-c221f2978212",
   "metadata": {},
   "source": [
    "Create a Python program that uses `reduce()` to find the GCD (Greatest Common Divisor) of a list of numbers."
   ]
  },
  {
   "cell_type": "code",
   "execution_count": 15,
   "id": "2fb6af7d-9896-47d3-806f-a7fe1a94cfc9",
   "metadata": {},
   "outputs": [],
   "source": [
    "from math import gcd\n",
    "l = [400,96]\n",
    "\n",
    "def find_gcd(l):\n",
    "    x = reduce(gcd, l)\n",
    "    return x"
   ]
  },
  {
   "cell_type": "code",
   "execution_count": 16,
   "id": "3db77088-3842-41b2-bc72-a5ca2e3e1ef1",
   "metadata": {},
   "outputs": [
    {
     "data": {
      "text/plain": [
       "16"
      ]
     },
     "execution_count": 16,
     "metadata": {},
     "output_type": "execute_result"
    }
   ],
   "source": [
    "find_gcd(l)"
   ]
  },
  {
   "cell_type": "markdown",
   "id": "917150d2-a065-44f7-8370-6a7ffb5e29b5",
   "metadata": {},
   "source": [
    "Write a Python program that uses the `reduce()` function to find the sum of the digits of a given number."
   ]
  },
  {
   "cell_type": "code",
   "execution_count": 19,
   "id": "4b62be61-6bfd-4919-a54e-a70bba68c0fa",
   "metadata": {},
   "outputs": [
    {
     "ename": "TypeError",
     "evalue": "'int' object is not iterable",
     "output_type": "error",
     "traceback": [
      "\u001b[0;31m---------------------------------------------------------------------------\u001b[0m",
      "\u001b[0;31mTypeError\u001b[0m                                 Traceback (most recent call last)",
      "Cell \u001b[0;32mIn[19], line 2\u001b[0m\n\u001b[1;32m      1\u001b[0m n \u001b[38;5;241m=\u001b[39m \u001b[38;5;241m456\u001b[39m\n\u001b[0;32m----> 2\u001b[0m reduce(\u001b[38;5;28;43mmap\u001b[39;49m\u001b[43m(\u001b[49m\u001b[38;5;28;43;01mlambda\u001b[39;49;00m\u001b[43m \u001b[49m\u001b[43mi\u001b[49m\u001b[43m:\u001b[49m\u001b[43m \u001b[49m\u001b[38;5;28;43mstr\u001b[39;49m\u001b[43m(\u001b[49m\u001b[43mi\u001b[49m\u001b[43m)\u001b[49m\u001b[43m,\u001b[49m\u001b[43mn\u001b[49m\u001b[43m)\u001b[49m)\n",
      "\u001b[0;31mTypeError\u001b[0m: 'int' object is not iterable"
     ]
    }
   ],
   "source": [
    "n = 456\n",
    "reduce(map(lambda i: str(i),n))"
   ]
  },
  {
   "cell_type": "code",
   "execution_count": null,
   "id": "d5b2ab61-f413-4de4-9cd2-35888d90e9bc",
   "metadata": {},
   "outputs": [],
   "source": []
  },
  {
   "cell_type": "markdown",
   "id": "0bc7da2e-e49d-4339-a715-00ccbd4a0b97",
   "metadata": {},
   "source": [
    "Filter :-"
   ]
  },
  {
   "cell_type": "markdown",
   "id": "4e541463-f30f-4f21-b3fd-850135ad5142",
   "metadata": {},
   "source": [
    "Explain the purpose of the `filter()` function in Python and provide an example of how it can be used to filter elements from an iterable"
   ]
  },
  {
   "cell_type": "markdown",
   "id": "75e479da-d99a-4a99-8db4-16c995842186",
   "metadata": {},
   "source": [
    "filter() function is used to filter out certain specific elements based on the condition"
   ]
  },
  {
   "cell_type": "code",
   "execution_count": 20,
   "id": "acab6c02-9ccd-4b85-a0f7-a046f3655008",
   "metadata": {},
   "outputs": [
    {
     "data": {
      "text/plain": [
       "[35, 65]"
      ]
     },
     "execution_count": 20,
     "metadata": {},
     "output_type": "execute_result"
    }
   ],
   "source": [
    "l = [35,57,7,89,32,31,57,65,79,21,32,4,34,64,56,86,79,54,24]\n",
    "list(filter(lambda a: a%5 == 0, l))"
   ]
  },
  {
   "cell_type": "markdown",
   "id": "9f0e6548-d257-4ca7-93e0-34d72c6d17a2",
   "metadata": {},
   "source": [
    "Write a Python program that uses the `filter()` function to select even numbers from a list of integers."
   ]
  },
  {
   "cell_type": "code",
   "execution_count": 21,
   "id": "55c88318-b1df-4504-8bd7-bb4e850d86c9",
   "metadata": {},
   "outputs": [
    {
     "data": {
      "text/plain": [
       "[32, 32, 4, 34, 64, 56, 86, 54, 24]"
      ]
     },
     "execution_count": 21,
     "metadata": {},
     "output_type": "execute_result"
    }
   ],
   "source": [
    "l = [35,57,7,89,32,31,57,65,79,21,32,4,34,64,56,86,79,54,24]\n",
    "list(filter(lambda a : a%2 == 0, l))"
   ]
  },
  {
   "cell_type": "markdown",
   "id": "8e96cc32-a71c-4144-bc78-056f8d5e5784",
   "metadata": {},
   "source": [
    "Create a Python program that uses the `filter()` function to select names that start with a specific letter from a list of strings."
   ]
  },
  {
   "cell_type": "code",
   "execution_count": 24,
   "id": "37bea076-0e0c-4efb-82f4-f364e2f7b27e",
   "metadata": {},
   "outputs": [
    {
     "data": {
      "text/plain": [
       "['data', 'dsa', 'dotnet']"
      ]
     },
     "execution_count": 24,
     "metadata": {},
     "output_type": "execute_result"
    }
   ],
   "source": [
    "l = [\"rish\",\"singh\",\"data\",\"flow\", \"python\", \"dsa\", \"dotnet\"]\n",
    "list(filter(lambda a: a[0] == \"d\", l))"
   ]
  },
  {
   "cell_type": "markdown",
   "id": "1112efa3-abca-432c-aeb1-003e3709ae7f",
   "metadata": {},
   "source": [
    "Write a Python program that uses the `filter()` function to select prime numbers from a list of integers."
   ]
  },
  {
   "cell_type": "code",
   "execution_count": 26,
   "id": "28076f73-2585-4b81-8e55-910a224cfcb0",
   "metadata": {},
   "outputs": [
    {
     "data": {
      "text/plain": [
       "[7, 89, 31, 79, 79]"
      ]
     },
     "execution_count": 26,
     "metadata": {},
     "output_type": "execute_result"
    }
   ],
   "source": [
    "l = [35,57,7,89,32,31,57,65,79,21,32,4,34,64,56,86,79,54,24]\n",
    "import math\n",
    "\n",
    "def main(x):\n",
    "    if x <= 1:\n",
    "        return False\n",
    "    for i in range(2, int(math.sqrt(x)) + 1):\n",
    "        if x % i == 0:\n",
    "            return False\n",
    "    return True\n",
    "list(filter(main, l))"
   ]
  },
  {
   "cell_type": "markdown",
   "id": "8d6aa2b4-d1c5-494c-b47b-d2ae1c549caa",
   "metadata": {},
   "source": [
    "How can you use the `filter()` function to remove None values from a list in Python?"
   ]
  },
  {
   "cell_type": "code",
   "execution_count": 40,
   "id": "8e537f23-d211-4b23-afec-1236b331a88f",
   "metadata": {},
   "outputs": [
    {
     "data": {
      "text/plain": [
       "[35, 57, 7, 89, 32, 31, 57, 65, 79, 21, 32, 4, 34, 64, 56, 86, 79, 54, 24]"
      ]
     },
     "execution_count": 40,
     "metadata": {},
     "output_type": "execute_result"
    }
   ],
   "source": [
    "l = [35,57,7,89,None,32,31,57,65,None,79,21,32,4,34,64,56,86,None,79,54,24]\n",
    "list(filter(lambda a: a != None, l))"
   ]
  },
  {
   "cell_type": "markdown",
   "id": "1f9b0307-c563-4944-8951-af949eb3fc3f",
   "metadata": {},
   "source": [
    "Create a Python program that uses `filter()` to select words longer than a certain length from a list of strings"
   ]
  },
  {
   "cell_type": "code",
   "execution_count": 41,
   "id": "8149e20d-277d-49ad-895e-c0f438a03df6",
   "metadata": {},
   "outputs": [
    {
     "data": {
      "text/plain": [
       "['rishabh', 'data science', 'python class', 'dotnet']"
      ]
     },
     "execution_count": 41,
     "metadata": {},
     "output_type": "execute_result"
    }
   ],
   "source": [
    "l = [\"rishabh\",\"singh\",\"data science\",\"flow\", \"python class\", \"dsa\", \"dotnet\"]\n",
    "list(filter(lambda a: len(a)>5, l))"
   ]
  },
  {
   "cell_type": "markdown",
   "id": "f8f66b3a-3648-4186-8dc0-385466d563bb",
   "metadata": {},
   "source": [
    "Write a Python program that uses the `filter()` function to select elements greater than a specified threshold from a list of values."
   ]
  },
  {
   "cell_type": "code",
   "execution_count": 42,
   "id": "67cb6d02-936e-4594-b519-c38cb7b895e4",
   "metadata": {},
   "outputs": [
    {
     "data": {
      "text/plain": [
       "[57, 89, 57, 65, 79, 64, 56, 86, 79, 54]"
      ]
     },
     "execution_count": 42,
     "metadata": {},
     "output_type": "execute_result"
    }
   ],
   "source": [
    "l = [35,57,7,89,32,31,57,65,79,21,32,4,34,64,56,86,79,54,24]\n",
    "list(filter(lambda a: a>50, l))"
   ]
  },
  {
   "cell_type": "code",
   "execution_count": null,
   "id": "8248ac4c-3124-456d-8282-41cfd10840a9",
   "metadata": {},
   "outputs": [],
   "source": []
  },
  {
   "cell_type": "markdown",
   "id": "baa29feb-d11a-48b4-abd9-57a747afb04e",
   "metadata": {},
   "source": [
    "Recursion:-"
   ]
  },
  {
   "cell_type": "markdown",
   "id": "0fa323be-fb55-44d2-9ab0-0a1078de3296",
   "metadata": {},
   "source": [
    "Explain the concept of recursion in Python. How does it differ from iteration?"
   ]
  },
  {
   "cell_type": "markdown",
   "id": "b889c09e-9c8a-47ff-80e7-95fa3d4a20bf",
   "metadata": {},
   "source": [
    "Recursion is a technique in which the function calls itself in its body to solve the problem, typically breaking into smaller and more manageable sub-problems whereas Iteration is a technique that repetitively executes a code block until the condition is unmet."
   ]
  },
  {
   "cell_type": "markdown",
   "id": "62618ceb-7e0d-413f-b0cb-86b32793a968",
   "metadata": {},
   "source": [
    "Write a Python program to calculate the factorial of a number using recursion."
   ]
  },
  {
   "cell_type": "code",
   "execution_count": 4,
   "id": "1b621099-9285-4dc9-b418-cdced0695b57",
   "metadata": {},
   "outputs": [],
   "source": [
    "def fac(n):\n",
    "    if n == 0:\n",
    "        return 1\n",
    "    else:\n",
    "        return n*fac(n-1)"
   ]
  },
  {
   "cell_type": "code",
   "execution_count": 5,
   "id": "fbfa243c-10a1-4e18-aa7c-18368b625b21",
   "metadata": {},
   "outputs": [
    {
     "data": {
      "text/plain": [
       "5040"
      ]
     },
     "execution_count": 5,
     "metadata": {},
     "output_type": "execute_result"
    }
   ],
   "source": [
    "fac(7)"
   ]
  },
  {
   "cell_type": "markdown",
   "id": "20515a19-4f97-42ea-b6b7-2715e96e7c66",
   "metadata": {},
   "source": [
    "Create a recursive Python function to find the nth Fibonacci number."
   ]
  },
  {
   "cell_type": "code",
   "execution_count": 10,
   "id": "c5c146f5-e794-4643-9356-aba2e5097481",
   "metadata": {},
   "outputs": [],
   "source": [
    "def fib(n):\n",
    "    if n <= 1:\n",
    "        return n\n",
    "    else:\n",
    "        return fib(n-1) + fib(n-2)"
   ]
  },
  {
   "cell_type": "code",
   "execution_count": 11,
   "id": "6752d11c-2be8-4a8e-a529-c7d552e6f3ad",
   "metadata": {},
   "outputs": [
    {
     "data": {
      "text/plain": [
       "6765"
      ]
     },
     "execution_count": 11,
     "metadata": {},
     "output_type": "execute_result"
    }
   ],
   "source": [
    "fib(20)"
   ]
  },
  {
   "cell_type": "markdown",
   "id": "3617f235-523e-42d9-acaf-9d25615e6b95",
   "metadata": {},
   "source": [
    "Write a recursive Python function to calculate the sum of all elements in a list."
   ]
  },
  {
   "cell_type": "code",
   "execution_count": 25,
   "id": "17402211-1de7-4f79-9e33-a7a6b77d6675",
   "metadata": {},
   "outputs": [],
   "source": [
    "def sum(l):\n",
    "    if l == []:\n",
    "        return 0\n",
    "    else:\n",
    "        return l[0] + sum(l[1:])"
   ]
  },
  {
   "cell_type": "code",
   "execution_count": 28,
   "id": "a8bf823a-4c1f-4e77-b393-9757075315f9",
   "metadata": {},
   "outputs": [],
   "source": [
    "l = [34,6,7,89,90,53,42]"
   ]
  },
  {
   "cell_type": "code",
   "execution_count": 29,
   "id": "5e9cb35a-a04e-4920-9100-6affbcef34b6",
   "metadata": {},
   "outputs": [
    {
     "data": {
      "text/plain": [
       "321"
      ]
     },
     "execution_count": 29,
     "metadata": {},
     "output_type": "execute_result"
    }
   ],
   "source": [
    "sum(l)"
   ]
  },
  {
   "cell_type": "markdown",
   "id": "e1ec39cc-7b5e-46ff-97dc-69f5aa5c421f",
   "metadata": {},
   "source": [
    "How can you prevent a recursive function from running indefinitely, causing a stack overflow error"
   ]
  },
  {
   "cell_type": "markdown",
   "id": "b42f71a1-4c8b-4f71-9b36-31aa5ee366ad",
   "metadata": {},
   "source": [
    "We have to add base case where the function stops make new recursive calls"
   ]
  },
  {
   "cell_type": "markdown",
   "id": "2caf48f0-b73b-4d90-804c-b98f0d69cc70",
   "metadata": {},
   "source": [
    "Create a recursive Python function to find the greatest common divisor (GCD) of two numbers using the Euclidean algorithm."
   ]
  },
  {
   "cell_type": "code",
   "execution_count": null,
   "id": "3b7a7da6-3ab9-4343-8989-022eccce4567",
   "metadata": {},
   "outputs": [],
   "source": []
  },
  {
   "cell_type": "markdown",
   "id": "87da6ea4-7e89-45e5-af68-634c95a0f6c8",
   "metadata": {},
   "source": [
    "Write a recursive Python function to reverse a string."
   ]
  },
  {
   "cell_type": "code",
   "execution_count": 43,
   "id": "ff6cb205-1792-431a-a6bb-8721796c0f24",
   "metadata": {},
   "outputs": [],
   "source": [
    "def str_rev(s):\n",
    "    if s == \"\":\n",
    "        return \"\"\n",
    "    else:\n",
    "        return str_rev(s[1:]) + s[0]"
   ]
  },
  {
   "cell_type": "code",
   "execution_count": 44,
   "id": "d8f3a338-f6f4-4616-ab6a-2c32c2f262ac",
   "metadata": {},
   "outputs": [],
   "source": [
    "s = \"Data Scientist\""
   ]
  },
  {
   "cell_type": "code",
   "execution_count": 45,
   "id": "79e9bbab-98f7-4040-9c53-2dbbf2ba8625",
   "metadata": {},
   "outputs": [
    {
     "data": {
      "text/plain": [
       "'tsitneicS ataD'"
      ]
     },
     "execution_count": 45,
     "metadata": {},
     "output_type": "execute_result"
    }
   ],
   "source": [
    "str_rev(s)"
   ]
  },
  {
   "cell_type": "markdown",
   "id": "1a02f53e-0dea-4fc0-9f7f-e5512461955e",
   "metadata": {},
   "source": [
    "Create a recursive Python function to calculate the power of a number (x^n)."
   ]
  },
  {
   "cell_type": "code",
   "execution_count": 51,
   "id": "44fa3ee5-4cc8-4443-a187-ec911d40880f",
   "metadata": {},
   "outputs": [],
   "source": [
    "def pow(n,k):\n",
    "    if k == 0:\n",
    "        return 1\n",
    "    else:\n",
    "        return n*pow(n,k-1)"
   ]
  },
  {
   "cell_type": "code",
   "execution_count": 54,
   "id": "41649247-08d4-4043-85aa-2930add3dca2",
   "metadata": {},
   "outputs": [
    {
     "data": {
      "text/plain": [
       "5764801"
      ]
     },
     "execution_count": 54,
     "metadata": {},
     "output_type": "execute_result"
    }
   ],
   "source": [
    "pow(7,8)"
   ]
  },
  {
   "cell_type": "markdown",
   "id": "003761a1-9e23-4f09-95a3-f19aa34826ac",
   "metadata": {},
   "source": [
    "Write a recursive Python function to find all permutations of a given string."
   ]
  },
  {
   "cell_type": "code",
   "execution_count": null,
   "id": "227f19ee-e469-4a5a-bf32-447cac402218",
   "metadata": {},
   "outputs": [],
   "source": []
  },
  {
   "cell_type": "markdown",
   "id": "12b959eb-3df6-4291-8a2b-cca9794f3fec",
   "metadata": {},
   "source": [
    "Write a recursive Python function to check if a string is a palindrome."
   ]
  },
  {
   "cell_type": "code",
   "execution_count": 63,
   "id": "1e3d6803-374f-4fa5-8908-299e1164d20e",
   "metadata": {},
   "outputs": [],
   "source": [
    "def pal(s):\n",
    "    if s == \"\":\n",
    "        return \"\"\n",
    "    else:\n",
    "        return pal(s[1:]) + s[0]"
   ]
  },
  {
   "cell_type": "code",
   "execution_count": 70,
   "id": "91910a10-0ff1-41d8-86f1-f69915ca37a3",
   "metadata": {},
   "outputs": [
    {
     "name": "stdin",
     "output_type": "stream",
     "text": [
      " tenet\n"
     ]
    },
    {
     "name": "stdout",
     "output_type": "stream",
     "text": [
      "Pallindrome\n"
     ]
    }
   ],
   "source": [
    "s = input()\n",
    "if pal(s) == pal(s[::-1]):\n",
    "    print(\"Pallindrome\")\n",
    "else:\n",
    "    print(\"Not a Pallindrome\")"
   ]
  },
  {
   "cell_type": "markdown",
   "id": "66fe53f4-527e-4c99-a9a9-d107230c6c47",
   "metadata": {},
   "source": [
    "Create a recursive Python function to generate all possible combinations of a list of elements."
   ]
  },
  {
   "cell_type": "code",
   "execution_count": null,
   "id": "07b87b61-1a83-4c0c-a9c8-04c1f579a594",
   "metadata": {},
   "outputs": [],
   "source": []
  },
  {
   "cell_type": "markdown",
   "id": "bc10b987-73d6-4a77-a94b-cf1b25754cc1",
   "metadata": {},
   "source": [
    "Basics of Functions:"
   ]
  },
  {
   "cell_type": "markdown",
   "id": "6f31df7a-b8a7-405d-ade9-e33529de6d34",
   "metadata": {},
   "source": [
    "What is a function in Python, and why is it used?"
   ]
  },
  {
   "cell_type": "markdown",
   "id": "9062daf7-cc40-4e45-8895-8ddec9783a08",
   "metadata": {},
   "source": [
    "We use functions in programming to bundle a set of instructions that you want to use repeatedly or that, because of their complexity, are better self-contained in a sub-program and called when needed."
   ]
  },
  {
   "cell_type": "markdown",
   "id": "91aa11b8-6973-4bbc-bec8-ee243870bff7",
   "metadata": {},
   "source": [
    "How do you define a function in Python? Provide an example"
   ]
  },
  {
   "cell_type": "code",
   "execution_count": 71,
   "id": "4518a789-2c60-48f5-b710-8b6da04226cb",
   "metadata": {},
   "outputs": [],
   "source": [
    "def test1():\n",
    "    return \"This is the output of the test1 function\""
   ]
  },
  {
   "cell_type": "code",
   "execution_count": 72,
   "id": "d5cd5b69-992f-46d9-b8b3-ba0b8db53923",
   "metadata": {},
   "outputs": [
    {
     "data": {
      "text/plain": [
       "'This is the output of the test1 function'"
      ]
     },
     "execution_count": 72,
     "metadata": {},
     "output_type": "execute_result"
    }
   ],
   "source": [
    "test1()"
   ]
  },
  {
   "cell_type": "markdown",
   "id": "3d123d28-ed88-451d-81a3-2fea720d3fd4",
   "metadata": {},
   "source": [
    "Explain the difference between a function definition and a function call."
   ]
  },
  {
   "cell_type": "markdown",
   "id": "6e263442-57cb-4908-959f-d59c20eb1a7d",
   "metadata": {},
   "source": [
    "Function is a block of code that performs a specific task, while a function call is an expression that invokes a function and executes the code in the function."
   ]
  },
  {
   "cell_type": "markdown",
   "id": "99b1265d-4153-4df2-972e-dc939796fe2e",
   "metadata": {},
   "source": [
    "Write a Python program that defines a function to calculate the sum of two numbers and then calls the function."
   ]
  },
  {
   "cell_type": "code",
   "execution_count": 73,
   "id": "fcfe3fb1-36c8-437a-93e2-4506656b2947",
   "metadata": {},
   "outputs": [],
   "source": [
    "def test2(a,b):\n",
    "    return a+b"
   ]
  },
  {
   "cell_type": "code",
   "execution_count": 74,
   "id": "00353c45-541e-4678-8ffa-0fd854c48968",
   "metadata": {},
   "outputs": [
    {
     "data": {
      "text/plain": [
       "11"
      ]
     },
     "execution_count": 74,
     "metadata": {},
     "output_type": "execute_result"
    }
   ],
   "source": [
    "test2(3,8)"
   ]
  },
  {
   "cell_type": "markdown",
   "id": "c736b610-8d03-4631-b8fa-855c9f080c5c",
   "metadata": {},
   "source": [
    "What is a function signature, and what information does it typically include?"
   ]
  },
  {
   "cell_type": "markdown",
   "id": "0e951021-718d-4b6a-a84a-b2ac095267e1",
   "metadata": {},
   "source": [
    "The function signature indicates the names and types of the input arguments, and the type of the returned result of a function"
   ]
  },
  {
   "cell_type": "markdown",
   "id": "91da7951-14bd-4c20-8ee2-710e437b8c5d",
   "metadata": {},
   "source": [
    "Create a Python function that takes two arguments and returns their product."
   ]
  },
  {
   "cell_type": "code",
   "execution_count": 75,
   "id": "72e41563-bda2-469e-a608-4d7e27300782",
   "metadata": {},
   "outputs": [],
   "source": [
    "def test3(a,b):\n",
    "    return a*b"
   ]
  },
  {
   "cell_type": "code",
   "execution_count": 76,
   "id": "06a47657-ad89-4266-96e9-b4e6b4867b9f",
   "metadata": {},
   "outputs": [
    {
     "data": {
      "text/plain": [
       "20"
      ]
     },
     "execution_count": 76,
     "metadata": {},
     "output_type": "execute_result"
    }
   ],
   "source": [
    "test3(4,5)"
   ]
  },
  {
   "cell_type": "code",
   "execution_count": null,
   "id": "e66774cf-1373-4c4c-a881-a093e88bdef7",
   "metadata": {},
   "outputs": [],
   "source": []
  },
  {
   "cell_type": "markdown",
   "id": "30cb92e2-d16f-4c0c-a699-ce1c420ac244",
   "metadata": {},
   "source": [
    "Function Parameters and Arguments:"
   ]
  },
  {
   "cell_type": "markdown",
   "id": "6c85c915-7067-46e4-bd37-dc75a5bc2a2c",
   "metadata": {},
   "source": [
    "Explain the concepts of formal parameters and actual arguments in Python functions."
   ]
  },
  {
   "cell_type": "markdown",
   "id": "23781ccf-8066-45bd-9fff-73821764ebfd",
   "metadata": {},
   "source": [
    "Actual Parameters are values supplied to the function when it is invoked, whereas Formal Parameters are variables declared by the function that get values when the function is called."
   ]
  },
  {
   "cell_type": "markdown",
   "id": "6bd44e1a-5b93-4e25-8339-33306c8617db",
   "metadata": {},
   "source": [
    "Write a Python program that defines a function with default argument values."
   ]
  },
  {
   "cell_type": "code",
   "execution_count": 78,
   "id": "b0b8479e-9bb0-4d37-9158-554fab913643",
   "metadata": {},
   "outputs": [],
   "source": [
    "def student(name ='Mark', class1 ='Fifth'):\n",
    " \n",
    "     return name, 'studies in', class1, 'Standard'"
   ]
  },
  {
   "cell_type": "code",
   "execution_count": 79,
   "id": "5e19feba-e85f-4a61-bfa9-32378033cbc6",
   "metadata": {},
   "outputs": [
    {
     "data": {
      "text/plain": [
       "('Mark', 'studies in', 'Fifth', 'Standard')"
      ]
     },
     "execution_count": 79,
     "metadata": {},
     "output_type": "execute_result"
    }
   ],
   "source": [
    "student()"
   ]
  },
  {
   "cell_type": "markdown",
   "id": "a1516d32-3e78-4d53-86d2-e191e3e3d54e",
   "metadata": {},
   "source": [
    "How do you use keyword arguments in Python function calls? Provide an example."
   ]
  },
  {
   "cell_type": "code",
   "execution_count": 82,
   "id": "2eaa0f15-ed05-4bf3-8aa8-fee768c39153",
   "metadata": {},
   "outputs": [],
   "source": [
    "def test5(a,b):\n",
    "    return a * b"
   ]
  },
  {
   "cell_type": "code",
   "execution_count": 83,
   "id": "558aef37-2e57-47a0-ad5d-5ee800c606c4",
   "metadata": {},
   "outputs": [
    {
     "data": {
      "text/plain": [
       "32"
      ]
     },
     "execution_count": 83,
     "metadata": {},
     "output_type": "execute_result"
    }
   ],
   "source": [
    "test5(4,8)"
   ]
  },
  {
   "cell_type": "markdown",
   "id": "639d4d2b-2417-426c-b8be-0f0b6d9b8269",
   "metadata": {},
   "source": [
    "Create a Python function that accepts a variable number of arguments and calculates their sum."
   ]
  },
  {
   "cell_type": "code",
   "execution_count": 88,
   "id": "615c3693-3d8b-4340-a24c-ab6e5e84c0e9",
   "metadata": {},
   "outputs": [],
   "source": [
    "def test6(c,d):\n",
    "    return c + d"
   ]
  },
  {
   "cell_type": "code",
   "execution_count": 89,
   "id": "a49281ff-30fc-4b87-afb3-0d6858b798ea",
   "metadata": {},
   "outputs": [
    {
     "data": {
      "text/plain": [
       "9"
      ]
     },
     "execution_count": 89,
     "metadata": {},
     "output_type": "execute_result"
    }
   ],
   "source": [
    "test6(6,3)"
   ]
  },
  {
   "cell_type": "markdown",
   "id": "c679db93-3d7e-4bcf-8001-d16494c31069",
   "metadata": {},
   "source": [
    "What is the purpose of the `*args` and `**kwargs` syntax in function parameter lists?"
   ]
  },
  {
   "cell_type": "markdown",
   "id": "630ee94d-5165-45e4-b6d3-e2fa4107bf41",
   "metadata": {},
   "source": [
    "*args passes variable number of non-keyworded arguments and on which operation of the tuple can be performed. **kwargs passes variable number of keyword arguments dictionary to function on which operation of a dictionary can be performed."
   ]
  },
  {
   "cell_type": "code",
   "execution_count": null,
   "id": "d98da289-2c56-4599-9cd6-53d52dc5625d",
   "metadata": {},
   "outputs": [],
   "source": []
  },
  {
   "cell_type": "markdown",
   "id": "5d34da36-c974-4579-bc0e-90bd2a568bfe",
   "metadata": {},
   "source": [
    "Return Values and Scoping:"
   ]
  },
  {
   "cell_type": "markdown",
   "id": "7ae3c4b5-71c5-4272-9d0e-7e2da16bba84",
   "metadata": {},
   "source": [
    "Describe the role of the `return` statement in Python functions and provide examples."
   ]
  },
  {
   "cell_type": "markdown",
   "id": "cc7b6514-6944-4a85-b347-73df2a6ec2a1",
   "metadata": {},
   "source": [
    "The return statement is used to return the output from a function and also gives us primitive data types instead of None type like print statement"
   ]
  },
  {
   "cell_type": "markdown",
   "id": "2f78d429-084e-4601-9b04-a47544dfd68d",
   "metadata": {},
   "source": [
    "Explain the concept of variable scope in Python, including local and global variables."
   ]
  },
  {
   "cell_type": "markdown",
   "id": "a0054734-47a2-475d-858e-ca2e81e0b7c0",
   "metadata": {},
   "source": [
    "Global variables are those which are not defined inside any function and have a global scope whereas local variables are those which are defined inside a function and their scope is limited to that function only."
   ]
  },
  {
   "cell_type": "markdown",
   "id": "6fc83e17-0ac3-4db1-a16b-c3ddda6e5731",
   "metadata": {},
   "source": [
    "Write a Python program that demonstrates the use of global variables within functions."
   ]
  },
  {
   "cell_type": "code",
   "execution_count": 94,
   "id": "1cab055c-4aad-4dde-a99a-4e50cbf219b4",
   "metadata": {},
   "outputs": [],
   "source": [
    "a = \"awesome\"\n",
    "def test7():\n",
    "    global a\n",
    "    a = \"fantastic\""
   ]
  },
  {
   "cell_type": "code",
   "execution_count": 95,
   "id": "46d57bed-a30a-41f8-bc79-88599560173c",
   "metadata": {},
   "outputs": [],
   "source": [
    "test7()"
   ]
  },
  {
   "cell_type": "code",
   "execution_count": 96,
   "id": "2bae1b26-a2b8-433f-84f3-b5d759c1cc33",
   "metadata": {},
   "outputs": [
    {
     "name": "stdout",
     "output_type": "stream",
     "text": [
      "fantastic\n"
     ]
    }
   ],
   "source": [
    "print(a)"
   ]
  },
  {
   "cell_type": "markdown",
   "id": "4e3c472c-7197-4763-981f-36d3bdea4e23",
   "metadata": {},
   "source": [
    "Create a Python function that calculates the factorial of a number and returns it."
   ]
  },
  {
   "cell_type": "code",
   "execution_count": 99,
   "id": "6464316f-4f6b-4fe7-af3e-a71b18906a1c",
   "metadata": {},
   "outputs": [],
   "source": [
    "def test8(n):\n",
    "    if n<=1:\n",
    "        return 1\n",
    "    else:\n",
    "        return n * test8(n-1)"
   ]
  },
  {
   "cell_type": "code",
   "execution_count": 101,
   "id": "dab4822f-c8cb-4ca2-8148-582fd6cbb17c",
   "metadata": {},
   "outputs": [
    {
     "data": {
      "text/plain": [
       "362880"
      ]
     },
     "execution_count": 101,
     "metadata": {},
     "output_type": "execute_result"
    }
   ],
   "source": [
    "test8(9)"
   ]
  },
  {
   "cell_type": "markdown",
   "id": "5e06fd9c-2e0e-4702-b3c7-6732e52d930b",
   "metadata": {},
   "source": [
    "How can you access variables defined outside a function from within the function?"
   ]
  },
  {
   "cell_type": "markdown",
   "id": "84494f1b-7357-44c8-b5fe-ea7103aa7cd6",
   "metadata": {},
   "source": [
    "We can use a Global Keyword to access the local variables outside the function"
   ]
  },
  {
   "cell_type": "code",
   "execution_count": null,
   "id": "e83cfcb4-172c-461a-93e3-0473ef9ad46d",
   "metadata": {},
   "outputs": [],
   "source": []
  },
  {
   "cell_type": "markdown",
   "id": "ba116637-1955-477d-ad6c-ae7fd0078664",
   "metadata": {},
   "source": [
    "Lambda Functions and Higher-Order Functions:"
   ]
  },
  {
   "cell_type": "markdown",
   "id": "d248e3a3-68f6-477d-b458-cb5909bb7371",
   "metadata": {},
   "source": [
    "Lambda Functions are anonymous functions means that the function is without a name.\n",
    "The lambda keyword is used to define an anonymous function in Python"
   ]
  },
  {
   "cell_type": "markdown",
   "id": "e8b62cff-e0f6-4de6-88c6-d092be3998c3",
   "metadata": {},
   "source": [
    "Write a Python program that uses lambda functions to sort a list of tuples based on the second element."
   ]
  },
  {
   "cell_type": "code",
   "execution_count": null,
   "id": "a6cc39de-fd71-44a0-9ae8-adee58fc2969",
   "metadata": {},
   "outputs": [],
   "source": [
    "l = [(1,2,3,4),(5,6,7,8),(12,13,14,15),(56,67,78,89)]\n",
    "l.sort(lambda)"
   ]
  },
  {
   "cell_type": "code",
   "execution_count": null,
   "id": "c7d702ec-1087-4afe-83ae-3b2dc0f258d9",
   "metadata": {},
   "outputs": [],
   "source": []
  },
  {
   "cell_type": "markdown",
   "id": "f97a0cee-9efb-4c20-9e83-6e7aaf22860d",
   "metadata": {},
   "source": [
    "Explain the concept of higher-order functions in Python, and provide an example."
   ]
  },
  {
   "cell_type": "markdown",
   "id": "a0d04170-e80b-4810-b9cd-2853a7612ec7",
   "metadata": {},
   "source": [
    "Higher-order functions are functions that take a function as a parameter and/or return a function as an output. \n",
    "A few useful higher-order functions are map(), filter(), and reduce()."
   ]
  },
  {
   "cell_type": "markdown",
   "id": "ef548c9b-8b48-4be4-9832-1b0f594a46ae",
   "metadata": {},
   "source": [
    "Create a Python function that takes a list of numbers and a function as arguments, applying the function to each element in the list"
   ]
  },
  {
   "cell_type": "code",
   "execution_count": 113,
   "id": "38dca4e4-fbc3-471b-9d8f-c4ffed4b14ff",
   "metadata": {},
   "outputs": [],
   "source": [
    "l = [1,2,3,4,5]\n",
    "l1 = []\n",
    "def test10(l):\n",
    "    for i in l:\n",
    "        l1.append(i+2)\n",
    "    return l1  "
   ]
  },
  {
   "cell_type": "code",
   "execution_count": 114,
   "id": "12a04aaa-7ce0-451b-b4e2-9d4c38678719",
   "metadata": {},
   "outputs": [
    {
     "data": {
      "text/plain": [
       "[3, 4, 5, 6, 7]"
      ]
     },
     "execution_count": 114,
     "metadata": {},
     "output_type": "execute_result"
    }
   ],
   "source": [
    "test10(l)"
   ]
  },
  {
   "cell_type": "code",
   "execution_count": null,
   "id": "c963c594-8da0-41e6-ade4-c85d8adf7d96",
   "metadata": {},
   "outputs": [],
   "source": []
  },
  {
   "cell_type": "markdown",
   "id": "87836675-00a7-4ab1-b8c3-729b86570c74",
   "metadata": {},
   "source": [
    "Built-in Functions:"
   ]
  },
  {
   "cell_type": "markdown",
   "id": "959cf998-1525-416f-bf1c-ca5a00e8a570",
   "metadata": {},
   "source": [
    "Describe the role of built-in functions like `len()`, `max()`, and `min()` in Python."
   ]
  },
  {
   "cell_type": "markdown",
   "id": "04c4e044-e204-41b2-920c-4ba28c0c7b81",
   "metadata": {},
   "source": [
    "len() :- This function returns the length of list.\n",
    "max() :- This function returns the maximum element of list.\n",
    "min() :- This function returns the minimum element of list."
   ]
  },
  {
   "cell_type": "markdown",
   "id": "12a9fa54-e7e6-43e5-a5a8-bc4537d3e514",
   "metadata": {},
   "source": [
    "Write a Python program that uses the `map()` function to apply a function to each element of a list"
   ]
  },
  {
   "cell_type": "code",
   "execution_count": 115,
   "id": "d42e3cd4-20ec-43af-8fdf-358eceb34f8e",
   "metadata": {},
   "outputs": [
    {
     "data": {
      "text/plain": [
       "[1, 4, 9, 16, 25]"
      ]
     },
     "execution_count": 115,
     "metadata": {},
     "output_type": "execute_result"
    }
   ],
   "source": [
    "l = [1,2,3,4,5]\n",
    "list(map(lambda a: a**2, l))"
   ]
  },
  {
   "cell_type": "markdown",
   "id": "87c9a0ab-d209-445f-a4e1-6c66fe7f8780",
   "metadata": {},
   "source": [
    "How does the `filter()` function work in Python, and when would you use it?"
   ]
  },
  {
   "cell_type": "code",
   "execution_count": 116,
   "id": "39c1bebf-ca50-4ab0-b607-9bcaa6325242",
   "metadata": {},
   "outputs": [
    {
     "data": {
      "text/plain": [
       "[2, 4, 6, 8, 10]"
      ]
     },
     "execution_count": 116,
     "metadata": {},
     "output_type": "execute_result"
    }
   ],
   "source": [
    "l = [1,2,3,4,5,6,7,8,9,10]\n",
    "list(filter(lambda a: a%2 == 0,l))"
   ]
  },
  {
   "cell_type": "markdown",
   "id": "d9129d8f-abea-43b2-9347-657550b13dc3",
   "metadata": {},
   "source": [
    "Create a Python program that uses the `reduce()` function to find the product of all elements in a list"
   ]
  },
  {
   "cell_type": "code",
   "execution_count": 118,
   "id": "7a0063ad-36f8-42ca-8ad7-d52ef23f9c46",
   "metadata": {},
   "outputs": [
    {
     "data": {
      "text/plain": [
       "120"
      ]
     },
     "execution_count": 118,
     "metadata": {},
     "output_type": "execute_result"
    }
   ],
   "source": [
    "l = [1,2,3,4,5]\n",
    "from functools import reduce\n",
    "reduce(lambda a,b: a*b,l)"
   ]
  },
  {
   "cell_type": "code",
   "execution_count": null,
   "id": "26372706-2e65-4d6d-8719-8908a6643f41",
   "metadata": {},
   "outputs": [],
   "source": []
  },
  {
   "cell_type": "markdown",
   "id": "b54f7150-11a2-4afe-9559-35ce07034072",
   "metadata": {},
   "source": [
    "Function Documentation and Best Practices:"
   ]
  },
  {
   "cell_type": "markdown",
   "id": "a90b4eee-5ad9-45ad-bd0d-06a9f452f70a",
   "metadata": {},
   "source": [
    "Explain the purpose of docstrings in Python functions and how to write them."
   ]
  },
  {
   "cell_type": "markdown",
   "id": "57e9f9f9-c82b-4f87-9ed8-c813dfdf642f",
   "metadata": {},
   "source": [
    "A Python docstring is a string used to document a Python module, class, function or method, so programmers can understand what it does without having to read the details of the implementation"
   ]
  },
  {
   "cell_type": "code",
   "execution_count": 120,
   "id": "6d89eace-3a42-498f-9ce1-14c2e0ff5f52",
   "metadata": {},
   "outputs": [],
   "source": [
    "def test12():\n",
    "    \"\"\" This is the docstring for the test12 function \"\"\"\n",
    "    return \"Check the docsting for the test12 function\""
   ]
  },
  {
   "cell_type": "code",
   "execution_count": 121,
   "id": "243cdf45-bbcc-41c3-afa3-023698d358c3",
   "metadata": {},
   "outputs": [
    {
     "data": {
      "text/plain": [
       "'Check the docsting for the test12 function'"
      ]
     },
     "execution_count": 121,
     "metadata": {},
     "output_type": "execute_result"
    }
   ],
   "source": [
    "test12()"
   ]
  },
  {
   "cell_type": "markdown",
   "id": "4eb7444e-b2f8-41a7-ba81-0d40dcafac49",
   "metadata": {},
   "source": [
    "Describe some best practices for naming functions and variables in Python, including naming conventions and guidelines."
   ]
  },
  {
   "cell_type": "markdown",
   "id": "57b3db73-d501-4876-a36e-70f75a2e71e7",
   "metadata": {},
   "source": [
    "Functions:- Use a lowercase word or words. Separate words by underscores to improve readability.\n",
    "Examples: test, test1, my_test, func, my_func\n",
    "\n",
    "Variables:- Use a lowercase single letter, word, or words. Separate words with underscores to improve readability.\n",
    "Examples: a, b var, my_var"
   ]
  },
  {
   "cell_type": "code",
   "execution_count": null,
   "id": "7ea40b5b-bf3f-460e-a123-1d5dc6a90711",
   "metadata": {},
   "outputs": [],
   "source": []
  }
 ],
 "metadata": {
  "kernelspec": {
   "display_name": "Python 3 (ipykernel)",
   "language": "python",
   "name": "python3"
  },
  "language_info": {
   "codemirror_mode": {
    "name": "ipython",
    "version": 3
   },
   "file_extension": ".py",
   "mimetype": "text/x-python",
   "name": "python",
   "nbconvert_exporter": "python",
   "pygments_lexer": "ipython3",
   "version": "3.10.8"
  }
 },
 "nbformat": 4,
 "nbformat_minor": 5
}
